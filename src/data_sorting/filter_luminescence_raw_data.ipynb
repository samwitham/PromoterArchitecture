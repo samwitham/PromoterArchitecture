{
 "cells": [
  {
   "cell_type": "code",
   "execution_count": 35,
   "metadata": {},
   "outputs": [],
   "source": [
    "import pandas as pd\n",
    "import numpy as np"
   ]
  },
  {
   "cell_type": "code",
   "execution_count": 36,
   "metadata": {},
   "outputs": [],
   "source": [
    "#list of files\n",
    "f1 = f'../../data/luminescence/coexpression_for_manuscript/02.11.21+04.11.21.tsv'\n",
    "f2 = f'../../data/luminescence/coexpression_for_manuscript/15.12.21.tsv'\n",
    "f3 = f'../../data/luminescence/coexpression_for_manuscript/09.02.22.tsv'\n",
    "f4 = f'../../data/luminescence/coexpression_for_manuscript/27.04.22.tsv'"
   ]
  },
  {
   "cell_type": "code",
   "execution_count": 37,
   "metadata": {},
   "outputs": [],
   "source": [
    "#read in files\n",
    "df1 = pd.read_csv(f1, sep='\\t', header=0)\n",
    "df2 = pd.read_csv(f2, sep='\\t',header=0)\n",
    "df3 = pd.read_csv(f3, sep='\\t',header=0)\n",
    "df4 = pd.read_csv(f4, sep='\\t',header=0)"
   ]
  },
  {
   "cell_type": "code",
   "execution_count": 38,
   "metadata": {},
   "outputs": [],
   "source": [
    "#function to filter TFs which aren't in the provided list of TFs\n",
    "def filter_TFs(df,promoter,TFs):\n",
    "    \"\"\"function to filter TF-promoter interactions which aren't in the provided list of TFs for a specific promoter\"\"\"\n",
    "    #first make a copy of the df\n",
    "    df_copy = df.copy()\n",
    "    #get list of TFs in df\n",
    "    df_TFs = df_copy[df_copy.Promoter==promoter].TF_added.values.tolist()\n",
    "    print(f'TFs={df_TFs}')\n",
    "    #get list of TFs that were present in the provided list of TFs\n",
    "    TFs_in_df = [x for x in TFs if x in df_TFs]\n",
    "    print(f'TFs_in_df={TFs_in_df}')\n",
    "    #append \"No TF\" to TFs_in_df\n",
    "    TFs_in_df.append('No TF')\n",
    "    TFs_in_df.append('No TF_1μM_NAA')\n",
    "    #append\n",
    "    #filter df to only include TFs in TFs\n",
    "    promoter_df = df_copy[df_copy.Promoter==promoter]\n",
    "    promoter_df = promoter_df[promoter_df.TF_added.isin(TFs_in_df)]\n",
    "    #replace subset of the original df with the filtered df\n",
    "    df_copy[df_copy.Promoter==promoter] = promoter_df\n",
    "    #remove nan\n",
    "    df_copy = df_copy.dropna()\n",
    "    return df_copy"
   ]
  },
  {
   "cell_type": "code",
   "execution_count": 39,
   "metadata": {},
   "outputs": [],
   "source": [
    "#function to remove string from end of promoter name (Promoter column) if it ends with '_35s:LucF_calibrator'\n",
    "def remove_string_from_end(string,to_remove='_35s:LucF_calibrator'):\n",
    "    \"\"\"function to remove string from end of promoter column if it ends with eg. '_35s:LucF_calibrator'\"\"\"\n",
    "    if string.endswith(to_remove):\n",
    "        string = string[:-len(to_remove)]\n",
    "    return string\n",
    "def remove_string_from_end_promoter_col(df):\n",
    "    \"\"\"function to remove string from end of promoter name if it ends with eg. '_35s:LucF_calibrator'\"\"\"\n",
    "    df['Promoter'] = df['Promoter'].apply(remove_string_from_end)\n",
    "    return df"
   ]
  },
  {
   "cell_type": "code",
   "execution_count": 40,
   "metadata": {},
   "outputs": [],
   "source": [
    "#function to remove string from end of TF_added column if it ends with '_1μM_NAA'\n",
    "def remove_string_from_end_TF_added_col(df):\n",
    "    \"\"\"function to remove string from end of TF_added column if it ends with '_1μM_NAA'\"\"\"\n",
    "    df['TF_added'] = df['TF_added'].apply(lambda x: remove_string_from_end(x,to_remove='_1μM_NAA'))\n",
    "    return df"
   ]
  },
  {
   "cell_type": "code",
   "execution_count": 41,
   "metadata": {},
   "outputs": [],
   "source": [
    "#filter columns from dfs\n",
    "list_of_cols = ['Promoter','TF_added','fluc_luminescence','nluc_luminescence','nluc/fluc','corrected_luminescence','condition','Well_calibrator','date','Plate_number','well']\n",
    "df1 = df1[list_of_cols]\n",
    "df2 = df2[list_of_cols]\n",
    "df3 = df3[list_of_cols]\n",
    "df4 = df4[list_of_cols]"
   ]
  },
  {
   "cell_type": "code",
   "execution_count": 42,
   "metadata": {},
   "outputs": [],
   "source": [
    "#make copy of df4 for later\n",
    "df4_copy = df4.copy()\n"
   ]
  },
  {
   "cell_type": "code",
   "execution_count": 43,
   "metadata": {},
   "outputs": [],
   "source": [
    "#filter out unwanted data points from the different dfs\n",
    "#02.11.21+04.11.21\n",
    "##remove string from end of promoter name (Promoter column) if it ends with '_35s:LucF_calibrator'\n",
    "df1 = remove_string_from_end_promoter_col(df1)\n",
    "#remove unwanted promoters\n",
    "df1 = df1[df1['Promoter'] != 'NOS']\n",
    "df1 = df1[df1['Promoter'] != 'NOS_calibrator']\n",
    "df1 = df1[df1['Promoter'] != '35s']\n",
    "#remove row if well calibrator column is NOS_LucF and TF_added column is ANAC032\n",
    "df1 = df1.loc[~((df1['Well_calibrator'] == 'NOS_LucF') & (df1['TF_added'] == 'ANAC032'))]"
   ]
  },
  {
   "cell_type": "code",
   "execution_count": 44,
   "metadata": {},
   "outputs": [
    {
     "name": "stdout",
     "output_type": "stream",
     "text": [
      "TFs=['ANR1', 'ARF9', 'ARF9', 'ARF9', 'ARF9_1μM_NAA', 'ANR1', 'ARF9_1μM_NAA', 'ARF9_1μM_NAA', 'ANR1', 'ARF18+ARF9', 'ARF18+ARF9', 'ARF18+ARF9', 'No TF nor YFP', 'ARF18+IAA33_1μM_NAA', 'NLP6', 'NLP6', 'NLP6', 'ARF18', 'ARF18+IAA33_1μM_NAA', 'ARF18', 'No TF nor YFP_1μM_NAA', 'No TF nor YFP_1μM_NAA', 'No TF nor YFP_1μM_NAA', 'bZIP3', 'HHO2', 'HHO2', 'ARF18+ARF9_1μM_NAA', 'ARF18+ARF9_1μM_NAA', 'ARF18+ARF9_1μM_NAA', 'DREB26', 'DREB26', 'DREB26', 'No TF nor YFP', 'No TF nor YFP', 'HHO2', 'bZIP3', 'ARF18', 'No TF', 'ARF18_1μM_NAA', 'No TF_1μM_NAA', 'No TF_1μM_NAA', 'No TF_1μM_NAA', 'bZIP3', 'NLP7', 'NLP7', 'TGA1', 'TGA1', 'ARF18_1μM_NAA', 'TGA1', 'ARF18+IAA33', 'ARF18+IAA33_1μM_NAA', 'ARF18+IAA33', 'ARF18+IAA33', 'No TF', 'No TF', 'NLP7', 'ARF18_1μM_NAA', 'ANAC032', 'No TF_1μM_NAA', 'NLP6', 'NLP6', 'NLP6', 'No TF nor YFP', 'No TF nor YFP', 'No TF nor YFP', 'No TF_1μM_NAA', 'NLP7', 'NLP7', 'NLP7', 'No TF nor YFP_1μM_NAA', 'No TF nor YFP_1μM_NAA', 'No TF', 'No TF', 'No TF', 'ANAC032', 'ANAC032', 'No TF_1μM_NAA', 'No TF nor YFP_1μM_NAA']\n",
      "TFs_in_df=['bZIP3', 'DREB26', 'ANR1', 'ANAC032', 'ARF18', 'ARF9', 'ARF9_1μM_NAA', 'ARF18+ARF9', 'ARF18+ARF9_1μM_NAA', 'ARF18+IAA33_1μM_NAA', 'ARF18+IAA33', 'ARF18_1μM_NAA']\n"
     ]
    }
   ],
   "source": [
    "#ANAC032 promoter\n",
    "# keep ARFs, DREB26, ANR1, bZIP3 and ANAC032 to ANAC032\n",
    "df1 = filter_TFs(df1,'ANAC032',['bZIP3','DREB26','ANR1','ANAC032','ARF18','ARF9','ARF9_1μM_NAA','ARF18+ARF9','ARF18+ARF9_1μM_NAA','ARF9+IAA33','ARF9+IAA33_1μM_NAA','ARF18+ARF9+IAA33','ARF18+ARF9+IAA33_1μM_NAA','ARF18+IAA33_1μM_NAA','ARF18+IAA33','ARF18_1μM_NAA'])"
   ]
  },
  {
   "cell_type": "code",
   "execution_count": 45,
   "metadata": {},
   "outputs": [
    {
     "name": "stdout",
     "output_type": "stream",
     "text": [
      "TFs=['NLP7', 'ANR1', 'NLP7', 'ARF18_1μM_NAA', 'NLP7', 'ARF18+IAA33_1μM_NAA', 'ARF18+IAA33_1μM_NAA', 'ARF18_1μM_NAA', 'ARF9', 'ARF9', 'ARF9', 'ARF9_1μM_NAA', 'ARF9_1μM_NAA', 'ARF9_1μM_NAA', 'ARF18+ARF9', 'ARF18+ARF9', 'ANR1', 'ANR1', 'ARF18+IAA33_1μM_NAA', 'ARF18_1μM_NAA', 'ARF18+ARF9', 'No TF_1μM_NAA', 'No TF nor YFP_1μM_NAA', 'No TF nor YFP_1μM_NAA', 'No TF nor YFP_1μM_NAA', 'HHO2', 'HHO2', 'HHO2', 'ARF18+ARF9_1μM_NAA', 'ARF18+ARF9_1μM_NAA', 'DREB26', 'DREB26', 'DREB26', 'No TF nor YFP', 'No TF nor YFP', 'No TF nor YFP', 'No TF_1μM_NAA', 'ARF18', 'ARF18', 'ARF18+ARF9_1μM_NAA', 'NLP6', 'No TF_1μM_NAA', 'TGA1', 'TGA1', 'ARF18+IAA33', 'ARF18+IAA33', 'No TF', 'ARF18+IAA33', 'TGA1', 'No TF', 'bZIP3', 'bZIP3', 'bZIP3', 'NLP6', 'NLP6', 'No TF', 'ARF18', 'No TF_1μM_NAA', 'No TF_1μM_NAA', 'No TF_1μM_NAA', 'ANAC032', 'ANAC032', 'ANAC032', 'No TF', 'NLP6', 'No TF', 'NLP6', 'No TF', 'NLP6', 'No TF nor YFP', 'No TF nor YFP', 'No TF nor YFP', 'NLP7', 'NLP7', 'No TF nor YFP_1μM_NAA', 'No TF nor YFP_1μM_NAA', 'No TF nor YFP_1μM_NAA', 'NLP7']\n",
      "TFs_in_df=['bZIP3', 'DREB26', 'ANR1', 'ARF18', 'ARF9', 'ARF9_1μM_NAA', 'ARF18+ARF9', 'ARF18+ARF9_1μM_NAA', 'ARF18+IAA33_1μM_NAA', 'ARF18+IAA33', 'ARF18_1μM_NAA', 'HHO2']\n"
     ]
    }
   ],
   "source": [
    "#ANR1 promoter\n",
    "#keep ARFs, ANR1, DREB26, bZIP3, and HHO2 to ANR1\n",
    "df1 = filter_TFs(df1,'ANR1',['bZIP3','DREB26','ANR1','ARF18','ARF9','ARF9_1μM_NAA','ARF18+ARF9','ARF18+ARF9_1μM_NAA','ARF18+IAA33_1μM_NAA','ARF18+IAA33','ARF18_1μM_NAA','HHO2','ARF9+IAA33','ARF9+IAA33_1μM_NAA','ARF18+ARF9+IAA33','ARF18+ARF9+IAA33_1μM_NAA',])"
   ]
  },
  {
   "cell_type": "code",
   "execution_count": 46,
   "metadata": {},
   "outputs": [
    {
     "name": "stdout",
     "output_type": "stream",
     "text": [
      "TFs=['ARF18+IAA33_1μM_NAA', 'dCpf1_repressor2', 'ANR1', 'ANR1', 'ARF18+IAA33_1μM_NAA', 'dCpf1_repressor2', 'ARF18+IAA33_1μM_NAA', 'dCpf1_repressor1', 'ARF18_1μM_NAA', 'dCpf1_repressor1', 'ARF18_1μM_NAA', 'ARF18_1μM_NAA', 'No TF_1μM_NAA', 'No TF_1μM_NAA', 'No TF_1μM_NAA', 'dCas9_activator3', 'dCpf1_repressor2', 'dCpf1_repressor1', 'ARF18+ARF9', 'bZIP3', 'ARF18+ARF9', 'TGA1', 'TGA1', 'TGA1', 'NLP6', 'NLP6', 'NLP6', 'dCas9_activator3', 'bZIP3', 'ARF18+ARF9', 'bZIP3', 'ARF18+ARF9_1μM_NAA', 'ARF18+ARF9_1μM_NAA', 'dCpf1_repressor3', 'dCpf1_repressor3', 'dCpf1_repressor3', 'HHO2', 'HHO2', 'HHO2', 'ARF18+ARF9_1μM_NAA', 'dCas9_activator3', 'ANR1', 'ARF18', 'DREB26', 'dCas9_activator1', 'No TF nor YFP_1μM_NAA', 'No TF nor YFP_1μM_NAA', 'No TF nor YFP_1μM_NAA', 'No TF nor YFP', 'ARF18', 'ARF18', 'NLP7', 'NLP7', 'DREB26', 'DREB26', 'dCas9_activator1', 'No TF nor YFP', 'dCas9_activator2', 'No TF nor YFP', 'ARF18+IAA33', 'ARF18+IAA33', 'ARF18+IAA33', 'NLP7', 'No TF', 'No TF', 'dCas9_activator2', 'dCas9_activator2', 'No TF', 'dCas9_activator1', 'ANAC032', 'No TF nor YFP', 'ANAC032', 'ANAC032', 'NLP7', 'NLP6', 'NLP7', 'NLP6', 'NLP6', 'No TF nor YFP', 'NLP7', 'No TF nor YFP', 'No TF nor YFP_1μM_NAA', 'No TF nor YFP_1μM_NAA', 'No TF nor YFP_1μM_NAA', 'No TF', 'No TF', 'No TF', 'No TF_1μM_NAA', 'No TF_1μM_NAA', 'No TF_1μM_NAA']\n",
      "TFs_in_df=['bZIP3', 'DREB26', 'ANR1', 'ANAC032', 'ARF18', 'ARF18+ARF9', 'ARF18+ARF9_1μM_NAA', 'ARF18+IAA33_1μM_NAA', 'ARF18+IAA33', 'ARF18_1μM_NAA']\n"
     ]
    }
   ],
   "source": [
    "#ARF18 promoter\n",
    "#keep ARFs, DREB26, ANR1, ANAC032 and bZIP3 to ARF18\n",
    "df1 = filter_TFs(df1,'ARF18',['bZIP3','DREB26','ANR1','ANAC032','ARF18','ARF9','ARF9_1μM_NAA','ARF18+ARF9','ARF18+ARF9_1μM_NAA','ARF18+IAA33_1μM_NAA','ARF18+IAA33','ARF18_1μM_NAA','ARF9+IAA33','ARF9+IAA33_1μM_NAA','ARF18+ARF9+IAA33','ARF18+ARF9+IAA33_1μM_NAA',])"
   ]
  },
  {
   "cell_type": "code",
   "execution_count": 47,
   "metadata": {},
   "outputs": [
    {
     "name": "stdout",
     "output_type": "stream",
     "text": [
      "TFs=['ARF18_1μM_NAA', 'ARF18_1μM_NAA', 'ARF18+ARF9_1μM_NAA', 'ARF18+ARF9_1μM_NAA', 'ARF18+ARF9_1μM_NAA', 'TGA1', 'ANR1', 'ANR1', 'No TF_1μM_NAA', 'No TF_1μM_NAA', 'No TF_1μM_NAA', 'ARF18+IAA33', 'ARF18+IAA33', 'ARF18+IAA33', 'ARF18+ARF9+IAA33', 'ARF18+ARF9+IAA33', 'ANR1', 'ARF18_1μM_NAA', 'ARF18+ARF9', 'No TF', 'ARF9+IAA33_1μM_NAA', 'DREB26', 'DREB26', 'No TF nor YFP_1μM_NAA', 'No TF nor YFP_1μM_NAA', 'No TF nor YFP_1μM_NAA', 'ARF18', 'No TF', 'ARF18', 'ARF18+ARF9', 'ARF18+ARF9+IAA33', 'ARF18+ARF9', 'DREB26', 'No TF nor YFP', 'No TF nor YFP', 'No TF', 'ARF18', 'HHO2', 'ARF9+IAA33', 'HHO2', 'TGA1', 'NLP6', 'NLP6', 'NLP6', 'ARF9', 'ARF9', 'ARF9', 'ARF9_1μM_NAA', 'bZIP3', 'bZIP3', 'ARF9_1μM_NAA', 'HHO2', 'NLP7', 'bZIP3', 'ARF9_1μM_NAA', 'ARF18+ARF9+IAA33_1μM_NAA', 'No TF nor YFP', 'TGA1', 'ARF18+IAA33_1μM_NAA', 'ARF18+IAA33_1μM_NAA', 'ARF18+IAA33_1μM_NAA', 'ARF18+ARF9+IAA33_1μM_NAA', 'ARF18+ARF9+IAA33_1μM_NAA', 'ARF9+IAA33_1μM_NAA', 'NLP7', 'ARF9+IAA33', 'ARF9+IAA33', 'ARF9+IAA33_1μM_NAA', 'NLP7', 'No TF', 'No TF nor YFP_1μM_NAA', 'No TF nor YFP', 'NLP7', 'NLP7', 'No TF nor YFP_1μM_NAA', 'ANAC032', 'No TF nor YFP', 'No TF nor YFP', 'No TF nor YFP_1μM_NAA', 'NLP6', 'No TF', 'No TF', 'ANAC032', 'NLP6', 'NLP6', 'No TF_1μM_NAA', 'No TF_1μM_NAA', 'No TF_1μM_NAA', 'NLP7', 'ANAC032']\n",
      "TFs_in_df=['bZIP3', 'DREB26', 'ANR1', 'ANAC032', 'HHO2']\n"
     ]
    }
   ],
   "source": [
    "#DREB26 promoter\n",
    "#keep DREB26, ANR1, bZIP3, ANAC032 and HHO2 to DREB26\n",
    "df1 = filter_TFs(df1,'DREB26',['bZIP3','DREB26','ANR1','ANAC032','HHO2'])"
   ]
  },
  {
   "cell_type": "code",
   "execution_count": 48,
   "metadata": {},
   "outputs": [
    {
     "name": "stdout",
     "output_type": "stream",
     "text": [
      "TFs=['No TF', 'ARF18_1μM_NAA', 'No TF', 'ARF18_1μM_NAA', 'ARF18+ARF9', 'ARF18+ARF9', 'No TF', 'ARF18+ARF9_1μM_NAA', 'ARF18_1μM_NAA', 'ARF9+IAA33_1μM_NAA', 'ARF18', 'DREB26', 'DREB26', 'DREB26', 'No TF nor YFP', 'No TF nor YFP', 'ARF9+IAA33_1μM_NAA', 'ARF18+ARF9', 'ARF18+ARF9_1μM_NAA', 'ARF9+IAA33_1μM_NAA', 'No TF nor YFP_1μM_NAA', 'No TF nor YFP_1μM_NAA', 'No TF nor YFP_1μM_NAA', 'ARF18', 'ARF18', 'No TF nor YFP', 'ARF18+ARF9_1μM_NAA', 'ARF18+IAA33_1μM_NAA', 'NLP6', 'ARF9', 'ARF18+IAA33', 'ARF18+IAA33', 'ARF18+ARF9+IAA33', 'bZIP3', 'bZIP3', 'bZIP3', 'ARF18+ARF9+IAA33_1μM_NAA', 'ARF18+ARF9+IAA33_1μM_NAA', 'ARF18+ARF9+IAA33_1μM_NAA', 'ARF18+IAA33_1μM_NAA', 'ARF18+IAA33_1μM_NAA', 'HHO2', 'HHO2', 'ARF18+ARF9+IAA33', 'ARF18+ARF9+IAA33', 'HHO2', 'ARF9', 'NLP6', 'ARF9', 'No TF_1μM_NAA', 'NLP7', 'NLP7', 'NLP7', 'ARF18+IAA33', 'ARF9+IAA33', 'ARF9+IAA33', 'ARF9+IAA33', 'ARF9_1μM_NAA', 'ANR1', 'ARF9_1μM_NAA', 'No TF_1μM_NAA', 'ARF9_1μM_NAA', 'TGA1', 'TGA1', 'TGA1', 'ANR1', 'NLP6', 'No TF_1μM_NAA', 'ANR1', 'No TF nor YFP_1μM_NAA', 'NLP7', 'NLP7', 'ANAC032', 'NLP7', 'ANAC032', 'ANAC032', 'NLP6', 'No TF nor YFP_1μM_NAA', 'No TF nor YFP_1μM_NAA', 'No TF', 'No TF', 'No TF', 'NLP6', 'NLP6', 'No TF_1μM_NAA', 'No TF_1μM_NAA', 'No TF_1μM_NAA', 'No TF nor YFP', 'No TF nor YFP', 'No TF nor YFP']\n",
      "TFs_in_df=['bZIP3', 'DREB26', 'ANR1', 'ANAC032', 'ARF18', 'ARF9', 'ARF9_1μM_NAA', 'ARF18+ARF9', 'ARF18+ARF9_1μM_NAA', 'ARF18+IAA33_1μM_NAA', 'ARF18+IAA33', 'ARF18_1μM_NAA', 'HHO2']\n"
     ]
    }
   ],
   "source": [
    "#NIR1 promoter\n",
    "#keep DREB26, ANAC032, ANR1, ARFs, bZIP3, and HHO2 to NIR1\n",
    "df1 = filter_TFs(df1,'NIR1',['bZIP3','DREB26','ANR1','ANAC032','ARF18','ARF9','ARF9_1μM_NAA','ARF18+ARF9','ARF18+ARF9_1μM_NAA','ARF18+IAA33_1μM_NAA','ARF18+IAA33','ARF18_1μM_NAA','HHO2'])"
   ]
  },
  {
   "cell_type": "code",
   "execution_count": 49,
   "metadata": {},
   "outputs": [
    {
     "name": "stdout",
     "output_type": "stream",
     "text": [
      "TFs=['ARF18+ARF9_1μM_NAA', 'No TF nor YFP_1μM_NAA', 'HHO2', 'HHO2', 'HHO2', 'ARF18+ARF9_1μM_NAA', 'No TF nor YFP', 'DREB26', 'DREB26', 'DREB26', 'No TF nor YFP', 'No TF nor YFP', 'No TF nor YFP_1μM_NAA', 'ARF18+ARF9_1μM_NAA', 'No TF nor YFP_1μM_NAA', 'ARF18', 'NLP7', 'NLP7', 'ARF18+IAA33_1μM_NAA', 'ARF18+IAA33_1μM_NAA', 'ARF18+IAA33_1μM_NAA', 'ANR1', 'ANR1', 'ANR1', 'ARF18+ARF9', 'ARF18+ARF9', 'ARF18+ARF9', 'ARF9', 'ARF9', 'ARF9', 'ARF9_1μM_NAA', 'ARF9_1μM_NAA', 'ARF18', 'NLP7', 'ARF18_1μM_NAA', 'ARF9_1μM_NAA', 'ARF18_1μM_NAA', 'ARF18_1μM_NAA', 'NLP6', 'NLP6', 'ARF18', 'bZIP3', 'bZIP3', 'bZIP3', 'No TF', 'No TF', 'No TF', 'NLP6', 'ARF18+IAA33', 'No TF_1μM_NAA', 'ARF18+IAA33', 'No TF_1μM_NAA', 'No TF_1μM_NAA', 'TGA1', 'TGA1', 'TGA1', 'ARF18+IAA33', 'NLP6', 'No TF', 'NLP6', 'NLP6', 'No TF', 'No TF nor YFP', 'No TF nor YFP', 'No TF', 'ANAC032', 'ANAC032', 'No TF_1μM_NAA', 'No TF_1μM_NAA', 'No TF_1μM_NAA', 'ANAC032', 'No TF nor YFP_1μM_NAA', 'No TF nor YFP_1μM_NAA', 'NLP7', 'NLP7', 'NLP7', 'No TF nor YFP', 'No TF nor YFP_1μM_NAA']\n",
      "TFs_in_df=['bZIP3', 'ANR1', 'ARF18', 'ARF9', 'ARF9_1μM_NAA', 'ARF18+ARF9', 'ARF18+ARF9_1μM_NAA', 'ARF18+IAA33_1μM_NAA', 'ARF18+IAA33', 'ARF18_1μM_NAA', 'HHO2']\n"
     ]
    }
   ],
   "source": [
    "#NLP6 promoter\n",
    "#keep ANR1, ARFs, bZIP3 and HHO2 to NLP6\n",
    "df1 = filter_TFs(df1,'NLP6',['bZIP3','ANR1','ARF18','ARF9','ARF9_1μM_NAA','ARF18+ARF9','ARF18+ARF9_1μM_NAA','ARF18+IAA33_1μM_NAA','ARF18+IAA33','ARF18_1μM_NAA','HHO2'])"
   ]
  },
  {
   "cell_type": "code",
   "execution_count": 50,
   "metadata": {},
   "outputs": [
    {
     "name": "stdout",
     "output_type": "stream",
     "text": [
      "TFs=['ARF18_1μM_NAA', 'ARF18+ARF9+IAA33', 'ARF18+IAA33', 'ARF18+IAA33', 'ARF18+IAA33', 'No TF_1μM_NAA', 'No TF_1μM_NAA', 'No TF_1μM_NAA', 'ANR1', 'ARF18_1μM_NAA', 'ANR1', 'ARF18+ARF9_1μM_NAA', 'ARF18+ARF9_1μM_NAA', 'ARF18+ARF9_1μM_NAA', 'ARF18_1μM_NAA', 'ANR1', 'ARF18+ARF9+IAA33', 'ARF18+IAA33_1μM_NAA', 'HHO2', 'ARF9', 'No TF', 'NLP6', 'bZIP3', 'bZIP3', 'bZIP3', 'ARF18+ARF9+IAA33_1μM_NAA', 'ARF18+ARF9+IAA33', 'ARF18+ARF9+IAA33_1μM_NAA', 'ARF18+IAA33_1μM_NAA', 'ARF18+IAA33_1μM_NAA', 'NLP6', 'NLP6', 'TGA1', 'HHO2', 'HHO2', 'ARF18+ARF9+IAA33_1μM_NAA', 'No TF', 'DREB26', 'TGA1', 'ARF9', 'NLP7', 'NLP7', 'NLP7', 'ARF9+IAA33', 'ARF9+IAA33', 'No TF nor YFP', 'No TF nor YFP', 'No TF nor YFP', 'DREB26', 'No TF', 'ARF9+IAA33_1μM_NAA', 'ARF9+IAA33_1μM_NAA', 'ARF9+IAA33_1μM_NAA', 'DREB26', 'ARF9_1μM_NAA', 'TGA1', 'ARF9_1μM_NAA', 'ARF18+ARF9', 'ARF9+IAA33', 'ARF18+ARF9', 'ARF18+ARF9', 'ARF9', 'ARF18', 'ARF18', 'No TF nor YFP_1μM_NAA', 'No TF nor YFP_1μM_NAA', 'No TF nor YFP_1μM_NAA', 'ARF9_1μM_NAA', 'ARF18', 'No TF nor YFP_1μM_NAA', 'No TF', 'No TF nor YFP', 'No TF nor YFP', 'No TF nor YFP', 'ANAC032', 'ANAC032', 'No TF', 'No TF', 'No TF_1μM_NAA', 'NLP7', 'NLP7', 'NLP6', 'NLP6', 'NLP6', 'No TF_1μM_NAA', 'No TF_1μM_NAA', 'NLP7', 'No TF nor YFP_1μM_NAA', 'ANAC032', 'No TF nor YFP_1μM_NAA']\n",
      "TFs_in_df=['bZIP3', 'DREB26', 'ANR1', 'ARF18', 'ARF9', 'ARF9_1μM_NAA', 'ARF18+ARF9', 'ARF18+ARF9_1μM_NAA', 'ARF18+IAA33_1μM_NAA', 'ARF18+IAA33', 'ARF18_1μM_NAA', 'HHO2']\n"
     ]
    }
   ],
   "source": [
    "#NLP7 promoter\n",
    "#keep ARFs, ANR1, DREB26, bZIP3, and HHO2 to NLP7\n",
    "df1 = filter_TFs(df1,'NLP7',['bZIP3','DREB26','ANR1','ARF18','ARF9','ARF9_1μM_NAA','ARF18+ARF9','ARF18+ARF9_1μM_NAA','ARF18+IAA33_1μM_NAA','ARF18+IAA33','ARF18_1μM_NAA','HHO2'])"
   ]
  },
  {
   "cell_type": "code",
   "execution_count": 51,
   "metadata": {},
   "outputs": [],
   "source": [
    "#filter out unwanted data points from the different dfs\n",
    "#15.12.21\n",
    "##remove string from end of promoter name (Promoter column) if it ends with '_35s:LucF_calibrator'\n",
    "df2 = remove_string_from_end_promoter_col(df2)\n",
    "df2 = df2[df2['Promoter'] != 'ANR1']\n",
    "df2 = df2[df2['Promoter'] != 'NIR1']\n",
    "df2 = df2[df2['Promoter'] != 'NOS']\n",
    "df2 = df2[df2['Promoter'] != '4x[bZIP3-random]:NLUC:YFP']\n",
    "df2 = df2[df2['Promoter'] != '4x[NRE-TATA]+spacing:NLUC:YFP']\n",
    "df2 = df2[df2['Promoter'] != 'NRP']\n",
    "#df2 = df2[df2['Promoter'] != 'NRP_35s:LucF_calibrator']\n",
    "df2 = df2[df2['Promoter'] != '35s:NLUC:YFP']\n",
    "df2 = df2[df2['Promoter'] != '35s:NLUC:YFP_nomarker']\n",
    "#df2 = df2[df2['Promoter'] != '4x[NRE-TATA]+spacing:NLUC:YFP_35s:LucF_calibrator']\n",
    "df2 = df2[df2['Promoter'] != '4x[bZIP3-random]:NLUC:YFP']\n",
    "df2 = df2[df2['Promoter'] != '4x[NRE-TATA]+spacing']\n",
    "# df2 = df2[df2['Promoter'] != 'NRP:NLUC:YFP_35s:LucF_calibrator']\n",
    "# df2 = df2[df2['Promoter'] != 'NIR1:NLUC:YFP_35s:LucF_calibrator']\n",
    "# df2 = df2[df2['Promoter'] != 'NOS_calibrator_35s:LucF_calibrator']\n",
    "# df2 = df2[df2['Promoter'] != '35s_35s:LucF_calibrator']\n",
    "df2 = df2[df2['Promoter'] != '35s']\n",
    "df2 = df2[df2['Promoter'] != 'NOS_calibrator']\n",
    "df2 = df2[df2['Promoter'] != 'NRP:NLUC:YFP']\n",
    "df2 = df2[df2['Promoter'] != 'NIR1:NLUC:YFP']\n",
    "#remove row if well calibrator column is NOS_LucF and TF_added column is ANAC032\n",
    "df2 = df2.loc[~((df2['Well_calibrator'] == 'NOS_LucF') & (df2['TF_added'] == 'ANAC032'))]\n"
   ]
  },
  {
   "cell_type": "code",
   "execution_count": 52,
   "metadata": {},
   "outputs": [
    {
     "name": "stdout",
     "output_type": "stream",
     "text": [
      "TFs=['No TF', 'TGA1', 'HHO2', 'TGA1', 'HHO2', 'HHO2', 'No TF', 'No TF', 'TGA1']\n",
      "TFs_in_df=['HHO2']\n",
      "TFs=['TGA1', 'No TF', 'No TF', 'TGA1', 'ARF9_1μM_NAA', 'ARF9_1μM_NAA', 'ARF9_1μM_NAA', 'No TF_1μM_NAA', 'No TF_1μM_NAA', 'No TF_1μM_NAA', 'ARF9+IAA33', 'ARF9+IAA33', 'ARF9+IAA33', 'No TF', 'TGA1', 'ARF9', 'ARF18', 'ARF9', 'ARF18', 'ARF18', 'ARF18+ARF9', 'ARF18+ARF9', 'ARF18+ARF9', 'ARF18_1μM_NAA', 'ARF18_1μM_NAA', 'ARF18_1μM_NAA', 'ARF18+ARF9_1μM_NAA', 'ARF18+ARF9_1μM_NAA', 'ARF18+ARF9_1μM_NAA', 'ARF9+IAA33_1μM_NAA', 'ARF9+IAA33_1μM_NAA', 'ARF18+IAA33', 'ARF18+IAA33', 'ARF9', 'ARF18+ARF9+IAA33_1μM_NAA', 'ARF18+ARF9+IAA33_1μM_NAA', 'ARF18+ARF9+IAA33_1μM_NAA', 'ARF18+IAA33', 'ARF18+IAA33_1μM_NAA', 'ARF18+IAA33_1μM_NAA', 'ARF18+ARF9+IAA33', 'ARF18+ARF9+IAA33', 'ARF18+ARF9+IAA33', 'ARF18+IAA33_1μM_NAA', 'ARF9+IAA33_1μM_NAA']\n",
      "TFs_in_df=['ARF18', 'ARF9', 'ARF9_1μM_NAA', 'ARF18+ARF9', 'ARF18+ARF9_1μM_NAA', 'ARF18+IAA33_1μM_NAA', 'ARF18+IAA33', 'ARF18_1μM_NAA', 'ARF9+IAA33', 'ARF9+IAA33_1μM_NAA', 'ARF18+ARF9+IAA33', 'ARF18+ARF9+IAA33_1μM_NAA']\n",
      "TFs=['No TF', 'No TF', 'DREB26', 'TGA1', 'TGA1', 'TGA1', 'DREB26', 'DREB26', 'No TF', 'ANAC032', 'ANAC032', 'ANAC032', 'No TF', 'No TF', 'No TF']\n",
      "TFs_in_df=['DREB26', 'ANAC032']\n",
      "TFs=['TGA1', 'ARF9_1μM_NAA', 'ARF9_1μM_NAA', 'ARF9_1μM_NAA', 'NLP6', 'NLP6', 'ARF9+IAA33', 'ARF9+IAA33', 'ARF9+IAA33', 'ARF9+IAA33_1μM_NAA', 'ARF9+IAA33_1μM_NAA', 'ARF9+IAA33_1μM_NAA', 'ARF18', 'ARF18', 'ARF18', 'ARF18+ARF9', 'ARF18+ARF9', 'NLP6', 'TGA1', 'ARF18+ARF9', 'ARF9', 'ARF18_1μM_NAA', 'ARF18+ARF9+IAA33', 'ARF18_1μM_NAA', 'ARF18_1μM_NAA', 'ARF18+ARF9_1μM_NAA', 'ARF18+ARF9+IAA33', 'No TF', 'ARF18+ARF9+IAA33', 'ARF18+IAA33', 'ARF18+IAA33', 'ARF18+ARF9_1μM_NAA', 'ARF18+ARF9_1μM_NAA', 'No TF_1μM_NAA', 'No TF_1μM_NAA', 'ARF18+IAA33', 'No TF', 'No TF', 'ARF18+ARF9+IAA33_1μM_NAA', 'ARF9', 'ARF9', 'TGA1', 'ARF18+IAA33_1μM_NAA', 'ARF18+IAA33_1μM_NAA', 'ARF18+IAA33_1μM_NAA', 'No TF_1μM_NAA', 'ARF18+ARF9+IAA33_1μM_NAA', 'ARF18+ARF9+IAA33_1μM_NAA', 'ANAC032', 'ANAC032', 'NLP7', 'NLP7', 'NLP7', 'No TF', 'No TF', 'No TF', 'ANAC032']\n",
      "TFs_in_df=['ANAC032']\n",
      "TFs=['UBQ10_dCas9_activator+guide1', 'UBQ10_dCas9_activator+guide1', 'UBQ10_dCas9_activator+guide1', 'guide1+UBQ10_dCas9_repressor_guide3+guide2', 'UBQ10_dCas9_activator_123guides', 'UBQ10_dCas9_activator_123guides', 'guide1+UBQ10_dCas9_repressor_guide3+guide2', 'guide1+UBQ10_dCas9_repressor_guide3+guide2', 'NLP6', 'NLP6', 'NLP6', 'UBQ10_dCas9_activator_123guides', 'TGA1', 'TGA1', 'UBQ10_dCpf1_repressor3', 'UBQ10_dCpf1_repressor2', 'UBQ10_dCpf1_repressor3', 'UBQ10_dCpf1_repressor3', 'TGA1', 'HHO2', 'HHO2', 'HHO2', 'UBQ10_dCpf1_repressor1', 'UBQ10_dCpf1_repressor1', 'UBQ10_dCpf1_repressor1', 'UBQ10_dCpf1_repressor2', 'UBQ10_dCpf1_repressor2', 'No TF', 'No TF', 'No TF', 'UBQ10_dCpf1_repressor123guides', 'UBQ10_dCpf1_repressor123guides', 'UBQ10_dCpf1_repressor123guides', 'NLP7', 'No TF', 'No TF', 'NLP7', 'NLP7', 'No TF']\n",
      "TFs_in_df=['HHO2']\n"
     ]
    }
   ],
   "source": [
    "#ANAC032 promoter\n",
    "#keep HHO2 to ANAC032\n",
    "df2 = filter_TFs(df2,'ANAC032',['HHO2'])\n",
    "#DREB26 promoter\n",
    "#keep ARFs to DREB26\n",
    "df2 = filter_TFs(df2,'DREB26',['ARF18','ARF9','ARF9_1μM_NAA','ARF18+ARF9','ARF18+ARF9_1μM_NAA','ARF18+IAA33_1μM_NAA','ARF18+IAA33','ARF18_1μM_NAA','ARF9+IAA33','ARF9+IAA33_1μM_NAA','ARF18+ARF9+IAA33','ARF18+ARF9+IAA33_1μM_NAA',])\n",
    "#NLP6 promoter\n",
    "#keep DREB26 and ANAC032 to NLP6\n",
    "df2 = filter_TFs(df2,'NLP6',['DREB26','ANAC032'])\n",
    "#NLP7 promoter\n",
    "#keep ANAC032 to NLP7\n",
    "df2 = filter_TFs(df2,'NLP7',['ANAC032'])\n",
    "#ARF18 promoter\n",
    "#keep HHO2 to ARF18\n",
    "df2 = filter_TFs(df2,'ARF18',['HHO2'])"
   ]
  },
  {
   "cell_type": "code",
   "execution_count": 53,
   "metadata": {},
   "outputs": [],
   "source": [
    "#filter out unwanted data points from the different dfs\n",
    "#9.2.22\n",
    "##remove string from end of promoter name (Promoter column) if it ends with '_35s:LucF_calibrator'\n",
    "df3 = remove_string_from_end_promoter_col(df3)\n",
    "#print(df3['Promoter'].value_counts())\n",
    "#remove unwanted promoters\n",
    "df3 = df3[df3['Promoter'] != 'NOS']\n",
    "df3 = df3[df3['Promoter'] != 'NRP']\n",
    "df3 = df3[df3['Promoter'] != '35s']\n",
    "#df3 = df3[df3['Promoter'] != '4x[NRE-TATA]+spacing_35s:LucF_calibrator']\n",
    "df3 = df3[df3['Promoter'] != 'ARF18']\n",
    "df3 = df3[df3['Promoter'] != 'NLP7']\n",
    "df3 = df3[df3['Promoter'] != '4x[NRE-TATA]+spacing']\n",
    "df3 = df3[df3['Promoter'] != 'NOS_calibrator']\n",
    "df3 = df3[df3['Promoter'] != 'NRP:NLUC:YFP']\n",
    "df3 = df3[df3['Promoter'] != 'NIR1:NLUC:YFP']\n",
    "df3 = df3[df3['Promoter'] != '4x[bZIP3-random]:NLUC:YFP']\n",
    "df3 = df3[df3['Promoter'] != '4x[NRE-TATA]+spacing:NLUC:YFP']\n",
    "df3 = df3[df3['Promoter'] != '35s:NLUC:YFP']\n",
    "df3 = df3[df3['Promoter'] != '35s:NLUC:YFP_nomarker']\n",
    "# df3 = df3[df3['Promoter'] != 'ARF18_35s:LucF_calibrator']\n",
    "# df3 = df3[df3['Promoter'] != 'NLP7_35s:LucF_calibrator']\n",
    "# df3 = df3[df3['Promoter'] != 'NOS_calibrator_35s:LucF_calibrator']\n",
    "# df3 = df3[df3['Promoter'] != '35s_35s:LucF_calibrator']\n",
    "#remove row if well calibrator column is NOS_LucF and TF_added column is ANAC032\n",
    "df3 = df3.loc[~((df3['Well_calibrator'] == 'NOS_LucF') & (df3['TF_added'] == 'ANAC032'))]"
   ]
  },
  {
   "cell_type": "code",
   "execution_count": 54,
   "metadata": {},
   "outputs": [
    {
     "name": "stdout",
     "output_type": "stream",
     "text": [
      "TFs=['NLP6', 'No TF', 'TGA1', 'NLP6', 'NLP6', 'NLP6', 'NLP6', 'TGA1:GR', 'TGA1:GR', 'TGA1:GR', 'TGA1', 'NLP6', 'NLP6', 'No TF', 'TGA1', 'No TF', 'NLP6', 'NLP6', 'NLP7', 'NLP7', 'NLP7', 'No TF', 'No TF', 'No TF', 'NLP7', 'NLP7', 'NLP7', 'ANAC032', 'ANAC032', 'ANAC032', 'NLP7', 'NLP7', 'NLP7']\n",
      "TFs_in_df=['ANAC032', 'NLP6', 'NLP7']\n",
      "TFs=['TGA1:GR', 'NLP6', 'TGA1:GR', 'NLP6', 'TGA1:GR', 'No TF', 'No TF', 'No TF', 'NLP6', 'No TF', 'NLP7', 'NLP7', 'NLP7', 'No TF', 'No TF']\n",
      "TFs_in_df=['NLP6', 'NLP7']\n",
      "TFs=['No TF', 'TGA1:GR', 'No TF', 'No TF', 'TGA1', 'TGA1', 'TGA1:GR', 'NLP6', 'TGA1', 'NLP6', 'NLP6', 'TGA1:GR', 'NLP7', 'NLP7', 'No TF', 'NLP7', 'No TF', 'No TF']\n",
      "TFs_in_df=['NLP6', 'NLP7']\n",
      "TFs=['NLP6', 'NLP6', 'TGA1', 'TGA1', 'NLP6', 'TGA1', 'NLP6', 'NLP6', 'NLP6', 'TGA1:GR', 'NLP6', 'NLP6', 'NLP6', 'No TF', 'No TF', 'No TF', 'TGA1:GR', 'TGA1:GR', 'NLP7', 'NLP7', 'No TF', 'No TF', 'NLP7', 'NLP7', 'NLP7', 'NLP7', 'NLP7', 'NLP7', 'NLP7', 'No TF']\n",
      "TFs_in_df=['NLP6', 'NLP7']\n",
      "TFs=['TGA1:GR', 'TGA1', 'TGA1:GR', 'TGA1:GR', 'TGA1', 'TGA1', 'No TF', 'No TF', 'NLP6', 'NLP6', 'NLP6', 'No TF', 'No TF', 'No TF', 'No TF', 'NLP7', 'NLP7', 'NLP7']\n",
      "TFs_in_df=['NLP6', 'NLP7']\n"
     ]
    }
   ],
   "source": [
    "#ANR1 promoter\n",
    "#keep ANAC032, NLP6 and NLP7 to ANR1\n",
    "df3 = filter_TFs(df3,'ANR1',['ANAC032','NLP6','NLP7'])\n",
    "#NIR1 promoter\n",
    "#keep NLP6 and NLP7 to NIR1\n",
    "df3 = filter_TFs(df3,'NIR1',['NLP6','NLP7'])\n",
    "#DREB26 promoter\n",
    "#keep NLP6 and NLP7 to DREB26\n",
    "df3 = filter_TFs(df3,'DREB26',['NLP6','NLP7'])\n",
    "#ANAC032 promoter\n",
    "#keep NLP6 and NLP7 to ANAC032\n",
    "df3 = filter_TFs(df3,'ANAC032',['NLP6','NLP7'])\n",
    "#NLP6 promoter\n",
    "#keep NLP6 and NLP7 to NLP6\n",
    "df3 = filter_TFs(df3,'NLP6',['NLP6','NLP7'])"
   ]
  },
  {
   "cell_type": "code",
   "execution_count": 55,
   "metadata": {},
   "outputs": [],
   "source": [
    "#filter out unwanted data points from the different dfs\n",
    "#27.04.22\n",
    "df4 = df4[df4['Promoter'] != 'NOS']\n",
    "df4 = df4[df4['Promoter'] != 'ANAC032_ablated_TGA1_all_sites']\n",
    "df4 = df4[df4['Promoter'] != 'ANAC032_ablated_ARFs']\n",
    "df4 = df4[df4['Promoter'] != 'ANAC032']\n",
    "df4 = df4[df4['Promoter'] != 'NIR1_ablated_NRE_35s:LucF_calibrator']\n",
    "df4 = df4[df4['Promoter'] != 'NIR1_ablated_NRE_all_sites_35s:LucF_calibrator']\n",
    "df4 = df4[df4['Promoter'] != 'NLP7_ablated_ANAC032_all_sites_35s:LucF_calibrator']\n",
    "df4 = df4[df4['Promoter'] != 'NOS_35s:LucF_calibrator']\n",
    "df4 = df4[df4['Promoter'] != 'NOS_calibrator']\n",
    "df4 = df4[df4['Promoter'] != 'NOS_calibrator_35s:LucF_calibrator']\n",
    "df4 = df4[df4['Promoter'] != '35s_35s:LucF_calibrator']\n",
    "#remove row if well calibrator column is NOS_LucF and TF_added column is ANAC032\n",
    "df4 = df4.loc[~((df4['Well_calibrator'] == 'NOS_LucF') & (df4['TF_added'] == 'ANAC032'))]\n",
    "\n",
    "##remove string from end of promoter name (Promoter column) if it ends with '_35s:LucF_calibrator'\n",
    "df4 = remove_string_from_end_promoter_col(df4)\n"
   ]
  },
  {
   "cell_type": "code",
   "execution_count": 56,
   "metadata": {},
   "outputs": [
    {
     "name": "stdout",
     "output_type": "stream",
     "text": [
      "TFs=['No TF_EtOH+DMSO', 'TAD-Suntag_guide1', 'SRDX-Suntag_123guides1,2,3', 'SRDX-Suntag_noguide', 'SRDX-Suntag_noguide', 'SRDX-Suntag_noguide', 'TGA1:GR_EtOH+DMSO', 'TGA1:GR_EtOH+DMSO', 'TGA1:GR_EtOH+DMSO', 'SRDX-dCpf1_guides1,2,4', 'SRDX-dCpf1_guides1,2,4', 'TGA1:GR_10uM_DEX+DMSO', 'TGA1:GR_10uM_DEX+DMSO', 'TGA1:GR_10uM_DEX+DMSO', 'VP64-Suntag_guide1', 'VP64-Suntag_guide1', 'VP64-Suntag_guide1', 'TGA1:GR_35uM_CHX+EtOH', 'TGA1:GR_35uM_CHX+EtOH', 'TAD-Suntag_guide1', 'TGA1:GR_10uM_DEX+35uM_CHX', 'SRDX-dCpf1_guide2', 'SRDX-dCpf1_guide2', 'TGA1:GR_10uM_DEX+35uM_CHX', 'TGA1:GR_10uM_DEX+35uM_CHX', 'SRDX-Suntag_123guides1,2,3', 'TAD-Suntag_guides1,2,3', 'TAD-Suntag_guides1,2,3', 'SRDX-dCpf1_guide2', 'SRDX-dCpf1_guide1', 'SRDX-dCpf1_guide1', 'SRDX-dCpf1_guide1', 'TGA1:GR_35uM_CHX+EtOH', 'TAD-Suntag_guides1,2,3', 'SRDX-Suntag_123guides1,2,3', 'SRDX-dCpf1_guides1,2,4', 'No TF_10uM_DEX+35uM_CHX', 'No TF_10uM_DEX+DMSO', 'No TF_10uM_DEX+DMSO', 'SRDX-dCpf1_noguide', 'SRDX-dCpf1_noguide', 'SRDX-dCpf1_noguide', 'SRDX-dCpf1_guide3', 'No TF_10uM_DEX+DMSO', 'SRDX-dCpf1_guide3', 'No TF', 'No TF_10uM_DEX+35uM_CHX', 'No TF', 'No TF_EtOH+DMSO', 'No TF_EtOH+DMSO', 'TAD-Suntag_guide1', 'SRDX-dCpf1_guide3', 'SRDX-dCpf1_guides1,2,3', 'No TF', 'SRDX-dCpf1_guides1,2,3', 'VP64-Suntag_noguide', 'VP64-Suntag_noguide', 'VP64-Suntag_noguide', 'No TF_35uM_CHX+EtOH', 'TAD-Suntag_noguide', 'No TF_35uM_CHX+EtOH', 'No TF_35uM_CHX+EtOH', 'VP64-Suntag_guides1,2,3', 'VP64-Suntag_guides1,2,3', 'VP64-Suntag_guides1,2,3', 'TAD-Suntag_noguide', 'SRDX-dCpf1_guides1,2,3', 'TAD-Suntag_noguide', 'No TF_10uM_DEX+35uM_CHX', 'No TF', 'No TF', 'No TF', 'No TF', 'No TF', 'No TF', 'No TF', 'No TF', 'No TF', 'NLP7', 'NLP7', 'NLP6', 'NLP6', 'NLP7', 'NLP6']\n",
      "TFs_in_df=['NLP6', 'NLP7']\n",
      "TFs=['TGA1:GR_EtOH+DMSO', 'No TF_35uM_CHX+EtOH', 'No TF_10uM_DEX+35uM_CHX', 'No TF_10uM_DEX+35uM_CHX', 'No TF_10uM_DEX+35uM_CHX', 'TGA1:GR_overnight_EtOH+DMSO', 'No TF_35uM_CHX+EtOH', 'TGA1:GR_EtOH+DMSO', 'TGA1:GR_overnight_EtOH+DMSO', 'TGA1:GR_overnight_10uM_DEX+DMSO', 'TGA1:GR_10uM_DEX+DMSO', 'TGA1:GR_10uM_DEX+DMSO', 'TGA1:GR_10uM_DEX+DMSO', 'TGA1:GR_overnight_10uM_DEX+DMSO', 'TGA1:GR_overnight_10uM_DEX+DMSO', 'TGA1:GR_35uM_CHX+EtOH', 'TGA1:GR_35uM_CHX+EtOH', 'TGA1:GR_35uM_CHX+EtOH', 'TGA1:GR_10uM_DEX+35uM_CHX', 'TGA1:GR_10uM_DEX+35uM_CHX', 'TGA1:GR_10uM_DEX+35uM_CHX', 'No TF_35uM_CHX+EtOH', 'TGA1:GR_overnight_EtOH+DMSO', 'No TF_overnight_10uM_DEX+DMSO', 'TGA1:GR_EtOH+DMSO', 'No TF_overnight_10uM_DEX+DMSO', 'No TF_overnight_10uM_DEX+DMSO', 'No TF_EtOH+DMSO', 'No TF_EtOH+DMSO', 'No TF_overnight_EtOH+DMSO', 'No TF_EtOH+DMSO', 'No TF_overnight_EtOH+DMSO', 'No TF_10uM_DEX+DMSO', 'No TF_10uM_DEX+DMSO', 'No TF_10uM_DEX+DMSO', 'No TF_overnight_EtOH+DMSO', 'NLP6', 'No TF', 'NLP6', 'NLP7', 'NLP7', 'No TF', 'No TF', 'NLP7', 'NLP6']\n",
      "TFs_in_df=['NLP6', 'NLP7']\n",
      "TFs=['No TF_10uM_DEX+35uM_CHX', 'TGA1:GR_10uM_DEX+DMSO', 'TGA1:GR_10uM_DEX+DMSO', 'TGA1:GR_10uM_DEX+DMSO', 'TGA1:GR_EtOH+DMSO', 'TGA1:GR_EtOH+DMSO', 'TGA1:GR_EtOH+DMSO', 'No TF_10uM_DEX+35uM_CHX', 'No TF_10uM_DEX+DMSO', 'No TF_35uM_CHX+EtOH', 'No TF_35uM_CHX+EtOH', 'No TF_35uM_CHX+EtOH', 'TGA1:GR_35uM_CHX+EtOH', 'No TF_10uM_DEX+DMSO', 'No TF_10uM_DEX+DMSO', 'No TF_EtOH+DMSO', 'No TF_EtOH+DMSO', 'No TF_EtOH+DMSO', 'No TF_10uM_DEX+35uM_CHX', 'TGA1:GR_35uM_CHX+EtOH', 'TGA1:GR_35uM_CHX+EtOH', 'TGA1:GR_10uM_DEX+35uM_CHX', 'TGA1:GR_10uM_DEX+35uM_CHX', 'TGA1:GR_10uM_DEX+35uM_CHX', 'NLP6', 'NLP7', 'No TF', 'NLP7', 'No TF', 'No TF', 'NLP7', 'NLP6', 'No TF', 'No TF', 'ANAC032', 'No TF', 'No TF', 'No TF', 'ANAC032', 'ANAC032', 'No TF', 'NLP6']\n",
      "TFs_in_df=['NLP6', 'NLP7']\n"
     ]
    }
   ],
   "source": [
    "#ARF18 promoter\n",
    "#keep NLP6 and NLP7 to ARF18\n",
    "df4 = filter_TFs(df4,'ARF18',['NLP6','NLP7'])\n",
    "#NIR1 promoter\n",
    "#keep NLP6 and NLP7 to NIR1\n",
    "df4 = filter_TFs(df4,'NIR1',['NLP6','NLP7'])\n",
    "#NLP7 promoter\n",
    "#keep NLP6 and NLP7 to NLP7\n",
    "df4 = filter_TFs(df4,'NLP7',['NLP6','NLP7'])"
   ]
  },
  {
   "cell_type": "code",
   "execution_count": 57,
   "metadata": {},
   "outputs": [],
   "source": [
    "#change date format of df3 to dd.mm.yy format\n",
    "df3['date'] = '09.02.22'\n",
    "\n",
    "#merge the four dfs into one df\n",
    "df = pd.concat([df1,df2,df3,df4])\n",
    "#make a copy of the df\n",
    "df_copy = df.copy()\n",
    "#remove NLPs to NIR1 in the 09.02.22 samples\n",
    "df = df.loc[~(((df['TF_added'] == 'NLP6') | (df['TF_added'] == 'NLP7')) & (df['Promoter'] == 'NIR1') & (df['date'] == '09.02.22'))]\n",
    "#save the df to a tsv file for use in a circos plot\n",
    "df.to_csv(f'../../data/luminescence/coexpression_for_manuscript/coexpression_data_for_circos_plot.tsv',sep='\\t',index=False)"
   ]
  },
  {
   "cell_type": "code",
   "execution_count": 58,
   "metadata": {},
   "outputs": [],
   "source": [
    "\n",
    "#remove NAA string from promoters\n",
    "df_copy = remove_string_from_end_TF_added_col(df_copy)\n",
    "#remove NLPs to NIR1 in 27.04.22 samples\n",
    "df_copy = df_copy.loc[~(((df_copy['TF_added'] == 'NLP6') | (df_copy['TF_added'] == 'NLP7') | (df_copy['TF_added'] == 'No TF')) & (df_copy['Promoter'] == 'NIR1') & (df_copy['date'] == '27.04.22'))]\n",
    "#now filter out more unwanted TFs for the manuscript\n",
    "df_copy = df_copy[df_copy['TF_added'] != 'HHO2']\n",
    "df_copy = df_copy[df_copy['TF_added'] != 'bZIP3']\n",
    "df_copy = df_copy[df_copy['TF_added'] != 'ARF18+ARF9+IAA33']\n",
    "df_copy = df_copy[df_copy['TF_added'] != 'ARF9+IAA33']\n",
    "df_copy = df_copy[df_copy['TF_added'] != 'ARF18+IAA33']\n",
    "#save the df_copy to a tsv file for use in manuscript\n",
    "df_copy.to_csv(f'../../data/luminescence/coexpression_for_manuscript/coexpression_data_for_manuscript.tsv',sep='\\t',index=False)"
   ]
  },
  {
   "cell_type": "code",
   "execution_count": null,
   "metadata": {},
   "outputs": [],
   "source": [
    "\n"
   ]
  },
  {
   "cell_type": "code",
   "execution_count": 59,
   "metadata": {},
   "outputs": [],
   "source": [
    "#now filter out data points keeping only native promoters with ablated TFBSs\n",
    "#27.04.22\n",
    "\n",
    "##remove string from end of promoter name (Promoter column) if it ends with '_35s:LucF_calibrator'\n",
    "df4_copy = remove_string_from_end_promoter_col(df4_copy)\n",
    "\n",
    "df4_copy = df4_copy[df4_copy['Promoter'] != 'NOS']\n",
    "df4_copy = df4_copy[df4_copy['Promoter'] != 'ARF18']\n",
    "df4_copy = df4_copy[df4_copy['Promoter'] != '35s']\n",
    "#df4_copy = df4_copy[df4_copy['Promoter'] != 'ANAC032_ablated_TGA1_all_sites']\n",
    "#df4_copy = df4_copy[df4_copy['Promoter'] != 'ANAC032_ablated_ARFs']\n",
    "#df4_copy = df4_copy[df4_copy['Promoter'] != 'ANAC032']\n",
    "#df4_copy = df4_copy[df4_copy['Promoter'] != 'NIR1_ablated_NRE_35s:LucF_calibrator']\n",
    "#df4_copy = df4_copy[df4_copy['Promoter'] != 'NIR1_ablated_NRE_all_sites_35s:LucF_calibrator']\n",
    "#df4_copy = df4_copy[df4_copy['Promoter'] != 'NLP7_ablated_ANAC032_all_sites_35s:LucF_calibrator']\n",
    "#df4_copy = df4_copy[df4_copy['Promoter'] != 'NOS_35s:LucF_calibrator']\n",
    "df4_copy = df4_copy[df4_copy['Promoter'] != 'NOS_calibrator']\n",
    "#df4_copy = df4_copy[df4_copy['Promoter'] != 'NOS_calibrator_35s:LucF_calibrator']\n",
    "#df4_copy = df4_copy[df4_copy['Promoter'] != '35s_35s:LucF_calibrator']\n",
    "#remove row if well calibrator column is NOS_LucF and TF_added column is ANAC032\n",
    "df4_copy = df4_copy.loc[~((df4_copy['Well_calibrator'] == 'NOS_LucF') & (df4_copy['TF_added'] == 'ANAC032'))]\n",
    "\n"
   ]
  },
  {
   "cell_type": "code",
   "execution_count": 60,
   "metadata": {},
   "outputs": [
    {
     "name": "stdout",
     "output_type": "stream",
     "text": [
      "TFs=['TGA1:GR_EtOH+DMSO', 'No TF_35uM_CHX+EtOH', 'No TF_10uM_DEX+35uM_CHX', 'No TF_10uM_DEX+35uM_CHX', 'No TF_10uM_DEX+35uM_CHX', 'TGA1:GR_overnight_EtOH+DMSO', 'No TF_35uM_CHX+EtOH', 'TGA1:GR_EtOH+DMSO', 'TGA1:GR_overnight_EtOH+DMSO', 'TGA1:GR_overnight_10uM_DEX+DMSO', 'TGA1:GR_10uM_DEX+DMSO', 'TGA1:GR_10uM_DEX+DMSO', 'TGA1:GR_10uM_DEX+DMSO', 'TGA1:GR_overnight_10uM_DEX+DMSO', 'TGA1:GR_overnight_10uM_DEX+DMSO', 'TGA1:GR_35uM_CHX+EtOH', 'TGA1:GR_35uM_CHX+EtOH', 'TGA1:GR_35uM_CHX+EtOH', 'TGA1:GR_10uM_DEX+35uM_CHX', 'TGA1:GR_10uM_DEX+35uM_CHX', 'TGA1:GR_10uM_DEX+35uM_CHX', 'No TF_35uM_CHX+EtOH', 'TGA1:GR_overnight_EtOH+DMSO', 'No TF_overnight_10uM_DEX+DMSO', 'TGA1:GR_EtOH+DMSO', 'No TF_overnight_10uM_DEX+DMSO', 'No TF_overnight_10uM_DEX+DMSO', 'No TF_EtOH+DMSO', 'No TF_EtOH+DMSO', 'No TF_overnight_EtOH+DMSO', 'No TF_EtOH+DMSO', 'No TF_overnight_EtOH+DMSO', 'No TF_10uM_DEX+DMSO', 'No TF_10uM_DEX+DMSO', 'No TF_10uM_DEX+DMSO', 'No TF_overnight_EtOH+DMSO', 'NLP6', 'No TF', 'NLP6', 'NLP7', 'NLP7', 'No TF', 'No TF', 'NLP7', 'NLP6']\n",
      "TFs_in_df=['NLP6', 'NLP7']\n",
      "TFs=['No TF_10uM_DEX+35uM_CHX', 'TGA1:GR_10uM_DEX+DMSO', 'TGA1:GR_10uM_DEX+DMSO', 'TGA1:GR_10uM_DEX+DMSO', 'TGA1:GR_EtOH+DMSO', 'TGA1:GR_EtOH+DMSO', 'TGA1:GR_EtOH+DMSO', 'No TF_10uM_DEX+35uM_CHX', 'No TF_10uM_DEX+DMSO', 'No TF_35uM_CHX+EtOH', 'No TF_35uM_CHX+EtOH', 'No TF_35uM_CHX+EtOH', 'TGA1:GR_35uM_CHX+EtOH', 'No TF_10uM_DEX+DMSO', 'No TF_10uM_DEX+DMSO', 'No TF_EtOH+DMSO', 'No TF_EtOH+DMSO', 'No TF_EtOH+DMSO', 'No TF_10uM_DEX+35uM_CHX', 'TGA1:GR_35uM_CHX+EtOH', 'TGA1:GR_35uM_CHX+EtOH', 'TGA1:GR_10uM_DEX+35uM_CHX', 'TGA1:GR_10uM_DEX+35uM_CHX', 'TGA1:GR_10uM_DEX+35uM_CHX', 'NLP6', 'NLP7', 'No TF', 'NLP7', 'No TF', 'No TF', 'NLP7', 'NLP6', 'No TF', 'No TF', 'ANAC032', 'No TF', 'No TF', 'No TF', 'ANAC032', 'ANAC032', 'No TF', 'NLP6']\n",
      "TFs_in_df=['ANAC032']\n"
     ]
    }
   ],
   "source": [
    "#NIR1 promoter\n",
    "#keep NLP6 and NLP7 to NIR1\n",
    "df4_copy = filter_TFs(df4_copy,'NIR1',['NLP6','NLP7'])\n",
    "#NLP7 promoter\n",
    "#keep ANAC032 to NLP7\n",
    "df4_copy = filter_TFs(df4_copy,'NLP7',['ANAC032'])"
   ]
  },
  {
   "cell_type": "code",
   "execution_count": 61,
   "metadata": {},
   "outputs": [],
   "source": [
    "#save the df to a tsv file\n",
    "df4_copy.to_csv(f'../../data/luminescence/coexpression_data_ablated_promoters.tsv',sep='\\t',index=False)"
   ]
  },
  {
   "cell_type": "code",
   "execution_count": 62,
   "metadata": {},
   "outputs": [],
   "source": [
    "#now add a new column to coexpression_data_for_circos_plot containing fold change of luminescence compared to No TF control for that promoter\n",
    "#first get the mean luminescence for each promoter and TF_added combination\n",
    "df_mean = df.groupby(['Promoter','TF_added', 'condition','Well_calibrator','date'])['corrected_luminescence'].mean().reset_index()\n",
    "#now get the mean luminescence for each promoter and No TF control combination\n",
    "df_mean_NoTF = df_mean[(df_mean['TF_added'] == 'No TF')|(df_mean['TF_added'] == 'No TF_1μM_NAA')]\n",
    "#add the No TF mean luminescence to the df_mean df in a new column\n",
    "df_mean = df_mean.merge(df_mean_NoTF[['Promoter','condition','date','Well_calibrator','corrected_luminescence']],on=['Promoter','condition','Well_calibrator','date'],how='left',suffixes=('','_NoTF'))\n",
    "#now calculate the positive or negative fold change of luminescence compared to No TF control\n",
    "# df_mean['fold_change'] = df_mean['corrected_luminescence']/df_mean['corrected_luminescence_NoTF']\n",
    "df_mean['fold_change'] = df_mean['corrected_luminescence']/df_mean['corrected_luminescence_NoTF']\n",
    "#now add the fold change to the df in a new column\n",
    "df_mean['log2_fc'] = np.log2(df_mean['fold_change'])\n",
    "#now merge the df_mean back into the original df\n",
    "# df = df.merge(df_mean[['Promoter','TF_added','condition','Well_calibrator','fold_change']],on=['Promoter','TF_added','condition','Well_calibrator'])\n",
    "#now filter out No TF_1μM_NAA and No TF controls\n",
    "df_mean = df_mean[(df_mean['TF_added'] != 'No TF_1μM_NAA')&(df_mean['TF_added'] != 'No TF')]\n",
    "\n"
   ]
  },
  {
   "cell_type": "code",
   "execution_count": 63,
   "metadata": {},
   "outputs": [],
   "source": [
    "#add TRAM and TARSET data to df_mean"
   ]
  },
  {
   "cell_type": "code",
   "execution_count": 64,
   "metadata": {},
   "outputs": [
    {
     "name": "stdout",
     "output_type": "stream",
     "text": [
      "TFs=['ANAC032', 'ANR1', 'ARF18', 'ARF18+ARF9', 'ARF18+ARF9_1μM_NAA', 'ARF18+IAA33', 'ARF18+IAA33_1μM_NAA', 'ARF18_1μM_NAA', 'ARF9', 'ARF9_1μM_NAA', 'DREB26', 'NLP6', 'NLP7']\n",
      "TFs_in_df=['ARF18', 'ARF9', 'ARF9_1μM_NAA', 'ARF18+ARF9', 'ARF18+ARF9_1μM_NAA', 'ARF18+IAA33_1μM_NAA', 'ARF18+IAA33', 'ARF18_1μM_NAA', 'ANAC032', 'ANR1']\n",
      "TFs=['ANAC032', 'ANR1', 'ARF18', 'ARF18+ARF9', 'ARF18+ARF9_1μM_NAA', 'ARF18+IAA33', 'ARF18+IAA33_1μM_NAA', 'ARF18_1μM_NAA', 'ARF9', 'ARF9_1μM_NAA', 'DREB26', 'NLP6', 'NLP7']\n",
      "TFs_in_df=['ARF18', 'ARF9', 'ARF9_1μM_NAA', 'ARF18+ARF9', 'ARF18+ARF9_1μM_NAA', 'ARF18+IAA33_1μM_NAA', 'ARF18+IAA33', 'ARF18_1μM_NAA', 'ANAC032', 'ANR1', 'NLP6', 'NLP7']\n",
      "TFs=['ANAC032', 'ANR1', 'ARF18', 'ARF18+ARF9', 'ARF18+ARF9_1μM_NAA', 'ARF18+IAA33', 'ARF18+IAA33_1μM_NAA', 'ARF18_1μM_NAA', 'DREB26', 'NLP6', 'NLP7']\n",
      "TFs_in_df=['ARF18', 'ARF18+ARF9', 'ARF18+ARF9_1μM_NAA', 'ARF18+IAA33_1μM_NAA', 'ARF18+IAA33', 'ARF18_1μM_NAA', 'ANAC032', 'ANR1', 'NLP6', 'NLP7']\n",
      "TFs=['ANAC032', 'ANR1', 'ARF18', 'ARF18+ARF9', 'ARF18+ARF9+IAA33', 'ARF18+ARF9+IAA33_1μM_NAA', 'ARF18+ARF9_1μM_NAA', 'ARF18+IAA33', 'ARF18+IAA33_1μM_NAA', 'ARF18_1μM_NAA', 'ARF9', 'ARF9+IAA33', 'ARF9+IAA33_1μM_NAA', 'ARF9_1μM_NAA', 'DREB26', 'NLP6', 'NLP7']\n",
      "TFs_in_df=['ARF18', 'ARF9', 'ARF9_1μM_NAA', 'ARF18+ARF9', 'ARF18+ARF9_1μM_NAA', 'ARF18+IAA33_1μM_NAA', 'ARF18+IAA33', 'ARF18_1μM_NAA', 'ARF9+IAA33', 'ARF9+IAA33_1μM_NAA', 'ARF18+ARF9+IAA33', 'ARF18+ARF9+IAA33_1μM_NAA', 'ANAC032', 'ANR1', 'NLP6', 'NLP7', 'DREB26']\n",
      "TFs=['ANAC032', 'ANR1', 'ARF18', 'ARF18+ARF9', 'ARF18+ARF9_1μM_NAA', 'ARF18+IAA33', 'ARF18+IAA33_1μM_NAA', 'ARF18_1μM_NAA', 'ARF9', 'ARF9_1μM_NAA', 'DREB26', 'NLP6', 'NLP7']\n",
      "TFs_in_df=['ARF18', 'ARF9', 'ARF9_1μM_NAA', 'ARF18+ARF9', 'ARF18+ARF9_1μM_NAA', 'ARF18+IAA33_1μM_NAA', 'ARF18+IAA33', 'ARF18_1μM_NAA', 'ANAC032', 'ANR1', 'NLP6', 'NLP7']\n",
      "TFs=['ANAC032', 'ANR1', 'ARF18', 'ARF18+ARF9', 'ARF18+ARF9_1μM_NAA', 'ARF18+IAA33', 'ARF18+IAA33_1μM_NAA', 'ARF18_1μM_NAA', 'ARF9', 'ARF9_1μM_NAA', 'DREB26', 'NLP6', 'NLP7']\n",
      "TFs_in_df=['ARF18', 'ARF9', 'ARF9_1μM_NAA', 'ARF18+ARF9', 'ARF18+ARF9_1μM_NAA', 'ARF18+IAA33_1μM_NAA', 'ARF18+IAA33', 'ARF18_1μM_NAA', 'ANAC032', 'ANR1', 'NLP6', 'NLP7']\n",
      "TFs=['ANAC032', 'ANR1', 'ARF18', 'ARF18+ARF9', 'ARF18+ARF9_1μM_NAA', 'ARF18+IAA33', 'ARF18+IAA33_1μM_NAA', 'ARF18_1μM_NAA', 'ARF9', 'ARF9_1μM_NAA', 'DREB26', 'NLP6', 'NLP7']\n",
      "TFs_in_df=['ARF18', 'ARF9', 'ARF9_1μM_NAA', 'ARF18+ARF9', 'ARF18+ARF9_1μM_NAA', 'ARF18+IAA33_1μM_NAA', 'ARF18+IAA33', 'ARF18_1μM_NAA', 'ANAC032', 'ANR1', 'NLP6', 'NLP7']\n"
     ]
    }
   ],
   "source": [
    "#filter extra data points\n",
    "df_mean = df_mean[df_mean['TF_added'] != 'HHO2']\n",
    "df_mean = df_mean[df_mean['TF_added'] != 'bZIP3']\n",
    "\n",
    "#keep ARFs, ANAC032, ANR1 to ANAC032\n",
    "df_mean = filter_TFs(df_mean,'ANAC032',['ARF18','ARF9','ARF9_1μM_NAA','ARF18+ARF9','ARF18+ARF9_1μM_NAA','ARF18+IAA33_1μM_NAA','ARF18+IAA33','ARF18_1μM_NAA','ARF9+IAA33','ARF9+IAA33_1μM_NAA','ARF18+ARF9+IAA33','ARF18+ARF9+IAA33_1μM_NAA','ANAC032','ANR1'])\n",
    "#keep ANAC032, ANR1 to ANAC032\n",
    "# df_mean = filter_TFs(df_mean,'ANAC032',['ANAC032','ANR1'])\n",
    "\n",
    "#Keep ANAC032, ANR1, NLP6 and NLP7 to ANR1\n",
    "# df_mean = filter_TFs(df_mean,'ANR1',[])\n",
    "#keep ARFs to ANR1\n",
    "df_mean = filter_TFs(df_mean,'ANR1',['ARF18','ARF9','ARF9_1μM_NAA','ARF18+ARF9','ARF18+ARF9_1μM_NAA','ARF18+IAA33_1μM_NAA','ARF18+IAA33','ARF18_1μM_NAA','ARF9+IAA33','ARF9+IAA33_1μM_NAA','ARF18+ARF9+IAA33','ARF18+ARF9+IAA33_1μM_NAA','ANAC032','ANR1','NLP6','NLP7'])\n",
    "\n",
    "#Keep ANAC032, ANR1, NLP6 and NLP7 to ARF18\n",
    "# df_mean = filter_TFs(df_mean,'ARF18',[])\n",
    "#keep ARFs to ARF18\n",
    "df_mean = filter_TFs(df_mean,'ARF18',['ARF18','ARF9','ARF9_1μM_NAA','ARF18+ARF9','ARF18+ARF9_1μM_NAA','ARF18+IAA33_1μM_NAA','ARF18+IAA33','ARF18_1μM_NAA','ARF9+IAA33','ARF9+IAA33_1μM_NAA','ARF18+ARF9+IAA33','ARF18+ARF9+IAA33_1μM_NAA','ANAC032','ANR1','NLP6','NLP7'])\n",
    "\n",
    "#Keep ANAC032, ANR1, DREB26 , NLP6 and NLP7 to DREB26\n",
    "# df_mean = filter_TFs(df_mean,'DREB26',[])\n",
    "#keep ARFs to DREB26\n",
    "df_mean = filter_TFs(df_mean,'DREB26',['ARF18','ARF9','ARF9_1μM_NAA','ARF18+ARF9','ARF18+ARF9_1μM_NAA','ARF18+IAA33_1μM_NAA','ARF18+IAA33','ARF18_1μM_NAA','ARF9+IAA33','ARF9+IAA33_1μM_NAA','ARF18+ARF9+IAA33','ARF18+ARF9+IAA33_1μM_NAA','ANAC032','ANR1','NLP6','NLP7','DREB26'])\n",
    "\n",
    "#Keep ANAC032, ANR1, NLP6 and NLP7 to NIR1\n",
    "# df_mean = filter_TFs(df_mean,'NIR1',[])\n",
    "#keep ARFs to NIR1\n",
    "df_mean = filter_TFs(df_mean,'NIR1',['ARF18','ARF9','ARF9_1μM_NAA','ARF18+ARF9','ARF18+ARF9_1μM_NAA','ARF18+IAA33_1μM_NAA','ARF18+IAA33','ARF18_1μM_NAA','ARF9+IAA33','ARF9+IAA33_1μM_NAA','ARF18+ARF9+IAA33','ARF18+ARF9+IAA33_1μM_NAA','ANAC032','ANR1','NLP6','NLP7','NIR1'])\n",
    "\n",
    "#Keep ANAC032, ANR1, NLP6 and NLP7 to NLP6\n",
    "# df_mean = filter_TFs(df_mean,'NLP6',[])\n",
    "#keep ARFs to NLP6\n",
    "df_mean = filter_TFs(df_mean,'NLP6',['ARF18','ARF9','ARF9_1μM_NAA','ARF18+ARF9','ARF18+ARF9_1μM_NAA','ARF18+IAA33_1μM_NAA','ARF18+IAA33','ARF18_1μM_NAA','ARF9+IAA33','ARF9+IAA33_1μM_NAA','ARF18+ARF9+IAA33','ARF18+ARF9+IAA33_1μM_NAA','ANAC032','ANR1','NLP6','NLP7'])\n",
    "\n",
    "#Keep ANAC032, ANR1, NLP6 and NLP7 to NLP7\n",
    "# df_mean = filter_TFs(df_mean,'NLP7',[])\n",
    "#keep ARFs to NLP7\n",
    "df_mean = filter_TFs(df_mean,'NLP7',['ARF18','ARF9','ARF9_1μM_NAA','ARF18+ARF9','ARF18+ARF9_1μM_NAA','ARF18+IAA33_1μM_NAA','ARF18+IAA33','ARF18_1μM_NAA','ARF9+IAA33','ARF9+IAA33_1μM_NAA','ARF18+ARF9+IAA33','ARF18+ARF9+IAA33_1μM_NAA','ANAC032','ANR1','NLP6','NLP7'])"
   ]
  },
  {
   "cell_type": "code",
   "execution_count": 65,
   "metadata": {},
   "outputs": [],
   "source": [
    "# #function to filter TFs which aren't in the provided list of TFs\n",
    "# def filter_TFs(df,promoter,TFs):\n",
    "#     \"\"\"function to filter TF-promoter interactions which aren't in the provided list of TFs for a specific promoter\"\"\"\n",
    "#     #first make a copy of the df\n",
    "#     df_copy = df.copy()\n",
    "#     #get list of TFs in df\n",
    "#     df_TFs = df_copy[df_copy.Promoter==promoter].TF_added.values.tolist()\n",
    "#     #get list of TFs that were present in the provided list of TFs\n",
    "#     TFs_in_df = [x for x in TFs if x in df_TFs]\n",
    "#     #append \"No TF\" to TFs_in_df\n",
    "#     TFs_in_df.append('No TF')\n",
    "#     TFs_in_df.append('No TF_1μM_NAA')\n",
    "#     #append\n",
    "#     #filter df to only include TFs in TFs\n",
    "#     promoter_df = df_copy[df_copy.Promoter==promoter]\n",
    "#     promoter_df = promoter_df[promoter_df.TF_added.isin(TFs_in_df)]\n",
    "#     #replace subset of the original df with the filtered df\n",
    "#     df_copy[df_copy.Promoter==promoter] = promoter_df\n",
    "#     #remove nan\n",
    "#     df_copy = df_copy.dropna()\n",
    "#     return df_copy"
   ]
  },
  {
   "cell_type": "code",
   "execution_count": 66,
   "metadata": {},
   "outputs": [
    {
     "data": {
      "text/html": [
       "<div>\n",
       "<style scoped>\n",
       "    .dataframe tbody tr th:only-of-type {\n",
       "        vertical-align: middle;\n",
       "    }\n",
       "\n",
       "    .dataframe tbody tr th {\n",
       "        vertical-align: top;\n",
       "    }\n",
       "\n",
       "    .dataframe thead th {\n",
       "        text-align: right;\n",
       "    }\n",
       "</style>\n",
       "<table border=\"1\" class=\"dataframe\">\n",
       "  <thead>\n",
       "    <tr style=\"text-align: right;\">\n",
       "      <th></th>\n",
       "      <th>Promoter</th>\n",
       "      <th>TF_added</th>\n",
       "      <th>condition</th>\n",
       "      <th>Well_calibrator</th>\n",
       "      <th>date</th>\n",
       "      <th>corrected_luminescence</th>\n",
       "      <th>corrected_luminescence_NoTF</th>\n",
       "      <th>fold_change</th>\n",
       "      <th>log2_fc</th>\n",
       "    </tr>\n",
       "  </thead>\n",
       "  <tbody>\n",
       "    <tr>\n",
       "      <th>0</th>\n",
       "      <td>ANAC032</td>\n",
       "      <td>ANAC032</td>\n",
       "      <td>nitrogen</td>\n",
       "      <td>35s_LucF</td>\n",
       "      <td>02.11.21+04.11.21</td>\n",
       "      <td>76.782985</td>\n",
       "      <td>57.899469</td>\n",
       "      <td>1.326143</td>\n",
       "      <td>0.407237</td>\n",
       "    </tr>\n",
       "    <tr>\n",
       "      <th>1</th>\n",
       "      <td>ANAC032</td>\n",
       "      <td>ANR1</td>\n",
       "      <td>nitrogen</td>\n",
       "      <td>NOS_LucF</td>\n",
       "      <td>02.11.21+04.11.21</td>\n",
       "      <td>99.879069</td>\n",
       "      <td>206.829930</td>\n",
       "      <td>0.482904</td>\n",
       "      <td>-1.050191</td>\n",
       "    </tr>\n",
       "    <tr>\n",
       "      <th>2</th>\n",
       "      <td>ANAC032</td>\n",
       "      <td>ARF18</td>\n",
       "      <td>nitrogen</td>\n",
       "      <td>NOS_LucF</td>\n",
       "      <td>02.11.21+04.11.21</td>\n",
       "      <td>137.931547</td>\n",
       "      <td>206.829930</td>\n",
       "      <td>0.666884</td>\n",
       "      <td>-0.584493</td>\n",
       "    </tr>\n",
       "    <tr>\n",
       "      <th>3</th>\n",
       "      <td>ANAC032</td>\n",
       "      <td>ARF18+ARF9</td>\n",
       "      <td>nitrogen</td>\n",
       "      <td>NOS_LucF</td>\n",
       "      <td>02.11.21+04.11.21</td>\n",
       "      <td>170.984796</td>\n",
       "      <td>206.829930</td>\n",
       "      <td>0.826693</td>\n",
       "      <td>-0.274577</td>\n",
       "    </tr>\n",
       "    <tr>\n",
       "      <th>4</th>\n",
       "      <td>ANAC032</td>\n",
       "      <td>ARF18+ARF9_1μM_NAA</td>\n",
       "      <td>1uM_auxin</td>\n",
       "      <td>NOS_LucF</td>\n",
       "      <td>02.11.21+04.11.21</td>\n",
       "      <td>192.480081</td>\n",
       "      <td>229.963468</td>\n",
       "      <td>0.837003</td>\n",
       "      <td>-0.256696</td>\n",
       "    </tr>\n",
       "    <tr>\n",
       "      <th>...</th>\n",
       "      <td>...</td>\n",
       "      <td>...</td>\n",
       "      <td>...</td>\n",
       "      <td>...</td>\n",
       "      <td>...</td>\n",
       "      <td>...</td>\n",
       "      <td>...</td>\n",
       "      <td>...</td>\n",
       "      <td>...</td>\n",
       "    </tr>\n",
       "    <tr>\n",
       "      <th>143</th>\n",
       "      <td>NLP7</td>\n",
       "      <td>ARF18_1μM_NAA</td>\n",
       "      <td>1uM_auxin</td>\n",
       "      <td>NOS_LucF</td>\n",
       "      <td>02.11.21+04.11.21</td>\n",
       "      <td>23.104530</td>\n",
       "      <td>27.266601</td>\n",
       "      <td>0.847356</td>\n",
       "      <td>-0.238959</td>\n",
       "    </tr>\n",
       "    <tr>\n",
       "      <th>144</th>\n",
       "      <td>NLP7</td>\n",
       "      <td>ARF9</td>\n",
       "      <td>nitrogen</td>\n",
       "      <td>NOS_LucF</td>\n",
       "      <td>02.11.21+04.11.21</td>\n",
       "      <td>32.240190</td>\n",
       "      <td>21.538205</td>\n",
       "      <td>1.496884</td>\n",
       "      <td>0.581962</td>\n",
       "    </tr>\n",
       "    <tr>\n",
       "      <th>145</th>\n",
       "      <td>NLP7</td>\n",
       "      <td>ARF9_1μM_NAA</td>\n",
       "      <td>1uM_auxin</td>\n",
       "      <td>NOS_LucF</td>\n",
       "      <td>02.11.21+04.11.21</td>\n",
       "      <td>32.347592</td>\n",
       "      <td>27.266601</td>\n",
       "      <td>1.186345</td>\n",
       "      <td>0.246523</td>\n",
       "    </tr>\n",
       "    <tr>\n",
       "      <th>148</th>\n",
       "      <td>NLP7</td>\n",
       "      <td>NLP6</td>\n",
       "      <td>nitrogen</td>\n",
       "      <td>35s_LucF</td>\n",
       "      <td>27.04.22</td>\n",
       "      <td>0.941386</td>\n",
       "      <td>0.698554</td>\n",
       "      <td>1.347622</td>\n",
       "      <td>0.430416</td>\n",
       "    </tr>\n",
       "    <tr>\n",
       "      <th>149</th>\n",
       "      <td>NLP7</td>\n",
       "      <td>NLP7</td>\n",
       "      <td>nitrogen</td>\n",
       "      <td>35s_LucF</td>\n",
       "      <td>27.04.22</td>\n",
       "      <td>0.925615</td>\n",
       "      <td>0.698554</td>\n",
       "      <td>1.325045</td>\n",
       "      <td>0.406042</td>\n",
       "    </tr>\n",
       "  </tbody>\n",
       "</table>\n",
       "<p>85 rows × 9 columns</p>\n",
       "</div>"
      ],
      "text/plain": [
       "    Promoter            TF_added  condition Well_calibrator  \\\n",
       "0    ANAC032             ANAC032   nitrogen        35s_LucF   \n",
       "1    ANAC032                ANR1   nitrogen        NOS_LucF   \n",
       "2    ANAC032               ARF18   nitrogen        NOS_LucF   \n",
       "3    ANAC032          ARF18+ARF9   nitrogen        NOS_LucF   \n",
       "4    ANAC032  ARF18+ARF9_1μM_NAA  1uM_auxin        NOS_LucF   \n",
       "..       ...                 ...        ...             ...   \n",
       "143     NLP7       ARF18_1μM_NAA  1uM_auxin        NOS_LucF   \n",
       "144     NLP7                ARF9   nitrogen        NOS_LucF   \n",
       "145     NLP7        ARF9_1μM_NAA  1uM_auxin        NOS_LucF   \n",
       "148     NLP7                NLP6   nitrogen        35s_LucF   \n",
       "149     NLP7                NLP7   nitrogen        35s_LucF   \n",
       "\n",
       "                  date  corrected_luminescence  corrected_luminescence_NoTF  \\\n",
       "0    02.11.21+04.11.21               76.782985                    57.899469   \n",
       "1    02.11.21+04.11.21               99.879069                   206.829930   \n",
       "2    02.11.21+04.11.21              137.931547                   206.829930   \n",
       "3    02.11.21+04.11.21              170.984796                   206.829930   \n",
       "4    02.11.21+04.11.21              192.480081                   229.963468   \n",
       "..                 ...                     ...                          ...   \n",
       "143  02.11.21+04.11.21               23.104530                    27.266601   \n",
       "144  02.11.21+04.11.21               32.240190                    21.538205   \n",
       "145  02.11.21+04.11.21               32.347592                    27.266601   \n",
       "148           27.04.22                0.941386                     0.698554   \n",
       "149           27.04.22                0.925615                     0.698554   \n",
       "\n",
       "     fold_change   log2_fc  \n",
       "0       1.326143  0.407237  \n",
       "1       0.482904 -1.050191  \n",
       "2       0.666884 -0.584493  \n",
       "3       0.826693 -0.274577  \n",
       "4       0.837003 -0.256696  \n",
       "..           ...       ...  \n",
       "143     0.847356 -0.238959  \n",
       "144     1.496884  0.581962  \n",
       "145     1.186345  0.246523  \n",
       "148     1.347622  0.430416  \n",
       "149     1.325045  0.406042  \n",
       "\n",
       "[85 rows x 9 columns]"
      ]
     },
     "execution_count": 66,
     "metadata": {},
     "output_type": "execute_result"
    }
   ],
   "source": [
    "df_mean"
   ]
  },
  {
   "cell_type": "code",
   "execution_count": 67,
   "metadata": {},
   "outputs": [],
   "source": [
    "#save the df to a tsv file for use in a circos plot\n",
    "df_mean.to_csv(f'../../data/luminescence/coexpression_for_manuscript/coexpression_data_for_circos_plot_fold_change.tsv',sep='\\t',index=False)"
   ]
  },
  {
   "cell_type": "code",
   "execution_count": 68,
   "metadata": {},
   "outputs": [],
   "source": [
    "#add significance column\n",
    "df_mean['significance'] = \"\"\n",
    "#for DREB26 promoter, ARF18+ARF9_1μM_NAA write \"no\" in significance column\n",
    "df_mean.loc[(df_mean.Promoter=='DREB26')&(df_mean.TF_added=='ARF18+ARF9_1μM_NAA'),'significance'] = 'no'\n",
    "#Do the same for DREB26\tARF18+IAA33_1μM_NAA\n",
    "df_mean.loc[(df_mean.Promoter=='DREB26')&(df_mean.TF_added=='ARF18+IAA33_1μM_NAA'),'significance'] = 'no'\n",
    "#Same for DREB26\tARF18_1μM_NAA\n",
    "df_mean.loc[(df_mean.Promoter=='DREB26')&(df_mean.TF_added=='ARF18_1μM_NAA'),'significance'] = 'no'\n",
    "#and DREB26\tARF9+IAA33_1μM_NAA\n",
    "df_mean.loc[(df_mean.Promoter=='DREB26')&(df_mean.TF_added=='ARF9+IAA33_1μM_NAA'),'significance'] = 'no'\n",
    "#NLP6\tARF18\n",
    "df_mean.loc[(df_mean.Promoter=='NLP6')&(df_mean.TF_added=='ARF18'),'significance'] = 'no'\n",
    "#save file as tsv\n",
    "df_mean.to_csv(f'../../data/luminescence/coexpression_for_manuscript/coexpression_data_for_circos_plot_fold_change_significant.tsv',sep='\\t',index=False)"
   ]
  },
  {
   "cell_type": "code",
   "execution_count": 69,
   "metadata": {},
   "outputs": [],
   "source": [
    "#make version containing only significant interactions\n"
   ]
  }
 ],
 "metadata": {
  "kernelspec": {
   "display_name": "Python 3.8.13 ('jupyterlab')",
   "language": "python",
   "name": "python3"
  },
  "language_info": {
   "codemirror_mode": {
    "name": "ipython",
    "version": 3
   },
   "file_extension": ".py",
   "mimetype": "text/x-python",
   "name": "python",
   "nbconvert_exporter": "python",
   "pygments_lexer": "ipython3",
   "version": "3.8.13"
  },
  "orig_nbformat": 4,
  "vscode": {
   "interpreter": {
    "hash": "26f5a7063c1abd5017ac9b4d628e605332f7a2ae13e95198c3d9f5a607fc4e8a"
   }
  }
 },
 "nbformat": 4,
 "nbformat_minor": 2
}
