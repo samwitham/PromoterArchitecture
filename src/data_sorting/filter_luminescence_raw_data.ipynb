{
 "cells": [
  {
   "cell_type": "code",
   "execution_count": 29,
   "metadata": {},
   "outputs": [],
   "source": [
    "import pandas as pd\n",
    "import numpy as np"
   ]
  },
  {
   "cell_type": "code",
   "execution_count": 30,
   "metadata": {},
   "outputs": [],
   "source": [
    "#list of files\n",
    "f1 = f'../../data/luminescence/coexpression_for_manuscript/02.11.21+04.11.21.tsv'\n",
    "f2 = f'../../data/luminescence/coexpression_for_manuscript/15.12.21.tsv'\n",
    "f3 = f'../../data/luminescence/coexpression_for_manuscript/09.02.22.tsv'\n",
    "f4 = f'../../data/luminescence/coexpression_for_manuscript/27.04.22.tsv'"
   ]
  },
  {
   "cell_type": "code",
   "execution_count": 31,
   "metadata": {},
   "outputs": [],
   "source": [
    "#read in files\n",
    "df1 = pd.read_csv(f1, sep='\\t', header=0)\n",
    "df2 = pd.read_csv(f2, sep='\\t',header=0)\n",
    "df3 = pd.read_csv(f3, sep='\\t',header=0)\n",
    "df4 = pd.read_csv(f4, sep='\\t',header=0)"
   ]
  },
  {
   "cell_type": "code",
   "execution_count": 32,
   "metadata": {},
   "outputs": [],
   "source": [
    "#function to filter TFs which aren't in the provided list of TFs\n",
    "def filter_TFs(df,promoter,TFs):\n",
    "    \"\"\"function to filter TF-promoter interactions which aren't in the provided list of TFs for a specific promoter\"\"\"\n",
    "    #first make a copy of the df\n",
    "    df_copy = df.copy()\n",
    "    #get list of TFs in df\n",
    "    df_TFs = df_copy[df_copy.Promoter==promoter].TF_added.values.tolist()\n",
    "    #get list of TFs that were present in the provided list of TFs\n",
    "    TFs_in_df = [x for x in TFs if x in df_TFs]\n",
    "    #append \"No TF\" to TFs_in_df\n",
    "    TFs_in_df.append('No TF')\n",
    "    TFs_in_df.append('No TF_1μM_NAA')\n",
    "    #append\n",
    "    #filter df to only include TFs in TFs\n",
    "    promoter_df = df_copy[df_copy.Promoter==promoter]\n",
    "    promoter_df = promoter_df[promoter_df.TF_added.isin(TFs_in_df)]\n",
    "    #replace subset of the original df with the filtered df\n",
    "    df_copy[df_copy.Promoter==promoter] = promoter_df\n",
    "    #remove nan\n",
    "    df_copy = df_copy.dropna()\n",
    "    return df_copy"
   ]
  },
  {
   "cell_type": "code",
   "execution_count": 33,
   "metadata": {},
   "outputs": [],
   "source": [
    "#function to remove string from end of promoter name (Promoter column) if it ends with '_35s:LucF_calibrator'\n",
    "def remove_string_from_end(string,to_remove='_35s:LucF_calibrator'):\n",
    "    \"\"\"function to remove string from end of promoter column if it ends with eg. '_35s:LucF_calibrator'\"\"\"\n",
    "    if string.endswith(to_remove):\n",
    "        string = string[:-len(to_remove)]\n",
    "    return string\n",
    "def remove_string_from_end_promoter_col(df):\n",
    "    \"\"\"function to remove string from end of promoter name if it ends with eg. '_35s:LucF_calibrator'\"\"\"\n",
    "    df['Promoter'] = df['Promoter'].apply(remove_string_from_end)\n",
    "    return df"
   ]
  },
  {
   "cell_type": "code",
   "execution_count": 34,
   "metadata": {},
   "outputs": [],
   "source": [
    "#function to remove string from end of TF_added column if it ends with '_1μM_NAA'\n",
    "def remove_string_from_end_TF_added_col(df):\n",
    "    \"\"\"function to remove string from end of TF_added column if it ends with '_1μM_NAA'\"\"\"\n",
    "    df['TF_added'] = df['TF_added'].apply(lambda x: remove_string_from_end(x,to_remove='_1μM_NAA'))\n",
    "    return df"
   ]
  },
  {
   "cell_type": "code",
   "execution_count": 35,
   "metadata": {},
   "outputs": [],
   "source": [
    "#filter columns from dfs\n",
    "list_of_cols = ['Promoter','TF_added','fluc_luminescence','nluc_luminescence','nluc/fluc','corrected_luminescence','condition','Well_calibrator','date','Plate_number','well']\n",
    "df1 = df1[list_of_cols]\n",
    "df2 = df2[list_of_cols]\n",
    "df3 = df3[list_of_cols]\n",
    "df4 = df4[list_of_cols]"
   ]
  },
  {
   "cell_type": "code",
   "execution_count": 36,
   "metadata": {},
   "outputs": [],
   "source": [
    "#make copy of df4 for later\n",
    "df4_copy = df4.copy()\n"
   ]
  },
  {
   "cell_type": "code",
   "execution_count": 37,
   "metadata": {},
   "outputs": [],
   "source": [
    "#filter out unwanted data points from the different dfs\n",
    "#02.11.21+04.11.21\n",
    "##remove string from end of promoter name (Promoter column) if it ends with '_35s:LucF_calibrator'\n",
    "df1 = remove_string_from_end_promoter_col(df1)\n",
    "#remove unwanted promoters\n",
    "df1 = df1[df1['Promoter'] != 'NOS']\n",
    "df1 = df1[df1['Promoter'] != 'NOS_calibrator']\n",
    "df1 = df1[df1['Promoter'] != '35s']\n",
    "#remove row if well calibrator column is NOS_LucF and TF_added column is ANAC032\n",
    "df1 = df1.loc[~((df1['Well_calibrator'] == 'NOS_LucF') & (df1['TF_added'] == 'ANAC032'))]"
   ]
  },
  {
   "cell_type": "code",
   "execution_count": 38,
   "metadata": {},
   "outputs": [],
   "source": [
    "#ANAC032 promoter\n",
    "# keep ARFs, DREB26, ANR1, bZIP3 and ANAC032 to ANAC032\n",
    "df1 = filter_TFs(df1,'ANAC032',['bZIP3','DREB26','ANR1','ANAC032','ARF18','ARF9','ARF9_1μM_NAA','ARF18+ARF9','ARF18+ARF9_1μM_NAA','ARF9+IAA33','ARF9+IAA33_1μM_NAA','ARF18+ARF9+IAA33','ARF18+ARF9+IAA33_1μM_NAA','ARF18+IAA33_1μM_NAA','ARF18+IAA33','ARF18_1μM_NAA'])"
   ]
  },
  {
   "cell_type": "code",
   "execution_count": 39,
   "metadata": {},
   "outputs": [],
   "source": [
    "#ANR1 promoter\n",
    "#keep ARFs, ANR1, DREB26, bZIP3, and HHO2 to ANR1\n",
    "df1 = filter_TFs(df1,'ANR1',['bZIP3','DREB26','ANR1','ARF18','ARF9','ARF9_1μM_NAA','ARF18+ARF9','ARF18+ARF9_1μM_NAA','ARF18+IAA33_1μM_NAA','ARF18+IAA33','ARF18_1μM_NAA','HHO2','ARF9+IAA33','ARF9+IAA33_1μM_NAA','ARF18+ARF9+IAA33','ARF18+ARF9+IAA33_1μM_NAA',])"
   ]
  },
  {
   "cell_type": "code",
   "execution_count": 40,
   "metadata": {},
   "outputs": [],
   "source": [
    "#ARF18 promoter\n",
    "#keep ARFs, DREB26, ANR1, ANAC032 and bZIP3 to ARF18\n",
    "df1 = filter_TFs(df1,'ARF18',['bZIP3','DREB26','ANR1','ANAC032','ARF18','ARF9','ARF9_1μM_NAA','ARF18+ARF9','ARF18+ARF9_1μM_NAA','ARF18+IAA33_1μM_NAA','ARF18+IAA33','ARF18_1μM_NAA','ARF9+IAA33','ARF9+IAA33_1μM_NAA','ARF18+ARF9+IAA33','ARF18+ARF9+IAA33_1μM_NAA',])"
   ]
  },
  {
   "cell_type": "code",
   "execution_count": 41,
   "metadata": {},
   "outputs": [],
   "source": [
    "#DREB26 promoter\n",
    "#keep DREB26, ANR1, bZIP3, ANAC032 and HHO2 to DREB26\n",
    "df1 = filter_TFs(df1,'DREB26',['bZIP3','DREB26','ANR1','ANAC032','HHO2'])"
   ]
  },
  {
   "cell_type": "code",
   "execution_count": 42,
   "metadata": {},
   "outputs": [],
   "source": [
    "#NIR1 promoter\n",
    "#keep DREB26, ANAC032, ANR1, ARFs, bZIP3, and HHO2 to NIR1\n",
    "df1 = filter_TFs(df1,'NIR1',['bZIP3','DREB26','ANR1','ANAC032','ARF18','ARF9','ARF9_1μM_NAA','ARF18+ARF9','ARF18+ARF9_1μM_NAA','ARF18+IAA33_1μM_NAA','ARF18+IAA33','ARF18_1μM_NAA','HHO2'])"
   ]
  },
  {
   "cell_type": "code",
   "execution_count": 43,
   "metadata": {},
   "outputs": [],
   "source": [
    "#NLP6 promoter\n",
    "#keep ANR1, ARFs, bZIP3 and HHO2 to NLP6\n",
    "df1 = filter_TFs(df1,'NLP6',['bZIP3','ANR1','ARF18','ARF9','ARF9_1μM_NAA','ARF18+ARF9','ARF18+ARF9_1μM_NAA','ARF18+IAA33_1μM_NAA','ARF18+IAA33','ARF18_1μM_NAA','HHO2'])"
   ]
  },
  {
   "cell_type": "code",
   "execution_count": 44,
   "metadata": {},
   "outputs": [],
   "source": [
    "#NLP7 promoter\n",
    "#keep ARFs, ANR1, DREB26, bZIP3, and HHO2 to NLP7\n",
    "df1 = filter_TFs(df1,'NLP7',['bZIP3','DREB26','ANR1','ARF18','ARF9','ARF9_1μM_NAA','ARF18+ARF9','ARF18+ARF9_1μM_NAA','ARF18+IAA33_1μM_NAA','ARF18+IAA33','ARF18_1μM_NAA','HHO2'])"
   ]
  },
  {
   "cell_type": "code",
   "execution_count": 45,
   "metadata": {},
   "outputs": [],
   "source": [
    "#filter out unwanted data points from the different dfs\n",
    "#15.12.21\n",
    "##remove string from end of promoter name (Promoter column) if it ends with '_35s:LucF_calibrator'\n",
    "df2 = remove_string_from_end_promoter_col(df2)\n",
    "df2 = df2[df2['Promoter'] != 'ANR1']\n",
    "df2 = df2[df2['Promoter'] != 'NIR1']\n",
    "df2 = df2[df2['Promoter'] != 'NOS']\n",
    "df2 = df2[df2['Promoter'] != '4x[bZIP3-random]:NLUC:YFP']\n",
    "df2 = df2[df2['Promoter'] != '4x[NRE-TATA]+spacing:NLUC:YFP']\n",
    "df2 = df2[df2['Promoter'] != 'NRP']\n",
    "#df2 = df2[df2['Promoter'] != 'NRP_35s:LucF_calibrator']\n",
    "df2 = df2[df2['Promoter'] != '35s:NLUC:YFP']\n",
    "df2 = df2[df2['Promoter'] != '35s:NLUC:YFP_nomarker']\n",
    "#df2 = df2[df2['Promoter'] != '4x[NRE-TATA]+spacing:NLUC:YFP_35s:LucF_calibrator']\n",
    "df2 = df2[df2['Promoter'] != '4x[bZIP3-random]:NLUC:YFP']\n",
    "df2 = df2[df2['Promoter'] != '4x[NRE-TATA]+spacing']\n",
    "# df2 = df2[df2['Promoter'] != 'NRP:NLUC:YFP_35s:LucF_calibrator']\n",
    "# df2 = df2[df2['Promoter'] != 'NIR1:NLUC:YFP_35s:LucF_calibrator']\n",
    "# df2 = df2[df2['Promoter'] != 'NOS_calibrator_35s:LucF_calibrator']\n",
    "# df2 = df2[df2['Promoter'] != '35s_35s:LucF_calibrator']\n",
    "df2 = df2[df2['Promoter'] != '35s']\n",
    "df2 = df2[df2['Promoter'] != 'NOS_calibrator']\n",
    "df2 = df2[df2['Promoter'] != 'NRP:NLUC:YFP']\n",
    "df2 = df2[df2['Promoter'] != 'NIR1:NLUC:YFP']\n",
    "#remove row if well calibrator column is NOS_LucF and TF_added column is ANAC032\n",
    "df2 = df2.loc[~((df2['Well_calibrator'] == 'NOS_LucF') & (df2['TF_added'] == 'ANAC032'))]\n"
   ]
  },
  {
   "cell_type": "code",
   "execution_count": 46,
   "metadata": {},
   "outputs": [],
   "source": [
    "#ANAC032 promoter\n",
    "#keep HHO2 to ANAC032\n",
    "df2 = filter_TFs(df2,'ANAC032',['HHO2'])\n",
    "#DREB26 promoter\n",
    "#keep ARFs to DREB26\n",
    "df2 = filter_TFs(df2,'DREB26',['ARF18','ARF9','ARF9_1μM_NAA','ARF18+ARF9','ARF18+ARF9_1μM_NAA','ARF18+IAA33_1μM_NAA','ARF18+IAA33','ARF18_1μM_NAA','ARF9+IAA33','ARF9+IAA33_1μM_NAA','ARF18+ARF9+IAA33','ARF18+ARF9+IAA33_1μM_NAA',])\n",
    "#NLP6 promoter\n",
    "#keep DREB26 and ANAC032 to NLP6\n",
    "df2 = filter_TFs(df2,'NLP6',['DREB26','ANAC032'])\n",
    "#NLP7 promoter\n",
    "#keep ANAC032 to NLP7\n",
    "df2 = filter_TFs(df2,'NLP7',['ANAC032'])\n",
    "#ARF18 promoter\n",
    "#keep HHO2 to ARF18\n",
    "df2 = filter_TFs(df2,'ARF18',['HHO2'])"
   ]
  },
  {
   "cell_type": "code",
   "execution_count": 47,
   "metadata": {},
   "outputs": [],
   "source": [
    "#filter out unwanted data points from the different dfs\n",
    "#9.2.22\n",
    "##remove string from end of promoter name (Promoter column) if it ends with '_35s:LucF_calibrator'\n",
    "df3 = remove_string_from_end_promoter_col(df3)\n",
    "#print(df3['Promoter'].value_counts())\n",
    "#remove unwanted promoters\n",
    "df3 = df3[df3['Promoter'] != 'NOS']\n",
    "df3 = df3[df3['Promoter'] != 'NRP']\n",
    "df3 = df3[df3['Promoter'] != '35s']\n",
    "#df3 = df3[df3['Promoter'] != '4x[NRE-TATA]+spacing_35s:LucF_calibrator']\n",
    "df3 = df3[df3['Promoter'] != 'ARF18']\n",
    "df3 = df3[df3['Promoter'] != 'NLP7']\n",
    "df3 = df3[df3['Promoter'] != '4x[NRE-TATA]+spacing']\n",
    "df3 = df3[df3['Promoter'] != 'NOS_calibrator']\n",
    "df3 = df3[df3['Promoter'] != 'NRP:NLUC:YFP']\n",
    "df3 = df3[df3['Promoter'] != 'NIR1:NLUC:YFP']\n",
    "df3 = df3[df3['Promoter'] != '4x[bZIP3-random]:NLUC:YFP']\n",
    "df3 = df3[df3['Promoter'] != '4x[NRE-TATA]+spacing:NLUC:YFP']\n",
    "df3 = df3[df3['Promoter'] != '35s:NLUC:YFP']\n",
    "df3 = df3[df3['Promoter'] != '35s:NLUC:YFP_nomarker']\n",
    "# df3 = df3[df3['Promoter'] != 'ARF18_35s:LucF_calibrator']\n",
    "# df3 = df3[df3['Promoter'] != 'NLP7_35s:LucF_calibrator']\n",
    "# df3 = df3[df3['Promoter'] != 'NOS_calibrator_35s:LucF_calibrator']\n",
    "# df3 = df3[df3['Promoter'] != '35s_35s:LucF_calibrator']\n",
    "#remove row if well calibrator column is NOS_LucF and TF_added column is ANAC032\n",
    "df3 = df3.loc[~((df3['Well_calibrator'] == 'NOS_LucF') & (df3['TF_added'] == 'ANAC032'))]"
   ]
  },
  {
   "cell_type": "code",
   "execution_count": 48,
   "metadata": {},
   "outputs": [],
   "source": [
    "#ANR1 promoter\n",
    "#keep ANAC032, NLP6 and NLP7 to ANR1\n",
    "df3 = filter_TFs(df3,'ANR1',['ANAC032','NLP6','NLP7'])\n",
    "#NIR1 promoter\n",
    "#keep NLP6 and NLP7 to NIR1\n",
    "df3 = filter_TFs(df3,'NIR1',['NLP6','NLP7'])\n",
    "#DREB26 promoter\n",
    "#keep NLP6 and NLP7 to DREB26\n",
    "df3 = filter_TFs(df3,'DREB26',['NLP6','NLP7'])\n",
    "#ANAC032 promoter\n",
    "#keep NLP6 and NLP7 to ANAC032\n",
    "df3 = filter_TFs(df3,'ANAC032',['NLP6','NLP7'])\n",
    "#NLP6 promoter\n",
    "#keep NLP6 and NLP7 to NLP6\n",
    "df3 = filter_TFs(df3,'NLP6',['NLP6','NLP7'])"
   ]
  },
  {
   "cell_type": "code",
   "execution_count": 49,
   "metadata": {},
   "outputs": [],
   "source": [
    "#filter out unwanted data points from the different dfs\n",
    "#27.04.22\n",
    "df4 = df4[df4['Promoter'] != 'NOS']\n",
    "df4 = df4[df4['Promoter'] != 'ANAC032_ablated_TGA1_all_sites']\n",
    "df4 = df4[df4['Promoter'] != 'ANAC032_ablated_ARFs']\n",
    "df4 = df4[df4['Promoter'] != 'ANAC032']\n",
    "df4 = df4[df4['Promoter'] != 'NIR1_ablated_NRE_35s:LucF_calibrator']\n",
    "df4 = df4[df4['Promoter'] != 'NIR1_ablated_NRE_all_sites_35s:LucF_calibrator']\n",
    "df4 = df4[df4['Promoter'] != 'NLP7_ablated_ANAC032_all_sites_35s:LucF_calibrator']\n",
    "df4 = df4[df4['Promoter'] != 'NOS_35s:LucF_calibrator']\n",
    "df4 = df4[df4['Promoter'] != 'NOS_calibrator']\n",
    "df4 = df4[df4['Promoter'] != 'NOS_calibrator_35s:LucF_calibrator']\n",
    "df4 = df4[df4['Promoter'] != '35s_35s:LucF_calibrator']\n",
    "#remove row if well calibrator column is NOS_LucF and TF_added column is ANAC032\n",
    "df4 = df4.loc[~((df4['Well_calibrator'] == 'NOS_LucF') & (df4['TF_added'] == 'ANAC032'))]\n",
    "\n",
    "##remove string from end of promoter name (Promoter column) if it ends with '_35s:LucF_calibrator'\n",
    "df4 = remove_string_from_end_promoter_col(df4)\n"
   ]
  },
  {
   "cell_type": "code",
   "execution_count": 50,
   "metadata": {},
   "outputs": [],
   "source": [
    "#ARF18 promoter\n",
    "#keep NLP6 and NLP7 to ARF18\n",
    "df4 = filter_TFs(df4,'ARF18',['NLP6','NLP7'])\n",
    "#NIR1 promoter\n",
    "#keep NLP6 and NLP7 to NIR1\n",
    "df4 = filter_TFs(df4,'NIR1',['NLP6','NLP7'])\n",
    "#NLP7 promoter\n",
    "#keep NLP6 and NLP7 to NLP7\n",
    "df4 = filter_TFs(df4,'NLP7',['NLP6','NLP7'])"
   ]
  },
  {
   "cell_type": "code",
   "execution_count": 51,
   "metadata": {},
   "outputs": [],
   "source": [
    "#change date format of df3 to dd.mm.yy format\n",
    "df3['date'] = '09.02.22'\n",
    "\n",
    "#merge the four dfs into one df\n",
    "df = pd.concat([df1,df2,df3,df4])\n",
    "#make a copy of the df\n",
    "df_copy = df.copy()\n",
    "#remove NLPs to NIR1 in the 09.02.22 samples\n",
    "df = df.loc[~(((df['TF_added'] == 'NLP6') | (df['TF_added'] == 'NLP7')) & (df['Promoter'] == 'NIR1') & (df['date'] == '09.02.22'))]\n",
    "#save the df to a tsv file for use in a circos plot\n",
    "df.to_csv(f'../../data/luminescence/coexpression_for_manuscript/coexpression_data_for_circos_plot.tsv',sep='\\t',index=False)"
   ]
  },
  {
   "cell_type": "code",
   "execution_count": 52,
   "metadata": {},
   "outputs": [],
   "source": [
    "\n",
    "#remove NAA string from promoters\n",
    "df_copy = remove_string_from_end_TF_added_col(df_copy)\n",
    "#remove NLPs to NIR1 in 27.04.22 samples\n",
    "df_copy = df_copy.loc[~(((df_copy['TF_added'] == 'NLP6') | (df_copy['TF_added'] == 'NLP7') | (df_copy['TF_added'] == 'No TF')) & (df_copy['Promoter'] == 'NIR1') & (df_copy['date'] == '27.04.22'))]\n",
    "#now filter out more unwanted TFs for the manuscript\n",
    "df_copy = df_copy[df_copy['TF_added'] != 'HHO2']\n",
    "df_copy = df_copy[df_copy['TF_added'] != 'bZIP3']\n",
    "df_copy = df_copy[df_copy['TF_added'] != 'ARF18+ARF9+IAA33']\n",
    "df_copy = df_copy[df_copy['TF_added'] != 'ARF9+IAA33']\n",
    "df_copy = df_copy[df_copy['TF_added'] != 'ARF18+IAA33']\n",
    "#save the df_copy to a tsv file for use in manuscript\n",
    "df_copy.to_csv(f'../../data/luminescence/coexpression_for_manuscript/coexpression_data_for_manuscript.tsv',sep='\\t',index=False)"
   ]
  },
  {
   "cell_type": "code",
   "execution_count": null,
   "metadata": {},
   "outputs": [],
   "source": [
    "\n"
   ]
  },
  {
   "cell_type": "code",
   "execution_count": 53,
   "metadata": {},
   "outputs": [],
   "source": [
    "#now filter out data points keeping only native promoters with ablated TFBSs\n",
    "#27.04.22\n",
    "\n",
    "##remove string from end of promoter name (Promoter column) if it ends with '_35s:LucF_calibrator'\n",
    "df4_copy = remove_string_from_end_promoter_col(df4_copy)\n",
    "\n",
    "df4_copy = df4_copy[df4_copy['Promoter'] != 'NOS']\n",
    "df4_copy = df4_copy[df4_copy['Promoter'] != 'ARF18']\n",
    "df4_copy = df4_copy[df4_copy['Promoter'] != '35s']\n",
    "#df4_copy = df4_copy[df4_copy['Promoter'] != 'ANAC032_ablated_TGA1_all_sites']\n",
    "#df4_copy = df4_copy[df4_copy['Promoter'] != 'ANAC032_ablated_ARFs']\n",
    "#df4_copy = df4_copy[df4_copy['Promoter'] != 'ANAC032']\n",
    "#df4_copy = df4_copy[df4_copy['Promoter'] != 'NIR1_ablated_NRE_35s:LucF_calibrator']\n",
    "#df4_copy = df4_copy[df4_copy['Promoter'] != 'NIR1_ablated_NRE_all_sites_35s:LucF_calibrator']\n",
    "#df4_copy = df4_copy[df4_copy['Promoter'] != 'NLP7_ablated_ANAC032_all_sites_35s:LucF_calibrator']\n",
    "#df4_copy = df4_copy[df4_copy['Promoter'] != 'NOS_35s:LucF_calibrator']\n",
    "df4_copy = df4_copy[df4_copy['Promoter'] != 'NOS_calibrator']\n",
    "#df4_copy = df4_copy[df4_copy['Promoter'] != 'NOS_calibrator_35s:LucF_calibrator']\n",
    "#df4_copy = df4_copy[df4_copy['Promoter'] != '35s_35s:LucF_calibrator']\n",
    "#remove row if well calibrator column is NOS_LucF and TF_added column is ANAC032\n",
    "df4_copy = df4_copy.loc[~((df4_copy['Well_calibrator'] == 'NOS_LucF') & (df4_copy['TF_added'] == 'ANAC032'))]\n",
    "\n"
   ]
  },
  {
   "cell_type": "code",
   "execution_count": 54,
   "metadata": {},
   "outputs": [],
   "source": [
    "#NIR1 promoter\n",
    "#keep NLP6 and NLP7 to NIR1\n",
    "df4_copy = filter_TFs(df4_copy,'NIR1',['NLP6','NLP7'])\n",
    "#NLP7 promoter\n",
    "#keep ANAC032 to NLP7\n",
    "df4_copy = filter_TFs(df4_copy,'NLP7',['ANAC032'])"
   ]
  },
  {
   "cell_type": "code",
   "execution_count": 55,
   "metadata": {},
   "outputs": [],
   "source": [
    "#save the df to a tsv file\n",
    "df4_copy.to_csv(f'../../data/luminescence/coexpression_data_ablated_promoters.tsv',sep='\\t',index=False)"
   ]
  },
  {
   "cell_type": "code",
   "execution_count": 56,
   "metadata": {},
   "outputs": [],
   "source": [
    "#now add a new column to coexpression_data_for_circos_plot containing fold change of luminescence compared to No TF control for that promoter\n",
    "#first get the mean luminescence for each promoter and TF_added combination\n",
    "df_mean = df.groupby(['Promoter','TF_added', 'condition','Well_calibrator','date'])['corrected_luminescence'].mean().reset_index()\n",
    "#now get the mean luminescence for each promoter and No TF control combination\n",
    "df_mean_NoTF = df_mean[(df_mean['TF_added'] == 'No TF')|(df_mean['TF_added'] == 'No TF_1μM_NAA')]\n",
    "#add the No TF mean luminescence to the df_mean df in a new column\n",
    "df_mean = df_mean.merge(df_mean_NoTF[['Promoter','condition','date','Well_calibrator','corrected_luminescence']],on=['Promoter','condition','Well_calibrator','date'],how='left',suffixes=('','_NoTF'))\n",
    "#now calculate the positive or negative fold change of luminescence compared to No TF control\n",
    "# df_mean['fold_change'] = df_mean['corrected_luminescence']/df_mean['corrected_luminescence_NoTF']\n",
    "df_mean['fold_change'] = df_mean['corrected_luminescence']/df_mean['corrected_luminescence_NoTF']\n",
    "#now add the fold change to the df in a new column\n",
    "df_mean['log2_fc'] = np.log2(df_mean['fold_change'])\n",
    "#now merge the df_mean back into the original df\n",
    "# df = df.merge(df_mean[['Promoter','TF_added','condition','Well_calibrator','fold_change']],on=['Promoter','TF_added','condition','Well_calibrator'])\n",
    "#now filter out No TF_1μM_NAA and No TF controls\n",
    "df_mean = df_mean[(df_mean['TF_added'] != 'No TF_1μM_NAA')&(df_mean['TF_added'] != 'No TF')]\n",
    "\n"
   ]
  },
  {
   "cell_type": "code",
   "execution_count": null,
   "metadata": {},
   "outputs": [],
   "source": [
    "#add TRAM and TARSET data to df_mean"
   ]
  },
  {
   "cell_type": "code",
   "execution_count": null,
   "metadata": {},
   "outputs": [],
   "source": [
    "#save the df to a tsv file for use in a circos plot\n",
    "df_mean.to_csv(f'../../data/luminescence/coexpression_for_manuscript/coexpression_data_for_circos_plot_fold_change.tsv',sep='\\t',index=False)"
   ]
  }
 ],
 "metadata": {
  "kernelspec": {
   "display_name": "Python 3.8.13 ('jupyterlab')",
   "language": "python",
   "name": "python3"
  },
  "language_info": {
   "codemirror_mode": {
    "name": "ipython",
    "version": 3
   },
   "file_extension": ".py",
   "mimetype": "text/x-python",
   "name": "python",
   "nbconvert_exporter": "python",
   "pygments_lexer": "ipython3",
   "version": "3.8.13 | packaged by conda-forge | (default, Mar 25 2022, 06:04:10) \n[GCC 10.3.0]"
  },
  "orig_nbformat": 4,
  "vscode": {
   "interpreter": {
    "hash": "26f5a7063c1abd5017ac9b4d628e605332f7a2ae13e95198c3d9f5a607fc4e8a"
   }
  }
 },
 "nbformat": 4,
 "nbformat_minor": 2
}
