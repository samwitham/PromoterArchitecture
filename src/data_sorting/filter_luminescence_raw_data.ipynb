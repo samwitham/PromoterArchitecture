{
 "cells": [
  {
   "cell_type": "code",
   "execution_count": 66,
   "metadata": {},
   "outputs": [],
   "source": [
    "import pandas as pd\n",
    "import numpy as np"
   ]
  },
  {
   "cell_type": "code",
   "execution_count": 67,
   "metadata": {},
   "outputs": [],
   "source": [
    "#list of files\n",
    "f1 = f'../../data/luminescence/coexpression_for_manuscript/02.11.21+04.11.21.tsv'\n",
    "f2 = f'../../data/luminescence/coexpression_for_manuscript/09.02.22.tsv'\n",
    "f3 = f'../../data/luminescence/coexpression_for_manuscript/15.12.21.tsv'\n",
    "f4 = f'../../data/luminescence/coexpression_for_manuscript/27.04.22.tsv'"
   ]
  },
  {
   "cell_type": "code",
   "execution_count": 68,
   "metadata": {},
   "outputs": [],
   "source": [
    "#read in files\n",
    "df1 = pd.read_csv(f1, sep='\\t', header=0)\n",
    "df2 = pd.read_csv(f2, sep='\\t',header=0)\n",
    "df3 = pd.read_csv(f3, sep='\\t',header=0)\n",
    "df4 = pd.read_csv(f4, sep='\\t',header=0)"
   ]
  },
  {
   "cell_type": "code",
   "execution_count": 69,
   "metadata": {},
   "outputs": [],
   "source": [
    "#function to filter TFs which aren't in the provided list of TFs\n",
    "def filter_TFs(df,promoter,TFs):\n",
    "    \"\"\"function to filter TF-promoter interactions which aren't in the provided list of TFs for a specific promoter\"\"\"\n",
    "    #first make a copy of the df\n",
    "    df_copy = df.copy()\n",
    "    #get list of TFs in df\n",
    "    df_TFs = df_copy[df_copy.Promoter==promoter].TF_added.values.tolist()\n",
    "    #get list of TFs that were present in the provided list of TFs\n",
    "    TFs_in_df = [x for x in TFs if x in df_TFs]\n",
    "    #filter df to only include TFs in TFs\n",
    "    promoter_df = df_copy[df_copy.Promoter==promoter]\n",
    "    promoter_df = promoter_df[promoter_df.TF_added.isin(TFs_in_df)]\n",
    "    #replace subset of the original df with the filtered df\n",
    "    df_copy[df_copy.Promoter==promoter] = promoter_df\n",
    "    return df_copy"
   ]
  },
  {
   "cell_type": "code",
   "execution_count": 70,
   "metadata": {},
   "outputs": [],
   "source": [
    "#function to remove string from end of promoter name (Promoter column) if it ends with '_35s:LucF_calibrator'\n",
    "def remove_string_from_end(promoter):\n",
    "    \"\"\"function to remove string from end of promoter column if it ends with '_35s:LucF_calibrator'\"\"\"\n",
    "    if promoter.endswith('_35s:LucF_calibrator'):\n",
    "        promoter = promoter[:-len('_35s:LucF_calibrator')]\n",
    "    return promoter\n",
    "def remove_string_from_end_promoter_col(df):\n",
    "    \"\"\"function to remove string from end of promoter name if it ends with '_35s:LucF_calibrator'\"\"\"\n",
    "    df['Promoter'] = df['Promoter'].apply(remove_string_from_end)\n",
    "    return df"
   ]
  },
  {
   "cell_type": "code",
   "execution_count": 71,
   "metadata": {},
   "outputs": [],
   "source": [
    "#filter columns from dfs\n",
    "list_of_cols = ['Promoter','TF_added','fluc_luminescence','nluc_luminescence','nluc/fluc','corrected_luminescence','condition','Well_calibrator','date','Plate_number','well']\n",
    "df1 = df1[list_of_cols]\n",
    "df2 = df2[list_of_cols]\n",
    "df3 = df3[list_of_cols]\n",
    "df4 = df4[list_of_cols]"
   ]
  },
  {
   "cell_type": "code",
   "execution_count": 72,
   "metadata": {},
   "outputs": [],
   "source": [
    "#filter out unwanted data points from the different dfs\n",
    "#02.11.21+04.11.21\n",
    "df1 = df1[df1['Promoter'] != 'NOS']\n",
    "df1 = df1[df1['Promoter'] != 'NOS_calibrator_35s:LucF_calibrator']\n",
    "df1 = df1[df1['Promoter'] != '35s_35s:LucF_calibrator']\n",
    "##remove string from end of promoter name (Promoter column) if it ends with '_35s:LucF_calibrator'\n",
    "df1 = remove_string_from_end_promoter_col(df1)"
   ]
  },
  {
   "cell_type": "code",
   "execution_count": 77,
   "metadata": {},
   "outputs": [],
   "source": [
    "#ANAC032 promoter\n",
    "# keep ARFs. DREB26, ANR1 and ANAC032 to ANAC032\n",
    "df1 = filter_TFs(df1,'ANAC032',['bZIP3','DREB26','ANR1','ANAC032','ARF18','ARF9','ARF9_1μM_NAA','ARF18+ARF9','ARF18+ARF9_1μM_NAA','ARF18+IAA33_1μM_NAA','ARF18+IAA33','ARF18_1μM_NAA'])"
   ]
  },
  {
   "cell_type": "code",
   "execution_count": null,
   "metadata": {},
   "outputs": [],
   "source": [
    "#ANR1 promoter\n",
    "#keep ARFs, ANR1, DREB26, bZIP3, and HHO2 to ANR1\n",
    "df1 = filter_TFs(df1,'ANR1',['bZIP3','DREB26','ANR1','ARF18','ARF9','ARF9_1μM_NAA','ARF18+ARF9','ARF18+ARF9_1μM_NAA','ARF18+IAA33_1μM_NAA','ARF18+IAA33','ARF18_1μM_NAA','HHO2'])"
   ]
  },
  {
   "cell_type": "code",
   "execution_count": null,
   "metadata": {},
   "outputs": [],
   "source": [
    "#ARF18 promoter\n",
    "#keep ARFs, DREB26, ANR1, ANAC032 and bZIP3 to ARF18\n",
    "df1 = filter_TFs(df1,'ARF18',['bZIP3','DREB26','ANR1','ANAC032','ARF18','ARF9','ARF9_1μM_NAA','ARF18+ARF9','ARF18+ARF9_1μM_NAA','ARF18+IAA33_1μM_NAA','ARF18+IAA33','ARF18_1μM_NAA'])"
   ]
  },
  {
   "cell_type": "code",
   "execution_count": null,
   "metadata": {},
   "outputs": [],
   "source": [
    "#DREB26 promoter\n",
    "#keep DREB26, ANR1, bZIP3, ANAC032 and HHO2 to DREB26\n",
    "df1 = filter_TFs(df1,'DREB26',['bZIP3','DREB26','ANR1','ANAC032','HHO2'])"
   ]
  },
  {
   "cell_type": "code",
   "execution_count": null,
   "metadata": {},
   "outputs": [],
   "source": []
  }
 ],
 "metadata": {
  "kernelspec": {
   "display_name": "Python 3.8.13 ('jupyterlab')",
   "language": "python",
   "name": "python3"
  },
  "language_info": {
   "codemirror_mode": {
    "name": "ipython",
    "version": 3
   },
   "file_extension": ".py",
   "mimetype": "text/x-python",
   "name": "python",
   "nbconvert_exporter": "python",
   "pygments_lexer": "ipython3",
   "version": "3.8.13"
  },
  "orig_nbformat": 4,
  "vscode": {
   "interpreter": {
    "hash": "26f5a7063c1abd5017ac9b4d628e605332f7a2ae13e95198c3d9f5a607fc4e8a"
   }
  }
 },
 "nbformat": 4,
 "nbformat_minor": 2
}
