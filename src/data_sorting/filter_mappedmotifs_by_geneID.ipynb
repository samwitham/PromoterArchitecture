{
 "cells": [
  {
   "cell_type": "code",
   "execution_count": 1,
   "metadata": {},
   "outputs": [],
   "source": [
    "import pandas as pd\n",
    "from pybedtools import BedTool\n",
    "import argparse\n",
    "import numpy as np"
   ]
  },
  {
   "cell_type": "code",
   "execution_count": 2,
   "metadata": {},
   "outputs": [],
   "source": [
    "# parser = argparse.ArgumentParser(description='filter_mappedmotifs_by_geneID')\n",
    "# parser.add_argument('mapped_motifs', type=str, help='Input location of mapped motif file')\n",
    "# parser.add_argument('promoter_AGI', type=str, help='Input location of list of promoter AGIs csv file')\n",
    "# parser.add_argument('TF_AGI', type=str, help='Input location of list of TF AGIs csv file')\n",
    "# parser.add_argument('output_mappedmotifs', type=str, help='Output location of mapped_motifs file ')\n",
    "# parser.add_argument('output_csv', type=str, help='Output location of csv file with TF and targets')\n",
    "# args = parser.parse_args()"
   ]
  },
  {
   "cell_type": "code",
   "execution_count": 3,
   "metadata": {},
   "outputs": [],
   "source": [
    "file_names='non-overlapping_includingbidirectional_all_genes_newannotation_3KB'\n",
    "#mapped motifs file\n",
    "#mapped_motifs_q1 = f'../../data/output/{file_names}/FIMO/promoters_5UTR_motifs_mapped_q1.bed'\n",
    "mapped_motifs_q0_05 = f'../../data/output/{file_names}/FIMO/promoters_5UTR_motifs_mapped_q0_05.bed'\n",
    "#file containing promoter AGIs of interest\n",
    "#promoter_AGI = f'../../data/output/{file_names}/TG_AGI_387_TGs.csv'\n",
    "promoter_AGI = f'../../data/output/{file_names}/TG_AGI_4_TGs.csv'\n",
    "#file containing transcription factor AGIs of interest\n",
    "#TF_AGI = f'../../data/output/{file_names}/TF_AGI_458_TFs.csv'\n",
    "#output mapped motifs file\n",
    "output_mappedmotifs_q0_05 = f'../../data/output/{file_names}/FIMO/filtered_promoters_5UTR_motifs_mapped_q0_05.bed'\n",
    "#output_mappedmotifs_q1 = f'../../data/output/{file_names}/FIMO/filtered_promoters_5UTR_motifs_mapped_q1.bed'\n",
    "#output csv location\n",
    "output_csv_q0_05 = f'../../data/output/{file_names}/FIMO/filtered_promoters_5UTR_q0_05.csv'\n",
    "#output_csv_q1 = f'../../data/output/{file_names}/FIMO/filtered_promoters_5UTR_q1.csv'"
   ]
  },
  {
   "cell_type": "code",
   "execution_count": 4,
   "metadata": {},
   "outputs": [],
   "source": [
    "def filter_mapped_motifs(mapped_motifs,promoter_AGI,output_mappedmotifs,output_csv,TF_AGI=None):\n",
    "    \"\"\"function to filter mapped motifs file from FIMO scan to promoters and TFs of interest,\n",
    "    and output a filtered mapped motifs file and also a csv with 3 columns showing the TFs and targets\"\"\"\n",
    "    #read in files\n",
    "    mapped_motifs_df = pd.read_table(mapped_motifs, sep='\\t', header=None)\n",
    "    cols = ['chr','start','stop','name_rep','score','strand','promoter_AGI','p-value','q-value','matched_sequence','TF_name','TF_family','TF_AGI']\n",
    "    mapped_motifs_df.columns = cols\n",
    "    #read in promoter_AGI list\n",
    "    promoter_AGI_df = pd.read_table(promoter_AGI, sep='\\t', header=0)\n",
    "    #read in TF_AGI list\n",
    "    if TF_AGI is not None:\n",
    "        TF_AGI_df = pd.read_table(TF_AGI, sep='\\t', header=0)\n",
    "        #merge mappedmotifs with TF_AGI_df\n",
    "        merged = pd.merge(TF_AGI_df,mapped_motifs_df, how='left',on='TF_AGI').copy()\n",
    "        #merge with promoter_AGI\n",
    "        merged = pd.merge(promoter_AGI_df,merged, how='left',left_on='TG_AGI', right_on='promoter_AGI').copy()\n",
    "    else:\n",
    "        #merge with promoter_AGI\n",
    "        merged = pd.merge(promoter_AGI_df,mapped_motifs_df, how='left',left_on='TG_AGI', right_on='promoter_AGI').copy()\n",
    "    #remove NaN values\n",
    "    merged = merged[merged.TF_name.notnull()]\n",
    "    #create df ready for the csv\n",
    "    df = merged[['TF_AGI','TG_AGI']].copy()\n",
    "    #add interaction_type column\n",
    "    df['interaction_type'] = 'PD'\n",
    "    #rearrange columns\n",
    "    df = df[['TF_AGI','interaction_type','TG_AGI']].copy()\n",
    "    #sort by TF_AGI then TG_AGI\n",
    "    df.sort_values(['TF_AGI','TG_AGI'], inplace=True, ignore_index=True)\n",
    "    #write df to csv\n",
    "    df.to_csv(output_csv,header=1,index=None)\n",
    "    #filter columns\n",
    "    merged = merged[['chr','start','stop','name_rep','score','strand','promoter_AGI','p-value','q-value','matched_sequence','TF_name','TF_family','TF_AGI']]\n",
    "    #sort by chr then start\n",
    "    merged.sort_values(['chr','start'], inplace=True, ignore_index=True)\n",
    "    #make columns integars or floats\n",
    "    merged = merged.astype({'chr': 'int','start':'int','stop':'int','q-value':'float32','p-value':'float32', 'score':'float32'})\n",
    "    #write out bed file\n",
    "    BedTool.from_dataframe(merged).saveas(output_mappedmotifs)"
   ]
  },
  {
   "cell_type": "code",
   "execution_count": 5,
   "metadata": {},
   "outputs": [],
   "source": [
    "#filter mapped motifs and output the two files\n",
    "filter_mapped_motifs(mapped_motifs_q0_05,promoter_AGI,output_mappedmotifs_q0_05,output_csv_q0_05)\n",
    "#filter_mapped_motifs(mapped_motifs_q1,promoter_AGI,TF_AGI,output_mappedmotifs_q1,output_csv_q1)"
   ]
  },
  {
   "cell_type": "code",
   "execution_count": null,
   "metadata": {},
   "outputs": [],
   "source": []
  },
  {
   "cell_type": "code",
   "execution_count": null,
   "metadata": {},
   "outputs": [],
   "source": []
  }
 ],
 "metadata": {
  "kernelspec": {
   "display_name": "Python 3.9.13 ('gene_feature_plot')",
   "language": "python",
   "name": "python3"
  },
  "language_info": {
   "codemirror_mode": {
    "name": "ipython",
    "version": 3
   },
   "file_extension": ".py",
   "mimetype": "text/x-python",
   "name": "python",
   "nbconvert_exporter": "python",
   "pygments_lexer": "ipython3",
   "version": "3.9.13"
  },
  "vscode": {
   "interpreter": {
    "hash": "2edcec37c9f2626182329974fec9906c797ef12ccf33c4b458ba0845e5da6c77"
   }
  }
 },
 "nbformat": 4,
 "nbformat_minor": 4
}
