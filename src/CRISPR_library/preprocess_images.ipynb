{
 "cells": [
  {
   "cell_type": "code",
   "execution_count": 13,
   "metadata": {},
   "outputs": [],
   "source": [
    "# use conda env image_processing\n",
    "# import the Python Image\n",
    "# processing Library\n",
    "from PIL import Image\n",
    "import PIL.ImageOps as ImageOps\n",
    "import rawpy\n",
    "import imageio\n"
   ]
  },
  {
   "cell_type": "code",
   "execution_count": 14,
   "metadata": {},
   "outputs": [],
   "source": [
    "# #function to rotate images 180 degrees\n",
    "# def rotate_image(image):\n",
    "#     return image.rotate(180, expand=True)\n",
    "    "
   ]
  },
  {
   "cell_type": "code",
   "execution_count": 15,
   "metadata": {},
   "outputs": [],
   "source": [
    "#main function\n",
    "def main():\n",
    "    date = '15.08.22'\n",
    "    #image folder location\n",
    "    image_folder = f'../../data/CRISPR_library/images/square_plate_phenotype/{date}'\n",
    "    #loop over all .RW2 image files in folder\n",
    "    for file in os.listdir(image_folder):\n",
    "        if file.endswith('.RW2'):\n",
    "            #read image in greyscale using rawpy, in PIL mode            \n",
    "            with rawpy.imread(os.path.join(image_folder, file)) as raw:\n",
    "                rgb = raw.postprocess(use_camera_wb=True)\n",
    "            #open rgb with PIL\n",
    "            im = Image.fromarray(rgb)\n",
    "            #rotate image 180 degrees, keeping high quality image\n",
    "            im = im.rotate(180,resample=Image.Resampling.LANCZOS, expand=True)\n",
    "            #flip image horizontally so I can read the sample name\n",
    "            im_flipped = ImageOps.mirror(im)\n",
    "            #save image\n",
    "            im_flipped.save(os.path.join(image_folder, file.replace('.RW2', '_flipped.jpg')), 'jpeg', quality=50, optimize=True)\n",
    "            #convert to greyscale\n",
    "            im = im.convert('L')\n",
    "            \n",
    "            #invert image\n",
    "            inverted = ImageOps.invert(im)\n",
    "        \n",
    "            #save grayscale_image as png\n",
    "            inverted.save(os.path.join(image_folder, file.replace('.RW2', '_processed.png')), 'png', quality=100)\n"
   ]
  },
  {
   "cell_type": "code",
   "execution_count": 16,
   "metadata": {},
   "outputs": [],
   "source": [
    "if __name__ == '__main__':\n",
    "    main()"
   ]
  }
 ],
 "metadata": {
  "kernelspec": {
   "display_name": "Python 3.10.4 ('image_processing')",
   "language": "python",
   "name": "python3"
  },
  "language_info": {
   "codemirror_mode": {
    "name": "ipython",
    "version": 3
   },
   "file_extension": ".py",
   "mimetype": "text/x-python",
   "name": "python",
   "nbconvert_exporter": "python",
   "pygments_lexer": "ipython3",
   "version": "3.8.13"
  },
  "orig_nbformat": 4,
  "vscode": {
   "interpreter": {
    "hash": "5609834ef1d7e8179bb1c49010b5dc5dc84300b21875bbdbf78e2fe64e070039"
   }
  }
 },
 "nbformat": 4,
 "nbformat_minor": 2
}
