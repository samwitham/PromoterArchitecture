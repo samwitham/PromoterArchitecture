{
 "cells": [
  {
   "cell_type": "code",
   "execution_count": 172,
   "metadata": {},
   "outputs": [],
   "source": [
    "import pandas as pd\n",
    "import numpy as np\n",
    "import matplotlib.pyplot as plt"
   ]
  },
  {
   "cell_type": "code",
   "execution_count": 173,
   "metadata": {},
   "outputs": [],
   "source": [
    "#function to read in csv file as pandas df\n",
    "def read_csv(file_name):\n",
    "    df = pd.read_csv(file_name)\n",
    "    #keep the Well, Sample, Target, Cq and Amp Status columns\n",
    "    df = df[['Well', 'Sample', 'Target', 'Cq', 'Amp Status']]\n",
    "    \n",
    "    return df"
   ]
  },
  {
   "cell_type": "code",
   "execution_count": 174,
   "metadata": {},
   "outputs": [],
   "source": [
    "#function to filter out certain data points\n",
    "def filter_data(df, amp_status, cq):\n",
    "    #filter out the data points with amp_status = Amp using .loc\n",
    "    df = df.loc[df['Amp Status'] == amp_status]\n",
    "    #make Cq column numerical\n",
    "    dfcopy = df.copy()\n",
    "    dfcopy['Cq'] = pd.to_numeric(dfcopy['Cq'])  \n",
    "    #filter out the data points with cq < cq_threshold using .loc\n",
    "    dfcopy = dfcopy.loc[dfcopy['Cq'] <= cq]\n",
    "\n",
    "    return dfcopy"
   ]
  },
  {
   "cell_type": "code",
   "execution_count": 180,
   "metadata": {},
   "outputs": [],
   "source": [
    "#function to make new columns and sort the data\n",
    "def sort_data(df):\n",
    "    #make new column called EF1a_Cq, make the value in this column for a particular sample equal to the Cq value for the EF1a Target for that sample\n",
    "\n",
    "\n",
    "\n",
    "    #make a df containing only EF1a target (housekeeping gene)\n",
    "    df_EF1a = df.loc[df['Target'] == 'EF1a']\n",
    "    #make df EF1a_Cq Column that is equal to the Cq value for the EF1a target for each sample\n",
    "    df_EF1a.loc[:,'EF1a_Cq'] = df_EF1a['Cq']\n",
    "    #df_EF1a['EF1a_Cq'] = df_EF1a['Cq']\n",
    "    #remove Cq column from df_EF1a\n",
    "    df_EF1a = df_EF1a.drop(['Cq'], axis=1)\n",
    "    #make empty EF1a_Cq column in df\n",
    "    df['EF1a_Cq'] = np.nan\n",
    "    #merge the two dfs together\n",
    "    df = pd.merge(df, df_EF1a, on=['Sample'])\n",
    "    print(df)\n",
    "\n",
    "\n",
    "\n",
    "    #df.loc[df, 'EF1a_Cq'] = df_EF1a['Cq']\n",
    "\n",
    "\n",
    "\n",
    "    \n",
    "    #if Sample column ends with NRT, add NRT_Cq column\n",
    "    df['NRT_Cq'] = False\n",
    "    df.loc[df['Sample'].str.endswith('NRT'), 'NRT'] = True\n",
    "    #remove NRT string from Sample columns ending with NRT\n",
    "    df['Sample'] = df['Sample'].str.replace('NRT', '')\n",
    "    \n",
    "    #if Sample column ends with H, add condition column with 10mM_nitrate\n",
    "    df['condition'] = np.nan\n",
    "    df.loc[df['Sample'].str.endswith('H'), 'condition'] = '10mM_nitrate'\n",
    "    #remove H string from Sample columns ending with H\n",
    "    df['Sample'] = df['Sample'].str.replace('H', '')\n",
    "\n",
    "    #if Sample column ends with L, add condition column with 1mM_nitrate\n",
    "    df.loc[df['Sample'].str.endswith('L'), 'condition'] = '1mM_nitrate'\n",
    "    #remove L string from Sample columns ending with L\n",
    "    df['Sample'] = df['Sample'].str.replace('L', '')\n",
    "    #remove A, B or C string from Sample columns ending with A, B or C\n",
    "    df['Sample'] = df['Sample'].str.replace('A', '')\n",
    "    df['Sample'] = df['Sample'].str.replace('B', '')\n",
    "    df['Sample'] = df['Sample'].str.replace('C', '')\n",
    "    #remove whitespace from Sample columns\n",
    "    df['Sample'] = df['Sample'].str.strip()\n",
    "    \n",
    "    return df\n"
   ]
  },
  {
   "cell_type": "code",
   "execution_count": 181,
   "metadata": {},
   "outputs": [],
   "source": [
    "#function to normalise the data to the EF1a housekeeping gene Target Cq value for each sample\n",
    "def normalise_data(df, target):\n",
    "    #make a copy of the dataframe\n",
    "    dfcopy = df.copy()\n",
    "    #calculate Endogenous Control Mean for each sample\n",
    "    #make a filter for the target gene\n",
    "    housekeeping = dfcopy.loc[dfcopy['Target'] == target]\n",
    "    #make copy of housekeeping\n",
    "    housekeeping_copy = housekeeping.copy()\n",
    "\n",
    "    housekeeping['EC Mean'] = housekeeping_copy.groupby(['Target','Sample','condition'])['Cq'].transform('mean')\n",
    "    #print(housekeeping)\n",
    "    \n",
    "    #not housekeeping df\n",
    "    not_housekeeping = dfcopy.loc[dfcopy['Target'] != target]\n",
    "    # #add EC mean for each sample to the dataframe\n",
    "    # not_housekeeping.groupby(['Sample'])['EC Mean'] = housekeeping.groupby(['Sample'])['EC Mean']\n",
    "\n",
    "\n",
    "\n",
    "\n",
    "    #normalise the data to the EC Mean grouped by Target and sample\n",
    "\n",
    "    # dfcopy['Normalised_Cq']\n",
    "\n",
    "    # dfcopy['Normalised_Cq'] = dfcopy['Cq'] / housekeeping['EC Mean']\n",
    "    \n",
    "\n",
    "\n",
    "\n",
    "\n",
    "\n",
    "    # #for each Sample name, get the mean Cq for the EF1a target\n",
    "    # dfcopy['Cq'] = dfcopy.groupby('Sample','EF1a')['Cq'].transform('mean')\n",
    "    # #filter out the data points with target != target_threshold using .loc\n",
    "    # dfcopy = dfcopy.loc[dfcopy['Target'] == target]\n",
    "    # #make the Cq column numerical\n",
    "    # dfcopy['Cq'] = pd.to_numeric(dfcopy['Cq'])\n",
    "    # #make a new column called Normalised Cq\n",
    "    # dfcopy['Normalised Cq'] = dfcopy['Cq']/dfcopy['Target']\n",
    "    \n",
    "    return not_housekeeping"
   ]
  },
  {
   "cell_type": "code",
   "execution_count": 182,
   "metadata": {},
   "outputs": [],
   "source": [
    "# #function to normalise the data to the EF1a housekeeping gene Target Cq value\n",
    "# def normalise_data(df, target):\n",
    "#     #make a copy of the dataframe\n",
    "#     dfcopy = df.copy()\n",
    "#     #make Cq column numerical\n",
    "#     dfcopy['Cq'] = pd.to_numeric(dfcopy['Cq'])\n",
    "#     #filter out the data points with target = target using .loc\n",
    "#     dfcopy = dfcopy.loc[dfcopy['Target'] == target]\n",
    "#     #get the mean of the Cq values for the filtered data points\n",
    "#     mean = dfcopy['Cq'].mean()\n",
    "#     #divide the Cq values by the mean\n",
    "#     dfcopy['Cq'] = dfcopy['Cq'] / mean\n",
    "#     #return the dataframe\n",
    "#     return dfcopy\n"
   ]
  },
  {
   "cell_type": "code",
   "execution_count": 183,
   "metadata": {},
   "outputs": [],
   "source": [
    "# if __name__ == \"__main__\" function\n",
    "def main():\n",
    "    csv_file = '../../data/CRISPR_library/qPCR/10.8.22_platelayout_19310threshold.csv'\n",
    "    #read in file\n",
    "    df = read_csv(csv_file)\n",
    "    #filter out the data points with amp_status = Amp and cq above 32\n",
    "    df = filter_data(df, 'Amp', 32)\n",
    "    #sort the data\n",
    "    df = sort_data(df)\n",
    "    #print(df)\n",
    "    #print(df)\n",
    "    #print(df[df.NRT==True])\n",
    "    # normalised_housekeeping = normalise_data(df, 'EF1a')\n",
    "    # print(normalised_housekeeping)\n",
    "    normalised_housekeeping = normalise_data(df, 'EF1a')\n",
    "\n",
    "\n"
   ]
  },
  {
   "cell_type": "code",
   "execution_count": 184,
   "metadata": {},
   "outputs": [
    {
     "name": "stdout",
     "output_type": "stream",
     "text": [
      "    Well_x   Sample Target_x         Cq Amp Status_x  EF1a_Cq_x Well_y  \\\n",
      "0       A1  125-4AH     NLP7  27.376372          Amp        NaN     B1   \n",
      "1       A1  125-4AH     NLP7  27.376372          Amp        NaN     B2   \n",
      "2       A1  125-4AH     NLP7  27.376372          Amp        NaN     B3   \n",
      "3       A2  125-4AH     NLP7  26.662845          Amp        NaN     B1   \n",
      "4       A2  125-4AH     NLP7  26.662845          Amp        NaN     B2   \n",
      "..     ...      ...      ...        ...          ...        ...    ...   \n",
      "847    P14  142-8CL     EF1a  23.558375          Amp        NaN    P14   \n",
      "848    P14  142-8CL     EF1a  23.558375          Amp        NaN    P15   \n",
      "849    P15  142-8CL     EF1a  23.855986          Amp        NaN    P13   \n",
      "850    P15  142-8CL     EF1a  23.855986          Amp        NaN    P14   \n",
      "851    P15  142-8CL     EF1a  23.855986          Amp        NaN    P15   \n",
      "\n",
      "    Target_y Amp Status_y  EF1a_Cq_y  \n",
      "0       EF1a          Amp  22.163446  \n",
      "1       EF1a          Amp  21.993020  \n",
      "2       EF1a          Amp  21.789213  \n",
      "3       EF1a          Amp  22.163446  \n",
      "4       EF1a          Amp  21.993020  \n",
      "..       ...          ...        ...  \n",
      "847     EF1a          Amp  23.558375  \n",
      "848     EF1a          Amp  23.855986  \n",
      "849     EF1a          Amp  23.545691  \n",
      "850     EF1a          Amp  23.558375  \n",
      "851     EF1a          Amp  23.855986  \n",
      "\n",
      "[852 rows x 10 columns]\n"
     ]
    },
    {
     "name": "stderr",
     "output_type": "stream",
     "text": [
      "/tmp/ipykernel_57639/3431524593.py:10: SettingWithCopyWarning: \n",
      "A value is trying to be set on a copy of a slice from a DataFrame.\n",
      "Try using .loc[row_indexer,col_indexer] = value instead\n",
      "\n",
      "See the caveats in the documentation: https://pandas.pydata.org/pandas-docs/stable/user_guide/indexing.html#returning-a-view-versus-a-copy\n",
      "  df_EF1a.loc[:,'EF1a_Cq'] = df_EF1a['Cq']\n"
     ]
    },
    {
     "ename": "KeyError",
     "evalue": "'Target'",
     "output_type": "error",
     "traceback": [
      "\u001b[0;31m---------------------------------------------------------------------------\u001b[0m",
      "\u001b[0;31mKeyError\u001b[0m                                  Traceback (most recent call last)",
      "File \u001b[0;32m~/opt/anaconda3/envs/qpcr/lib/python3.10/site-packages/pandas/core/indexes/base.py:3621\u001b[0m, in \u001b[0;36mIndex.get_loc\u001b[0;34m(self, key, method, tolerance)\u001b[0m\n\u001b[1;32m   3620\u001b[0m \u001b[39mtry\u001b[39;00m:\n\u001b[0;32m-> 3621\u001b[0m     \u001b[39mreturn\u001b[39;00m \u001b[39mself\u001b[39;49m\u001b[39m.\u001b[39;49m_engine\u001b[39m.\u001b[39;49mget_loc(casted_key)\n\u001b[1;32m   3622\u001b[0m \u001b[39mexcept\u001b[39;00m \u001b[39mKeyError\u001b[39;00m \u001b[39mas\u001b[39;00m err:\n",
      "File \u001b[0;32m~/opt/anaconda3/envs/qpcr/lib/python3.10/site-packages/pandas/_libs/index.pyx:136\u001b[0m, in \u001b[0;36mpandas._libs.index.IndexEngine.get_loc\u001b[0;34m()\u001b[0m\n",
      "File \u001b[0;32m~/opt/anaconda3/envs/qpcr/lib/python3.10/site-packages/pandas/_libs/index.pyx:163\u001b[0m, in \u001b[0;36mpandas._libs.index.IndexEngine.get_loc\u001b[0;34m()\u001b[0m\n",
      "File \u001b[0;32mpandas/_libs/hashtable_class_helper.pxi:5198\u001b[0m, in \u001b[0;36mpandas._libs.hashtable.PyObjectHashTable.get_item\u001b[0;34m()\u001b[0m\n",
      "File \u001b[0;32mpandas/_libs/hashtable_class_helper.pxi:5206\u001b[0m, in \u001b[0;36mpandas._libs.hashtable.PyObjectHashTable.get_item\u001b[0;34m()\u001b[0m\n",
      "\u001b[0;31mKeyError\u001b[0m: 'Target'",
      "\nThe above exception was the direct cause of the following exception:\n",
      "\u001b[0;31mKeyError\u001b[0m                                  Traceback (most recent call last)",
      "\u001b[1;32m/home/witham/Documents/pipeline_new/PromoterArchitecture/src/CRISPR_library/qPCR_10.08.22.ipynb Cell 8\u001b[0m in \u001b[0;36m<cell line: 1>\u001b[0;34m()\u001b[0m\n\u001b[1;32m      <a href='vscode-notebook-cell:/home/witham/Documents/pipeline_new/PromoterArchitecture/src/CRISPR_library/qPCR_10.08.22.ipynb#W4sZmlsZQ%3D%3D?line=0'>1</a>\u001b[0m \u001b[39mif\u001b[39;00m \u001b[39m__name__\u001b[39m \u001b[39m==\u001b[39m \u001b[39m\"\u001b[39m\u001b[39m__main__\u001b[39m\u001b[39m\"\u001b[39m:\n\u001b[0;32m----> <a href='vscode-notebook-cell:/home/witham/Documents/pipeline_new/PromoterArchitecture/src/CRISPR_library/qPCR_10.08.22.ipynb#W4sZmlsZQ%3D%3D?line=1'>2</a>\u001b[0m     main()\n",
      "\u001b[1;32m/home/witham/Documents/pipeline_new/PromoterArchitecture/src/CRISPR_library/qPCR_10.08.22.ipynb Cell 8\u001b[0m in \u001b[0;36mmain\u001b[0;34m()\u001b[0m\n\u001b[1;32m      <a href='vscode-notebook-cell:/home/witham/Documents/pipeline_new/PromoterArchitecture/src/CRISPR_library/qPCR_10.08.22.ipynb#W4sZmlsZQ%3D%3D?line=8'>9</a>\u001b[0m df \u001b[39m=\u001b[39m sort_data(df)\n\u001b[1;32m     <a href='vscode-notebook-cell:/home/witham/Documents/pipeline_new/PromoterArchitecture/src/CRISPR_library/qPCR_10.08.22.ipynb#W4sZmlsZQ%3D%3D?line=9'>10</a>\u001b[0m \u001b[39m#print(df)\u001b[39;00m\n\u001b[1;32m     <a href='vscode-notebook-cell:/home/witham/Documents/pipeline_new/PromoterArchitecture/src/CRISPR_library/qPCR_10.08.22.ipynb#W4sZmlsZQ%3D%3D?line=10'>11</a>\u001b[0m \u001b[39m#print(df)\u001b[39;00m\n\u001b[1;32m     <a href='vscode-notebook-cell:/home/witham/Documents/pipeline_new/PromoterArchitecture/src/CRISPR_library/qPCR_10.08.22.ipynb#W4sZmlsZQ%3D%3D?line=11'>12</a>\u001b[0m \u001b[39m#print(df[df.NRT==True])\u001b[39;00m\n\u001b[1;32m     <a href='vscode-notebook-cell:/home/witham/Documents/pipeline_new/PromoterArchitecture/src/CRISPR_library/qPCR_10.08.22.ipynb#W4sZmlsZQ%3D%3D?line=12'>13</a>\u001b[0m \u001b[39m# normalised_housekeeping = normalise_data(df, 'EF1a')\u001b[39;00m\n\u001b[1;32m     <a href='vscode-notebook-cell:/home/witham/Documents/pipeline_new/PromoterArchitecture/src/CRISPR_library/qPCR_10.08.22.ipynb#W4sZmlsZQ%3D%3D?line=13'>14</a>\u001b[0m \u001b[39m# print(normalised_housekeeping)\u001b[39;00m\n\u001b[0;32m---> <a href='vscode-notebook-cell:/home/witham/Documents/pipeline_new/PromoterArchitecture/src/CRISPR_library/qPCR_10.08.22.ipynb#W4sZmlsZQ%3D%3D?line=14'>15</a>\u001b[0m normalised_housekeeping \u001b[39m=\u001b[39m normalise_data(df, \u001b[39m'\u001b[39;49m\u001b[39mEF1a\u001b[39;49m\u001b[39m'\u001b[39;49m)\n",
      "\u001b[1;32m/home/witham/Documents/pipeline_new/PromoterArchitecture/src/CRISPR_library/qPCR_10.08.22.ipynb Cell 8\u001b[0m in \u001b[0;36mnormalise_data\u001b[0;34m(df, target)\u001b[0m\n\u001b[1;32m      <a href='vscode-notebook-cell:/home/witham/Documents/pipeline_new/PromoterArchitecture/src/CRISPR_library/qPCR_10.08.22.ipynb#W4sZmlsZQ%3D%3D?line=3'>4</a>\u001b[0m dfcopy \u001b[39m=\u001b[39m df\u001b[39m.\u001b[39mcopy()\n\u001b[1;32m      <a href='vscode-notebook-cell:/home/witham/Documents/pipeline_new/PromoterArchitecture/src/CRISPR_library/qPCR_10.08.22.ipynb#W4sZmlsZQ%3D%3D?line=4'>5</a>\u001b[0m \u001b[39m#calculate Endogenous Control Mean for each sample\u001b[39;00m\n\u001b[1;32m      <a href='vscode-notebook-cell:/home/witham/Documents/pipeline_new/PromoterArchitecture/src/CRISPR_library/qPCR_10.08.22.ipynb#W4sZmlsZQ%3D%3D?line=5'>6</a>\u001b[0m \u001b[39m#make a filter for the target gene\u001b[39;00m\n\u001b[0;32m----> <a href='vscode-notebook-cell:/home/witham/Documents/pipeline_new/PromoterArchitecture/src/CRISPR_library/qPCR_10.08.22.ipynb#W4sZmlsZQ%3D%3D?line=6'>7</a>\u001b[0m housekeeping \u001b[39m=\u001b[39m dfcopy\u001b[39m.\u001b[39mloc[dfcopy[\u001b[39m'\u001b[39;49m\u001b[39mTarget\u001b[39;49m\u001b[39m'\u001b[39;49m] \u001b[39m==\u001b[39m target]\n\u001b[1;32m      <a href='vscode-notebook-cell:/home/witham/Documents/pipeline_new/PromoterArchitecture/src/CRISPR_library/qPCR_10.08.22.ipynb#W4sZmlsZQ%3D%3D?line=7'>8</a>\u001b[0m \u001b[39m#make copy of housekeeping\u001b[39;00m\n\u001b[1;32m      <a href='vscode-notebook-cell:/home/witham/Documents/pipeline_new/PromoterArchitecture/src/CRISPR_library/qPCR_10.08.22.ipynb#W4sZmlsZQ%3D%3D?line=8'>9</a>\u001b[0m housekeeping_copy \u001b[39m=\u001b[39m housekeeping\u001b[39m.\u001b[39mcopy()\n",
      "File \u001b[0;32m~/opt/anaconda3/envs/qpcr/lib/python3.10/site-packages/pandas/core/frame.py:3505\u001b[0m, in \u001b[0;36mDataFrame.__getitem__\u001b[0;34m(self, key)\u001b[0m\n\u001b[1;32m   3503\u001b[0m \u001b[39mif\u001b[39;00m \u001b[39mself\u001b[39m\u001b[39m.\u001b[39mcolumns\u001b[39m.\u001b[39mnlevels \u001b[39m>\u001b[39m \u001b[39m1\u001b[39m:\n\u001b[1;32m   3504\u001b[0m     \u001b[39mreturn\u001b[39;00m \u001b[39mself\u001b[39m\u001b[39m.\u001b[39m_getitem_multilevel(key)\n\u001b[0;32m-> 3505\u001b[0m indexer \u001b[39m=\u001b[39m \u001b[39mself\u001b[39;49m\u001b[39m.\u001b[39;49mcolumns\u001b[39m.\u001b[39;49mget_loc(key)\n\u001b[1;32m   3506\u001b[0m \u001b[39mif\u001b[39;00m is_integer(indexer):\n\u001b[1;32m   3507\u001b[0m     indexer \u001b[39m=\u001b[39m [indexer]\n",
      "File \u001b[0;32m~/opt/anaconda3/envs/qpcr/lib/python3.10/site-packages/pandas/core/indexes/base.py:3623\u001b[0m, in \u001b[0;36mIndex.get_loc\u001b[0;34m(self, key, method, tolerance)\u001b[0m\n\u001b[1;32m   3621\u001b[0m     \u001b[39mreturn\u001b[39;00m \u001b[39mself\u001b[39m\u001b[39m.\u001b[39m_engine\u001b[39m.\u001b[39mget_loc(casted_key)\n\u001b[1;32m   3622\u001b[0m \u001b[39mexcept\u001b[39;00m \u001b[39mKeyError\u001b[39;00m \u001b[39mas\u001b[39;00m err:\n\u001b[0;32m-> 3623\u001b[0m     \u001b[39mraise\u001b[39;00m \u001b[39mKeyError\u001b[39;00m(key) \u001b[39mfrom\u001b[39;00m \u001b[39merr\u001b[39;00m\n\u001b[1;32m   3624\u001b[0m \u001b[39mexcept\u001b[39;00m \u001b[39mTypeError\u001b[39;00m:\n\u001b[1;32m   3625\u001b[0m     \u001b[39m# If we have a listlike key, _check_indexing_error will raise\u001b[39;00m\n\u001b[1;32m   3626\u001b[0m     \u001b[39m#  InvalidIndexError. Otherwise we fall through and re-raise\u001b[39;00m\n\u001b[1;32m   3627\u001b[0m     \u001b[39m#  the TypeError.\u001b[39;00m\n\u001b[1;32m   3628\u001b[0m     \u001b[39mself\u001b[39m\u001b[39m.\u001b[39m_check_indexing_error(key)\n",
      "\u001b[0;31mKeyError\u001b[0m: 'Target'"
     ]
    }
   ],
   "source": [
    "if __name__ == \"__main__\":\n",
    "    main()"
   ]
  },
  {
   "cell_type": "code",
   "execution_count": null,
   "metadata": {},
   "outputs": [],
   "source": []
  },
  {
   "cell_type": "code",
   "execution_count": null,
   "metadata": {},
   "outputs": [],
   "source": []
  }
 ],
 "metadata": {
  "kernelspec": {
   "display_name": "Python 3.10.5 ('qpcr')",
   "language": "python",
   "name": "python3"
  },
  "language_info": {
   "codemirror_mode": {
    "name": "ipython",
    "version": 3
   },
   "file_extension": ".py",
   "mimetype": "text/x-python",
   "name": "python",
   "nbconvert_exporter": "python",
   "pygments_lexer": "ipython3",
   "version": "3.10.5"
  },
  "orig_nbformat": 4,
  "vscode": {
   "interpreter": {
    "hash": "8c2acf9d6025fe51d3e4a4cb09a2ff19b54eaae2da571c8e6469319b5fd828be"
   }
  }
 },
 "nbformat": 4,
 "nbformat_minor": 2
}
