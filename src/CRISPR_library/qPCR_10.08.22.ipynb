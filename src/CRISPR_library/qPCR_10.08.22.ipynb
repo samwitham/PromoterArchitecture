{
 "cells": [
  {
   "cell_type": "code",
   "execution_count": 99,
   "metadata": {},
   "outputs": [],
   "source": [
    "import pandas as pd\n",
    "import numpy as np\n",
    "import matplotlib.pyplot as plt"
   ]
  },
  {
   "cell_type": "code",
   "execution_count": 100,
   "metadata": {},
   "outputs": [],
   "source": [
    "#function to read in csv file as pandas df\n",
    "def read_csv(file_name):\n",
    "    df = pd.read_csv(file_name)\n",
    "    #keep the Well, Sample, Target, Cq and Amp Status columns\n",
    "    df = df[['Well', 'Sample', 'Target', 'Cq', 'Amp Status']]\n",
    "    \n",
    "    return df"
   ]
  },
  {
   "cell_type": "code",
   "execution_count": 101,
   "metadata": {},
   "outputs": [],
   "source": [
    "#function to filter out certain data points\n",
    "def filter_data(df, amp_status, cq):\n",
    "    #filter out the data points with amp_status = Amp using .loc\n",
    "    df = df.loc[df['Amp Status'] == amp_status]\n",
    "    #make Cq column numerical\n",
    "    dfcopy = df.copy()\n",
    "    dfcopy['Cq'] = pd.to_numeric(dfcopy['Cq'])  \n",
    "    #filter out the data points with cq < cq_threshold using .loc\n",
    "    dfcopy = dfcopy.loc[dfcopy['Cq'] <= cq]\n",
    "\n",
    "    return dfcopy"
   ]
  },
  {
   "cell_type": "code",
   "execution_count": 102,
   "metadata": {},
   "outputs": [],
   "source": [
    "#function to make new columns and sort the data\n",
    "def sort_data(df):\n",
    "    #make new column called EF1a_Cq, make the value in this column for a particular sample equal to the Cq value for the EF1a Target for that sample\n",
    "    #make a df containing only EF1a target (housekeeping gene)\n",
    "    df_EF1a = df.loc[df['Target'] == 'EF1a'].copy()\n",
    "    #get the mean for each sample\n",
    "    df_EF1a['EC Mean'] = df_EF1a.groupby(['Sample'])['Cq'].transform('mean')\n",
    "    #print(df_EF1a)\n",
    "    #make df EF1a_Cq Column that is equal to the Cq value for the EF1a target for each sample\n",
    "    #df_EF1a.loc[:,'EF1a_Cq'] = df_EF1a['Cq']\n",
    "    #df_EF1a['EF1a_Cq'] = df_EF1a['Cq']\n",
    "    #remove Cq column from df_EF1a\n",
    "    #df_EF1a = df_EF1a.drop(['Cq'], axis=1)\n",
    "    #filter other df_EF1a columns\n",
    "    df_EF1a = df_EF1a[['Sample','EC Mean']]\n",
    "    #remove duplicates from df_EF1a\n",
    "    \n",
    "\n",
    "    #merge the two dfs together\n",
    "    df = pd.merge(df, df_EF1a, on=['Sample'], how='left')\n",
    "\n",
    "    #df.loc[df, 'EF1a_Cq'] = df_EF1a['Cq']\n",
    "\n",
    "\n",
    "\n",
    "    \n",
    "    #if Sample column ends with NRT, add NRT_Cq column\n",
    "    df['NRT_Cq'] = False\n",
    "    df.loc[df['Sample'].str.endswith('NRT'), 'NRT'] = True\n",
    "    #remove NRT string from Sample columns ending with NRT\n",
    "    df['Sample'] = df['Sample'].str.replace('NRT', '')\n",
    "    \n",
    "    #if Sample column ends with H, add condition column with 10mM_nitrate\n",
    "    df['condition'] = np.nan\n",
    "    df.loc[df['Sample'].str.endswith('H'), 'condition'] = '10mM_nitrate'\n",
    "    #remove H string from Sample columns ending with H\n",
    "    df['Sample'] = df['Sample'].str.replace('H', '')\n",
    "\n",
    "    #if Sample column ends with L, add condition column with 1mM_nitrate\n",
    "    df.loc[df['Sample'].str.endswith('L'), 'condition'] = '1mM_nitrate'\n",
    "    #remove L string from Sample columns ending with L\n",
    "    df['Sample'] = df['Sample'].str.replace('L', '')\n",
    "    #remove A, B or C string from Sample columns ending with A, B or C\n",
    "    df['Sample'] = df['Sample'].str.replace('A', '')\n",
    "    df['Sample'] = df['Sample'].str.replace('B', '')\n",
    "    df['Sample'] = df['Sample'].str.replace('C', '')\n",
    "    #remove whitespace from Sample columns\n",
    "    df['Sample'] = df['Sample'].str.strip()\n",
    "    \n",
    "    return df\n"
   ]
  },
  {
   "cell_type": "code",
   "execution_count": 103,
   "metadata": {},
   "outputs": [],
   "source": [
    "#function to normalise the data to the EF1a housekeeping gene Target Cq value for each sample\n",
    "def normalise_data(df, target):\n",
    "    #make a copy of the dataframe\n",
    "    dfcopy = df.copy()\n",
    "    #calculate Endogenous Control Mean for each sample\n",
    "    #make a filter for the target gene\n",
    "    # housekeeping = dfcopy.loc[dfcopy['Target'] == target]\n",
    "    # #make copy of housekeeping\n",
    "    # housekeeping_copy = housekeeping.copy()\n",
    "\n",
    "    # housekeeping['EC Mean'] = housekeeping_copy.groupby(['Target','Sample','condition'])['Cq'].transform('mean')\n",
    "    # #print(housekeeping)\n",
    "    \n",
    "    # #not housekeeping df\n",
    "    # not_housekeeping = dfcopy.loc[dfcopy['Target'] != target]\n",
    "    # #add EC mean for each sample to the dataframe\n",
    "    # not_housekeeping.groupby(['Sample'])['EC Mean'] = housekeeping.groupby(['Sample'])['EC Mean']\n",
    "\n",
    "\n",
    "\n",
    "\n",
    "    #normalise the data to the EC Mean grouped by Target and sample\n",
    "\n",
    "    # dfcopy['Normalised_Cq']\n",
    "\n",
    "    # dfcopy['Normalised_Cq'] = dfcopy['Cq'] / housekeeping['EC Mean']\n",
    "    \n",
    "\n",
    "\n",
    "\n",
    "\n",
    "\n",
    "    # #for each Sample name, get the mean Cq for the EF1a target\n",
    "    # dfcopy['Cq'] = dfcopy.groupby('Sample','EF1a')['Cq'].transform('mean')\n",
    "    # #filter out the data points with target != target_threshold using .loc\n",
    "    # dfcopy = dfcopy.loc[dfcopy['Target'] == target]\n",
    "    # #make the Cq column numerical\n",
    "    # dfcopy['Cq'] = pd.to_numeric(dfcopy['Cq'])\n",
    "    # #make a new column called Normalised Cq\n",
    "    # dfcopy['Normalised Cq'] = dfcopy['Cq']/dfcopy['Target']\n",
    "    \n",
    "    return dfcopy"
   ]
  },
  {
   "cell_type": "code",
   "execution_count": 104,
   "metadata": {},
   "outputs": [],
   "source": [
    "# #function to normalise the data to the EF1a housekeeping gene Target Cq value\n",
    "# def normalise_data(df, target):\n",
    "#     #make a copy of the dataframe\n",
    "#     dfcopy = df.copy()\n",
    "#     #make Cq column numerical\n",
    "#     dfcopy['Cq'] = pd.to_numeric(dfcopy['Cq'])\n",
    "#     #filter out the data points with target = target using .loc\n",
    "#     dfcopy = dfcopy.loc[dfcopy['Target'] == target]\n",
    "#     #get the mean of the Cq values for the filtered data points\n",
    "#     mean = dfcopy['Cq'].mean()\n",
    "#     #divide the Cq values by the mean\n",
    "#     dfcopy['Cq'] = dfcopy['Cq'] / mean\n",
    "#     #return the dataframe\n",
    "#     return dfcopy\n"
   ]
  },
  {
   "cell_type": "code",
   "execution_count": 105,
   "metadata": {},
   "outputs": [],
   "source": [
    "# if __name__ == \"__main__\" function\n",
    "def main():\n",
    "    csv_file = '../../data/CRISPR_library/qPCR/10.8.22_platelayout_19310threshold.csv'\n",
    "    #read in file\n",
    "    df = read_csv(csv_file)\n",
    "    #filter out the data points with amp_status = Amp and cq above 32\n",
    "    df = filter_data(df, 'Amp', 32)\n",
    "    #sort the data\n",
    "    df = sort_data(df)\n",
    "    #print(df)\n",
    "    #print(df)\n",
    "    #print(df[df.NRT==True])\n",
    "    # normalised_housekeeping = normalise_data(df, 'EF1a')\n",
    "    # print(normalised_housekeeping)\n",
    "    normalised_housekeeping = normalise_data(df, 'EF1a')\n",
    "\n",
    "\n"
   ]
  },
  {
   "cell_type": "code",
   "execution_count": 106,
   "metadata": {},
   "outputs": [
    {
     "name": "stdout",
     "output_type": "stream",
     "text": [
      "    Well   Sample Target         Cq Amp Status    EC Mean\n",
      "24    B1  125-4AH   EF1a  22.163446        Amp  21.981893\n",
      "25    B2  125-4AH   EF1a  21.993020        Amp  21.981893\n",
      "26    B3  125-4AH   EF1a  21.789213        Amp  21.981893\n",
      "30    B7  130-4CH   EF1a  21.686091        Amp  21.714533\n",
      "31    B8  130-4CH   EF1a  21.825171        Amp  21.714533\n",
      "..   ...      ...    ...        ...        ...        ...\n",
      "337   P8  142-4AL   EF1a  21.369878        Amp  21.236715\n",
      "338   P9  142-4AL   EF1a  21.244032        Amp  21.236715\n",
      "342  P13  142-8CL   EF1a  23.545691        Amp  23.653351\n",
      "343  P14  142-8CL   EF1a  23.558375        Amp  23.653351\n",
      "344  P15  142-8CL   EF1a  23.855986        Amp  23.653351\n",
      "\n",
      "[90 rows x 6 columns]\n"
     ]
    }
   ],
   "source": [
    "if __name__ == \"__main__\":\n",
    "    main()"
   ]
  },
  {
   "cell_type": "code",
   "execution_count": null,
   "metadata": {},
   "outputs": [],
   "source": []
  },
  {
   "cell_type": "code",
   "execution_count": null,
   "metadata": {},
   "outputs": [],
   "source": []
  }
 ],
 "metadata": {
  "kernelspec": {
   "display_name": "Python 3.10.5 ('qpcr')",
   "language": "python",
   "name": "python3"
  },
  "language_info": {
   "codemirror_mode": {
    "name": "ipython",
    "version": 3
   },
   "file_extension": ".py",
   "mimetype": "text/x-python",
   "name": "python",
   "nbconvert_exporter": "python",
   "pygments_lexer": "ipython3",
   "version": "3.10.5"
  },
  "orig_nbformat": 4,
  "vscode": {
   "interpreter": {
    "hash": "8c2acf9d6025fe51d3e4a4cb09a2ff19b54eaae2da571c8e6469319b5fd828be"
   }
  }
 },
 "nbformat": 4,
 "nbformat_minor": 2
}
