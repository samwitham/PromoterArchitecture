{
 "cells": [
  {
   "cell_type": "code",
   "execution_count": 425,
   "metadata": {},
   "outputs": [],
   "source": [
    "import pandas as pd\n",
    "import numpy as np\n",
    "import matplotlib.pyplot as plt"
   ]
  },
  {
   "cell_type": "code",
   "execution_count": 426,
   "metadata": {},
   "outputs": [],
   "source": [
    "#function to read in csv file as pandas df\n",
    "def read_csv(file_name):\n",
    "    df = pd.read_csv(file_name)\n",
    "    #keep the Well, Sample, Target, Cq and Amp Status columns\n",
    "    df = df[['Well', 'Sample', 'Target', 'Cq', 'Amp Status']]\n",
    "    \n",
    "    return df"
   ]
  },
  {
   "cell_type": "code",
   "execution_count": 427,
   "metadata": {},
   "outputs": [],
   "source": [
    "#function to filter out certain data points\n",
    "def filter_data(df, amp_status, cq):\n",
    "    #filter out the data points with amp_status = Amp using .loc\n",
    "    df = df.loc[df['Amp Status'] == amp_status]\n",
    "    #make Cq column numerical\n",
    "    dfcopy = df.copy()\n",
    "    dfcopy['Cq'] = pd.to_numeric(dfcopy['Cq'])  \n",
    "    #filter out the data points with cq < cq_threshold using .loc\n",
    "    dfcopy = dfcopy.loc[dfcopy['Cq'] <= cq]\n",
    "\n",
    "    return dfcopy"
   ]
  },
  {
   "cell_type": "code",
   "execution_count": 428,
   "metadata": {},
   "outputs": [],
   "source": [
    "#function to make new columns and sort the data\n",
    "def sort_data(df):\n",
    "    #make new column called EF1a_Cq, make the value in this column for a particular sample equal to the Cq value for the EF1a Target for that sample\n",
    "    ##remove if not amplified\n",
    "    df = df.loc[df['Amp Status'] == 'Amp']\n",
    "\n",
    "    #get the mean of each sample/target (take mean of technical replicates)\n",
    "    df['Cq_mean'] = df.groupby(['Sample','Target'])['Cq'].transform('mean')\n",
    "    #make a df containing only EF1a target (housekeeping gene)\n",
    "    df_EF1a = df.loc[df['Target'] == 'EF1a'].copy()\n",
    "\n",
    "    #rename the Cq_mean column to EF1a_Cq_mean\n",
    "    df_EF1a.rename(columns={'Cq_mean': 'EF1a_Cq_mean'}, inplace=True)\n",
    "    #filter other df_EF1a columns\n",
    "    df_EF1a = df_EF1a[['Sample','EF1a_Cq_mean']]\n",
    "    #remove duplicates from df_EF1a\n",
    "    df_EF1a = df_EF1a.drop_duplicates()\n",
    "    \n",
    "    #merge the two dfs together\n",
    "    df = pd.merge(df, df_EF1a, on=['Sample'], how='left')\n",
    "\n",
    "    #normalise based on eEF1a gene\n",
    "    df = normalise_data(df, 'Cq_mean','EF1a_Cq_mean','MeanCq_ECnormalised')\n",
    "    \n",
    "\n",
    "\n",
    "    \n",
    "   # print(df)\n",
    "    #if Sample column ends with NRT, add NRT_Cq column\n",
    "    df['NRT'] = False\n",
    "    df.loc[df['Sample'].str.endswith('NRT'), 'NRT'] = True\n",
    "    #remove NRT string from Sample columns ending with NRT\n",
    "    df['Sample'] = df['Sample'].str.replace('NRT', '')\n",
    "    \n",
    "    #if Sample column ends with H, add condition column with 10mM_nitrate\n",
    "    df['condition'] = np.nan\n",
    "    df.loc[df['Sample'].str.endswith('H'), 'condition'] = '10mM_nitrate'\n",
    "    #remove H string from Sample columns ending with H\n",
    "    df['Sample'] = df['Sample'].str.replace('H', '')\n",
    "\n",
    "    #if Sample column ends with L, add condition column with 1mM_nitrate\n",
    "    df.loc[df['Sample'].str.endswith('L'), 'condition'] = '1mM_nitrate'\n",
    "    #remove L string from Sample columns ending with L\n",
    "    df['Sample'] = df['Sample'].str.replace('L', '')\n",
    "    #remove A, B or C string from Sample columns ending with A, B or C\n",
    "    df.loc[:, 'Sample_old'] = df['Sample']\n",
    "    df['Sample'] = df['Sample'].str.replace('A', '')\n",
    "    df['Sample'] = df['Sample'].str.replace('B', '')\n",
    "    df['Sample'] = df['Sample'].str.replace('C', '')\n",
    "    #remove whitespace from Sample columns\n",
    "    df['Sample'] = df['Sample'].str.strip()\n",
    " \n",
    "    #now make a df containing only Samples with 1mM_nitrate condition\n",
    "    df_1mM_nitrate = df.loc[df['condition'] == '1mM_nitrate'].copy()\n",
    "    #rename MeanCq_ECnormalised column to 1mMnitrate_Cq_mean\n",
    "    df_1mM_nitrate.rename(columns={'MeanCq_ECnormalised': '1mMnitrate_Cq_mean'}, inplace=True)\n",
    "    #filter other columns\n",
    "    df_1mM_nitrate = df_1mM_nitrate[['Sample_old','Target','1mMnitrate_Cq_mean']]\n",
    "    #remove duplicates from df_1mM_nitrate\n",
    "    df_1mM_nitrate = df_1mM_nitrate.drop_duplicates()\n",
    "    #merge the dfs\n",
    "    df = pd.merge(df, df_1mM_nitrate, on=['Sample_old','Target'], how='left')\n",
    "\n",
    "    #remove nan\n",
    "    df = df.dropna()\n",
    "\n",
    "    #remove NRT values\n",
    "    df = df.loc[df['NRT'] == False]\n",
    "\n",
    "    return df\n"
   ]
  },
  {
   "cell_type": "code",
   "execution_count": 429,
   "metadata": {},
   "outputs": [],
   "source": [
    "#function to normalise the data based on a column of Cq values (either to housekeeping or based on nitrate or wild type plant)\n",
    "def normalise_data(df, orig_col,normalisation_col, new_column_name):\n",
    "   \n",
    "    #normalise Cq values to the EF1a housekeeping gene mean Cq value for each sample\n",
    "    df.loc[:,new_column_name] = df[orig_col] - df[normalisation_col]\n",
    "    #remove nan values in the new column\n",
    "    df = df[df[new_column_name].notna()]\n",
    "\n",
    "\n",
    "    return df"
   ]
  },
  {
   "cell_type": "code",
   "execution_count": 430,
   "metadata": {},
   "outputs": [],
   "source": [
    "#make plots\n",
    "def make_plots(df):\n",
    "    \"\"\"function to make barplots of relative expression of each target gene in each plant line\"\"\"\n",
    "    #first do inverse log transformation\n",
    "    #(fold change of GOI in treated sample if delta delta Ct value  = X then relative expression  = 2 ( to the power of X))\n",
    "    df['relative_expression'] = 2**(df['MeanCq_EC_1mM_nitrate_normalised'])\n",
    "    print(df)\n"
   ]
  },
  {
   "cell_type": "code",
   "execution_count": null,
   "metadata": {},
   "outputs": [],
   "source": []
  },
  {
   "cell_type": "code",
   "execution_count": 431,
   "metadata": {},
   "outputs": [],
   "source": [
    "# if __name__ == \"__main__\" function\n",
    "def main():\n",
    "    csv_file = '../../data/CRISPR_library/qPCR/10.8.22_platelayout_19310threshold.csv'\n",
    "    #read in file\n",
    "    df = read_csv(csv_file)\n",
    "    #filter out the data points with amp_status = Amp and cq above 32\n",
    "    df = filter_data(df, 'Amp', 40)\n",
    "    #sort the data\n",
    "    df = sort_data(df)\n",
    "    #normalise based on 1mM_nitrate Cq values\n",
    "    df = normalise_data(df, 'MeanCq_ECnormalised','1mMnitrate_Cq_mean','MeanCq_EC_1mM_nitrate_normalised')\n",
    "    #now filter columns\n",
    "    df = df[['Sample','Target','MeanCq_EC_1mM_nitrate_normalised','condition']]\n",
    "    #make plots\n",
    "    make_plots(df)\n",
    "\n",
    "    #print(df)\n",
    "    #print(df)\n",
    "    #print(df[df.NRT==True])\n",
    "    # normalised_housekeeping = normalise_data(df, 'EF1a')\n",
    "    # print(normalised_housekeeping)\n",
    "    #normalised_housekeeping = normalise_data(df, 'EF1a')\n",
    "\n",
    "\n"
   ]
  },
  {
   "cell_type": "code",
   "execution_count": 432,
   "metadata": {},
   "outputs": [
    {
     "name": "stdout",
     "output_type": "stream",
     "text": [
      "    Sample Target  MeanCq_EC_1mM_nitrate_normalised     condition  \\\n",
      "0    125-4   NLP7                         -0.309717  10mM_nitrate   \n",
      "1    125-4   NLP7                         -0.309717  10mM_nitrate   \n",
      "2    125-4   NLP7                         -0.309717  10mM_nitrate   \n",
      "3    125-4   ARF9                          0.590813  10mM_nitrate   \n",
      "4    125-4   ARF9                          0.590813  10mM_nitrate   \n",
      "..     ...    ...                               ...           ...   \n",
      "299  142-8   NIR1                          0.000000   1mM_nitrate   \n",
      "300  142-8   NIR1                          0.000000   1mM_nitrate   \n",
      "301  142-8   EF1a                          0.000000   1mM_nitrate   \n",
      "302  142-8   EF1a                          0.000000   1mM_nitrate   \n",
      "303  142-8   EF1a                          0.000000   1mM_nitrate   \n",
      "\n",
      "     relative_expression  \n",
      "0               0.806800  \n",
      "1               0.806800  \n",
      "2               0.806800  \n",
      "3               1.506096  \n",
      "4               1.506096  \n",
      "..                   ...  \n",
      "299             1.000000  \n",
      "300             1.000000  \n",
      "301             1.000000  \n",
      "302             1.000000  \n",
      "303             1.000000  \n",
      "\n",
      "[285 rows x 5 columns]\n"
     ]
    }
   ],
   "source": [
    "if __name__ == \"__main__\":\n",
    "    main()"
   ]
  },
  {
   "cell_type": "code",
   "execution_count": null,
   "metadata": {},
   "outputs": [],
   "source": []
  },
  {
   "cell_type": "code",
   "execution_count": null,
   "metadata": {},
   "outputs": [],
   "source": []
  }
 ],
 "metadata": {
  "kernelspec": {
   "display_name": "Python 3.10.5 ('qpcr')",
   "language": "python",
   "name": "python3"
  },
  "language_info": {
   "codemirror_mode": {
    "name": "ipython",
    "version": 3
   },
   "file_extension": ".py",
   "mimetype": "text/x-python",
   "name": "python",
   "nbconvert_exporter": "python",
   "pygments_lexer": "ipython3",
   "version": "3.10.5"
  },
  "orig_nbformat": 4,
  "vscode": {
   "interpreter": {
    "hash": "8c2acf9d6025fe51d3e4a4cb09a2ff19b54eaae2da571c8e6469319b5fd828be"
   }
  }
 },
 "nbformat": 4,
 "nbformat_minor": 2
}
