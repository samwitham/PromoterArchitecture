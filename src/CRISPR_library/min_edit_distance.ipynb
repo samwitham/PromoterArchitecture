{
 "cells": [
  {
   "cell_type": "code",
   "execution_count": 5,
   "metadata": {},
   "outputs": [],
   "source": [
    "from itertools import combinations\n",
    "from Levenshtein import distance as lev\n",
    "import pandas as pd\n",
    "#https://www.delftstack.com/howto/python/combinations-of-list-in-python/#:~:text=The%20function%20combinations%20%28list_name%2C%20x%29%20from%20the%20itertools,element%20in%20the%20list%20with%20the%20other%20elements.\n",
    "#https://www.statology.org/levenshtein-distance-in-python/"
   ]
  },
  {
   "cell_type": "code",
   "execution_count": 6,
   "metadata": {},
   "outputs": [],
   "source": [
    "#file locations\n",
    "forward_barcodes_loc = f'../../data/CRISPR_library/forward_barcodes.txt'\n",
    "reverse_barcodes_loc = f'../../data/CRISPR_library/forward_barcodes.txt'"
   ]
  },
  {
   "cell_type": "code",
   "execution_count": 21,
   "metadata": {},
   "outputs": [],
   "source": [
    "#read in files\n",
    "forward_barcodes = pd.read_csv(forward_barcodes_loc, sep=\" \", header=None)\n",
    "reverse_barcodes = pd.read_csv(reverse_barcodes_loc, sep=\" \", header=None)\n",
    "#turn into a list of barcodes\n",
    "forward_list = forward_barcodes[0].values.tolist()\n",
    "reverse_list = reverse_barcodes[0].values.tolist()"
   ]
  },
  {
   "cell_type": "code",
   "execution_count": 34,
   "metadata": {},
   "outputs": [],
   "source": [
    "#make pairwise combinations of every barcode pair and make a list of tuples\n",
    "forward_combinations = list()\n",
    "for n in range(len(forward_list) + 1):\n",
    "    forward_combinations += list(combinations(forward_list, 2))\n"
   ]
  },
  {
   "cell_type": "code",
   "execution_count": 35,
   "metadata": {},
   "outputs": [],
   "source": [
    "#make pairwise combinations of every barcode pair and make a list of tuples\n",
    "reverse_combinations = list()\n",
    "for n in range(len(reverse_list) + 1):\n",
    "    reverse_combinations += list(combinations(reverse_list, 2))\n"
   ]
  },
  {
   "cell_type": "code",
   "execution_count": 43,
   "metadata": {},
   "outputs": [],
   "source": [
    "#calculate levenshtein distances and put them in a list\n",
    "reverse_distances = []\n",
    "for tuple in reverse_combinations:\n",
    "    reverse_distances.append(int(lev(tuple[0], tuple[1])))"
   ]
  },
  {
   "cell_type": "code",
   "execution_count": 45,
   "metadata": {},
   "outputs": [],
   "source": [
    "forward_distances = []\n",
    "for tuple in forward_combinations:\n",
    "    forward_distances.append(int(lev(tuple[0], tuple[1])))"
   ]
  },
  {
   "cell_type": "code",
   "execution_count": 46,
   "metadata": {},
   "outputs": [
    {
     "name": "stdout",
     "output_type": "stream",
     "text": [
      "forward min distance = 2\n",
      "reverse min distance = 2\n"
     ]
    }
   ],
   "source": [
    "#find the minimum forward and reverse barcode distances\n",
    "print(f'forward min distance = {min(forward_distances)}')\n",
    "print(f'reverse min distance = {min(reverse_distances)}')"
   ]
  },
  {
   "cell_type": "code",
   "execution_count": null,
   "metadata": {},
   "outputs": [],
   "source": []
  }
 ],
 "metadata": {
  "interpreter": {
   "hash": "61814b3769a66904c2a16b3ed0b96552c32ee93da6b5ac19d252723e448480da"
  },
  "kernelspec": {
   "display_name": "Python 3.7.8 ('PromoterArchitecturePipeline')",
   "language": "python",
   "name": "python3"
  },
  "language_info": {
   "codemirror_mode": {
    "name": "ipython",
    "version": 3
   },
   "file_extension": ".py",
   "mimetype": "text/x-python",
   "name": "python",
   "nbconvert_exporter": "python",
   "pygments_lexer": "ipython3",
   "version": "3.7.8"
  },
  "orig_nbformat": 4
 },
 "nbformat": 4,
 "nbformat_minor": 2
}
