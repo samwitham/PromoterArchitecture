{
 "cells": [
  {
   "cell_type": "markdown",
   "metadata": {},
   "source": [
    "\"\"\"script to generate subplots showing read depth across each of the four amplicons\"\"\""
   ]
  },
  {
   "cell_type": "code",
   "execution_count": 7,
   "metadata": {},
   "outputs": [],
   "source": [
    "#import libraries\n",
    "import pandas as pd\n",
    "import numpy as np\n",
    "import matplotlib.pyplot as plt\n",
    "import seaborn as sns\n",
    "from matplotlib import rcParams\n",
    "# use pacbio conda environment\n"
   ]
  },
  {
   "cell_type": "code",
   "execution_count": 8,
   "metadata": {},
   "outputs": [],
   "source": [
    "#set matplotlib rc parameters\n",
    "def set_rc_params():\n",
    "    #set matplotlib default parameters\n",
    "    rcParams['xtick.major.width'] = 2\n",
    "    rcParams['ytick.major.width'] = 2\n",
    "    rcParams['axes.linewidth'] = 2\n",
    "    #rcParams['lines.linewidth'] = 2\n",
    "    #remove top and right lines\n",
    "    rcParams['axes.spines.top'] = False\n",
    "    rcParams['axes.spines.right'] = False\n",
    "    #font size\n",
    "    fontsize = 14\n",
    "    rcParams['font.size'] = fontsize\n",
    "    #for getting the microsoft font Arial working, please follow this guide: https://alexanderlabwhoi.github.io/post/2021-03-missingfont/\n",
    "    rcParams['font.family'] = 'sans-serif'\n",
    "    rcParams['font.sans-serif'] = ['Arial']\n",
    "    #allow font to be edited later in pdf editor\n",
    "    #make svg text editable\n",
    "    rcParams['svg.fonttype'] = 'none'\n",
    "    rcParams ['pdf.fonttype'] = 42 \n",
    "    #align y-axis top most tick with end of axis\n",
    "    rcParams['axes.autolimit_mode'] = 'round_numbers'\n",
    "    #set margins to ensure any error bars fit\n",
    "    rcParams['axes.xmargin'] = 0.2\n",
    "    rcParams['axes.ymargin'] = 0.2\n",
    "    #define bar width\n",
    "    #bar_width = 0.65\n",
    "    return fontsize\n",
    "    "
   ]
  },
  {
   "cell_type": "code",
   "execution_count": 9,
   "metadata": {},
   "outputs": [],
   "source": [
    "# process data function\n",
    "def process_data(file):\n",
    "    df = pd.read_csv(file, header=0)\n",
    "    # create gene column\n",
    "    df['gene'] = df['barcode_pair_gene'].str.split('_').str[1]\n",
    "    # remove nan values\n",
    "    df = df.dropna()    \n",
    "    # \n",
    "    # bc1017_ARF18_SW346_SW442.trim.fasta\n",
    "   # print(df)\n",
    "    return df\n",
    "\n"
   ]
  },
  {
   "cell_type": "code",
   "execution_count": 10,
   "metadata": {},
   "outputs": [],
   "source": [
    "# make plot showing read depth for each gene\n",
    "def plot_read_depth(df, output_location):\n",
    "    \"\"\"functrion to plot read depth (count column) for each gene\"\"\"\n",
    "    # plot read depth for each gene\n",
    "\n",
    "    #df_grouped = df.groupby(['gene'])\n",
    "    # sort by read depth\n",
    "    #df_grouped = df_grouped.sort_values(by=['count'], ascending=False)\n",
    "    # plot\n",
    "    plt.figure(figsize=(10,10))\n",
    "    fig = sns.histplot(x='gene',y='count', data=df, )\n",
    "    #fig = sns.stripplot(x='gene',y='count', data=df)\n",
    "    plt.xticks(rotation=90)\n",
    "    plt.xlabel('Amplicon')\n",
    "    plt.ylabel('Read coverage depth')\n",
    "    # set y lim to start at 0\n",
    "    plt.ylim(0)\n",
    "    #plt.title('Read Depth for Each Gene')\n",
    "    #save svg and pdf\n",
    "    plt.savefig(f'{output_location}/read_depth.svg', format='svg', bbox_inches='tight')\n",
    "    plt.savefig(f'{output_location}/read_depth.pdf', format='pdf', bbox_inches='tight')\n",
    "\n",
    "\n",
    "    \n",
    "    #return df_grouped\n"
   ]
  },
  {
   "cell_type": "code",
   "execution_count": 11,
   "metadata": {},
   "outputs": [],
   "source": [
    "#main function\n",
    "def main():\n",
    "    # file location\n",
    "    file_loc = '../../data/CRISPR_library/pacbio/demultiplexed/Data_Package_Batch_04_04_2022/CB-PPBFX-994_Sam_Witham_EI_SW_ENQ-5142_A_01_demux_by_gene.csv'\n",
    "    output_location = '../../data/CRISPR_library'\n",
    "    # read in and process data \n",
    "    df = process_data(file_loc)\n",
    "    # set matplotlib rc parameters\n",
    "    fontsize = set_rc_params()\n",
    "\n",
    "    #m make new folder\n",
    "    dirName = f'{output_location}/sequencing_plots'\n",
    "    try:\n",
    "        # Create target Directory\n",
    "        os.mkdir(dirName)\n",
    "        print(\"Directory \" , dirName ,  \" created\") \n",
    "    except FileExistsError:\n",
    "        print(\"Directory \" , dirName , \" already exists\")\n",
    "    # plot data\n",
    "    plot_read_depth(df,dirName)\n",
    "    #median read depth for arf9\n",
    "    arf9_median = df.loc[df['gene'] == 'ARF9']['count'].median()\n",
    "    print(f'median read depth for ARF9 is {arf9_median}')\n",
    "    #median read depth for arf18\n",
    "    arf18_median = df.loc[df['gene'] == 'ARF18']['count'].median()\n",
    "    print(f'median read depth for ARF18 is {arf18_median}')\n",
    "    #median read depth for dreb26\n",
    "    dreb26_median = df.loc[df['gene'] == 'DREB26']['count'].median()\n",
    "    print(f'median read depth for DREB26 is {dreb26_median}')\n",
    "    #median read depth for nlp7\n",
    "    nlp7_median = df.loc[df['gene'] == 'NLP7']['count'].median()\n",
    "    print(f'median read depth for NLP7 is {nlp7_median}')\n",
    "\n",
    "\n",
    "\n",
    "\n",
    "\n",
    "\n",
    "    # mean read depth for arf9\n",
    "    # arf9_mean = df.loc[df['gene'] == 'ARF9']['count'].mean()\n",
    "    # print(f'ARF9 mean read depth: {arf9_mean}')\n",
    "    # # mean read depth for arf18\n",
    "    # arf18_mean = df.loc[df['gene'] == 'ARF18']['count'].mean()\n",
    "    # print(f'ARF18 mean read depth: {arf18_mean}')\n",
    "    # # mean read depth for dreb26\n",
    "    # dreb26_mean = df.loc[df['gene'] == 'DREB26']['count'].mean()\n",
    "    # print(f'DREB26 mean read depth: {dreb26_mean}')\n",
    "    # # mean read depth for nlp7\n",
    "    # nlp7_mean = df.loc[df['gene'] == 'NLP7']['count'].mean()\n",
    "    # print(f'NLP7 mean read depth: {nlp7_mean}')\n",
    "    \n",
    "\n",
    "\n",
    "\n",
    "\n",
    "\n",
    "\n"
   ]
  },
  {
   "cell_type": "code",
   "execution_count": null,
   "metadata": {},
   "outputs": [],
   "source": []
  },
  {
   "cell_type": "code",
   "execution_count": 12,
   "metadata": {},
   "outputs": [
    {
     "name": "stdout",
     "output_type": "stream",
     "text": [
      "Directory  ../../data/CRISPR_library/sequencing_plots  already exists\n",
      "median read depth for ARF9 is 314.5\n",
      "median read depth for ARF18 is 680.0\n",
      "median read depth for DREB26 is 342.5\n",
      "median read depth for NLP7 is 660.0\n"
     ]
    },
    {
     "data": {
      "image/png": "[encoded data removed]",
      "text/plain": [
       "<Figure size 720x720 with 1 Axes>"
      ]
     },
     "metadata": {
      "needs_background": "light"
     },
     "output_type": "display_data"
    }
   ],
   "source": [
    "#run main\n",
    "if __name__ == '__main__':\n",
    "    main()"
   ]
  },
  {
   "cell_type": "code",
   "execution_count": null,
   "metadata": {},
   "outputs": [],
   "source": []
  }
 ],
 "metadata": {
  "kernelspec": {
   "display_name": "Python 3.8.13 ('pacbio')",
   "language": "python",
   "name": "python3"
  },
  "language_info": {
   "codemirror_mode": {
    "name": "ipython",
    "version": 3
   },
   "file_extension": ".py",
   "mimetype": "text/x-python",
   "name": "python",
   "nbconvert_exporter": "python",
   "pygments_lexer": "ipython3",
   "version": "3.8.13"
  },
  "orig_nbformat": 4,
  "vscode": {
   "interpreter": {
    "hash": "6d7f1c559912387f2a5cf637f9ec9c1bbd03351b317a3bab0d49d1cb8d0c8d65"
   }
  }
 },
 "nbformat": 4,
 "nbformat_minor": 2
}
