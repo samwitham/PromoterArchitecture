{
 "cells": [
  {
   "cell_type": "code",
   "execution_count": 185,
   "metadata": {},
   "outputs": [],
   "source": [
    "#script to read in .csv output files from SmartRoot analysis, concatenate them and then analyse and make plots\n",
    "#use qPCR conda environment"
   ]
  },
  {
   "cell_type": "code",
   "execution_count": 186,
   "metadata": {},
   "outputs": [],
   "source": [
    "import pandas as pd\n",
    "import numpy as np\n",
    "import matplotlib.pyplot as plt\n",
    "import seaborn as sns\n",
    "import os\n",
    "import glob \n",
    "import sys\n",
    "import argparse\n",
    "\n",
    "\n"
   ]
  },
  {
   "cell_type": "code",
   "execution_count": 187,
   "metadata": {},
   "outputs": [],
   "source": [
    "# #define arguments\n",
    "# parser = argparse.ArgumentParser(description='Analyse SmartRoot output')\n",
    "# parser.add_argument('-i', '--input', help='input directory', required=True)\n",
    "# parser.add_argument('-o', '--output', help='output directory', required=True)\n",
    "\n",
    "\n",
    "\n"
   ]
  },
  {
   "cell_type": "code",
   "execution_count": 188,
   "metadata": {},
   "outputs": [],
   "source": [
    "#function to recursively find all .csv files in a directory and concatenate them into a single dataframe\n",
    "def concat_csv_recursive(PATH, EXT):\n",
    "    #find all .csv files in the directory\n",
    "    csv_files = [file for path, subdir, fname in os.walk(PATH) \n",
    "                for file in glob.glob(os.path.join(path, EXT))]\n",
    "        #glob.glob(f'{directory}/{EXT}', recursive=True)\n",
    "    #print(csv_files)\n",
    "    #initialise empty dataframe\n",
    "    df = pd.DataFrame()\n",
    "    #loop through all files and concatenate them into a single dataframe\n",
    "    for file in csv_files:\n",
    "        df = pd.concat([df, pd.read_csv(file)], ignore_index=True)\n",
    "    return df"
   ]
  },
  {
   "cell_type": "code",
   "execution_count": 189,
   "metadata": {},
   "outputs": [],
   "source": [
    "def sort_data(df,output_location):\n",
    "    #sort dataframe by sample name\n",
    "    df = df.sort_values(by=['image'])\n",
    "    #remove duplicate rows\n",
    "    df = df.drop_duplicates(keep='first')\n",
    "    #make nitrate concentration column using image column\n",
    "    df['nitrate_concentration'] = df['image'].str.split('_').str[1]\n",
    "    #make sample name column using image column\n",
    "    df['sample_name'] = df['image'].str.split('_').str[0]\n",
    "    #make plate column\n",
    "    df['plate'] = df['image'].str.split('_').str[2]\n",
    "    #remove spaces from column names\n",
    "    df.columns = df.columns.str.replace(' ', '')\n",
    "    \n",
    "    #make several new columns\n",
    "    #first make new df which will contain one row per plant\n",
    "    df_plant = df[df.root_order == 0]\n",
    "    #remove all lines which have no length or which are NaN\n",
    "    df_plant = df_plant[df_plant.length.notnull()]\n",
    "    #df_plant = df_plant[df_plant.length != 0]\n",
    "    # df_plant = df.groupby(['sample_name', 'plate', 'nitrate_concentration',root_ontology]).agg({'image':'count', 'nitrate_concentration':'first', 'sample_name':'first', 'plate':'first'})\n",
    "    #print(df_plant)\n",
    "    #save df as tsv file\n",
    "    df_plant.to_csv(f'{output_location}/single_plant_data.tsv', sep='\\t', index=False)\n",
    "    #count number of plants for each plant line\n",
    "    \n",
    "\n",
    "\n",
    "    ## PR = primary root length (cm)\n",
    "    #add primary root \n",
    "\n",
    "\n",
    "    # LR = lateral root number (visible from scan)\n",
    "    # LRL = total lateral root length (all LRs added together - cm)\n",
    "    # ALRL = average lateral root length (LRL/LR - cm)\n",
    "    # TRL = total root length (PR + LRL)\n",
    "    # LRD = lateral root density (LR/PR)\n",
    "    # LRL_div_TRL = percentage of LRL contributing to TRL (LRL/TRL)\n",
    "    #make PRL column\n",
    "    #make LR column\n",
    "    #make LRL column\n",
    "    #make TRL column\n",
    "    #partition variation across mutants relative to wild type using principal component analysis of all RSA traits\n",
    "    #do stats: Using a two-way ANOVA, three phenotypic categories: genotype effects in both nitrogen conditions (genotype-dependent), genotype effects in only one condition (nitrogen-condition-dependent) or genotype by nitrogen condition-dependent effects \n",
    "    \n",
    "\n",
    "    #print(len(df))\n",
    "    return df"
   ]
  },
  {
   "cell_type": "code",
   "execution_count": 190,
   "metadata": {},
   "outputs": [],
   "source": [
    "#main function\n",
    "def main(args):\n",
    "    #read in arguments\n",
    "    #input_dir = args.input\n",
    "    input_dir = f'../../data/CRISPR_library/images/rsa_output'\n",
    "    #output_dir = args.output\n",
    "    output_dir = f'../../data/CRISPR_library'\n",
    "    #make directory for the plots to be exported to\n",
    "    output_dir = f'{output_dir}/smartroot_plots'\n",
    "    try:\n",
    "        # Create target Directory\n",
    "        os.mkdir(output_dir)\n",
    "        print(\"Directory \" , output_dir ,  \" created\") \n",
    "    except FileExistsError:\n",
    "        print(\"Directory \" , output_dir ,  \" already exists\")\n",
    "\n",
    "    #read in and concatenate .csv files\n",
    "    df = concat_csv_recursive(input_dir, '*.csv')\n",
    "    #print(df.head())\n",
    "\n",
    "    \n",
    "    #sort data\n",
    "    df = sort_data(df,output_dir)\n",
    "    #analyse dataframe and make plots\n",
    "    #analyse_data(output_dir)\n",
    "    \n",
    "    #save dataframe to csv file\n",
    "    df.to_csv(f'{output_dir}/all_smartroot_data.csv', index=False)"
   ]
  },
  {
   "cell_type": "code",
   "execution_count": 191,
   "metadata": {},
   "outputs": [
    {
     "name": "stdout",
     "output_type": "stream",
     "text": [
      "Directory  ../../data/CRISPR_library/smartroot_plots  already exists\n"
     ]
    }
   ],
   "source": [
    "if __name__ == '__main__':\n",
    "    main(sys.argv)"
   ]
  }
 ],
 "metadata": {
  "kernelspec": {
   "display_name": "Python 3.10.5 ('qpcr')",
   "language": "python",
   "name": "python3"
  },
  "language_info": {
   "codemirror_mode": {
    "name": "ipython",
    "version": 3
   },
   "file_extension": ".py",
   "mimetype": "text/x-python",
   "name": "python",
   "nbconvert_exporter": "python",
   "pygments_lexer": "ipython3",
   "version": "3.10.5"
  },
  "orig_nbformat": 4,
  "vscode": {
   "interpreter": {
    "hash": "8c2acf9d6025fe51d3e4a4cb09a2ff19b54eaae2da571c8e6469319b5fd828be"
   }
  }
 },
 "nbformat": 4,
 "nbformat_minor": 2
}
