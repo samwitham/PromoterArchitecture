{
 "cells": [
  {
   "cell_type": "code",
   "execution_count": 1,
   "metadata": {},
   "outputs": [],
   "source": [
    "import pandas as pd"
   ]
  },
  {
   "cell_type": "code",
   "execution_count": 2,
   "metadata": {},
   "outputs": [],
   "source": [
    "mutations_ARF9_genotyped = f'../../data/CRISPR_library/pacbio/demultiplexed/Data_Package_Batch_04_04_2022/Sam_Witham_EI_SW_ENQ-5142_A_01_Additional_Barcode_Analysis/Variant_call/ARF9/ARF9_TFBSoverlapping_genotyped.tsv'\n",
    "mutations_ARF9_genotyped_only_mutated = f'../../data/CRISPR_library/pacbio/demultiplexed/Data_Package_Batch_04_04_2022/Sam_Witham_EI_SW_ENQ-5142_A_01_Additional_Barcode_Analysis/Variant_call/ARF9/ARF9_TFBSoverlapping_genotyped_only_mutated.tsv'\n",
    "mutations_ARF18_genotyped = f'../../data/CRISPR_library/pacbio/demultiplexed/Data_Package_Batch_04_04_2022/Sam_Witham_EI_SW_ENQ-5142_A_01_Additional_Barcode_Analysis/Variant_call/ARF18/ARF18_TFBSoverlapping_genotyped.tsv'\n",
    "mutations_ARF18_genotyped_only_mutated = f'../../data/CRISPR_library/pacbio/demultiplexed/Data_Package_Batch_04_04_2022/Sam_Witham_EI_SW_ENQ-5142_A_01_Additional_Barcode_Analysis/Variant_call/ARF18/ARF18_TFBSoverlapping_genotyped_only_mutated.tsv'\n",
    "mutations_DREB26_genotyped = f'../../data/CRISPR_library/pacbio/demultiplexed/Data_Package_Batch_04_04_2022/Sam_Witham_EI_SW_ENQ-5142_A_01_Additional_Barcode_Analysis/Variant_call/DREB26/DREB26_TFBSoverlapping_genotyped.tsv'\n",
    "mutations_DREB26_genotyped_only_mutated = f'../../data/CRISPR_library/pacbio/demultiplexed/Data_Package_Batch_04_04_2022/Sam_Witham_EI_SW_ENQ-5142_A_01_Additional_Barcode_Analysis/Variant_call/DREB26/DREB26_TFBSoverlapping_genotyped_only_mutated.tsv'\n",
    "mutations_NLP7_genotyped = f'../../data/CRISPR_library/pacbio/demultiplexed/Data_Package_Batch_04_04_2022/Sam_Witham_EI_SW_ENQ-5142_A_01_Additional_Barcode_Analysis/Variant_call/NLP7/NLP7_TFBSoverlapping_genotyped.tsv'\n",
    "mutations_NLP7_genotyped_only_mutated = f'../../data/CRISPR_library/pacbio/demultiplexed/Data_Package_Batch_04_04_2022/Sam_Witham_EI_SW_ENQ-5142_A_01_Additional_Barcode_Analysis/Variant_call/NLP7/NLP7_TFBSoverlapping_genotyped_only_mutated.tsv'"
   ]
  },
  {
   "cell_type": "code",
   "execution_count": 3,
   "metadata": {},
   "outputs": [],
   "source": [
    "#read in files\n",
    "def read_files(genotyped_file,genotyped_only_mutated_file):\n",
    "    \"\"\"read in the files to pandas\"\"\"\n",
    "    #read in files\n",
    "    genotyped_df = pd.read_table(genotyped_file,sep='\\t', header=0)\n",
    "    genotyped_only_mutated_df = pd.read_table(genotyped_only_mutated_file,sep='\\t', header=0)\n",
    "    return genotyped_df,genotyped_only_mutated_df\n"
   ]
  },
  {
   "cell_type": "code",
   "execution_count": 29,
   "metadata": {},
   "outputs": [],
   "source": [
    "def count_mutations(genotyped_df,genotyped_only_mutated_df):\n",
    "    \"\"\"function to count number of genotyped plant lines and also number of plant lines containing mutations, and then number of mutations overall\"\"\"\n",
    "    #count number of unique plant IDs\n",
    "    genotyped_counts = genotyped_df.plant_ID.unique()\n",
    "    genotyped_only_mutated_counts = genotyped_only_mutated_df.plant_ID.unique()\n",
    "    #print counts\n",
    "    print(f'total plant lines sequenced={len(genotyped_counts)} \\ntotal mutated plant lines={len(genotyped_only_mutated_counts)}\\ntotal mutations={len(genotyped_only_mutated_df)}')\n",
    "    #count number of chimeric plant lines\n",
    "    unique_line_mutated = genotyped_only_mutated_df.drop_duplicates(subset='plant_ID',keep='first')\n",
    "    non_chimeric = unique_line_mutated[unique_line_mutated.genotype != 'chimeric']\n",
    "    homozygous = unique_line_mutated[unique_line_mutated.genotype == 'homozygous']\n",
    "    heterozygous = unique_line_mutated[unique_line_mutated.genotype == 'heterozygous']\n",
    "    biallelic = unique_line_mutated[unique_line_mutated.genotype == 'biallelic']\n",
    "    #print bold heading\n",
    "    print('\\033[1m'+'Genotypes'+'\\033[0m')\n",
    "    print(f'number of non-chimeric mutated plant lines = {len(non_chimeric)}')\n",
    "    print(f'number of homozygous mutated plant lines = {len(homozygous)}')\n",
    "    print(f'number of heterozygous mutated plant lines = {len(heterozygous)}')\n",
    "    print(f'number of biallelic mutated plant lines = {len(biallelic)}')\n",
    "    #count number of non-chimeric insertions, deletions, substitutions (if two insertions around same guide, counted as once)\n",
    "    non_chimeric_all = genotyped_only_mutated_df[genotyped_only_mutated_df.genotype.str.contains('chimeric')]\n",
    "    insertions = non_chimeric_all[non_chimeric_all.mutation_type.str.contains('insertion')]\n",
    "    deletions = non_chimeric_all[non_chimeric_all.mutation_type.str.contains('deletion')]\n",
    "    substitutions = non_chimeric_all[non_chimeric_all.mutation_type.str.contains('substitution')]\n",
    "    mean_reads_guide_sites = genotyped_df.read_number.mean()\n",
    "    mean_mutation_reads_guide_sites = genotyped_only_mutated_df.read_number.mean()\n",
    "    #print bold heading\n",
    "    print('\\033[1m'+'Mutation types'+'\\033[0m')\n",
    "    print(f'number of insertions = {len(insertions)}')\n",
    "    print(f'number of deletions = {len(deletions)}')\n",
    "    #deletions over 10bp\n",
    "    deletions.deletion_positions.str.len()\n",
    "    deletions_over_10bp = deletions[deletions.deletion_positions.str.len()>10]\n",
    "    print(f'deletions over 10bp = {len(deletions_over_10bp)}')\n",
    "    print(f'number of substitutions = {len(substitutions)}')\n",
    "    print(f'mean reads at guide sites including wt = {mean_reads_guide_sites}')\n",
    "    print(f'mean reads at guide sites mutations only = {mean_mutation_reads_guide_sites}')\n",
    "    \n",
    "    #find number of mutations overlapping FIMO predicted TFBS\n",
    "    insertions_overlapping_TFBS = insertions[insertions.insertion_overlapping_TFBS_AGI.notna()]\n",
    "    deletions_overlapping_TFBS = deletions[deletions.deletion_overlapping_TFBS_AGI.notna()]\n",
    "    substitutions_overlapping_TFBS = substitutions[substitutions.substitution_overlapping_TFBS_AGI.notna()]\n",
    "    #print bold heading\n",
    "    print('\\033[1m'+'Overlapping TFBSs'+'\\033[0m')\n",
    "    print(f'number of insertions overlapping TFBS = {len(insertions_overlapping_TFBS)}')\n",
    "    print(f'number of deletions overlapping TFBS = {len(deletions_overlapping_TFBS)}')\n",
    "    print(f'number of substitutions overlapping TFBS = {len(substitutions_overlapping_TFBS)}')\n",
    "\n",
    "    #how many within 7bp of cutsite\n",
    "    #insertions_7bp = insertions[[[i for i in x if int(i) <8] for x in insertions.insertion_cut_site_distance.str.strip('][').str.split(', ')]]\n",
    "\n",
    "    #print(insertions_7bp)\n",
    "\n",
    "\n",
    "    return genotyped_counts, genotyped_only_mutated_counts, genotyped_only_mutated_df"
   ]
  },
  {
   "cell_type": "code",
   "execution_count": 30,
   "metadata": {},
   "outputs": [
    {
     "name": "stdout",
     "output_type": "stream",
     "text": [
      "total plant lines sequenced=468 \n",
      "total mutated plant lines=147\n",
      "total mutations=784\n",
      "\u001b[1mGenotypes\u001b[0m\n",
      "number of non-chimeric mutated plant lines = 144\n",
      "number of homozygous mutated plant lines = 100\n",
      "number of heterozygous mutated plant lines = 19\n",
      "number of biallelic mutated plant lines = 25\n",
      "\u001b[1mMutation types\u001b[0m\n",
      "number of insertions = 577\n",
      "number of deletions = 185\n",
      "deletions over 10bp = 101\n",
      "number of substitutions = 2\n",
      "mean reads at guide sites including wt = 542.8478016575361\n",
      "mean reads at guide sites mutations only = 403.78188775510205\n",
      "\u001b[1mOverlapping TFBSs\u001b[0m\n",
      "number of insertions overlapping TFBS = 220\n",
      "number of deletions overlapping TFBS = 84\n",
      "number of substitutions overlapping TFBS = 0\n"
     ]
    },
    {
     "name": "stderr",
     "output_type": "stream",
     "text": [
      "/home/witham/opt/anaconda3/envs/pybedtools/lib/python3.9/site-packages/pandas/core/common.py:241: VisibleDeprecationWarning: Creating an ndarray from ragged nested sequences (which is a list-or-tuple of lists-or-tuples-or ndarrays with different lengths or shapes) is deprecated. If you meant to do this, you must specify 'dtype=object' when creating the ndarray.\n",
      "  result = np.asarray(values, dtype=dtype)\n"
     ]
    },
    {
     "ename": "TypeError",
     "evalue": "unhashable type: 'list'",
     "output_type": "error",
     "traceback": [
      "\u001b[0;31m---------------------------------------------------------------------------\u001b[0m",
      "\u001b[0;31mTypeError\u001b[0m                                 Traceback (most recent call last)",
      "\u001b[1;32m/home/witham/Documents/pipeline_new/PromoterArchitecture/src/CRISPR_library/mutation_count_info.ipynb Cell 5'\u001b[0m in \u001b[0;36m<cell line: 2>\u001b[0;34m()\u001b[0m\n\u001b[1;32m      <a href='vscode-notebook-cell:/home/witham/Documents/pipeline_new/PromoterArchitecture/src/CRISPR_library/mutation_count_info.ipynb#ch0000004?line=0'>1</a>\u001b[0m ARF9_genotyped_df, ARF9_mutated_df \u001b[39m=\u001b[39m read_files(mutations_ARF9_genotyped,mutations_ARF9_genotyped_only_mutated)\n\u001b[0;32m----> <a href='vscode-notebook-cell:/home/witham/Documents/pipeline_new/PromoterArchitecture/src/CRISPR_library/mutation_count_info.ipynb#ch0000004?line=1'>2</a>\u001b[0m ARF9_genotyped_plant_lines, ARF9_mutated_plant_lines,ARF9_mutations \u001b[39m=\u001b[39m count_mutations(ARF9_genotyped_df,ARF9_mutated_df)\n",
      "\u001b[1;32m/home/witham/Documents/pipeline_new/PromoterArchitecture/src/CRISPR_library/mutation_count_info.ipynb Cell 4'\u001b[0m in \u001b[0;36mcount_mutations\u001b[0;34m(genotyped_df, genotyped_only_mutated_df)\u001b[0m\n\u001b[1;32m     <a href='vscode-notebook-cell:/home/witham/Documents/pipeline_new/PromoterArchitecture/src/CRISPR_library/mutation_count_info.ipynb#ch0000003?line=46'>47</a>\u001b[0m \u001b[39mprint\u001b[39m(\u001b[39mf\u001b[39m\u001b[39m'\u001b[39m\u001b[39mnumber of substitutions overlapping TFBS = \u001b[39m\u001b[39m{\u001b[39;00m\u001b[39mlen\u001b[39m(substitutions_overlapping_TFBS)\u001b[39m}\u001b[39;00m\u001b[39m'\u001b[39m)\n\u001b[1;32m     <a href='vscode-notebook-cell:/home/witham/Documents/pipeline_new/PromoterArchitecture/src/CRISPR_library/mutation_count_info.ipynb#ch0000003?line=48'>49</a>\u001b[0m \u001b[39m#how many within 7bp of cutsite\u001b[39;00m\n\u001b[0;32m---> <a href='vscode-notebook-cell:/home/witham/Documents/pipeline_new/PromoterArchitecture/src/CRISPR_library/mutation_count_info.ipynb#ch0000003?line=49'>50</a>\u001b[0m insertions_7bp \u001b[39m=\u001b[39m insertions[[[i \u001b[39mfor\u001b[39;49;00m i \u001b[39min\u001b[39;49;00m x \u001b[39mif\u001b[39;49;00m \u001b[39mint\u001b[39;49m(i) \u001b[39m<\u001b[39;49m\u001b[39m8\u001b[39;49m] \u001b[39mfor\u001b[39;49;00m x \u001b[39min\u001b[39;49;00m insertions\u001b[39m.\u001b[39;49minsertion_cut_site_distance\u001b[39m.\u001b[39;49mstr\u001b[39m.\u001b[39;49mstrip(\u001b[39m'\u001b[39;49m\u001b[39m][\u001b[39;49m\u001b[39m'\u001b[39;49m)\u001b[39m.\u001b[39;49mstr\u001b[39m.\u001b[39;49msplit(\u001b[39m'\u001b[39;49m\u001b[39m, \u001b[39;49m\u001b[39m'\u001b[39;49m)]]\n\u001b[1;32m     <a href='vscode-notebook-cell:/home/witham/Documents/pipeline_new/PromoterArchitecture/src/CRISPR_library/mutation_count_info.ipynb#ch0000003?line=51'>52</a>\u001b[0m \u001b[39mprint\u001b[39m(insertions_7bp)\n\u001b[1;32m     <a href='vscode-notebook-cell:/home/witham/Documents/pipeline_new/PromoterArchitecture/src/CRISPR_library/mutation_count_info.ipynb#ch0000003?line=54'>55</a>\u001b[0m \u001b[39mreturn\u001b[39;00m genotyped_counts, genotyped_only_mutated_counts, genotyped_only_mutated_df\n",
      "File \u001b[0;32m~/opt/anaconda3/envs/pybedtools/lib/python3.9/site-packages/pandas/core/frame.py:3511\u001b[0m, in \u001b[0;36mDataFrame.__getitem__\u001b[0;34m(self, key)\u001b[0m\n\u001b[1;32m   <a href='file:///home/witham/opt/anaconda3/envs/pybedtools/lib/python3.9/site-packages/pandas/core/frame.py?line=3508'>3509</a>\u001b[0m     \u001b[39mif\u001b[39;00m is_iterator(key):\n\u001b[1;32m   <a href='file:///home/witham/opt/anaconda3/envs/pybedtools/lib/python3.9/site-packages/pandas/core/frame.py?line=3509'>3510</a>\u001b[0m         key \u001b[39m=\u001b[39m \u001b[39mlist\u001b[39m(key)\n\u001b[0;32m-> <a href='file:///home/witham/opt/anaconda3/envs/pybedtools/lib/python3.9/site-packages/pandas/core/frame.py?line=3510'>3511</a>\u001b[0m     indexer \u001b[39m=\u001b[39m \u001b[39mself\u001b[39;49m\u001b[39m.\u001b[39;49mcolumns\u001b[39m.\u001b[39;49m_get_indexer_strict(key, \u001b[39m\"\u001b[39;49m\u001b[39mcolumns\u001b[39;49m\u001b[39m\"\u001b[39;49m)[\u001b[39m1\u001b[39m]\n\u001b[1;32m   <a href='file:///home/witham/opt/anaconda3/envs/pybedtools/lib/python3.9/site-packages/pandas/core/frame.py?line=3512'>3513</a>\u001b[0m \u001b[39m# take() does not accept boolean indexers\u001b[39;00m\n\u001b[1;32m   <a href='file:///home/witham/opt/anaconda3/envs/pybedtools/lib/python3.9/site-packages/pandas/core/frame.py?line=3513'>3514</a>\u001b[0m \u001b[39mif\u001b[39;00m \u001b[39mgetattr\u001b[39m(indexer, \u001b[39m\"\u001b[39m\u001b[39mdtype\u001b[39m\u001b[39m\"\u001b[39m, \u001b[39mNone\u001b[39;00m) \u001b[39m==\u001b[39m \u001b[39mbool\u001b[39m:\n",
      "File \u001b[0;32m~/opt/anaconda3/envs/pybedtools/lib/python3.9/site-packages/pandas/core/indexes/base.py:5777\u001b[0m, in \u001b[0;36mIndex._get_indexer_strict\u001b[0;34m(self, key, axis_name)\u001b[0m\n\u001b[1;32m   <a href='file:///home/witham/opt/anaconda3/envs/pybedtools/lib/python3.9/site-packages/pandas/core/indexes/base.py?line=5773'>5774</a>\u001b[0m     keyarr \u001b[39m=\u001b[39m com\u001b[39m.\u001b[39masarray_tuplesafe(keyarr)\n\u001b[1;32m   <a href='file:///home/witham/opt/anaconda3/envs/pybedtools/lib/python3.9/site-packages/pandas/core/indexes/base.py?line=5775'>5776</a>\u001b[0m \u001b[39mif\u001b[39;00m \u001b[39mself\u001b[39m\u001b[39m.\u001b[39m_index_as_unique:\n\u001b[0;32m-> <a href='file:///home/witham/opt/anaconda3/envs/pybedtools/lib/python3.9/site-packages/pandas/core/indexes/base.py?line=5776'>5777</a>\u001b[0m     indexer \u001b[39m=\u001b[39m \u001b[39mself\u001b[39;49m\u001b[39m.\u001b[39;49mget_indexer_for(keyarr)\n\u001b[1;32m   <a href='file:///home/witham/opt/anaconda3/envs/pybedtools/lib/python3.9/site-packages/pandas/core/indexes/base.py?line=5777'>5778</a>\u001b[0m     keyarr \u001b[39m=\u001b[39m \u001b[39mself\u001b[39m\u001b[39m.\u001b[39mreindex(keyarr)[\u001b[39m0\u001b[39m]\n\u001b[1;32m   <a href='file:///home/witham/opt/anaconda3/envs/pybedtools/lib/python3.9/site-packages/pandas/core/indexes/base.py?line=5778'>5779</a>\u001b[0m \u001b[39melse\u001b[39;00m:\n",
      "File \u001b[0;32m~/opt/anaconda3/envs/pybedtools/lib/python3.9/site-packages/pandas/core/indexes/base.py:5764\u001b[0m, in \u001b[0;36mIndex.get_indexer_for\u001b[0;34m(self, target)\u001b[0m\n\u001b[1;32m   <a href='file:///home/witham/opt/anaconda3/envs/pybedtools/lib/python3.9/site-packages/pandas/core/indexes/base.py?line=5745'>5746</a>\u001b[0m \u001b[39m\"\"\"\u001b[39;00m\n\u001b[1;32m   <a href='file:///home/witham/opt/anaconda3/envs/pybedtools/lib/python3.9/site-packages/pandas/core/indexes/base.py?line=5746'>5747</a>\u001b[0m \u001b[39mGuaranteed return of an indexer even when non-unique.\u001b[39;00m\n\u001b[1;32m   <a href='file:///home/witham/opt/anaconda3/envs/pybedtools/lib/python3.9/site-packages/pandas/core/indexes/base.py?line=5747'>5748</a>\u001b[0m \n\u001b[0;32m   (...)\u001b[0m\n\u001b[1;32m   <a href='file:///home/witham/opt/anaconda3/envs/pybedtools/lib/python3.9/site-packages/pandas/core/indexes/base.py?line=5760'>5761</a>\u001b[0m \u001b[39marray([0, 2])\u001b[39;00m\n\u001b[1;32m   <a href='file:///home/witham/opt/anaconda3/envs/pybedtools/lib/python3.9/site-packages/pandas/core/indexes/base.py?line=5761'>5762</a>\u001b[0m \u001b[39m\"\"\"\u001b[39;00m\n\u001b[1;32m   <a href='file:///home/witham/opt/anaconda3/envs/pybedtools/lib/python3.9/site-packages/pandas/core/indexes/base.py?line=5762'>5763</a>\u001b[0m \u001b[39mif\u001b[39;00m \u001b[39mself\u001b[39m\u001b[39m.\u001b[39m_index_as_unique:\n\u001b[0;32m-> <a href='file:///home/witham/opt/anaconda3/envs/pybedtools/lib/python3.9/site-packages/pandas/core/indexes/base.py?line=5763'>5764</a>\u001b[0m     \u001b[39mreturn\u001b[39;00m \u001b[39mself\u001b[39;49m\u001b[39m.\u001b[39;49mget_indexer(target)\n\u001b[1;32m   <a href='file:///home/witham/opt/anaconda3/envs/pybedtools/lib/python3.9/site-packages/pandas/core/indexes/base.py?line=5764'>5765</a>\u001b[0m indexer, _ \u001b[39m=\u001b[39m \u001b[39mself\u001b[39m\u001b[39m.\u001b[39mget_indexer_non_unique(target)\n\u001b[1;32m   <a href='file:///home/witham/opt/anaconda3/envs/pybedtools/lib/python3.9/site-packages/pandas/core/indexes/base.py?line=5765'>5766</a>\u001b[0m \u001b[39mreturn\u001b[39;00m indexer\n",
      "File \u001b[0;32m~/opt/anaconda3/envs/pybedtools/lib/python3.9/site-packages/pandas/core/indexes/base.py:3784\u001b[0m, in \u001b[0;36mIndex.get_indexer\u001b[0;34m(self, target, method, limit, tolerance)\u001b[0m\n\u001b[1;32m   <a href='file:///home/witham/opt/anaconda3/envs/pybedtools/lib/python3.9/site-packages/pandas/core/indexes/base.py?line=3778'>3779</a>\u001b[0m     target \u001b[39m=\u001b[39m target\u001b[39m.\u001b[39mastype(dtype, copy\u001b[39m=\u001b[39m\u001b[39mFalse\u001b[39;00m)\n\u001b[1;32m   <a href='file:///home/witham/opt/anaconda3/envs/pybedtools/lib/python3.9/site-packages/pandas/core/indexes/base.py?line=3779'>3780</a>\u001b[0m     \u001b[39mreturn\u001b[39;00m this\u001b[39m.\u001b[39m_get_indexer(\n\u001b[1;32m   <a href='file:///home/witham/opt/anaconda3/envs/pybedtools/lib/python3.9/site-packages/pandas/core/indexes/base.py?line=3780'>3781</a>\u001b[0m         target, method\u001b[39m=\u001b[39mmethod, limit\u001b[39m=\u001b[39mlimit, tolerance\u001b[39m=\u001b[39mtolerance\n\u001b[1;32m   <a href='file:///home/witham/opt/anaconda3/envs/pybedtools/lib/python3.9/site-packages/pandas/core/indexes/base.py?line=3781'>3782</a>\u001b[0m     )\n\u001b[0;32m-> <a href='file:///home/witham/opt/anaconda3/envs/pybedtools/lib/python3.9/site-packages/pandas/core/indexes/base.py?line=3783'>3784</a>\u001b[0m \u001b[39mreturn\u001b[39;00m \u001b[39mself\u001b[39;49m\u001b[39m.\u001b[39;49m_get_indexer(target, method, limit, tolerance)\n",
      "File \u001b[0;32m~/opt/anaconda3/envs/pybedtools/lib/python3.9/site-packages/pandas/core/indexes/base.py:3809\u001b[0m, in \u001b[0;36mIndex._get_indexer\u001b[0;34m(self, target, method, limit, tolerance)\u001b[0m\n\u001b[1;32m   <a href='file:///home/witham/opt/anaconda3/envs/pybedtools/lib/python3.9/site-packages/pandas/core/indexes/base.py?line=3803'>3804</a>\u001b[0m         \u001b[39m# error: \"IndexEngine\" has no attribute \"_extract_level_codes\"\u001b[39;00m\n\u001b[1;32m   <a href='file:///home/witham/opt/anaconda3/envs/pybedtools/lib/python3.9/site-packages/pandas/core/indexes/base.py?line=3804'>3805</a>\u001b[0m         tgt_values \u001b[39m=\u001b[39m engine\u001b[39m.\u001b[39m_extract_level_codes(  \u001b[39m# type: ignore[attr-defined]\u001b[39;00m\n\u001b[1;32m   <a href='file:///home/witham/opt/anaconda3/envs/pybedtools/lib/python3.9/site-packages/pandas/core/indexes/base.py?line=3805'>3806</a>\u001b[0m             target\n\u001b[1;32m   <a href='file:///home/witham/opt/anaconda3/envs/pybedtools/lib/python3.9/site-packages/pandas/core/indexes/base.py?line=3806'>3807</a>\u001b[0m         )\n\u001b[0;32m-> <a href='file:///home/witham/opt/anaconda3/envs/pybedtools/lib/python3.9/site-packages/pandas/core/indexes/base.py?line=3808'>3809</a>\u001b[0m     indexer \u001b[39m=\u001b[39m \u001b[39mself\u001b[39;49m\u001b[39m.\u001b[39;49m_engine\u001b[39m.\u001b[39;49mget_indexer(tgt_values)\n\u001b[1;32m   <a href='file:///home/witham/opt/anaconda3/envs/pybedtools/lib/python3.9/site-packages/pandas/core/indexes/base.py?line=3810'>3811</a>\u001b[0m \u001b[39mreturn\u001b[39;00m ensure_platform_int(indexer)\n",
      "File \u001b[0;32m~/opt/anaconda3/envs/pybedtools/lib/python3.9/site-packages/pandas/_libs/index.pyx:305\u001b[0m, in \u001b[0;36mpandas._libs.index.IndexEngine.get_indexer\u001b[0;34m()\u001b[0m\n",
      "File \u001b[0;32mpandas/_libs/hashtable_class_helper.pxi:5247\u001b[0m, in \u001b[0;36mpandas._libs.hashtable.PyObjectHashTable.lookup\u001b[0;34m()\u001b[0m\n",
      "\u001b[0;31mTypeError\u001b[0m: unhashable type: 'list'"
     ]
    }
   ],
   "source": [
    "ARF9_genotyped_df, ARF9_mutated_df = read_files(mutations_ARF9_genotyped,mutations_ARF9_genotyped_only_mutated)\n",
    "ARF9_genotyped_plant_lines, ARF9_mutated_plant_lines,ARF9_mutations = count_mutations(ARF9_genotyped_df,ARF9_mutated_df)"
   ]
  },
  {
   "cell_type": "code",
   "execution_count": 169,
   "metadata": {},
   "outputs": [],
   "source": [
    "ARF18_genotyped_df, ARF18_mutated_df = read_files(mutations_ARF18_genotyped,mutations_ARF18_genotyped_only_mutated)\n"
   ]
  },
  {
   "cell_type": "code",
   "execution_count": 170,
   "metadata": {},
   "outputs": [
    {
     "name": "stdout",
     "output_type": "stream",
     "text": [
      "total plant lines sequenced=373 \n",
      "total mutated plant lines=67\n",
      "total mutations=276\n",
      "\u001b[1mGenotypes\u001b[0m\n",
      "number of non-chimeric mutated plant lines = 66\n",
      "number of homozygous mutated plant lines = 39\n",
      "number of heterozygous mutated plant lines = 16\n",
      "number of biallelic mutated plant lines = 11\n",
      "\u001b[1mMutation types\u001b[0m\n",
      "number of insertions = 219\n",
      "number of deletions = 44\n",
      "deletions over 10bp = 35\n",
      "number of substitutions = 0\n",
      "mean reads at guide sites including wt = 632.2754770435797\n",
      "mean reads at guide sites mutations only = 363.7644927536232\n",
      "\u001b[1mOverlapping TFBSs\u001b[0m\n",
      "number of insertions overlapping TFBS = 179\n",
      "number of deletions overlapping TFBS = 30\n",
      "number of substitutions overlapping TFBS = 0\n"
     ]
    }
   ],
   "source": [
    "#filter ARF18 guide 14 since very repetitive and lots of sequencing errors\n",
    "ARF18_genotyped_only_mutated_df = pd.read_table(mutations_ARF18_genotyped_only_mutated,sep='\\t', header=0)\n",
    "ARF18_mutated_plant_lines_filtered = ARF18_mutated_df[ARF18_mutated_df.guide != 'ARF18_guide14']\n",
    "#count mutations\n",
    "ARF18_genotyped_plant_lines, ARF18_mutated_plant_lines,ARF18_mutations = count_mutations(ARF18_genotyped_df,ARF18_mutated_plant_lines_filtered)"
   ]
  },
  {
   "cell_type": "code",
   "execution_count": 171,
   "metadata": {},
   "outputs": [
    {
     "name": "stdout",
     "output_type": "stream",
     "text": [
      "total plant lines sequenced=366 \n",
      "total mutated plant lines=43\n",
      "total mutations=288\n",
      "\u001b[1mGenotypes\u001b[0m\n",
      "number of non-chimeric mutated plant lines = 42\n",
      "number of homozygous mutated plant lines = 24\n",
      "number of heterozygous mutated plant lines = 16\n",
      "number of biallelic mutated plant lines = 2\n",
      "\u001b[1mMutation types\u001b[0m\n",
      "number of insertions = 137\n",
      "number of deletions = 115\n",
      "deletions over 10bp = 57\n",
      "number of substitutions = 5\n",
      "mean reads at guide sites including wt = 371.8438795745448\n",
      "mean reads at guide sites mutations only = 180.64236111111111\n",
      "\u001b[1mOverlapping TFBSs\u001b[0m\n",
      "number of insertions overlapping TFBS = 114\n",
      "number of deletions overlapping TFBS = 102\n",
      "number of substitutions overlapping TFBS = 4\n"
     ]
    }
   ],
   "source": [
    "DREB26_genotyped_df, DREB26_mutated_df = read_files(mutations_DREB26_genotyped,mutations_DREB26_genotyped_only_mutated)\n",
    "DREB26_genotyped_plant_lines, DREB26_mutated_plant_lines,DREB26_mutations = count_mutations(DREB26_genotyped_df,DREB26_mutated_df)"
   ]
  },
  {
   "cell_type": "code",
   "execution_count": 172,
   "metadata": {},
   "outputs": [
    {
     "name": "stdout",
     "output_type": "stream",
     "text": [
      "total plant lines sequenced=478 \n",
      "total mutated plant lines=112\n",
      "total mutations=375\n",
      "\u001b[1mGenotypes\u001b[0m\n",
      "number of non-chimeric mutated plant lines = 108\n",
      "number of homozygous mutated plant lines = 59\n",
      "number of heterozygous mutated plant lines = 34\n",
      "number of biallelic mutated plant lines = 15\n",
      "\u001b[1mMutation types\u001b[0m\n",
      "number of insertions = 248\n",
      "number of deletions = 89\n",
      "deletions over 10bp = 38\n",
      "number of substitutions = 2\n",
      "mean reads at guide sites including wt = 692.6322322598442\n",
      "mean reads at guide sites mutations only = 486.6426666666667\n",
      "\u001b[1mOverlapping TFBSs\u001b[0m\n",
      "number of insertions overlapping TFBS = 82\n",
      "number of deletions overlapping TFBS = 16\n",
      "number of substitutions overlapping TFBS = 0\n"
     ]
    }
   ],
   "source": [
    "NLP7_genotyped_df, NLP7_mutated_df = read_files(mutations_NLP7_genotyped,mutations_NLP7_genotyped_only_mutated)\n",
    "NLP7_genotyped_plant_lines, NLP7_mutated_plant_lines,NLP7_mutations = count_mutations(NLP7_genotyped_df,NLP7_mutated_df)"
   ]
  },
  {
   "cell_type": "code",
   "execution_count": null,
   "metadata": {},
   "outputs": [],
   "source": []
  },
  {
   "cell_type": "code",
   "execution_count": null,
   "metadata": {},
   "outputs": [],
   "source": []
  },
  {
   "cell_type": "code",
   "execution_count": null,
   "metadata": {},
   "outputs": [],
   "source": []
  }
 ],
 "metadata": {
  "kernelspec": {
   "display_name": "Python 3.9.12 ('pybedtools')",
   "language": "python",
   "name": "python3"
  },
  "language_info": {
   "codemirror_mode": {
    "name": "ipython",
    "version": 3
   },
   "file_extension": ".py",
   "mimetype": "text/x-python",
   "name": "python",
   "nbconvert_exporter": "python",
   "pygments_lexer": "ipython3",
   "version": "3.9.12"
  },
  "orig_nbformat": 4,
  "vscode": {
   "interpreter": {
    "hash": "2879a2396fb26a2192d4c546fae66e67014459dff7902256699e5c7228156d44"
   }
  }
 },
 "nbformat": 4,
 "nbformat_minor": 2
}
