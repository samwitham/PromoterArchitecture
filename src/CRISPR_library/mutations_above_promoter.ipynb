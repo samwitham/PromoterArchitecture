{
 "cells": [
  {
   "cell_type": "code",
   "execution_count": 25,
   "metadata": {},
   "outputs": [],
   "source": [
    "# use gene_feature_plot conda environment\n",
    "import pandas as pd\n",
    "import numpy as np\n",
    "#import pygenometracks.tracks as pygtk\n",
    "# use bokeh to visualise mutations\n",
    "from Bio.Seq import Seq\n",
    "from Bio.Align import MultipleSeqAlignment\n",
    "from Bio import AlignIO, SeqIO\n",
    "# from bokeh.plotting import figure\n",
    "# from bokeh.models import ColumnDataSource, Plot, Grid, Range1d\n",
    "# from bokeh.models.glyphs import Text, Rect\n",
    "# from bokeh.layouts import gridplot\n",
    "# from bokeh.io import export_svg\n",
    "# from bokeh.io import export_png\n",
    "# from Bio.Align.Applications import MuscleCommandline\n",
    "import subprocess\n",
    "import os\n",
    "# from IPython.display import HTML\n",
    "# import panel as pn\n",
    "# import panel.widgets as pnw\n",
    "# pn.extension()\n",
    "from matplotlib import rcParams\n",
    "\n",
    "# import panel as pn\n",
    "import matplotlib.pyplot as plt\n",
    "import biotite.sequence.graphics as graphics\n",
    "import biotite.application.muscle as muscle\n",
    "import biotite.sequence.io.fasta as fasta\n",
    "import biotite.sequence as seq\n",
    "\n",
    "import sys\n",
    "# caution: path[0] is reserved for script path (or '' in REPL)\n",
    "sys.path.insert(1, '../TRAMP')\n",
    "\n",
    "\n",
    "import class_customtranslator\n",
    "#import functions\n",
    "from candidate_TFBSs_for_manuscript_1000bp import move_position, make_plot, gb_file_to_seqrecord, preprocess_record, slice_sequence_with_features, slice_feature, end_violation_pos, start_violation_pos"
   ]
  },
  {
   "cell_type": "code",
   "execution_count": 26,
   "metadata": {},
   "outputs": [],
   "source": [
    "#plant lines: 69-9 NLP7, 125-4 ARF9 NLP7, 130-4 ARF18, 134-3 DREB26, 139-9 ARF9\n",
    "# manually made fasta file containing 40bp sequence containing the mutation with the genomic start and stop positions\n",
    "# take the centre of each mutation genomic position and annotate it on to the promoter sequence"
   ]
  },
  {
   "cell_type": "code",
   "execution_count": 27,
   "metadata": {},
   "outputs": [],
   "source": [
    "def set_rc_params():\n",
    "    #set plot parameters\n",
    "    rcParams['xtick.major.width'] = 1\n",
    "    rcParams['ytick.major.width'] = 1\n",
    "    rcParams['font.family'] = 'sans-serif'\n",
    "    rcParams['font.sans-serif'] = ['Arial']\n",
    "    rcParams['lines.linewidth'] = 1\n",
    "    #allow font to be edited later in pdf editor\n",
    "    rcParams ['pdf.fonttype'] = 42\n",
    "\n",
    "\n",
    "    #make svg text editable\n",
    "    rcParams['svg.fonttype'] = 'none'"
   ]
  },
  {
   "cell_type": "code",
   "execution_count": 28,
   "metadata": {},
   "outputs": [],
   "source": [
    "def view_alignment(file, fontsize=11):\n",
    "    \n",
    "    #get file name\n",
    "    name = os.path.splitext(file1)[0]\n",
    "\n",
    "    #read in fasta file with multiple sequences\n",
    "    seqs = fasta.FastaFile.read(file)\n",
    "    #create dictionary  where headers are keys and sequences are values\n",
    "    seq_dict = fasta.get_sequences(seqs)\n",
    "   \n",
    "    # Perform a multiple sequence alignment using MUSCLE\n",
    "    app = muscle.MuscleApp(list(seq_dict.values()))\n",
    "    app.start()\n",
    "    app.join()\n",
    "    alignment = app.get_alignment()\n",
    "    #get gapped seqs\n",
    "    #gapped_seqs = alignment.get_gapped_sequences()\n",
    "\n",
    "    labels = list(seq_dict.keys())\n",
    "\n",
    "\n",
    "    fig = plt.figure(figsize=(8.0, 0.27*len(labels)))\n",
    "    ax = fig.add_subplot(111)\n",
    "    \n",
    "    #order = app.get_alignment_order()\n",
    "\n",
    "    graphics.plot_alignment_type_based(\n",
    "        ax, alignment, labels=labels,\n",
    "    show_numbers=False, show_line_position=True,color_scheme=\"clustalx\",\n",
    "    )\n",
    "    #change x range to 0,40\n",
    "    ax.set_xlim(0,40)\n",
    "    #change font size\n",
    "    ax.tick_params(axis='both', which='major', labelsize=fontsize)\n",
    "    #save figure in same location as file as svg file\n",
    "    #plt.tight_layout()\n",
    "    plt.savefig(name+'.svg', format='svg', dpi=1200,bbox_inches=\"tight\",transparent=True, pad_inches=0.2)\n",
    "   \n",
    "\n",
    "    \n",
    "\n",
    "    # graphics.plot_alignment_type_based(\n",
    "    #     ax, alignment[:200, order.tolist()], labels=[hits[i] for i in order],\n",
    "    #     show_numbers=True, color_scheme=\"clustalx\"\n",
    "    # )"
   ]
  },
  {
   "cell_type": "code",
   "execution_count": 29,
   "metadata": {},
   "outputs": [
    {
     "name": "stderr",
     "output_type": "stream",
     "text": [
      "/home/witham/opt/anaconda3/envs/gene_feature_plot/lib/python3.9/site-packages/biotite/application/muscle/app3.py:119: UserWarning: MUSCLE did not write a tree file from the second iteration\n",
      "  warnings.warn(\n"
     ]
    },
    {
     "name": "stdout",
     "output_type": "stream",
     "text": [
      "nlp7-at4g24020_ensembl_plant_shortened_1000bp_downstream_of_TSS.gb already exists\n"
     ]
    },
    {
     "name": "stderr",
     "output_type": "stream",
     "text": [
      "/home/witham/opt/anaconda3/envs/gene_feature_plot/lib/python3.9/site-packages/Bio/GenBank/Scanner.py:213: BiopythonParserWarning: Over indented root_open_chromatin feature?\n",
      "  warnings.warn(\n",
      "/home/witham/opt/anaconda3/envs/gene_feature_plot/lib/python3.9/site-packages/Bio/GenBank/Scanner.py:213: BiopythonParserWarning: Over indented shoot_open_chromatin feature?\n",
      "  warnings.warn(\n"
     ]
    },
    {
     "ename": "TypeError",
     "evalue": "'AxesSubplot' object is not subscriptable",
     "output_type": "error",
     "traceback": [
      "\u001b[0;31m---------------------------------------------------------------------------\u001b[0m",
      "\u001b[0;31mTypeError\u001b[0m                                 Traceback (most recent call last)",
      "\u001b[0;32m/tmp/ipykernel_89972/2331221823.py\u001b[0m in \u001b[0;36m<cell line: 31>\u001b[0;34m()\u001b[0m\n\u001b[1;32m     29\u001b[0m     \u001b[0mseqrecords\u001b[0m\u001b[0;34m[\u001b[0m\u001b[0mk\u001b[0m\u001b[0;34m]\u001b[0m \u001b[0;34m=\u001b[0m \u001b[0mgb_file_to_seqrecord\u001b[0m\u001b[0;34m(\u001b[0m\u001b[0mv\u001b[0m\u001b[0;34m,\u001b[0m\u001b[0mbp_downstream_of_TSS\u001b[0m\u001b[0;34m)\u001b[0m\u001b[0;34m\u001b[0m\u001b[0;34m\u001b[0m\u001b[0m\n\u001b[1;32m     30\u001b[0m \u001b[0;31m#make plot\u001b[0m\u001b[0;34m\u001b[0m\u001b[0;34m\u001b[0m\u001b[0m\n\u001b[0;32m---> 31\u001b[0;31m \u001b[0mmake_plot\u001b[0m\u001b[0;34m(\u001b[0m\u001b[0mseqrecords\u001b[0m\u001b[0;34m,\u001b[0m\u001b[0mpromoter_names\u001b[0m\u001b[0;34m,\u001b[0m\u001b[0mlocation\u001b[0m\u001b[0;34m,\u001b[0m\u001b[0mbp_downstream_of_TSS\u001b[0m\u001b[0;34m,\u001b[0m\u001b[0mopenchromatin\u001b[0m\u001b[0;34m=\u001b[0m\u001b[0;32mFalse\u001b[0m\u001b[0;34m,\u001b[0m\u001b[0mdnaseI\u001b[0m\u001b[0;34m=\u001b[0m\u001b[0;32mFalse\u001b[0m\u001b[0;34m)\u001b[0m\u001b[0;34m\u001b[0m\u001b[0;34m\u001b[0m\u001b[0m\n\u001b[0m",
      "\u001b[0;32m~/Documents/pipeline_new/PromoterArchitecture/src/CRISPR_library/../TRAMP/candidate_TFBSs_for_manuscript_1000bp.py\u001b[0m in \u001b[0;36mmake_plot\u001b[0;34m(dictionary_of_records_seqrecords, dictionary_of_records_promoternames, dir_name, bp_downstream_of_TSS, openchromatin, dnaseI)\u001b[0m\n\u001b[1;32m   1675\u001b[0m             \u001b[0;31m# split on dashes\u001b[0m\u001b[0;34m\u001b[0m\u001b[0;34m\u001b[0m\u001b[0m\n\u001b[1;32m   1676\u001b[0m             \u001b[0mshort_prom_name\u001b[0m \u001b[0;34m=\u001b[0m \u001b[0mprom_name\u001b[0m\u001b[0;34m.\u001b[0m\u001b[0msplit\u001b[0m\u001b[0;34m(\u001b[0m\u001b[0;34m\"-\"\u001b[0m\u001b[0;34m)\u001b[0m\u001b[0;34m[\u001b[0m\u001b[0;36m0\u001b[0m\u001b[0;34m]\u001b[0m\u001b[0;34m.\u001b[0m\u001b[0mupper\u001b[0m\u001b[0;34m(\u001b[0m\u001b[0;34m)\u001b[0m\u001b[0;34m\u001b[0m\u001b[0;34m\u001b[0m\u001b[0m\n\u001b[0;32m-> 1677\u001b[0;31m             \u001b[0;32mif\u001b[0m \u001b[0mlength_dict\u001b[0m \u001b[0;32mis\u001b[0m \u001b[0;36m1\u001b[0m\u001b[0;34m:\u001b[0m\u001b[0;34m\u001b[0m\u001b[0;34m\u001b[0m\u001b[0m\n\u001b[0m\u001b[1;32m   1678\u001b[0m                 \u001b[0mmake_graphic_record\u001b[0m\u001b[0;34m(\u001b[0m\u001b[0mv\u001b[0m\u001b[0;34m,\u001b[0m \u001b[0mshort_prom_name\u001b[0m\u001b[0;34m,\u001b[0m \u001b[0maxsRight\u001b[0m\u001b[0;34m)\u001b[0m\u001b[0;34m\u001b[0m\u001b[0;34m\u001b[0m\u001b[0m\n\u001b[1;32m   1679\u001b[0m             \u001b[0;32melse\u001b[0m\u001b[0;34m:\u001b[0m\u001b[0;34m\u001b[0m\u001b[0;34m\u001b[0m\u001b[0m\n",
      "\u001b[0;31mTypeError\u001b[0m: 'AxesSubplot' object is not subscriptable"
     ]
    },
    {
     "data": {
      "image/png": "[encoded data removed]",
      "text/plain": [
       "<Figure size 800x54 with 2 Axes>"
      ]
     },
     "metadata": {},
     "output_type": "display_data"
    },
    {
     "name": "stderr",
     "output_type": "stream",
     "text": [
      "/home/witham/opt/anaconda3/envs/gene_feature_plot/lib/python3.9/site-packages/matplotlib/tight_bbox.py:71: RuntimeWarning: divide by zero encountered in double_scalars\n",
      "  fig.patch.set_bounds(x0 / w1, y0 / h1,\n",
      "/home/witham/opt/anaconda3/envs/gene_feature_plot/lib/python3.9/site-packages/matplotlib/tight_bbox.py:72: RuntimeWarning: divide by zero encountered in double_scalars\n",
      "  fig.bbox.width / w1, fig.bbox.height / h1)\n",
      "/home/witham/opt/anaconda3/envs/gene_feature_plot/lib/python3.9/site-packages/matplotlib/patches.py:769: RuntimeWarning: invalid value encountered in double_scalars\n",
      "  y1 = self.convert_yunits(self._y0 + self._height)\n",
      "/home/witham/opt/anaconda3/envs/gene_feature_plot/lib/python3.9/site-packages/matplotlib/transforms.py:2013: RuntimeWarning: invalid value encountered in double_scalars\n",
      "  self._mtx[1, 2] += ty\n"
     ]
    },
    {
     "data": {
      "image/png": "[encoded data removed]",
      "text/plain": [
       "<Figure size 800x0 with 2 Axes>"
      ]
     },
     "metadata": {},
     "output_type": "display_data"
    }
   ],
   "source": [
    "#read in the fasta file\n",
    "location = '../../data/CRISPR_library/shortlist_mutations'\n",
    "file1=f'{location}/69-9_nlp7_mutation1.fa'\n",
    "\n",
    "# update rcparams\n",
    "set_rc_params()\n",
    "p = view_alignment(file1)\n",
    "\n",
    "\n",
    "promoter_names=dict([('promoter_name1',\"nlp7-at4g24020_ensembl_plant\")])\n",
    "#sort promoter names dictionary in alphabetical order\n",
    "promoter_names = {k: v for k,v in sorted(promoter_names.items(), key=lambda item: item[0])}\n",
    "# promoter_names=dict([('promoter_name7',\"nlp7-at4g24020_ensembl_plant\"),\n",
    "#     ('promoter_name6',\"nlp6-at1g64530_ensembl_plant\"),\n",
    "#     #('promoter_name9',\"tga1-at5g65210_ensembl_plant\"),\n",
    "#     ('promoter_name3',\"arf18-at3g61830_ensembl_plant\"),\n",
    "#     #('promoter_name3',\"arf9-at4g23980_ensembl_plant\"),\n",
    "#     ('promoter_name1',\"anac032-at1g77450_ensembl_plant\"),\n",
    "#     ('promoter_name2',\"anr1-at2g14210_ensembl_plant\"),\n",
    "#     ('promoter_name4',\"dreb26-at1g21910_ensembl_plant\"),\n",
    "#     ('promoter_name5',\"nir1-at2g15620_ensembl_plant\")])\n",
    "#create empty dictionary\n",
    "seqrecords = {}\n",
    "#Define the number of bp downstream of the TSS to include.\n",
    "#Any sequence further downstream will be trimmed. Any sequence upstream of the promoter annotation will be trimmed\n",
    "bp_downstream_of_TSS = 1000\n",
    "for k,v in promoter_names.items():             \n",
    "    #add to new dictionary of seqrecords\n",
    "    seqrecords[k] = gb_file_to_seqrecord(v,bp_downstream_of_TSS)\n",
    "#make plot\n",
    "make_plot(seqrecords,promoter_names,location,bp_downstream_of_TSS,openchromatin=False,dnaseI=False)"
   ]
  },
  {
   "cell_type": "code",
   "execution_count": null,
   "metadata": {},
   "outputs": [],
   "source": []
  }
 ],
 "metadata": {
  "kernelspec": {
   "display_name": "Python 3.9.9 ('gene_feature_plot')",
   "language": "python",
   "name": "python3"
  },
  "language_info": {
   "codemirror_mode": {
    "name": "ipython",
    "version": 3
   },
   "file_extension": ".py",
   "mimetype": "text/x-python",
   "name": "python",
   "nbconvert_exporter": "python",
   "pygments_lexer": "ipython3",
   "version": "3.9.13"
  },
  "orig_nbformat": 4,
  "vscode": {
   "interpreter": {
    "hash": "2edcec37c9f2626182329974fec9906c797ef12ccf33c4b458ba0845e5da6c77"
   }
  }
 },
 "nbformat": 4,
 "nbformat_minor": 2
}
