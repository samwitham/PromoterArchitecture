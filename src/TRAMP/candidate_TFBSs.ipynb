{
 "cells": [
  {
   "cell_type": "code",
   "execution_count": 24,
   "metadata": {},
   "outputs": [],
   "source": [
    "import matplotlib.pyplot as plt\n",
    "#import matplotlib as mpl\n",
    "from Bio import SeqIO\n",
    "#import numpy as np\n",
    "#allows custom colours\n",
    "from dna_features_viewer import BiopythonTranslator\n",
    "import pandas as pd\n",
    "from itertools import cycle"
   ]
  },
  {
   "cell_type": "code",
   "execution_count": 25,
   "metadata": {},
   "outputs": [],
   "source": [
    "#create a class specifying feature colours\n",
    "class MyCustomTranslator(BiopythonTranslator):\n",
    "    \"\"\"Custom translator iplementing the following theme:\n",
    "    -Colour promoter in pale green\n",
    "    -colour exons in dark grey\n",
    "    -colour introns in light grey\n",
    "    -colour TFs from colour palette\"\"\"\n",
    "\n",
    "    #import colour blind palette\n",
    "    #colour palette from mkweb.bcgsc.ca/colorblind/palettes.mhtml\n",
    "    df = pd.read_csv(\"colourblind_palette.csv\", header=0)\n",
    "    #convert to floats\n",
    "    floats=df.divide(255)\n",
    "    #make sets of each row to get the red, green blue colours\n",
    "    CB_colour_palette = floats.apply(tuple, axis = 1)\n",
    "    #turn into a list of colour sets\n",
    "    list_colours = list(CB_colour_palette)\n",
    "    #make colour iterator\n",
    "    colour_iterator=cycle(list_colours)\n",
    "    #change colour cycle\n",
    "    #mpl.rcParams['axes.prop_cycle'] = mpl.cycler(color=list_colours)\n",
    "    #count = -1\n",
    "    #set colour count\n",
    "\n",
    "\n",
    "    def compute_feature_color(self, feature):\n",
    "        \"\"\"set colour of each feature\"\"\"      \n",
    "\n",
    "        if feature.type == \"promoter\":\n",
    "            return \"green\"\n",
    "        elif feature.type == \"exon\":\n",
    "            return \"darkgrey\"\n",
    "            #return (169,169,169)\n",
    "        elif feature.type == \"intron\":\n",
    "            return \"lightgrey\"        \n",
    "            #return (211,211,211)\n",
    "        elif feature.type == \"TFBS\":            \n",
    "            return next(self.colour_iterator)\n",
    "        else:\n",
    "            return \"gold\"\n",
    "\n",
    "    def compute_feature_box_linewidth(self, feature):\n",
    "        \"\"\"change shape of features\"\"\"\n",
    "        return 0\n",
    "\n",
    "    def compute_feature_label(self, feature):\n",
    "        \"\"\"Remove feature labels\"\"\"\n",
    "        #return super().compute_feature_label(feature)\n",
    "        \n",
    "\n",
    "    def compute_feature_fontdict(self, feature):\n",
    "        \"\"\"change font to arial, size to 10\"\"\"\n",
    "        return dict(family='sans-serif',size=10)\n",
    "        #return dict([('family','sans-serif'),('sans-serif','Arial'),('size',10)])\n",
    "\n",
    "    #make feature_list so that each feature name is only added once if more than one share the same name\n",
    "    feature_list = []\n",
    "    def compute_feature_legend_text(self, feature):\n",
    "        \"\"\"add legend if feature label has not been added to legend already\"\"\"\n",
    "        \n",
    "        if feature.qualifiers.get(\"label\")[0] in self.feature_list:\n",
    "            pass\n",
    "        else:\n",
    "            self.feature_list.append(feature.qualifiers.get(\"label\")[0])\n",
    "            return feature.qualifiers.get(\"label\")[0]     \n",
    "\n",
    "\n",
    "    \n",
    "\n",
    "    def compute_filtered_features(self, features):\n",
    "        \"\"\"Do not display features the following features\"\"\"\n",
    "        return [\n",
    "            feature for feature in features\n",
    "            if (feature.type != \"TRAMP_probe\")\n",
    "            and (feature.type != \"none\")\n",
    "            and (feature.type != \"DHS\")\n",
    "            and (feature.type != \"misc_feature\")\n",
    "            and (feature.type != \"primer\")\n",
    "            and (feature.type != \"gene\")\n",
    "            ]\n",
    "        "
   ]
  },
  {
   "cell_type": "code",
   "execution_count": 26,
   "metadata": {},
   "outputs": [],
   "source": [
    "def gb_file_to_seqrecord(gb_file):\n",
    "    \"\"\"load genbankfile into a seqrecord\"\"\"\n",
    "    record = SeqIO.read(gb_file, 'genbank')\n",
    "    return record"
   ]
  },
  {
   "cell_type": "code",
   "execution_count": 27,
   "metadata": {},
   "outputs": [],
   "source": [
    "def preprocess_record(seqrecord):\n",
    "    \"\"\"Preprocess the biopython record before feeding it into the translator.\"\"\"\n",
    "    for feature in seqrecord.features:\n",
    "        #change strand to None so that features are rectangular\n",
    "        feature.location.strand = None\n",
    "        if feature.type == 'TFBS':\n",
    "            #print(feature)\n",
    "            #change sigil to box\n",
    "            feature.qualifiers[\"sigil\"] = 'OCTAGON'            \n",
    "            #if feature was experimentally validated, add qualifier\n",
    "            \n",
    "                       \n",
    "\n",
    "    return seqrecord\n",
    "\n"
   ]
  },
  {
   "cell_type": "code",
   "execution_count": 28,
   "metadata": {},
   "outputs": [],
   "source": [
    "def make_plot(seqrecord, promoter_name):\n",
    "    #display figure    \n",
    "    graphic_record = MyCustomTranslator().translate_record(seqrecord)\n",
    "    #change height to 0 so TFBS can overlap the promoter\n",
    "    graphic_record.feature_level_height = 0\n",
    "    #graphic_record = BiopythonTranslator().translate_record(gb_file)\n",
    "    #make subplots\n",
    "    fig, (ax1,ax2) = plt.subplots(\n",
    "        1,2, figsize=(12,4),gridspec_kw={'width_ratios':[1,4]}\n",
    "    )\n",
    "    #plot Record Map\n",
    "    graphic_record.plot(ax=ax2, with_ruler=True)#,figure_width=10, #strand_in_label_threshold=4\n",
    "    #add legend\n",
    "    graphic_record.plot_legend(ax=ax1, loc=1, ncol=1, frameon=True)\n",
    "    #remove axis of legend\n",
    "    ax1.axis('off')\n",
    "    fig.tight_layout()\n",
    "    fig.savefig(f\"../../data/TRAMP/plots/{promoter_name}.svg\")"
   ]
  },
  {
   "cell_type": "code",
   "execution_count": 29,
   "metadata": {},
   "outputs": [],
   "source": [
    "def main(args):\n",
    "    # parse arguments\n",
    "    #args = parse_args(args)\n",
    "    #dependent_variable = \"GC_content\"\n",
    "\n",
    "    # make directory for the plots to be exported to\n",
    "    dirName = f\"../../data/TRAMP/plots\"\n",
    "    try:\n",
    "        # Create target Directory\n",
    "        os.mkdir(dirName)\n",
    "        print(\"Directory \", dirName, \" created\")\n",
    "    except FileExistsError:\n",
    "        print(\"Directory \", dirName, \" already exists\")\n",
    "\n",
    "    promoter_name=\"nlp7-at4g24020-3kbcds0-5kb\"\n",
    "    #file location\n",
    "    gb_file=f\"../../data/TRAMP/{promoter_name}.gb\"\n",
    "    #load seqrecord\n",
    "    seqrecord = gb_file_to_seqrecord(gb_file)\n",
    "    #preprocess record\n",
    "    modified_seqrecord = preprocess_record(seqrecord)\n",
    "    #make plot\n",
    "    make_plot(modified_seqrecord, promoter_name)\n"
   ]
  },
  {
   "cell_type": "code",
   "execution_count": 30,
   "metadata": {},
   "outputs": [
    {
     "name": "stdout",
     "output_type": "stream",
     "text": [
      "Directory  ../../data/TRAMP/plots  already exists\n"
     ]
    },
    {
     "data": {
      "image/png": "[encoded data removed]",
      "text/plain": [
       "<Figure size 864x288 with 2 Axes>"
      ]
     },
     "metadata": {},
     "output_type": "display_data"
    }
   ],
   "source": [
    "if __name__ == \"__main__\":\n",
    "    import sys\n",
    "\n",
    "    main(sys.argv[1:])"
   ]
  },
  {
   "cell_type": "code",
   "execution_count": null,
   "metadata": {},
   "outputs": [],
   "source": []
  },
  {
   "cell_type": "code",
   "execution_count": null,
   "metadata": {},
   "outputs": [],
   "source": []
  },
  {
   "cell_type": "code",
   "execution_count": null,
   "metadata": {},
   "outputs": [],
   "source": []
  }
 ],
 "metadata": {
  "interpreter": {
   "hash": "3c908fdf7eeea7fcc2df758bbbf39904538fbb339b5048681ca2f728a4bf3f81"
  },
  "kernelspec": {
   "display_name": "Python 3.7.8 64-bit",
   "name": "python3"
  },
  "language_info": {
   "codemirror_mode": {
    "name": "ipython",
    "version": 3
   },
   "file_extension": ".py",
   "mimetype": "text/x-python",
   "name": "python",
   "nbconvert_exporter": "python",
   "pygments_lexer": "ipython3",
   "version": "3.7.8"
  },
  "orig_nbformat": 4
 },
 "nbformat": 4,
 "nbformat_minor": 2
}