{
 "cells": [
  {
   "cell_type": "code",
   "execution_count": 16,
   "metadata": {
    "vscode": {
     "languageId": "r"
    }
   },
   "outputs": [],
   "source": [
    "#make circos plot with each TF_added and/or Promoter around the edge of the circle, with links from TFs to their target Promoters\n",
    "#the links are colored in a spectrum from blue to red based on the strength of the interaction (fold_change)\n"
   ]
  },
  {
   "cell_type": "code",
   "execution_count": 17,
   "metadata": {
    "vscode": {
     "languageId": "r"
    }
   },
   "outputs": [],
   "source": [
    "library(circlize)\n",
    "library(grid)\n",
    "library(gridBase)\n",
    "library(ComplexHeatmap)\n",
    "library(ggplot2)"
   ]
  },
  {
   "cell_type": "code",
   "execution_count": 18,
   "metadata": {
    "vscode": {
     "languageId": "r"
    }
   },
   "outputs": [],
   "source": [
    "#read in data\n",
    "df <- read.table(\"../../../data/luminescence/coexpression_for_manuscript/coexpression_data_for_circos_plot_fold_change_significant.tsv\", header = TRUE, sep = \"\\t\")\n",
    "# df <- read.table(\"../../../data/luminescence/coexpression_for_manuscript/coexpression_data_for_circos_plot_fold_change_significant.csv\", header = TRUE, sep = \",\")\n",
    "# df <- read.table(\"../../../data/luminescence/coexpression_for_manuscript/coexpression_data_for_circos_plot_fold_change.tsv\", header = TRUE, sep = \"\\t\")"
   ]
  },
  {
   "cell_type": "code",
   "execution_count": 19,
   "metadata": {
    "vscode": {
     "languageId": "r"
    }
   },
   "outputs": [],
   "source": [
    "#keep only the Promoter\tTF_added and fold_change columns\n",
    "df <- df[,c(1,2,8,9,10)]"
   ]
  },
  {
   "cell_type": "code",
   "execution_count": 20,
   "metadata": {
    "vscode": {
     "languageId": "r"
    }
   },
   "outputs": [],
   "source": [
    "#swap the first two columns\n",
    "df <- df[, c(2,1,3:ncol(df))]"
   ]
  },
  {
   "cell_type": "code",
   "execution_count": 21,
   "metadata": {
    "vscode": {
     "languageId": "r"
    }
   },
   "outputs": [
    {
     "data": {
      "text/html": [
       "<table class=\"dataframe\">\n",
       "<caption>A data.frame: 85 × 5</caption>\n",
       "<thead>\n",
       "\t<tr><th scope=col>TF_added</th><th scope=col>Promoter</th><th scope=col>fold_change</th><th scope=col>log2_fc</th><th scope=col>significance</th></tr>\n",
       "\t<tr><th scope=col>&lt;chr&gt;</th><th scope=col>&lt;chr&gt;</th><th scope=col>&lt;dbl&gt;</th><th scope=col>&lt;dbl&gt;</th><th scope=col>&lt;chr&gt;</th></tr>\n",
       "</thead>\n",
       "<tbody>\n",
       "\t<tr><td>ANAC032            </td><td>ANAC032</td><td> 1.3261432</td><td> 0.40723653</td><td></td></tr>\n",
       "\t<tr><td>ANR1               </td><td>ANAC032</td><td> 0.4829043</td><td>-1.05019069</td><td></td></tr>\n",
       "\t<tr><td>ARF18              </td><td>ANAC032</td><td> 0.6668839</td><td>-0.58449251</td><td></td></tr>\n",
       "\t<tr><td>ARF18+ARF9         </td><td>ANAC032</td><td> 0.8266927</td><td>-0.27457692</td><td></td></tr>\n",
       "\t<tr><td>ARF18+ARF9_1μM_NAA </td><td>ANAC032</td><td> 0.8370029</td><td>-0.25669554</td><td></td></tr>\n",
       "\t<tr><td>ARF18+IAA33        </td><td>ANAC032</td><td> 0.6489800</td><td>-0.62375415</td><td></td></tr>\n",
       "\t<tr><td>ARF18+IAA33_1μM_NAA</td><td>ANAC032</td><td> 0.6730788</td><td>-0.57115278</td><td></td></tr>\n",
       "\t<tr><td>ARF18_1μM_NAA      </td><td>ANAC032</td><td> 0.6828974</td><td>-0.55025919</td><td></td></tr>\n",
       "\t<tr><td>ARF9               </td><td>ANAC032</td><td> 0.7435662</td><td>-0.42746698</td><td></td></tr>\n",
       "\t<tr><td>ARF9_1μM_NAA       </td><td>ANAC032</td><td> 0.7876275</td><td>-0.34441462</td><td></td></tr>\n",
       "\t<tr><td>ANAC032            </td><td>ANR1   </td><td> 0.8441446</td><td>-0.24443803</td><td></td></tr>\n",
       "\t<tr><td>ANR1               </td><td>ANR1   </td><td> 0.4828699</td><td>-1.05029360</td><td></td></tr>\n",
       "\t<tr><td>ARF18              </td><td>ANR1   </td><td> 0.2079013</td><td>-2.26602952</td><td></td></tr>\n",
       "\t<tr><td>ARF18+ARF9         </td><td>ANR1   </td><td> 0.2446659</td><td>-2.03111510</td><td></td></tr>\n",
       "\t<tr><td>ARF18+ARF9_1μM_NAA </td><td>ANR1   </td><td> 0.2816919</td><td>-1.82781011</td><td></td></tr>\n",
       "\t<tr><td>ARF18+IAA33        </td><td>ANR1   </td><td> 0.1954547</td><td>-2.35509360</td><td></td></tr>\n",
       "\t<tr><td>ARF18+IAA33_1μM_NAA</td><td>ANR1   </td><td> 0.1553712</td><td>-2.68620880</td><td></td></tr>\n",
       "\t<tr><td>ARF18_1μM_NAA      </td><td>ANR1   </td><td> 0.2225662</td><td>-2.16769327</td><td></td></tr>\n",
       "\t<tr><td>ARF9               </td><td>ANR1   </td><td> 0.2701534</td><td>-1.88814915</td><td></td></tr>\n",
       "\t<tr><td>ARF9_1μM_NAA       </td><td>ANR1   </td><td> 0.3072529</td><td>-1.70250140</td><td></td></tr>\n",
       "\t<tr><td>NLP6               </td><td>ANR1   </td><td> 0.3355898</td><td>-1.57522935</td><td></td></tr>\n",
       "\t<tr><td>NLP7               </td><td>ANR1   </td><td> 0.3555349</td><td>-1.49193672</td><td></td></tr>\n",
       "\t<tr><td>ANAC032            </td><td>ARF18  </td><td>14.6149010</td><td> 3.86936815</td><td></td></tr>\n",
       "\t<tr><td>ANR1               </td><td>ARF18  </td><td> 0.9410160</td><td>-0.08770882</td><td></td></tr>\n",
       "\t<tr><td>ARF18              </td><td>ARF18  </td><td> 0.3406600</td><td>-1.55359560</td><td></td></tr>\n",
       "\t<tr><td>ARF18+ARF9         </td><td>ARF18  </td><td> 0.3366888</td><td>-1.57051230</td><td></td></tr>\n",
       "\t<tr><td>ARF18+ARF9_1μM_NAA </td><td>ARF18  </td><td> 0.3782480</td><td>-1.40259553</td><td></td></tr>\n",
       "\t<tr><td>ARF18+IAA33        </td><td>ARF18  </td><td> 0.3612302</td><td>-1.46900954</td><td></td></tr>\n",
       "\t<tr><td>ARF18+IAA33_1μM_NAA</td><td>ARF18  </td><td> 0.3867803</td><td>-1.37041380</td><td></td></tr>\n",
       "\t<tr><td>ARF18_1μM_NAA      </td><td>ARF18  </td><td> 0.3689440</td><td>-1.43852643</td><td></td></tr>\n",
       "\t<tr><td>⋮</td><td>⋮</td><td>⋮</td><td>⋮</td><td>⋮</td></tr>\n",
       "\t<tr><td>ARF18+IAA33_1μM_NAA</td><td>NIR1</td><td>0.5915009</td><td>-0.757547823</td><td>  </td></tr>\n",
       "\t<tr><td>ARF18_1μM_NAA      </td><td>NIR1</td><td>0.4858572</td><td>-1.041395791</td><td>  </td></tr>\n",
       "\t<tr><td>ARF9               </td><td>NIR1</td><td>0.9212255</td><td>-0.118373826</td><td>  </td></tr>\n",
       "\t<tr><td>ARF9_1μM_NAA       </td><td>NIR1</td><td>0.8717263</td><td>-0.198052823</td><td>  </td></tr>\n",
       "\t<tr><td>NLP6               </td><td>NIR1</td><td>6.5133593</td><td> 2.703401808</td><td>  </td></tr>\n",
       "\t<tr><td>NLP7               </td><td>NIR1</td><td>9.7610875</td><td> 3.287041891</td><td>  </td></tr>\n",
       "\t<tr><td>ANAC032            </td><td>NLP6</td><td>1.9405189</td><td> 0.956442495</td><td>  </td></tr>\n",
       "\t<tr><td>ANR1               </td><td>NLP6</td><td>1.2637957</td><td> 0.337763281</td><td>  </td></tr>\n",
       "\t<tr><td>ARF18              </td><td>NLP6</td><td>0.9932977</td><td>-0.009701958</td><td>no</td></tr>\n",
       "\t<tr><td>ARF18+ARF9         </td><td>NLP6</td><td>0.8256937</td><td>-0.276321423</td><td>  </td></tr>\n",
       "\t<tr><td>ARF18+ARF9_1μM_NAA </td><td>NLP6</td><td>0.6812975</td><td>-0.553643178</td><td>  </td></tr>\n",
       "\t<tr><td>ARF18+IAA33        </td><td>NLP6</td><td>0.6843737</td><td>-0.547143732</td><td>  </td></tr>\n",
       "\t<tr><td>ARF18+IAA33_1μM_NAA</td><td>NLP6</td><td>0.6905163</td><td>-0.534252617</td><td>  </td></tr>\n",
       "\t<tr><td>ARF18_1μM_NAA      </td><td>NLP6</td><td>0.8667643</td><td>-0.206288403</td><td>  </td></tr>\n",
       "\t<tr><td>ARF9               </td><td>NLP6</td><td>0.6672982</td><td>-0.583596486</td><td>  </td></tr>\n",
       "\t<tr><td>ARF9_1μM_NAA       </td><td>NLP6</td><td>0.7475379</td><td>-0.419781396</td><td>  </td></tr>\n",
       "\t<tr><td>NLP6               </td><td>NLP6</td><td>1.1938390</td><td> 0.255608247</td><td>  </td></tr>\n",
       "\t<tr><td>NLP7               </td><td>NLP6</td><td>2.9921830</td><td> 1.581198433</td><td>  </td></tr>\n",
       "\t<tr><td>ANAC032            </td><td>NLP7</td><td>0.5339585</td><td>-0.905200378</td><td>  </td></tr>\n",
       "\t<tr><td>ANR1               </td><td>NLP7</td><td>1.2552369</td><td> 0.327959660</td><td>  </td></tr>\n",
       "\t<tr><td>ARF18              </td><td>NLP7</td><td>1.1988405</td><td> 0.261639723</td><td>  </td></tr>\n",
       "\t<tr><td>ARF18+ARF9         </td><td>NLP7</td><td>1.0441072</td><td> 0.062269871</td><td>  </td></tr>\n",
       "\t<tr><td>ARF18+ARF9_1μM_NAA </td><td>NLP7</td><td>0.8883046</td><td>-0.170873685</td><td>  </td></tr>\n",
       "\t<tr><td>ARF18+IAA33        </td><td>NLP7</td><td>1.2610925</td><td> 0.334674144</td><td>  </td></tr>\n",
       "\t<tr><td>ARF18+IAA33_1μM_NAA</td><td>NLP7</td><td>0.8130139</td><td>-0.298648000</td><td>  </td></tr>\n",
       "\t<tr><td>ARF18_1μM_NAA      </td><td>NLP7</td><td>0.8473565</td><td>-0.238959103</td><td>  </td></tr>\n",
       "\t<tr><td>ARF9               </td><td>NLP7</td><td>1.4968838</td><td> 0.581962258</td><td>  </td></tr>\n",
       "\t<tr><td>ARF9_1μM_NAA       </td><td>NLP7</td><td>1.1863449</td><td> 0.246523458</td><td>  </td></tr>\n",
       "\t<tr><td>NLP6               </td><td>NLP7</td><td>1.3476222</td><td> 0.430416088</td><td>  </td></tr>\n",
       "\t<tr><td>NLP7               </td><td>NLP7</td><td>1.3250455</td><td> 0.406041860</td><td>  </td></tr>\n",
       "</tbody>\n",
       "</table>\n"
      ],
      "text/latex": [
       "A data.frame: 85 × 5\n",
       "\\begin{tabular}{lllll}\n",
       " TF\\_added & Promoter & fold\\_change & log2\\_fc & significance\\\\\n",
       " <chr> & <chr> & <dbl> & <dbl> & <chr>\\\\\n",
       "\\hline\n",
       "\t ANAC032             & ANAC032 &  1.3261432 &  0.40723653 & \\\\\n",
       "\t ANR1                & ANAC032 &  0.4829043 & -1.05019069 & \\\\\n",
       "\t ARF18               & ANAC032 &  0.6668839 & -0.58449251 & \\\\\n",
       "\t ARF18+ARF9          & ANAC032 &  0.8266927 & -0.27457692 & \\\\\n",
       "\t ARF18+ARF9\\_1μM\\_NAA  & ANAC032 &  0.8370029 & -0.25669554 & \\\\\n",
       "\t ARF18+IAA33         & ANAC032 &  0.6489800 & -0.62375415 & \\\\\n",
       "\t ARF18+IAA33\\_1μM\\_NAA & ANAC032 &  0.6730788 & -0.57115278 & \\\\\n",
       "\t ARF18\\_1μM\\_NAA       & ANAC032 &  0.6828974 & -0.55025919 & \\\\\n",
       "\t ARF9                & ANAC032 &  0.7435662 & -0.42746698 & \\\\\n",
       "\t ARF9\\_1μM\\_NAA        & ANAC032 &  0.7876275 & -0.34441462 & \\\\\n",
       "\t ANAC032             & ANR1    &  0.8441446 & -0.24443803 & \\\\\n",
       "\t ANR1                & ANR1    &  0.4828699 & -1.05029360 & \\\\\n",
       "\t ARF18               & ANR1    &  0.2079013 & -2.26602952 & \\\\\n",
       "\t ARF18+ARF9          & ANR1    &  0.2446659 & -2.03111510 & \\\\\n",
       "\t ARF18+ARF9\\_1μM\\_NAA  & ANR1    &  0.2816919 & -1.82781011 & \\\\\n",
       "\t ARF18+IAA33         & ANR1    &  0.1954547 & -2.35509360 & \\\\\n",
       "\t ARF18+IAA33\\_1μM\\_NAA & ANR1    &  0.1553712 & -2.68620880 & \\\\\n",
       "\t ARF18\\_1μM\\_NAA       & ANR1    &  0.2225662 & -2.16769327 & \\\\\n",
       "\t ARF9                & ANR1    &  0.2701534 & -1.88814915 & \\\\\n",
       "\t ARF9\\_1μM\\_NAA        & ANR1    &  0.3072529 & -1.70250140 & \\\\\n",
       "\t NLP6                & ANR1    &  0.3355898 & -1.57522935 & \\\\\n",
       "\t NLP7                & ANR1    &  0.3555349 & -1.49193672 & \\\\\n",
       "\t ANAC032             & ARF18   & 14.6149010 &  3.86936815 & \\\\\n",
       "\t ANR1                & ARF18   &  0.9410160 & -0.08770882 & \\\\\n",
       "\t ARF18               & ARF18   &  0.3406600 & -1.55359560 & \\\\\n",
       "\t ARF18+ARF9          & ARF18   &  0.3366888 & -1.57051230 & \\\\\n",
       "\t ARF18+ARF9\\_1μM\\_NAA  & ARF18   &  0.3782480 & -1.40259553 & \\\\\n",
       "\t ARF18+IAA33         & ARF18   &  0.3612302 & -1.46900954 & \\\\\n",
       "\t ARF18+IAA33\\_1μM\\_NAA & ARF18   &  0.3867803 & -1.37041380 & \\\\\n",
       "\t ARF18\\_1μM\\_NAA       & ARF18   &  0.3689440 & -1.43852643 & \\\\\n",
       "\t ⋮ & ⋮ & ⋮ & ⋮ & ⋮\\\\\n",
       "\t ARF18+IAA33\\_1μM\\_NAA & NIR1 & 0.5915009 & -0.757547823 &   \\\\\n",
       "\t ARF18\\_1μM\\_NAA       & NIR1 & 0.4858572 & -1.041395791 &   \\\\\n",
       "\t ARF9                & NIR1 & 0.9212255 & -0.118373826 &   \\\\\n",
       "\t ARF9\\_1μM\\_NAA        & NIR1 & 0.8717263 & -0.198052823 &   \\\\\n",
       "\t NLP6                & NIR1 & 6.5133593 &  2.703401808 &   \\\\\n",
       "\t NLP7                & NIR1 & 9.7610875 &  3.287041891 &   \\\\\n",
       "\t ANAC032             & NLP6 & 1.9405189 &  0.956442495 &   \\\\\n",
       "\t ANR1                & NLP6 & 1.2637957 &  0.337763281 &   \\\\\n",
       "\t ARF18               & NLP6 & 0.9932977 & -0.009701958 & no\\\\\n",
       "\t ARF18+ARF9          & NLP6 & 0.8256937 & -0.276321423 &   \\\\\n",
       "\t ARF18+ARF9\\_1μM\\_NAA  & NLP6 & 0.6812975 & -0.553643178 &   \\\\\n",
       "\t ARF18+IAA33         & NLP6 & 0.6843737 & -0.547143732 &   \\\\\n",
       "\t ARF18+IAA33\\_1μM\\_NAA & NLP6 & 0.6905163 & -0.534252617 &   \\\\\n",
       "\t ARF18\\_1μM\\_NAA       & NLP6 & 0.8667643 & -0.206288403 &   \\\\\n",
       "\t ARF9                & NLP6 & 0.6672982 & -0.583596486 &   \\\\\n",
       "\t ARF9\\_1μM\\_NAA        & NLP6 & 0.7475379 & -0.419781396 &   \\\\\n",
       "\t NLP6                & NLP6 & 1.1938390 &  0.255608247 &   \\\\\n",
       "\t NLP7                & NLP6 & 2.9921830 &  1.581198433 &   \\\\\n",
       "\t ANAC032             & NLP7 & 0.5339585 & -0.905200378 &   \\\\\n",
       "\t ANR1                & NLP7 & 1.2552369 &  0.327959660 &   \\\\\n",
       "\t ARF18               & NLP7 & 1.1988405 &  0.261639723 &   \\\\\n",
       "\t ARF18+ARF9          & NLP7 & 1.0441072 &  0.062269871 &   \\\\\n",
       "\t ARF18+ARF9\\_1μM\\_NAA  & NLP7 & 0.8883046 & -0.170873685 &   \\\\\n",
       "\t ARF18+IAA33         & NLP7 & 1.2610925 &  0.334674144 &   \\\\\n",
       "\t ARF18+IAA33\\_1μM\\_NAA & NLP7 & 0.8130139 & -0.298648000 &   \\\\\n",
       "\t ARF18\\_1μM\\_NAA       & NLP7 & 0.8473565 & -0.238959103 &   \\\\\n",
       "\t ARF9                & NLP7 & 1.4968838 &  0.581962258 &   \\\\\n",
       "\t ARF9\\_1μM\\_NAA        & NLP7 & 1.1863449 &  0.246523458 &   \\\\\n",
       "\t NLP6                & NLP7 & 1.3476222 &  0.430416088 &   \\\\\n",
       "\t NLP7                & NLP7 & 1.3250455 &  0.406041860 &   \\\\\n",
       "\\end{tabular}\n"
      ],
      "text/markdown": [
       "\n",
       "A data.frame: 85 × 5\n",
       "\n",
       "| TF_added &lt;chr&gt; | Promoter &lt;chr&gt; | fold_change &lt;dbl&gt; | log2_fc &lt;dbl&gt; | significance &lt;chr&gt; |\n",
       "|---|---|---|---|---|\n",
       "| ANAC032             | ANAC032 |  1.3261432 |  0.40723653 | <!----> |\n",
       "| ANR1                | ANAC032 |  0.4829043 | -1.05019069 | <!----> |\n",
       "| ARF18               | ANAC032 |  0.6668839 | -0.58449251 | <!----> |\n",
       "| ARF18+ARF9          | ANAC032 |  0.8266927 | -0.27457692 | <!----> |\n",
       "| ARF18+ARF9_1μM_NAA  | ANAC032 |  0.8370029 | -0.25669554 | <!----> |\n",
       "| ARF18+IAA33         | ANAC032 |  0.6489800 | -0.62375415 | <!----> |\n",
       "| ARF18+IAA33_1μM_NAA | ANAC032 |  0.6730788 | -0.57115278 | <!----> |\n",
       "| ARF18_1μM_NAA       | ANAC032 |  0.6828974 | -0.55025919 | <!----> |\n",
       "| ARF9                | ANAC032 |  0.7435662 | -0.42746698 | <!----> |\n",
       "| ARF9_1μM_NAA        | ANAC032 |  0.7876275 | -0.34441462 | <!----> |\n",
       "| ANAC032             | ANR1    |  0.8441446 | -0.24443803 | <!----> |\n",
       "| ANR1                | ANR1    |  0.4828699 | -1.05029360 | <!----> |\n",
       "| ARF18               | ANR1    |  0.2079013 | -2.26602952 | <!----> |\n",
       "| ARF18+ARF9          | ANR1    |  0.2446659 | -2.03111510 | <!----> |\n",
       "| ARF18+ARF9_1μM_NAA  | ANR1    |  0.2816919 | -1.82781011 | <!----> |\n",
       "| ARF18+IAA33         | ANR1    |  0.1954547 | -2.35509360 | <!----> |\n",
       "| ARF18+IAA33_1μM_NAA | ANR1    |  0.1553712 | -2.68620880 | <!----> |\n",
       "| ARF18_1μM_NAA       | ANR1    |  0.2225662 | -2.16769327 | <!----> |\n",
       "| ARF9                | ANR1    |  0.2701534 | -1.88814915 | <!----> |\n",
       "| ARF9_1μM_NAA        | ANR1    |  0.3072529 | -1.70250140 | <!----> |\n",
       "| NLP6                | ANR1    |  0.3355898 | -1.57522935 | <!----> |\n",
       "| NLP7                | ANR1    |  0.3555349 | -1.49193672 | <!----> |\n",
       "| ANAC032             | ARF18   | 14.6149010 |  3.86936815 | <!----> |\n",
       "| ANR1                | ARF18   |  0.9410160 | -0.08770882 | <!----> |\n",
       "| ARF18               | ARF18   |  0.3406600 | -1.55359560 | <!----> |\n",
       "| ARF18+ARF9          | ARF18   |  0.3366888 | -1.57051230 | <!----> |\n",
       "| ARF18+ARF9_1μM_NAA  | ARF18   |  0.3782480 | -1.40259553 | <!----> |\n",
       "| ARF18+IAA33         | ARF18   |  0.3612302 | -1.46900954 | <!----> |\n",
       "| ARF18+IAA33_1μM_NAA | ARF18   |  0.3867803 | -1.37041380 | <!----> |\n",
       "| ARF18_1μM_NAA       | ARF18   |  0.3689440 | -1.43852643 | <!----> |\n",
       "| ⋮ | ⋮ | ⋮ | ⋮ | ⋮ |\n",
       "| ARF18+IAA33_1μM_NAA | NIR1 | 0.5915009 | -0.757547823 | <!----> |\n",
       "| ARF18_1μM_NAA       | NIR1 | 0.4858572 | -1.041395791 | <!----> |\n",
       "| ARF9                | NIR1 | 0.9212255 | -0.118373826 | <!----> |\n",
       "| ARF9_1μM_NAA        | NIR1 | 0.8717263 | -0.198052823 | <!----> |\n",
       "| NLP6                | NIR1 | 6.5133593 |  2.703401808 | <!----> |\n",
       "| NLP7                | NIR1 | 9.7610875 |  3.287041891 | <!----> |\n",
       "| ANAC032             | NLP6 | 1.9405189 |  0.956442495 | <!----> |\n",
       "| ANR1                | NLP6 | 1.2637957 |  0.337763281 | <!----> |\n",
       "| ARF18               | NLP6 | 0.9932977 | -0.009701958 | no |\n",
       "| ARF18+ARF9          | NLP6 | 0.8256937 | -0.276321423 | <!----> |\n",
       "| ARF18+ARF9_1μM_NAA  | NLP6 | 0.6812975 | -0.553643178 | <!----> |\n",
       "| ARF18+IAA33         | NLP6 | 0.6843737 | -0.547143732 | <!----> |\n",
       "| ARF18+IAA33_1μM_NAA | NLP6 | 0.6905163 | -0.534252617 | <!----> |\n",
       "| ARF18_1μM_NAA       | NLP6 | 0.8667643 | -0.206288403 | <!----> |\n",
       "| ARF9                | NLP6 | 0.6672982 | -0.583596486 | <!----> |\n",
       "| ARF9_1μM_NAA        | NLP6 | 0.7475379 | -0.419781396 | <!----> |\n",
       "| NLP6                | NLP6 | 1.1938390 |  0.255608247 | <!----> |\n",
       "| NLP7                | NLP6 | 2.9921830 |  1.581198433 | <!----> |\n",
       "| ANAC032             | NLP7 | 0.5339585 | -0.905200378 | <!----> |\n",
       "| ANR1                | NLP7 | 1.2552369 |  0.327959660 | <!----> |\n",
       "| ARF18               | NLP7 | 1.1988405 |  0.261639723 | <!----> |\n",
       "| ARF18+ARF9          | NLP7 | 1.0441072 |  0.062269871 | <!----> |\n",
       "| ARF18+ARF9_1μM_NAA  | NLP7 | 0.8883046 | -0.170873685 | <!----> |\n",
       "| ARF18+IAA33         | NLP7 | 1.2610925 |  0.334674144 | <!----> |\n",
       "| ARF18+IAA33_1μM_NAA | NLP7 | 0.8130139 | -0.298648000 | <!----> |\n",
       "| ARF18_1μM_NAA       | NLP7 | 0.8473565 | -0.238959103 | <!----> |\n",
       "| ARF9                | NLP7 | 1.4968838 |  0.581962258 | <!----> |\n",
       "| ARF9_1μM_NAA        | NLP7 | 1.1863449 |  0.246523458 | <!----> |\n",
       "| NLP6                | NLP7 | 1.3476222 |  0.430416088 | <!----> |\n",
       "| NLP7                | NLP7 | 1.3250455 |  0.406041860 | <!----> |\n",
       "\n"
      ],
      "text/plain": [
       "   TF_added            Promoter fold_change log2_fc      significance\n",
       "1  ANAC032             ANAC032   1.3261432   0.40723653              \n",
       "2  ANR1                ANAC032   0.4829043  -1.05019069              \n",
       "3  ARF18               ANAC032   0.6668839  -0.58449251              \n",
       "4  ARF18+ARF9          ANAC032   0.8266927  -0.27457692              \n",
       "5  ARF18+ARF9_1μM_NAA  ANAC032   0.8370029  -0.25669554              \n",
       "6  ARF18+IAA33         ANAC032   0.6489800  -0.62375415              \n",
       "7  ARF18+IAA33_1μM_NAA ANAC032   0.6730788  -0.57115278              \n",
       "8  ARF18_1μM_NAA       ANAC032   0.6828974  -0.55025919              \n",
       "9  ARF9                ANAC032   0.7435662  -0.42746698              \n",
       "10 ARF9_1μM_NAA        ANAC032   0.7876275  -0.34441462              \n",
       "11 ANAC032             ANR1      0.8441446  -0.24443803              \n",
       "12 ANR1                ANR1      0.4828699  -1.05029360              \n",
       "13 ARF18               ANR1      0.2079013  -2.26602952              \n",
       "14 ARF18+ARF9          ANR1      0.2446659  -2.03111510              \n",
       "15 ARF18+ARF9_1μM_NAA  ANR1      0.2816919  -1.82781011              \n",
       "16 ARF18+IAA33         ANR1      0.1954547  -2.35509360              \n",
       "17 ARF18+IAA33_1μM_NAA ANR1      0.1553712  -2.68620880              \n",
       "18 ARF18_1μM_NAA       ANR1      0.2225662  -2.16769327              \n",
       "19 ARF9                ANR1      0.2701534  -1.88814915              \n",
       "20 ARF9_1μM_NAA        ANR1      0.3072529  -1.70250140              \n",
       "21 NLP6                ANR1      0.3355898  -1.57522935              \n",
       "22 NLP7                ANR1      0.3555349  -1.49193672              \n",
       "23 ANAC032             ARF18    14.6149010   3.86936815              \n",
       "24 ANR1                ARF18     0.9410160  -0.08770882              \n",
       "25 ARF18               ARF18     0.3406600  -1.55359560              \n",
       "26 ARF18+ARF9          ARF18     0.3366888  -1.57051230              \n",
       "27 ARF18+ARF9_1μM_NAA  ARF18     0.3782480  -1.40259553              \n",
       "28 ARF18+IAA33         ARF18     0.3612302  -1.46900954              \n",
       "29 ARF18+IAA33_1μM_NAA ARF18     0.3867803  -1.37041380              \n",
       "30 ARF18_1μM_NAA       ARF18     0.3689440  -1.43852643              \n",
       "⋮  ⋮                   ⋮        ⋮           ⋮            ⋮           \n",
       "56 ARF18+IAA33_1μM_NAA NIR1     0.5915009   -0.757547823             \n",
       "57 ARF18_1μM_NAA       NIR1     0.4858572   -1.041395791             \n",
       "58 ARF9                NIR1     0.9212255   -0.118373826             \n",
       "59 ARF9_1μM_NAA        NIR1     0.8717263   -0.198052823             \n",
       "60 NLP6                NIR1     6.5133593    2.703401808             \n",
       "61 NLP7                NIR1     9.7610875    3.287041891             \n",
       "62 ANAC032             NLP6     1.9405189    0.956442495             \n",
       "63 ANR1                NLP6     1.2637957    0.337763281             \n",
       "64 ARF18               NLP6     0.9932977   -0.009701958 no          \n",
       "65 ARF18+ARF9          NLP6     0.8256937   -0.276321423             \n",
       "66 ARF18+ARF9_1μM_NAA  NLP6     0.6812975   -0.553643178             \n",
       "67 ARF18+IAA33         NLP6     0.6843737   -0.547143732             \n",
       "68 ARF18+IAA33_1μM_NAA NLP6     0.6905163   -0.534252617             \n",
       "69 ARF18_1μM_NAA       NLP6     0.8667643   -0.206288403             \n",
       "70 ARF9                NLP6     0.6672982   -0.583596486             \n",
       "71 ARF9_1μM_NAA        NLP6     0.7475379   -0.419781396             \n",
       "72 NLP6                NLP6     1.1938390    0.255608247             \n",
       "73 NLP7                NLP6     2.9921830    1.581198433             \n",
       "74 ANAC032             NLP7     0.5339585   -0.905200378             \n",
       "75 ANR1                NLP7     1.2552369    0.327959660             \n",
       "76 ARF18               NLP7     1.1988405    0.261639723             \n",
       "77 ARF18+ARF9          NLP7     1.0441072    0.062269871             \n",
       "78 ARF18+ARF9_1μM_NAA  NLP7     0.8883046   -0.170873685             \n",
       "79 ARF18+IAA33         NLP7     1.2610925    0.334674144             \n",
       "80 ARF18+IAA33_1μM_NAA NLP7     0.8130139   -0.298648000             \n",
       "81 ARF18_1μM_NAA       NLP7     0.8473565   -0.238959103             \n",
       "82 ARF9                NLP7     1.4968838    0.581962258             \n",
       "83 ARF9_1μM_NAA        NLP7     1.1863449    0.246523458             \n",
       "84 NLP6                NLP7     1.3476222    0.430416088             \n",
       "85 NLP7                NLP7     1.3250455    0.406041860             "
      ]
     },
     "metadata": {},
     "output_type": "display_data"
    }
   ],
   "source": [
    "df"
   ]
  },
  {
   "cell_type": "code",
   "execution_count": 22,
   "metadata": {
    "vscode": {
     "languageId": "r"
    }
   },
   "outputs": [],
   "source": [
    "#filter out the rows where the signficant column is no\n",
    "df <- df[df$significance != \"no\",]"
   ]
  },
  {
   "cell_type": "code",
   "execution_count": null,
   "metadata": {
    "vscode": {
     "languageId": "r"
    }
   },
   "outputs": [],
   "source": []
  },
  {
   "cell_type": "code",
   "execution_count": 23,
   "metadata": {
    "vscode": {
     "languageId": "r"
    }
   },
   "outputs": [],
   "source": [
    "#rename values in TF_added column - rename ARF18+ARF9 to ARF9/18, ARF18+ARF9_1μM_NAA to ARF9/18+NAA, ARF18+IAA33_1μM_NAA to ARF18+IAA33+NAA, ARF9_1μM_NAA to ARF9+NAA, ARF18_1μM_NAA to ARF18+NAA, ARF9+IAA33__1μM_NAA to ARF9+IAA33+NAA, ARF18+ARF9+IAA33_1μM_NAA to ARF9/18+IAA33+NAA, ARF9/18+IAA33_1μM_NAA to ARF9/18+IAA33+NAA, ARF9/18_1μM_NAA to ARF9/18+NAA\n",
    "df$TF_added <- gsub(\"ARF18\\\\+ARF9\", \"ARF9/18\", df$TF_added)\n",
    "df$TF_added <- gsub(\"ARF18\\\\+ARF9_1μM_NAA\", \"ARF9/18+NAA\", df$TF_added)\n",
    "df$TF_added <- gsub(\"ARF18\\\\+IAA33_1μM_NAA\", \"ARF18+IAA33+NAA\", df$TF_added)\n",
    "df$TF_added <- gsub(\"ARF9_1μM_NAA\", \"ARF9+NAA\", df$TF_added)\n",
    "df$TF_added <- gsub(\"ARF18_1μM_NAA\", \"ARF18+NAA\", df$TF_added)\n",
    "df$TF_added <- gsub(\"ARF9\\\\+IAA33__1μM_NAA\", \"ARF9+IAA33+NAA\", df$TF_added)\n",
    "df$TF_added <- gsub(\"ARF18\\\\+ARF9\\\\+IAA33_1μM_NAA\", \"ARF9/18+IAA33+NAA\", df$TF_added)\n",
    "df$TF_added <- gsub(\"ARF9/18\\\\+IAA33_1μM_NAA\", \"ARF9/18+IAA33+NAA\", df$TF_added)\n",
    "df$TF_added <- gsub(\"ARF9/18_1μM_NAA\", \"ARF9/18+NAA\", df$TF_added)\n"
   ]
  },
  {
   "cell_type": "code",
   "execution_count": 24,
   "metadata": {
    "vscode": {
     "languageId": "r"
    }
   },
   "outputs": [],
   "source": [
    "# #show unique values in TF_added column\n",
    "# unique(df$TF_added)"
   ]
  },
  {
   "cell_type": "code",
   "execution_count": 25,
   "metadata": {
    "vscode": {
     "languageId": "r"
    }
   },
   "outputs": [
    {
     "data": {
      "text/html": [
       "<style>\n",
       ".list-inline {list-style: none; margin:0; padding: 0}\n",
       ".list-inline>li {display: inline-block}\n",
       ".list-inline>li:not(:last-child)::after {content: \"\\00b7\"; padding: 0 .5ex}\n",
       "</style>\n",
       "<ol class=list-inline><li>0.407236534336061</li><li>-1.05019069086591</li><li>-0.584492513211468</li><li>-0.274576921095152</li><li>-0.256695538346014</li><li>-0.623754150707447</li><li>-0.571152775361082</li><li>-0.550259191432198</li><li>-0.427466983848788</li><li>-0.344414624848506</li><li>-0.244438026830708</li><li>-1.05029360109049</li><li>-2.2660295175662</li><li>-2.03111509956399</li><li>-1.82781010925407</li><li>-2.35509360404859</li><li>-2.68620879596758</li><li>-2.16769326520294</li><li>-1.88814915045866</li><li>-1.70250140123609</li><li>-1.57522935222311</li><li>-1.49193671976658</li><li>3.86936815290144</li><li>-0.0877088174608772</li><li>-1.55359559703223</li><li>-1.57051229803583</li><li>-1.40259553418624</li><li>-1.46900953845826</li><li>-1.37041380468078</li><li>-1.43852643095927</li><li>0.679970097207742</li><li>0.873900607332405</li><li>2.8208850178285</li><li>0.357980309367176</li><li>-0.412966084572933</li><li>-0.337958479875547</li><li>-0.455473488668883</li><li>-0.234672777263259</li><li>-0.265337432921503</li><li>-0.225506148112589</li><li>-0.348036461934792</li><li>0.25476311276258</li><li>1.33050628935412</li><li>0.656142487203163</li><li>0.911537275027971</li><li>0.672920852382359</li><li>0.89144733381478</li><li>-1.05193203559881</li><li>-1.08503153388551</li><li>-0.844493851449378</li><li>-0.915811729973089</li><li>-0.757547822629106</li><li>-1.04139579076036</li><li>-0.118373826378107</li><li>-0.198052823076111</li><li>2.70340180778232</li><li>3.28704189137148</li><li>0.956442494684052</li><li>0.337763280678385</li><li>-0.276321423337018</li><li>-0.553643178194102</li><li>-0.547143732260803</li><li>-0.534252617266758</li><li>-0.206288402763326</li><li>-0.583596486079199</li><li>-0.419781395970254</li><li>0.255608246997003</li><li>1.58119843260638</li><li>-0.905200377564395</li><li>0.327959659987746</li><li>0.261639723267072</li><li>0.0622698713498222</li><li>-0.170873684534325</li><li>0.334674143846758</li><li>-0.298647999805484</li><li>-0.238959102829816</li><li>0.581962257638531</li><li>0.246523458254259</li><li>0.430416087825196</li><li>0.406041860285426</li></ol>\n"
      ],
      "text/latex": [
       "\\begin{enumerate*}\n",
       "\\item 0.407236534336061\n",
       "\\item -1.05019069086591\n",
       "\\item -0.584492513211468\n",
       "\\item -0.274576921095152\n",
       "\\item -0.256695538346014\n",
       "\\item -0.623754150707447\n",
       "\\item -0.571152775361082\n",
       "\\item -0.550259191432198\n",
       "\\item -0.427466983848788\n",
       "\\item -0.344414624848506\n",
       "\\item -0.244438026830708\n",
       "\\item -1.05029360109049\n",
       "\\item -2.2660295175662\n",
       "\\item -2.03111509956399\n",
       "\\item -1.82781010925407\n",
       "\\item -2.35509360404859\n",
       "\\item -2.68620879596758\n",
       "\\item -2.16769326520294\n",
       "\\item -1.88814915045866\n",
       "\\item -1.70250140123609\n",
       "\\item -1.57522935222311\n",
       "\\item -1.49193671976658\n",
       "\\item 3.86936815290144\n",
       "\\item -0.0877088174608772\n",
       "\\item -1.55359559703223\n",
       "\\item -1.57051229803583\n",
       "\\item -1.40259553418624\n",
       "\\item -1.46900953845826\n",
       "\\item -1.37041380468078\n",
       "\\item -1.43852643095927\n",
       "\\item 0.679970097207742\n",
       "\\item 0.873900607332405\n",
       "\\item 2.8208850178285\n",
       "\\item 0.357980309367176\n",
       "\\item -0.412966084572933\n",
       "\\item -0.337958479875547\n",
       "\\item -0.455473488668883\n",
       "\\item -0.234672777263259\n",
       "\\item -0.265337432921503\n",
       "\\item -0.225506148112589\n",
       "\\item -0.348036461934792\n",
       "\\item 0.25476311276258\n",
       "\\item 1.33050628935412\n",
       "\\item 0.656142487203163\n",
       "\\item 0.911537275027971\n",
       "\\item 0.672920852382359\n",
       "\\item 0.89144733381478\n",
       "\\item -1.05193203559881\n",
       "\\item -1.08503153388551\n",
       "\\item -0.844493851449378\n",
       "\\item -0.915811729973089\n",
       "\\item -0.757547822629106\n",
       "\\item -1.04139579076036\n",
       "\\item -0.118373826378107\n",
       "\\item -0.198052823076111\n",
       "\\item 2.70340180778232\n",
       "\\item 3.28704189137148\n",
       "\\item 0.956442494684052\n",
       "\\item 0.337763280678385\n",
       "\\item -0.276321423337018\n",
       "\\item -0.553643178194102\n",
       "\\item -0.547143732260803\n",
       "\\item -0.534252617266758\n",
       "\\item -0.206288402763326\n",
       "\\item -0.583596486079199\n",
       "\\item -0.419781395970254\n",
       "\\item 0.255608246997003\n",
       "\\item 1.58119843260638\n",
       "\\item -0.905200377564395\n",
       "\\item 0.327959659987746\n",
       "\\item 0.261639723267072\n",
       "\\item 0.0622698713498222\n",
       "\\item -0.170873684534325\n",
       "\\item 0.334674143846758\n",
       "\\item -0.298647999805484\n",
       "\\item -0.238959102829816\n",
       "\\item 0.581962257638531\n",
       "\\item 0.246523458254259\n",
       "\\item 0.430416087825196\n",
       "\\item 0.406041860285426\n",
       "\\end{enumerate*}\n"
      ],
      "text/markdown": [
       "1. 0.407236534336061\n",
       "2. -1.05019069086591\n",
       "3. -0.584492513211468\n",
       "4. -0.274576921095152\n",
       "5. -0.256695538346014\n",
       "6. -0.623754150707447\n",
       "7. -0.571152775361082\n",
       "8. -0.550259191432198\n",
       "9. -0.427466983848788\n",
       "10. -0.344414624848506\n",
       "11. -0.244438026830708\n",
       "12. -1.05029360109049\n",
       "13. -2.2660295175662\n",
       "14. -2.03111509956399\n",
       "15. -1.82781010925407\n",
       "16. -2.35509360404859\n",
       "17. -2.68620879596758\n",
       "18. -2.16769326520294\n",
       "19. -1.88814915045866\n",
       "20. -1.70250140123609\n",
       "21. -1.57522935222311\n",
       "22. -1.49193671976658\n",
       "23. 3.86936815290144\n",
       "24. -0.0877088174608772\n",
       "25. -1.55359559703223\n",
       "26. -1.57051229803583\n",
       "27. -1.40259553418624\n",
       "28. -1.46900953845826\n",
       "29. -1.37041380468078\n",
       "30. -1.43852643095927\n",
       "31. 0.679970097207742\n",
       "32. 0.873900607332405\n",
       "33. 2.8208850178285\n",
       "34. 0.357980309367176\n",
       "35. -0.412966084572933\n",
       "36. -0.337958479875547\n",
       "37. -0.455473488668883\n",
       "38. -0.234672777263259\n",
       "39. -0.265337432921503\n",
       "40. -0.225506148112589\n",
       "41. -0.348036461934792\n",
       "42. 0.25476311276258\n",
       "43. 1.33050628935412\n",
       "44. 0.656142487203163\n",
       "45. 0.911537275027971\n",
       "46. 0.672920852382359\n",
       "47. 0.89144733381478\n",
       "48. -1.05193203559881\n",
       "49. -1.08503153388551\n",
       "50. -0.844493851449378\n",
       "51. -0.915811729973089\n",
       "52. -0.757547822629106\n",
       "53. -1.04139579076036\n",
       "54. -0.118373826378107\n",
       "55. -0.198052823076111\n",
       "56. 2.70340180778232\n",
       "57. 3.28704189137148\n",
       "58. 0.956442494684052\n",
       "59. 0.337763280678385\n",
       "60. -0.276321423337018\n",
       "61. -0.553643178194102\n",
       "62. -0.547143732260803\n",
       "63. -0.534252617266758\n",
       "64. -0.206288402763326\n",
       "65. -0.583596486079199\n",
       "66. -0.419781395970254\n",
       "67. 0.255608246997003\n",
       "68. 1.58119843260638\n",
       "69. -0.905200377564395\n",
       "70. 0.327959659987746\n",
       "71. 0.261639723267072\n",
       "72. 0.0622698713498222\n",
       "73. -0.170873684534325\n",
       "74. 0.334674143846758\n",
       "75. -0.298647999805484\n",
       "76. -0.238959102829816\n",
       "77. 0.581962257638531\n",
       "78. 0.246523458254259\n",
       "79. 0.430416087825196\n",
       "80. 0.406041860285426\n",
       "\n",
       "\n"
      ],
      "text/plain": [
       " [1]  0.40723653 -1.05019069 -0.58449251 -0.27457692 -0.25669554 -0.62375415\n",
       " [7] -0.57115278 -0.55025919 -0.42746698 -0.34441462 -0.24443803 -1.05029360\n",
       "[13] -2.26602952 -2.03111510 -1.82781011 -2.35509360 -2.68620880 -2.16769327\n",
       "[19] -1.88814915 -1.70250140 -1.57522935 -1.49193672  3.86936815 -0.08770882\n",
       "[25] -1.55359560 -1.57051230 -1.40259553 -1.46900954 -1.37041380 -1.43852643\n",
       "[31]  0.67997010  0.87390061  2.82088502  0.35798031 -0.41296608 -0.33795848\n",
       "[37] -0.45547349 -0.23467278 -0.26533743 -0.22550615 -0.34803646  0.25476311\n",
       "[43]  1.33050629  0.65614249  0.91153728  0.67292085  0.89144733 -1.05193204\n",
       "[49] -1.08503153 -0.84449385 -0.91581173 -0.75754782 -1.04139579 -0.11837383\n",
       "[55] -0.19805282  2.70340181  3.28704189  0.95644249  0.33776328 -0.27632142\n",
       "[61] -0.55364318 -0.54714373 -0.53425262 -0.20628840 -0.58359649 -0.41978140\n",
       "[67]  0.25560825  1.58119843 -0.90520038  0.32795966  0.26163972  0.06226987\n",
       "[73] -0.17087368  0.33467414 -0.29864800 -0.23895910  0.58196226  0.24652346\n",
       "[79]  0.43041609  0.40604186"
      ]
     },
     "metadata": {},
     "output_type": "display_data"
    }
   ],
   "source": [
    "df$log2_fc"
   ]
  },
  {
   "cell_type": "code",
   "execution_count": 26,
   "metadata": {
    "vscode": {
     "languageId": "r"
    }
   },
   "outputs": [],
   "source": [
    "#get highest and lowest fold change values\n",
    "max_fc <- max(df$log2_fc)\n",
    "min_fc <- min(df$log2_fc)\n",
    "\n",
    "col_fun = colorRamp2(c(-4, 0, 4), c(\"darkblue\", \"white\", \"darkorange\"))\n",
    "#select color based on fold_change\n",
    "df$color <- col_fun(df$log2_fc)\n"
   ]
  },
  {
   "cell_type": "code",
   "execution_count": 27,
   "metadata": {
    "vscode": {
     "languageId": "r"
    }
   },
   "outputs": [
    {
     "data": {
      "text/html": [
       "3.86936815290144"
      ],
      "text/latex": [
       "3.86936815290144"
      ],
      "text/markdown": [
       "3.86936815290144"
      ],
      "text/plain": [
       "[1] 3.869368"
      ]
     },
     "metadata": {},
     "output_type": "display_data"
    }
   ],
   "source": [
    "max_fc"
   ]
  },
  {
   "cell_type": "code",
   "execution_count": 28,
   "metadata": {
    "vscode": {
     "languageId": "r"
    }
   },
   "outputs": [
    {
     "data": {
      "text/html": [
       "-2.68620879596758"
      ],
      "text/latex": [
       "-2.68620879596758"
      ],
      "text/markdown": [
       "-2.68620879596758"
      ],
      "text/plain": [
       "[1] -2.686209"
      ]
     },
     "metadata": {},
     "output_type": "display_data"
    }
   ],
   "source": [
    "min_fc"
   ]
  },
  {
   "cell_type": "code",
   "execution_count": 29,
   "metadata": {
    "vscode": {
     "languageId": "r"
    }
   },
   "outputs": [],
   "source": [
    "# help(chordDiagram)"
   ]
  },
  {
   "cell_type": "code",
   "execution_count": 30,
   "metadata": {
    "vscode": {
     "languageId": "r"
    }
   },
   "outputs": [],
   "source": [
    "# # circos.par(gap.after = c(rep(5, length(unique(df[[1]]))-1), 15, \n",
    "# #                          rep(5, length(unique(df[[2]]))-1), 15))\n",
    "# #make chord diagram from TF_added to Promoter\n",
    "# chordDiagram(df[1:2],col=df$color, directional=1,direction.type = c(\"arrows+diffHeight\"), diffHeight=0.04,)\n",
    "# #add direction of transcription from TF_added to Promoter\n",
    "\n",
    "\n",
    "\n",
    "\n",
    "\n"
   ]
  },
  {
   "cell_type": "code",
   "execution_count": 31,
   "metadata": {
    "vscode": {
     "languageId": "r"
    }
   },
   "outputs": [],
   "source": [
    "# circlize_plot = function() {\n",
    "#     set.seed(12345)\n",
    "#     sectors = letters[1:10]\n",
    "#     circos.initialize(sectors, xlim = c(0, 1))\n",
    "#     circos.track(ylim = c(0, 1), panel.fun = function(x, y) {\n",
    "#         circos.points(runif(20), runif(20), cex = 0.5, pch = 16, col = 2)\n",
    "#         circos.points(runif(20), runif(20), cex = 0.5, pch = 16, col = 3)\n",
    "#     })\n",
    "#     circos.track(ylim = c(0, 1), panel.fun = function(x, y) {\n",
    "#         circos.lines(sort(runif(20)), runif(20), col = 4)\n",
    "#         circos.lines(sort(runif(20)), runif(20), col = 5)\n",
    "#     })\n",
    "\n",
    "#     for(i in 1:10) {\n",
    "#         circos.link(sample(sectors, 1), sort(runif(10))[1:2], \n",
    "#                     sample(sectors, 1), sort(runif(10))[1:2],\n",
    "#                     col = add_transparency(col_fun(rnorm(1))))\n",
    "#     }\n",
    "#     circos.clear()\n",
    "# }"
   ]
  },
  {
   "cell_type": "code",
   "execution_count": null,
   "metadata": {
    "vscode": {
     "languageId": "r"
    }
   },
   "outputs": [],
   "source": [
    "\n"
   ]
  },
  {
   "cell_type": "code",
   "execution_count": 32,
   "metadata": {
    "vscode": {
     "languageId": "r"
    }
   },
   "outputs": [
    {
     "data": {
      "text/html": [
       "<strong>png:</strong> 2"
      ],
      "text/latex": [
       "\\textbf{png:} 2"
      ],
      "text/markdown": [
       "**png:** 2"
      ],
      "text/plain": [
       "png \n",
       "  2 "
      ]
     },
     "metadata": {},
     "output_type": "display_data"
    }
   ],
   "source": [
    "circos.clear()\n",
    "pdf(file = \"../../../data/luminescence/coexpression_for_manuscript/circos_plot.pdf\")\n",
    "#set circle size \n",
    "\n",
    "# plot.new()\n",
    "# circle_size = unit(1, \"snpc\") # snpc unit gives you a square region\n",
    "#set circle margin\n",
    "circos.par(circle.margin = 0.5) # margin is 0.1 the radius of the circle\n",
    "#make labels vertical\n",
    "chordDiagram(df[1:2],col=df$color, directional=1,direction.type = c(\"arrows+diffHeight\"), link.arr.type = \"big.arrow\", diffHeight = -mm_h(2),annotationTrack = \"grid\", preAllocateTracks = 1,) #direction.type = c(\"arrows+diffHeight\")\n",
    "circos.trackPlotRegion(track.index = 1, panel.fun = function(x, y) {\n",
    "  xlim = get.cell.meta.data(\"xlim\")\n",
    "  ylim = get.cell.meta.data(\"ylim\")\n",
    "  sector.name = get.cell.meta.data(\"sector.index\")\n",
    "  circos.text(mean(xlim), ylim[1] + .1, sector.name, facing = \"clockwise\", niceFacing = TRUE, adj = c(0, 0.5))\n",
    "  \n",
    "}, bg.border = NA)\n",
    "\n",
    "\n",
    "lgd_links = Legend(at = c(-4, 0, 4), col_fun = col_fun, \n",
    "    title_position = \"topleft\", title = \"Log2FC\", direction = \"horizontal\")\n",
    "\n",
    "lgd_list_horizontal = packLegend(lgd_links, \n",
    "    direction = \"horizontal\")\n",
    "# draw(lgd_list_horizontal, y = unit(1, \"npc\") - circle_size, just = \"top\")\n",
    "draw(lgd_list_horizontal, x = unit(6, \"mm\"), y = unit(5, \"mm\"), just = c(\"left\", \"bottom\"))\n",
    "# #save plot as svg\n",
    "# ggsave(\"../../../data/luminescence/coexpression_for_manuscript/circos_plot.svg\", width = 10, height = 10)\n",
    "# # save plot as pdf\n",
    "# ggsave(\"../../../data/luminescence/coexpression_for_manuscript/circos_plot.pdf\", width = 10, height = 10)\n",
    "dev.off()\n",
    "# circos.clear()"
   ]
  },
  {
   "cell_type": "code",
   "execution_count": 33,
   "metadata": {
    "vscode": {
     "languageId": "r"
    }
   },
   "outputs": [],
   "source": [
    "#change outside segment colours to match those in previous figures in thesis, remove non-significant edges.\n",
    "# size of each segment shows how many edges to and from\n",
    "# if there are tf-promoter interactions i am most interested in then order them to be opposites at 0-180 degrees or 90-270 or o-90, just not next to each other \n",
    "#make all labels fit"
   ]
  },
  {
   "cell_type": "code",
   "execution_count": 34,
   "metadata": {
    "vscode": {
     "languageId": "r"
    }
   },
   "outputs": [
    {
     "data": {
      "text/html": [
       "<strong>png:</strong> 2"
      ],
      "text/latex": [
       "\\textbf{png:} 2"
      ],
      "text/markdown": [
       "**png:** 2"
      ],
      "text/plain": [
       "png \n",
       "  2 "
      ]
     },
     "metadata": {},
     "output_type": "display_data"
    }
   ],
   "source": [
    "pdf(file = \"../../../data/luminescence/coexpression_for_manuscript/circos_plot_activator.pdf\") \n",
    "#show only activation\n",
    "chordDiagram(df[1:2],col=df$color, link.visible = df$log2_fc > 0, directional=1,direction.type = c(\"arrows+diffHeight\"), link.arr.type = \"big.arrow\", diffHeight = -mm_h(2),annotationTrack = \"grid\", preAllocateTracks = 1,) #direction.type = c(\"arrows+diffHeight\")\n",
    "circos.trackPlotRegion(track.index = 1, panel.fun = function(x, y) {\n",
    "  xlim = get.cell.meta.data(\"xlim\")\n",
    "  ylim = get.cell.meta.data(\"ylim\")\n",
    "  sector.name = get.cell.meta.data(\"sector.index\")\n",
    "  circos.text(mean(xlim), ylim[1] + .1, sector.name, facing = \"clockwise\", niceFacing = TRUE, adj = c(0, 0.5))\n",
    "  \n",
    "}, bg.border = NA)\n",
    "\n",
    "\n",
    "lgd_links = Legend(at = c(-4, 0, 4), col_fun = col_fun, \n",
    "    title_position = \"topleft\", title = \"Log2FC\", direction = \"horizontal\")\n",
    "\n",
    "lgd_list_horizontal = packLegend(lgd_links, \n",
    "    direction = \"horizontal\")\n",
    "# draw(lgd_list_horizontal, y = unit(1, \"npc\") - circle_size, just = \"top\")\n",
    "draw(lgd_list_horizontal, x = unit(6, \"mm\"), y = unit(5, \"mm\"), just = c(\"left\", \"bottom\"))\n",
    "# #save plot as svg\n",
    "# ggsave(\"../../../data/luminescence/coexpression_for_manuscript/circos_plot_activator.svg\", width = 10, height = 10)\n",
    "# # save plot as pdf\n",
    "# ggsave(\"../../../data/luminescence/coexpression_for_manuscript/circos_plot_activator.pdf\", width = 10, height = 10)\n",
    "dev.off()\n",
    "# circos.clear()"
   ]
  },
  {
   "cell_type": "code",
   "execution_count": 35,
   "metadata": {
    "vscode": {
     "languageId": "r"
    }
   },
   "outputs": [
    {
     "data": {
      "text/html": [
       "<strong>png:</strong> 2"
      ],
      "text/latex": [
       "\\textbf{png:} 2"
      ],
      "text/markdown": [
       "**png:** 2"
      ],
      "text/plain": [
       "png \n",
       "  2 "
      ]
     },
     "metadata": {},
     "output_type": "display_data"
    }
   ],
   "source": [
    "pdf(file = \"../../../data/luminescence/coexpression_for_manuscript/circos_plot_repressor.pdf\") \n",
    "#show only repression\n",
    "chordDiagram(df[1:2],col=df$color, link.visible = df$log2_fc < 0, directional=1,direction.type = c(\"arrows+diffHeight\"), link.arr.type = \"big.arrow\", diffHeight = -mm_h(2),annotationTrack = \"grid\", preAllocateTracks = 1,) #direction.type = c(\"arrows+diffHeight\")\n",
    "circos.trackPlotRegion(track.index = 1, panel.fun = function(x, y) {\n",
    "  xlim = get.cell.meta.data(\"xlim\")\n",
    "  ylim = get.cell.meta.data(\"ylim\")\n",
    "  sector.name = get.cell.meta.data(\"sector.index\")\n",
    "  circos.text(mean(xlim), ylim[1] + .1, sector.name, facing = \"clockwise\", niceFacing = TRUE, adj = c(0, 0.5))\n",
    "  \n",
    "}, bg.border = NA)\n",
    "\n",
    "\n",
    "lgd_links = Legend(at = c(-4, 0, 4), col_fun = col_fun, \n",
    "    title_position = \"topleft\", title = \"Log2FC\", direction = \"horizontal\")\n",
    "\n",
    "lgd_list_horizontal = packLegend(lgd_links, \n",
    "    direction = \"horizontal\")\n",
    "# draw(lgd_list_horizontal, y = unit(1, \"npc\") - circle_size, just = \"top\")\n",
    "draw(lgd_list_horizontal, x = unit(6, \"mm\"), y = unit(5, \"mm\"), just = c(\"left\", \"bottom\"))\n",
    "#save plot as svg\n",
    "# ggsave(\"../../../data/luminescence/coexpression_for_manuscript/circos_plot_repressor.svg\", width = 10, height = 10)\n",
    "# # save plot as pdf\n",
    "# ggsave(\"../../../data/luminescence/coexpression_for_manuscript/circos_plot_repressor.pdf\", width = 10, height = 10)\n",
    "\n",
    "dev.off()\n",
    "# circos.clear()"
   ]
  },
  {
   "cell_type": "code",
   "execution_count": 36,
   "metadata": {
    "vscode": {
     "languageId": "r"
    }
   },
   "outputs": [],
   "source": [
    "#now filter df to exclude values in TF_added column: exclude any values with part of the string containing NAA or IAA3\n",
    "\n",
    "\n",
    "df = df[!grepl(\"NAA\", df$TF_added),]\n",
    "df = df[!grepl(\"IAA3\", df$TF_added),]\n"
   ]
  },
  {
   "cell_type": "code",
   "execution_count": 37,
   "metadata": {
    "vscode": {
     "languageId": "r"
    }
   },
   "outputs": [
    {
     "data": {
      "text/html": [
       "<style>\n",
       ".list-inline {list-style: none; margin:0; padding: 0}\n",
       ".list-inline>li {display: inline-block}\n",
       ".list-inline>li:not(:last-child)::after {content: \"\\00b7\"; padding: 0 .5ex}\n",
       "</style>\n",
       "<ol class=list-inline><li>'ANAC032'</li><li>'ANR1'</li><li>'ARF18'</li><li>'ARF9/18'</li><li>'ARF9'</li><li>'NLP6'</li><li>'NLP7'</li><li>'DREB26'</li></ol>\n"
      ],
      "text/latex": [
       "\\begin{enumerate*}\n",
       "\\item 'ANAC032'\n",
       "\\item 'ANR1'\n",
       "\\item 'ARF18'\n",
       "\\item 'ARF9/18'\n",
       "\\item 'ARF9'\n",
       "\\item 'NLP6'\n",
       "\\item 'NLP7'\n",
       "\\item 'DREB26'\n",
       "\\end{enumerate*}\n"
      ],
      "text/markdown": [
       "1. 'ANAC032'\n",
       "2. 'ANR1'\n",
       "3. 'ARF18'\n",
       "4. 'ARF9/18'\n",
       "5. 'ARF9'\n",
       "6. 'NLP6'\n",
       "7. 'NLP7'\n",
       "8. 'DREB26'\n",
       "\n",
       "\n"
      ],
      "text/plain": [
       "[1] \"ANAC032\" \"ANR1\"    \"ARF18\"   \"ARF9/18\" \"ARF9\"    \"NLP6\"    \"NLP7\"   \n",
       "[8] \"DREB26\" "
      ]
     },
     "metadata": {},
     "output_type": "display_data"
    }
   ],
   "source": [
    "#show unique TF_added values\n",
    "unique(df$TF_added)"
   ]
  },
  {
   "cell_type": "code",
   "execution_count": 38,
   "metadata": {
    "vscode": {
     "languageId": "r"
    }
   },
   "outputs": [
    {
     "data": {
      "text/html": [
       "<strong>png:</strong> 2"
      ],
      "text/latex": [
       "\\textbf{png:} 2"
      ],
      "text/markdown": [
       "**png:** 2"
      ],
      "text/plain": [
       "png \n",
       "  2 "
      ]
     },
     "metadata": {},
     "output_type": "display_data"
    }
   ],
   "source": [
    "#make the plot again without excluded values\n",
    "circos.clear()\n",
    "pdf(file = \"../../../data/luminescence/coexpression_for_manuscript/circos_plot_no_NAA.pdf\")\n",
    "#set circle size \n",
    "\n",
    "# plot.new()\n",
    "# circle_size = unit(1, \"snpc\") # snpc unit gives you a square region\n",
    "#set circle margin\n",
    "circos.par(circle.margin = 0.5) # margin is 0.1 the radius of the circle\n",
    "#make labels vertical\n",
    "chordDiagram(df[1:2],col=df$color, directional=1,direction.type = c(\"arrows+diffHeight\"), link.arr.type = \"big.arrow\", diffHeight = -mm_h(2),annotationTrack = \"grid\", preAllocateTracks = 1,) #direction.type = c(\"arrows+diffHeight\")\n",
    "circos.trackPlotRegion(track.index = 1, panel.fun = function(x, y) {\n",
    "  xlim = get.cell.meta.data(\"xlim\")\n",
    "  ylim = get.cell.meta.data(\"ylim\")\n",
    "  sector.name = get.cell.meta.data(\"sector.index\")\n",
    "  circos.text(mean(xlim), ylim[1] + .1, sector.name, facing = \"clockwise\", niceFacing = TRUE, adj = c(0, 0.5))\n",
    "  \n",
    "}, bg.border = NA)\n",
    "\n",
    "\n",
    "lgd_links = Legend(at = c(-4, 0, 4), col_fun = col_fun, \n",
    "    title_position = \"topleft\", title = \"Log2FC\", direction = \"horizontal\")\n",
    "\n",
    "lgd_list_horizontal = packLegend(lgd_links, \n",
    "    direction = \"horizontal\")\n",
    "# draw(lgd_list_horizontal, y = unit(1, \"npc\") - circle_size, just = \"top\")\n",
    "draw(lgd_list_horizontal, x = unit(6, \"mm\"), y = unit(5, \"mm\"), just = c(\"left\", \"bottom\"))\n",
    "# #save plot as svg\n",
    "# ggsave(\"../../../data/luminescence/coexpression_for_manuscript/circos_plot.svg\", width = 10, height = 10)\n",
    "# # save plot as pdf\n",
    "# ggsave(\"../../../data/luminescence/coexpression_for_manuscript/circos_plot.pdf\", width = 10, height = 10)\n",
    "dev.off()\n",
    "# circos.clear()"
   ]
  },
  {
   "cell_type": "code",
   "execution_count": null,
   "metadata": {
    "vscode": {
     "languageId": "r"
    }
   },
   "outputs": [],
   "source": []
  },
  {
   "cell_type": "code",
   "execution_count": null,
   "metadata": {
    "vscode": {
     "languageId": "r"
    }
   },
   "outputs": [],
   "source": []
  },
  {
   "cell_type": "code",
   "execution_count": null,
   "metadata": {
    "vscode": {
     "languageId": "r"
    }
   },
   "outputs": [],
   "source": []
  },
  {
   "cell_type": "code",
   "execution_count": null,
   "metadata": {
    "vscode": {
     "languageId": "r"
    }
   },
   "outputs": [],
   "source": []
  }
 ],
 "metadata": {
  "kernelspec": {
   "display_name": "R",
   "language": "R",
   "name": "ir"
  },
  "language_info": {
   "codemirror_mode": "r",
   "file_extension": ".r",
   "mimetype": "text/x-r-source",
   "name": "R",
   "pygments_lexer": "r",
   "version": "4.1.2"
  },
  "orig_nbformat": 4,
  "vscode": {
   "interpreter": {
    "hash": "abb4a3ee8046d2374a4ba0586ebd911027f5096c2278397f3bc588a9004a08d9"
   }
  }
 },
 "nbformat": 4,
 "nbformat_minor": 2
}
