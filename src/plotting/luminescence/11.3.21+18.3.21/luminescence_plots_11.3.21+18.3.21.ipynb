{
 "cells": [
  {
   "cell_type": "code",
   "execution_count": 39,
   "metadata": {},
   "outputs": [],
   "source": [
    "import pandas as pd\n",
    "import shutil\n",
    "import numpy as np\n",
    "import skbio\n",
    "from collections import Counter\n",
    "import seaborn as sns\n",
    "import matplotlib.pyplot as plt\n",
    "from scipy import stats\n",
    "from statsmodels.formula.api import ols\n",
    "import researchpy as rp\n",
    "from matplotlib import rcParams\n",
    "#from statsmodels.stats.multicomp import pairwise_tukeyhsd\n",
    "#from statsmodels.stats.multicomp import MultiComparison\n",
    "#dunns\n",
    "from itertools import combinations\n",
    "from statsmodels.stats.multitest import multipletests\n",
    "from statsmodels.stats.libqsturng import psturng\n",
    "import warnings\n",
    "\n",
    "import plotly.express as px\n",
    "import plotly.graph_objects as go\n",
    "import os\n",
    "import re\n",
    "from plotly.subplots import make_subplots\n",
    "\n",
    "from statsmodels.stats.multicomp import pairwise_tukeyhsd\n",
    "from statsmodels.stats.multicomp import MultiComparison\n",
    "import statsmodels.api as sm\n",
    "\n",
    "import statsmodels.api as sa\n",
    "import scikit_posthocs as sp\n",
    "\n",
    "from pingouin import kruskal\n",
    "\n",
    "from statannot import add_stat_annotation\n",
    "\n",
    "rcParams.update({'figure.autolayout': True})"
   ]
  },
  {
   "cell_type": "code",
   "execution_count": 2,
   "metadata": {},
   "outputs": [
    {
     "name": "stderr",
     "output_type": "stream",
     "text": [
      "/home/witham/opt/anaconda3/envs/PromoterArchitecturePipeline/lib/python3.7/site-packages/outdated/utils.py:18: OutdatedPackageWarning: The package pingouin is out of date. Your version is 0.3.7, the latest is 0.3.10.\n",
      "Set the environment variable OUTDATED_IGNORE=1 to disable these warnings.\n",
      "  **kwargs\n"
     ]
    }
   ],
   "source": [
    "date1 = '11.3.21'\n",
    "date2 = '18.3.21'\n",
    "finaldate = '11.3.21+18.3.21'"
   ]
  },
  {
   "cell_type": "code",
   "execution_count": 7,
   "metadata": {},
   "outputs": [],
   "source": [
    "if not os.path.exists(f'../../../../data/plots/luminescence/{finaldate}'):\n",
    "    os.mkdir(f'../../../../data/plots/luminescence/{finaldate}')"
   ]
  },
  {
   "cell_type": "code",
   "execution_count": 9,
   "metadata": {},
   "outputs": [],
   "source": [
    "if not os.path.exists(f'../../../../data/luminescence/to_be_sorted/{finaldate}'):\n",
    "    os.mkdir(f'../../../../data/luminescence/to_be_sorted/{finaldate}')"
   ]
  },
  {
   "cell_type": "code",
   "execution_count": 11,
   "metadata": {},
   "outputs": [
    {
     "data": {
      "text/plain": "'../../../../data/luminescence/to_be_sorted/11.3.21+18.3.21/output_raw_18.3.21.csv'"
     },
     "execution_count": 11,
     "metadata": {},
     "output_type": "execute_result"
    }
   ],
   "source": [
    "#copy files to new folder\n",
    "src1 = f'../../../../data/luminescence/to_be_sorted/{date1}/output_raw.csv'\n",
    "dst1 = f'../../../../data/luminescence/to_be_sorted/{finaldate}/output_raw_{date1}.csv'\n",
    "src2 = f'../../../../data/luminescence/to_be_sorted/{date2}/output_raw.csv'\n",
    "dst2 = f'../../../../data/luminescence/to_be_sorted/{finaldate}/output_raw_{date2}.csv'\n",
    "shutil.copyfile(src1,dst1)\n",
    "shutil.copyfile(src2,dst2)"
   ]
  },
  {
   "cell_type": "code",
   "execution_count": 12,
   "metadata": {},
   "outputs": [],
   "source": [
    "luminescence_raw_date1 = f'../../../../data/luminescence/to_be_sorted/{finaldate}/output_raw_{date1}.csv'\n",
    "luminescence_raw_date2 = f'../../../../data/luminescence/to_be_sorted/{finaldate}/output_raw_{date2}.csv'"
   ]
  },
  {
   "cell_type": "code",
   "execution_count": 13,
   "metadata": {},
   "outputs": [],
   "source": [
    "luminescence_raw_df_date1 = pd.read_csv(luminescence_raw_date1, header=0)\n",
    "luminescence_raw_df_date2 = pd.read_csv(luminescence_raw_date2, header=0)"
   ]
  },
  {
   "cell_type": "code",
   "execution_count": 14,
   "metadata": {},
   "outputs": [
    {
     "data": {
      "text/html": "<div>\n<style scoped>\n    .dataframe tbody tr th:only-of-type {\n        vertical-align: middle;\n    }\n\n    .dataframe tbody tr th {\n        vertical-align: top;\n    }\n\n    .dataframe thead th {\n        text-align: right;\n    }\n</style>\n<table border=\"1\" class=\"dataframe\">\n  <thead>\n    <tr style=\"text-align: right;\">\n      <th></th>\n      <th>well_row</th>\n      <th>well_col</th>\n      <th>content</th>\n      <th>fluc_luminescence</th>\n      <th>nluc_luminescence</th>\n      <th>name</th>\n      <th>condition</th>\n      <th>nluc/fluc</th>\n      <th>date</th>\n    </tr>\n  </thead>\n  <tbody>\n    <tr>\n      <th>0</th>\n      <td>A</td>\n      <td>1</td>\n      <td>Sample X1</td>\n      <td>419.0</td>\n      <td>36332.666667</td>\n      <td>35+34</td>\n      <td>Co-expression</td>\n      <td>86.712808</td>\n      <td>11.3.21</td>\n    </tr>\n    <tr>\n      <th>1</th>\n      <td>A</td>\n      <td>4</td>\n      <td>Sample X25</td>\n      <td>913.0</td>\n      <td>17858.666667</td>\n      <td>378+34</td>\n      <td>Co-expression</td>\n      <td>19.560424</td>\n      <td>11.3.21</td>\n    </tr>\n    <tr>\n      <th>2</th>\n      <td>A</td>\n      <td>5</td>\n      <td>Sample X33</td>\n      <td>423.0</td>\n      <td>8718.666667</td>\n      <td>378+34</td>\n      <td>Co-expression</td>\n      <td>20.611505</td>\n      <td>11.3.21</td>\n    </tr>\n    <tr>\n      <th>3</th>\n      <td>B</td>\n      <td>1</td>\n      <td>Sample X2</td>\n      <td>18666.0</td>\n      <td>85141.666667</td>\n      <td>102+34</td>\n      <td>Co-expression</td>\n      <td>4.561324</td>\n      <td>11.3.21</td>\n    </tr>\n    <tr>\n      <th>4</th>\n      <td>B</td>\n      <td>2</td>\n      <td>Sample X10</td>\n      <td>4666.0</td>\n      <td>29528.666667</td>\n      <td>102+34</td>\n      <td>Co-expression</td>\n      <td>6.328475</td>\n      <td>11.3.21</td>\n    </tr>\n    <tr>\n      <th>...</th>\n      <td>...</td>\n      <td>...</td>\n      <td>...</td>\n      <td>...</td>\n      <td>...</td>\n      <td>...</td>\n      <td>...</td>\n      <td>...</td>\n      <td>...</td>\n    </tr>\n    <tr>\n      <th>57</th>\n      <td>H</td>\n      <td>2</td>\n      <td>Sample X16</td>\n      <td>1024.0</td>\n      <td>65314.666667</td>\n      <td>377+34</td>\n      <td>Co-expression</td>\n      <td>63.783854</td>\n      <td>11.3.21</td>\n    </tr>\n    <tr>\n      <th>58</th>\n      <td>H</td>\n      <td>3</td>\n      <td>Sample X24</td>\n      <td>832.0</td>\n      <td>44252.666667</td>\n      <td>377+34</td>\n      <td>Co-expression</td>\n      <td>53.188301</td>\n      <td>11.3.21</td>\n    </tr>\n    <tr>\n      <th>59</th>\n      <td>H</td>\n      <td>4</td>\n      <td>Sample X32</td>\n      <td>1431.0</td>\n      <td>708243.666667</td>\n      <td>375+29+34</td>\n      <td>Co-expression</td>\n      <td>494.929187</td>\n      <td>11.3.21</td>\n    </tr>\n    <tr>\n      <th>60</th>\n      <td>H</td>\n      <td>6</td>\n      <td>Sample X48</td>\n      <td>891.0</td>\n      <td>522154.666667</td>\n      <td>375+29+34</td>\n      <td>Co-expression</td>\n      <td>586.032174</td>\n      <td>11.3.21</td>\n    </tr>\n    <tr>\n      <th>61</th>\n      <td>H</td>\n      <td>7</td>\n      <td>Sample X56</td>\n      <td>1929.0</td>\n      <td>549544.666667</td>\n      <td>381+351+34</td>\n      <td>Co-expression</td>\n      <td>284.885778</td>\n      <td>11.3.21</td>\n    </tr>\n  </tbody>\n</table>\n<p>62 rows × 9 columns</p>\n</div>",
      "text/plain": "   well_row  well_col     content  fluc_luminescence  nluc_luminescence  \\\n0         A         1   Sample X1              419.0       36332.666667   \n1         A         4  Sample X25              913.0       17858.666667   \n2         A         5  Sample X33              423.0        8718.666667   \n3         B         1   Sample X2            18666.0       85141.666667   \n4         B         2  Sample X10             4666.0       29528.666667   \n..      ...       ...         ...                ...                ...   \n57        H         2  Sample X16             1024.0       65314.666667   \n58        H         3  Sample X24              832.0       44252.666667   \n59        H         4  Sample X32             1431.0      708243.666667   \n60        H         6  Sample X48              891.0      522154.666667   \n61        H         7  Sample X56             1929.0      549544.666667   \n\n          name      condition   nluc/fluc     date  \n0        35+34  Co-expression   86.712808  11.3.21  \n1       378+34  Co-expression   19.560424  11.3.21  \n2       378+34  Co-expression   20.611505  11.3.21  \n3       102+34  Co-expression    4.561324  11.3.21  \n4       102+34  Co-expression    6.328475  11.3.21  \n..         ...            ...         ...      ...  \n57      377+34  Co-expression   63.783854  11.3.21  \n58      377+34  Co-expression   53.188301  11.3.21  \n59   375+29+34  Co-expression  494.929187  11.3.21  \n60   375+29+34  Co-expression  586.032174  11.3.21  \n61  381+351+34  Co-expression  284.885778  11.3.21  \n\n[62 rows x 9 columns]"
     },
     "execution_count": 14,
     "metadata": {},
     "output_type": "execute_result"
    }
   ],
   "source": [
    "luminescence_raw_df_date1"
   ]
  },
  {
   "cell_type": "code",
   "execution_count": 15,
   "metadata": {},
   "outputs": [
    {
     "data": {
      "text/html": "<div>\n<style scoped>\n    .dataframe tbody tr th:only-of-type {\n        vertical-align: middle;\n    }\n\n    .dataframe tbody tr th {\n        vertical-align: top;\n    }\n\n    .dataframe thead th {\n        text-align: right;\n    }\n</style>\n<table border=\"1\" class=\"dataframe\">\n  <thead>\n    <tr style=\"text-align: right;\">\n      <th></th>\n      <th>well_row</th>\n      <th>well_col</th>\n      <th>content</th>\n      <th>fluc_luminescence</th>\n      <th>nluc_luminescence</th>\n      <th>name</th>\n      <th>condition</th>\n      <th>nluc/fluc</th>\n      <th>date</th>\n    </tr>\n  </thead>\n  <tbody>\n    <tr>\n      <th>0</th>\n      <td>A</td>\n      <td>1</td>\n      <td>Sample X1</td>\n      <td>114148.0</td>\n      <td>82681580.0</td>\n      <td>35+34</td>\n      <td>Co-expression</td>\n      <td>724.336651</td>\n      <td>18.3.21</td>\n    </tr>\n    <tr>\n      <th>1</th>\n      <td>A</td>\n      <td>2</td>\n      <td>Sample X9</td>\n      <td>22424.0</td>\n      <td>6398577.0</td>\n      <td>35+34</td>\n      <td>Co-expression</td>\n      <td>285.345032</td>\n      <td>18.3.21</td>\n    </tr>\n    <tr>\n      <th>2</th>\n      <td>A</td>\n      <td>3</td>\n      <td>Sample X17</td>\n      <td>1622.0</td>\n      <td>719780.0</td>\n      <td>35+34</td>\n      <td>Co-expression</td>\n      <td>443.760789</td>\n      <td>18.3.21</td>\n    </tr>\n    <tr>\n      <th>3</th>\n      <td>A</td>\n      <td>4</td>\n      <td>Sample X25</td>\n      <td>12803.0</td>\n      <td>90291.0</td>\n      <td>378+34</td>\n      <td>Co-expression</td>\n      <td>7.052331</td>\n      <td>18.3.21</td>\n    </tr>\n    <tr>\n      <th>4</th>\n      <td>A</td>\n      <td>5</td>\n      <td>Sample X33</td>\n      <td>38814.0</td>\n      <td>321426.0</td>\n      <td>378+34</td>\n      <td>Co-expression</td>\n      <td>8.281187</td>\n      <td>18.3.21</td>\n    </tr>\n    <tr>\n      <th>...</th>\n      <td>...</td>\n      <td>...</td>\n      <td>...</td>\n      <td>...</td>\n      <td>...</td>\n      <td>...</td>\n      <td>...</td>\n      <td>...</td>\n      <td>...</td>\n    </tr>\n    <tr>\n      <th>82</th>\n      <td>H</td>\n      <td>5</td>\n      <td>Sample X40</td>\n      <td>7832.0</td>\n      <td>5585167.0</td>\n      <td>375+29+34</td>\n      <td>Co-expression</td>\n      <td>713.121425</td>\n      <td>18.3.21</td>\n    </tr>\n    <tr>\n      <th>83</th>\n      <td>H</td>\n      <td>6</td>\n      <td>Sample X48</td>\n      <td>39301.0</td>\n      <td>24737166.0</td>\n      <td>375+29+34</td>\n      <td>Co-expression</td>\n      <td>629.428411</td>\n      <td>18.3.21</td>\n    </tr>\n    <tr>\n      <th>84</th>\n      <td>H</td>\n      <td>7</td>\n      <td>Sample X56</td>\n      <td>12752.0</td>\n      <td>534426.0</td>\n      <td>381+351+34</td>\n      <td>Co-expression</td>\n      <td>41.909191</td>\n      <td>18.3.21</td>\n    </tr>\n    <tr>\n      <th>85</th>\n      <td>H</td>\n      <td>8</td>\n      <td>Sample X64</td>\n      <td>4137.0</td>\n      <td>308327.0</td>\n      <td>381+351+34</td>\n      <td>Co-expression</td>\n      <td>74.529127</td>\n      <td>18.3.21</td>\n    </tr>\n    <tr>\n      <th>86</th>\n      <td>H</td>\n      <td>9</td>\n      <td>Sample X72</td>\n      <td>3937.0</td>\n      <td>249309.0</td>\n      <td>381+351+34</td>\n      <td>Co-expression</td>\n      <td>63.324613</td>\n      <td>18.3.21</td>\n    </tr>\n  </tbody>\n</table>\n<p>87 rows × 9 columns</p>\n</div>",
      "text/plain": "   well_row  well_col     content  fluc_luminescence  nluc_luminescence  \\\n0         A         1   Sample X1           114148.0         82681580.0   \n1         A         2   Sample X9            22424.0          6398577.0   \n2         A         3  Sample X17             1622.0           719780.0   \n3         A         4  Sample X25            12803.0            90291.0   \n4         A         5  Sample X33            38814.0           321426.0   \n..      ...       ...         ...                ...                ...   \n82        H         5  Sample X40             7832.0          5585167.0   \n83        H         6  Sample X48            39301.0         24737166.0   \n84        H         7  Sample X56            12752.0           534426.0   \n85        H         8  Sample X64             4137.0           308327.0   \n86        H         9  Sample X72             3937.0           249309.0   \n\n          name      condition   nluc/fluc     date  \n0        35+34  Co-expression  724.336651  18.3.21  \n1        35+34  Co-expression  285.345032  18.3.21  \n2        35+34  Co-expression  443.760789  18.3.21  \n3       378+34  Co-expression    7.052331  18.3.21  \n4       378+34  Co-expression    8.281187  18.3.21  \n..         ...            ...         ...      ...  \n82   375+29+34  Co-expression  713.121425  18.3.21  \n83   375+29+34  Co-expression  629.428411  18.3.21  \n84  381+351+34  Co-expression   41.909191  18.3.21  \n85  381+351+34  Co-expression   74.529127  18.3.21  \n86  381+351+34  Co-expression   63.324613  18.3.21  \n\n[87 rows x 9 columns]"
     },
     "execution_count": 15,
     "metadata": {},
     "output_type": "execute_result"
    }
   ],
   "source": [
    "luminescence_raw_df_date2"
   ]
  },
  {
   "cell_type": "code",
   "execution_count": 8,
   "metadata": {},
   "outputs": [],
   "source": [
    "#add promoter names column\n",
    "luminescence_raw_df_date1['Promoter'] = luminescence_raw_df_date1.name "
   ]
  },
  {
   "cell_type": "code",
   "execution_count": 9,
   "metadata": {},
   "outputs": [],
   "source": [
    "# luminescence_raw_df.loc[luminescence_raw_df.name == '71 + 72', 'Promoter'] = 'UBQ10'\n",
    "# luminescence_raw_df.loc[luminescence_raw_df.name == '71+72', 'Promoter'] = 'UBQ10'\n",
    "# luminescence_raw_df.loc[luminescence_raw_df.name == '25+72', 'Promoter'] = 'NIR1'\n",
    "# luminescence_raw_df.loc[luminescence_raw_df.name == '35+72', 'Promoter'] = 'NOS'\n",
    "# luminescence_raw_df.loc[luminescence_raw_df.name == '36+72', 'Promoter'] = 'STAP4'\n",
    "# luminescence_raw_df.loc[luminescence_raw_df.name == '92+72', 'Promoter'] = 'NRP'\n",
    "# luminescence_raw_df.loc[luminescence_raw_df.name == '92+29+72', 'Promoter'] = 'NRP+NLP7_TF'\n",
    "# luminescence_raw_df_date1.loc[luminescence_raw_df_date1.name == '25 + 34', 'Promoter'] = 'NIR1(1000bp)'\n",
    "# luminescence_raw_df_date1.loc[luminescence_raw_df_date1.name == '35 + 34', 'Promoter'] = 'NOS'\n",
    "# luminescence_raw_df_date1.loc[luminescence_raw_df_date1.name == '36 + 34', 'Promoter'] = 'STAP4'\n",
    "# luminescence_raw_df_date1.loc[luminescence_raw_df_date1.name == '70 + 34', 'Promoter'] = '35S'\n",
    "# luminescence_raw_df_date1.loc[luminescence_raw_df_date1.name == '14 + 34', 'Promoter'] = 'ANAC032(1000bp)'\n",
    "# luminescence_raw_df_date1.loc[luminescence_raw_df_date1.name == '13 + 34', 'Promoter'] = 'ANAC032(500bp)'\n",
    "# luminescence_raw_df_date1.loc[luminescence_raw_df_date1.name == '15 + 34', 'Promoter'] = 'ANR1(500bp)'\n",
    "# luminescence_raw_df_date1.loc[luminescence_raw_df_date1.name == '16 + 34', 'Promoter'] = 'ANR1(1000bp)'\n",
    "# luminescence_raw_df_date1.loc[luminescence_raw_df_date1.name == '17 + 34', 'Promoter'] = 'ARF18(500bp)'\n",
    "# luminescence_raw_df_date1.loc[luminescence_raw_df_date1.name == '18 + 34', 'Promoter'] = 'ARF18(1000bp)'\n",
    "# luminescence_raw_df_date1.loc[luminescence_raw_df_date1.name == '21 + 34', 'Promoter'] = 'DREB26(500bp)'\n",
    "# luminescence_raw_df_date1.loc[luminescence_raw_df_date1.name == '22 + 34', 'Promoter'] = 'DREB26(1000bp)'\n",
    "# luminescence_raw_df_date1.loc[luminescence_raw_df_date1.name == '23 + 34', 'Promoter'] = 'NLP7(500bp)'\n",
    "# luminescence_raw_df_date1.loc[luminescence_raw_df_date1.name == '24 + 34', 'Promoter'] = 'NLP7(1000bp)'\n",
    "# # luminescence_raw_df_date1.loc[luminescence_raw_df_date1.name == '14+30+34', 'Promoter'] = 'ANAC032)'\n",
    "\n",
    "# luminescence_raw_df_date1.loc[luminescence_raw_df_date1.name.str.match(r'(^14.*)')==True, 'Promoter'] = 'ANAC032'\n",
    "# luminescence_raw_df_date1.loc[luminescence_raw_df_date1.name.str.match(r'(^16.*)')==True, 'Promoter'] = 'ANR1'\n",
    "# luminescence_raw_df_date1.loc[luminescence_raw_df_date1.name.str.match(r'(^18.*)')==True, 'Promoter'] = 'ARF18'\n",
    "# luminescence_raw_df_date1.loc[luminescence_raw_df_date1.name.str.match(r'(^20.*)')==True, 'Promoter'] = 'NLP6'\n",
    "# luminescence_raw_df_date1.loc[luminescence_raw_df_date1.name.str.match(r'(^22.*)')==True, 'Promoter'] = 'DREB26'\n",
    "# luminescence_raw_df_date1.loc[luminescence_raw_df_date1.name.str.match(r'(^24.*)')==True, 'Promoter'] = 'NLP7'\n",
    "# luminescence_raw_df_date1.loc[luminescence_raw_df_date1.name.str.match(r'(^25.*)')==True, 'Promoter'] = 'NIR1(1000bp)'\n",
    "# luminescence_raw_df_date1.loc[luminescence_raw_df_date1.name.str.match(r'(^35.*)')==True, 'Promoter'] = 'NOS'\n",
    "# luminescence_raw_df_date1.loc[luminescence_raw_df_date1.name.str.match(r'(^36.*)')==True, 'Promoter'] = 'STAP4'\n",
    "# luminescence_raw_df_date1.loc[luminescence_raw_df_date1.name.str.match(r'(^70.*)')==True, 'Promoter'] = '35S'\n",
    "\n",
    "#luminescence_raw_df.loc[luminescence_raw_df.name == '71 + 34', 'Promoter'] = 'UBQ10:LucN/35S:LucF'"
   ]
  },
  {
   "cell_type": "code",
   "execution_count": 16,
   "metadata": {},
   "outputs": [],
   "source": [
    "def add_promoter_column(df,promoter_number,promoter):\n",
    "    df.loc[df.name.str.match(fr'(^{promoter_number}.*)')==True, 'Promoter'] = promoter\n",
    "    "
   ]
  },
  {
   "cell_type": "code",
   "execution_count": 17,
   "metadata": {},
   "outputs": [],
   "source": [
    "#add TF coexpression column\n",
    "def add_tf_column(df, TF_number, TF):\n",
    "    \"\"\"function to add TF added column based on an input df, a TF_number and a TF name\"\"\"\n",
    "    df.loc[df.name.str.contains(fr'.*{TF_number}.*')&df.TF_added.isnull()==True, 'TF_added'] = TF\n",
    "    for index, value in df.loc[df.name.str.contains(fr'.*{TF_number}.*')&df.TF_added.notnull()].TF_added.items():\n",
    "        if re.match(fr'.*{TF}.*', value):\n",
    "            pass\n",
    "        else:\n",
    "            df.iloc[index, df.columns.get_loc('TF_added')] = f'{value}+{TF}'\n"
   ]
  },
  {
   "cell_type": "code",
   "execution_count": 18,
   "metadata": {},
   "outputs": [],
   "source": [
    "#divide by NOS calibrator (mean nos-LucN/35SLucF luminescence)\n",
    "def batch_correction(df,calibrator_promoter_name):\n",
    "   #print(df[df.Promoter==calibrator_promoter_name])\n",
    "    calibrator = df[df.Promoter==calibrator_promoter_name]\n",
    "    calibrator_mean = calibrator['nluc/fluc'].mean(axis=0)\n",
    "    df['corrected_luminescence'] = df['nluc/fluc']/calibrator_mean*100 "
   ]
  },
  {
   "cell_type": "code",
   "execution_count": 19,
   "metadata": {},
   "outputs": [
    {
     "data": {
      "text/plain": "1"
     },
     "execution_count": 19,
     "metadata": {},
     "output_type": "execute_result"
    }
   ],
   "source": [
    "#add promoters to date1 df\n",
    "add_promoter_column(luminescence_raw_df_date1, '14', 'ANAC032')\n",
    "add_promoter_column(luminescence_raw_df_date1, '16', 'ANR1')\n",
    "add_promoter_column(luminescence_raw_df_date1, '18', 'ARF18')\n",
    "add_promoter_column(luminescence_raw_df_date1, '20', 'NLP6')\n",
    "add_promoter_column(luminescence_raw_df_date1, '22', 'DREB26')\n",
    "add_promoter_column(luminescence_raw_df_date1, '24', 'NLP7')\n",
    "add_promoter_column(luminescence_raw_df_date1, '25', 'NIR1')\n",
    "add_promoter_column(luminescence_raw_df_date1, '35', 'NOS')\n",
    "add_promoter_column(luminescence_raw_df_date1, '36', 'STAP4')\n",
    "add_promoter_column(luminescence_raw_df_date1, '102', 'minimal_STAP4')\n",
    "add_promoter_column(luminescence_raw_df_date1, '103', '1xANR1')\n",
    "add_promoter_column(luminescence_raw_df_date1, '104', '1xNLP7')\n",
    "add_promoter_column(luminescence_raw_df_date1, '105', '1xTCP20+NLP7')\n",
    "add_promoter_column(luminescence_raw_df_date1, '106', '4xANR1')\n",
    "add_promoter_column(luminescence_raw_df_date1, '107', '4xNLP7')\n",
    "add_promoter_column(luminescence_raw_df_date1, '108', '4xTCP20+NLP7')\n",
    "add_promoter_column(luminescence_raw_df_date1, '109', '4xNRE')\n",
    "add_promoter_column(luminescence_raw_df_date1, '71', 'UBQ10')\n",
    "add_promoter_column(luminescence_raw_df_date1, '372', '4x[NRE-TATA]')\n",
    "add_promoter_column(luminescence_raw_df_date1, '373', '4x[NRE-TATA]+spacing')\n",
    "add_promoter_column(luminescence_raw_df_date1, '374', '4x[NRE-random]')\n",
    "add_promoter_column(luminescence_raw_df_date1, '375', '4x[NRE-random]+spacing')\n",
    "add_promoter_column(luminescence_raw_df_date1, '376', '3xHHO2-minsyn_105')\n",
    "add_promoter_column(luminescence_raw_df_date1, '377', 'minsyn_105-3xHHO2')\n",
    "add_promoter_column(luminescence_raw_df_date1, '378', '4x[bZIP3-random]')\n",
    "add_promoter_column(luminescence_raw_df_date1, '379', '4x[TGA1-random]')\n",
    "add_promoter_column(luminescence_raw_df_date1, '380', '2x[bZIP3-random-NRE-random]')\n",
    "add_promoter_column(luminescence_raw_df_date1, '381', '2x[TGA1-random-NRE-random]')\n",
    "1"
   ]
  },
  {
   "cell_type": "code",
   "execution_count": 20,
   "metadata": {},
   "outputs": [
    {
     "data": {
      "text/plain": "2"
     },
     "execution_count": 20,
     "metadata": {},
     "output_type": "execute_result"
    }
   ],
   "source": [
    "#add promoters to date2 df\n",
    "add_promoter_column(luminescence_raw_df_date2, '14', 'ANAC032')\n",
    "add_promoter_column(luminescence_raw_df_date2, '16', 'ANR1')\n",
    "add_promoter_column(luminescence_raw_df_date2, '18', 'ARF18')\n",
    "add_promoter_column(luminescence_raw_df_date2, '20', 'NLP6')\n",
    "add_promoter_column(luminescence_raw_df_date2, '22', 'DREB26')\n",
    "add_promoter_column(luminescence_raw_df_date2, '24', 'NLP7')\n",
    "add_promoter_column(luminescence_raw_df_date2, '25', 'NIR1')\n",
    "add_promoter_column(luminescence_raw_df_date2, '35', 'NOS')\n",
    "add_promoter_column(luminescence_raw_df_date2, '36', 'STAP4')\n",
    "add_promoter_column(luminescence_raw_df_date2, '102', 'minimal_STAP4')\n",
    "add_promoter_column(luminescence_raw_df_date2, '103', '1xANR1')\n",
    "add_promoter_column(luminescence_raw_df_date2, '104', '1xNLP7')\n",
    "add_promoter_column(luminescence_raw_df_date2, '105', '1xTCP20+NLP7')\n",
    "add_promoter_column(luminescence_raw_df_date2, '106', '4xANR1')\n",
    "add_promoter_column(luminescence_raw_df_date2, '107', '4xNLP7')\n",
    "add_promoter_column(luminescence_raw_df_date2, '108', '4xTCP20+NLP7')\n",
    "add_promoter_column(luminescence_raw_df_date2, '109', '4xNRE')\n",
    "add_promoter_column(luminescence_raw_df_date2, '71', 'UBQ10')\n",
    "add_promoter_column(luminescence_raw_df_date2, '372', '4x[NRE-TATA]')\n",
    "add_promoter_column(luminescence_raw_df_date2, '373', '4x[NRE-TATA]+spacing')\n",
    "add_promoter_column(luminescence_raw_df_date2, '374', '4x[NRE-random]')\n",
    "add_promoter_column(luminescence_raw_df_date2, '375', '4x[NRE-random]+spacing')\n",
    "add_promoter_column(luminescence_raw_df_date2, '376', '3xHHO2-minsyn_105')\n",
    "add_promoter_column(luminescence_raw_df_date2, '377', 'minsyn_105-3xHHO2')\n",
    "add_promoter_column(luminescence_raw_df_date2, '378', '4x[bZIP3-random]')\n",
    "add_promoter_column(luminescence_raw_df_date2, '379', '4x[TGA1-random]')\n",
    "add_promoter_column(luminescence_raw_df_date2, '380', '2x[bZIP3-random-NRE-random]')\n",
    "add_promoter_column(luminescence_raw_df_date2, '381', '2x[TGA1-random-NRE-random]')\n",
    "2"
   ]
  },
  {
   "cell_type": "code",
   "execution_count": 21,
   "metadata": {},
   "outputs": [],
   "source": [
    "#add TF column to date1 df\n",
    "luminescence_raw_df_date1['TF_added'] = np.nan\n",
    "add_tf_column(luminescence_raw_df_date1,'27','NLP6')\n",
    "add_tf_column(luminescence_raw_df_date1,'29','NLP7')\n",
    "add_tf_column(luminescence_raw_df_date1,'30','DREB26')\n",
    "add_tf_column(luminescence_raw_df_date1,'31','ANAC032')\n",
    "add_tf_column(luminescence_raw_df_date1,'32','ARF18')\n",
    "add_tf_column(luminescence_raw_df_date1,'33','ANR1')\n",
    "add_tf_column(luminescence_raw_df_date1,'111','TCP20')\n",
    "add_tf_column(luminescence_raw_df_date1,'348','HHO2')\n",
    "add_tf_column(luminescence_raw_df_date1,'349','bZIP3')\n",
    "add_tf_column(luminescence_raw_df_date1,'351','TGA1')"
   ]
  },
  {
   "cell_type": "code",
   "execution_count": 22,
   "metadata": {},
   "outputs": [],
   "source": [
    "#add TF column to date1 df\n",
    "luminescence_raw_df_date2['TF_added'] = np.nan\n",
    "add_tf_column(luminescence_raw_df_date2,'27','NLP6')\n",
    "add_tf_column(luminescence_raw_df_date2,'29','NLP7')\n",
    "add_tf_column(luminescence_raw_df_date2,'30','DREB26')\n",
    "add_tf_column(luminescence_raw_df_date2,'31','ANAC032')\n",
    "add_tf_column(luminescence_raw_df_date2,'32','ARF18')\n",
    "add_tf_column(luminescence_raw_df_date2,'33','ANR1')\n",
    "add_tf_column(luminescence_raw_df_date2,'111','TCP20')\n",
    "add_tf_column(luminescence_raw_df_date2,'348','HHO2')\n",
    "add_tf_column(luminescence_raw_df_date2,'349','bZIP3')\n",
    "add_tf_column(luminescence_raw_df_date2,'351','TGA1')"
   ]
  },
  {
   "cell_type": "code",
   "execution_count": 23,
   "metadata": {},
   "outputs": [],
   "source": [
    "#divide by NOS calibrator (mean nos-LucN/35SLucF luminescence)\n",
    "batch_correction(luminescence_raw_df_date1, 'NOS')\n",
    "batch_correction(luminescence_raw_df_date2, 'NOS')"
   ]
  },
  {
   "cell_type": "code",
   "execution_count": 24,
   "metadata": {},
   "outputs": [
    {
     "data": {
      "text/html": "<div>\n<style scoped>\n    .dataframe tbody tr th:only-of-type {\n        vertical-align: middle;\n    }\n\n    .dataframe tbody tr th {\n        vertical-align: top;\n    }\n\n    .dataframe thead th {\n        text-align: right;\n    }\n</style>\n<table border=\"1\" class=\"dataframe\">\n  <thead>\n    <tr style=\"text-align: right;\">\n      <th></th>\n      <th>well_row</th>\n      <th>well_col</th>\n      <th>content</th>\n      <th>fluc_luminescence</th>\n      <th>nluc_luminescence</th>\n      <th>name</th>\n      <th>condition</th>\n      <th>nluc/fluc</th>\n      <th>date</th>\n      <th>Promoter</th>\n      <th>TF_added</th>\n      <th>corrected_luminescence</th>\n    </tr>\n  </thead>\n  <tbody>\n    <tr>\n      <th>0</th>\n      <td>A</td>\n      <td>1</td>\n      <td>Sample X1</td>\n      <td>419.0</td>\n      <td>36332.666667</td>\n      <td>35+34</td>\n      <td>Co-expression</td>\n      <td>86.712808</td>\n      <td>11.3.21</td>\n      <td>NOS</td>\n      <td>NaN</td>\n      <td>100.000000</td>\n    </tr>\n    <tr>\n      <th>1</th>\n      <td>A</td>\n      <td>4</td>\n      <td>Sample X25</td>\n      <td>913.0</td>\n      <td>17858.666667</td>\n      <td>378+34</td>\n      <td>Co-expression</td>\n      <td>19.560424</td>\n      <td>11.3.21</td>\n      <td>4x[bZIP3-random]</td>\n      <td>NaN</td>\n      <td>22.557710</td>\n    </tr>\n    <tr>\n      <th>2</th>\n      <td>A</td>\n      <td>5</td>\n      <td>Sample X33</td>\n      <td>423.0</td>\n      <td>8718.666667</td>\n      <td>378+34</td>\n      <td>Co-expression</td>\n      <td>20.611505</td>\n      <td>11.3.21</td>\n      <td>4x[bZIP3-random]</td>\n      <td>NaN</td>\n      <td>23.769851</td>\n    </tr>\n    <tr>\n      <th>3</th>\n      <td>B</td>\n      <td>1</td>\n      <td>Sample X2</td>\n      <td>18666.0</td>\n      <td>85141.666667</td>\n      <td>102+34</td>\n      <td>Co-expression</td>\n      <td>4.561324</td>\n      <td>11.3.21</td>\n      <td>minimal_STAP4</td>\n      <td>NaN</td>\n      <td>5.260265</td>\n    </tr>\n    <tr>\n      <th>4</th>\n      <td>B</td>\n      <td>2</td>\n      <td>Sample X10</td>\n      <td>4666.0</td>\n      <td>29528.666667</td>\n      <td>102+34</td>\n      <td>Co-expression</td>\n      <td>6.328475</td>\n      <td>11.3.21</td>\n      <td>minimal_STAP4</td>\n      <td>NaN</td>\n      <td>7.298202</td>\n    </tr>\n    <tr>\n      <th>...</th>\n      <td>...</td>\n      <td>...</td>\n      <td>...</td>\n      <td>...</td>\n      <td>...</td>\n      <td>...</td>\n      <td>...</td>\n      <td>...</td>\n      <td>...</td>\n      <td>...</td>\n      <td>...</td>\n      <td>...</td>\n    </tr>\n    <tr>\n      <th>57</th>\n      <td>H</td>\n      <td>2</td>\n      <td>Sample X16</td>\n      <td>1024.0</td>\n      <td>65314.666667</td>\n      <td>377+34</td>\n      <td>Co-expression</td>\n      <td>63.783854</td>\n      <td>11.3.21</td>\n      <td>minsyn_105-3xHHO2</td>\n      <td>NaN</td>\n      <td>73.557593</td>\n    </tr>\n    <tr>\n      <th>58</th>\n      <td>H</td>\n      <td>3</td>\n      <td>Sample X24</td>\n      <td>832.0</td>\n      <td>44252.666667</td>\n      <td>377+34</td>\n      <td>Co-expression</td>\n      <td>53.188301</td>\n      <td>11.3.21</td>\n      <td>minsyn_105-3xHHO2</td>\n      <td>NaN</td>\n      <td>61.338460</td>\n    </tr>\n    <tr>\n      <th>59</th>\n      <td>H</td>\n      <td>4</td>\n      <td>Sample X32</td>\n      <td>1431.0</td>\n      <td>708243.666667</td>\n      <td>375+29+34</td>\n      <td>Co-expression</td>\n      <td>494.929187</td>\n      <td>11.3.21</td>\n      <td>4x[NRE-random]+spacing</td>\n      <td>NLP7</td>\n      <td>570.768260</td>\n    </tr>\n    <tr>\n      <th>60</th>\n      <td>H</td>\n      <td>6</td>\n      <td>Sample X48</td>\n      <td>891.0</td>\n      <td>522154.666667</td>\n      <td>375+29+34</td>\n      <td>Co-expression</td>\n      <td>586.032174</td>\n      <td>11.3.21</td>\n      <td>4x[NRE-random]+spacing</td>\n      <td>NLP7</td>\n      <td>675.831155</td>\n    </tr>\n    <tr>\n      <th>61</th>\n      <td>H</td>\n      <td>7</td>\n      <td>Sample X56</td>\n      <td>1929.0</td>\n      <td>549544.666667</td>\n      <td>381+351+34</td>\n      <td>Co-expression</td>\n      <td>284.885778</td>\n      <td>11.3.21</td>\n      <td>2x[TGA1-random-NRE-random]</td>\n      <td>TGA1</td>\n      <td>328.539444</td>\n    </tr>\n  </tbody>\n</table>\n<p>62 rows × 12 columns</p>\n</div>",
      "text/plain": "   well_row  well_col     content  fluc_luminescence  nluc_luminescence  \\\n0         A         1   Sample X1              419.0       36332.666667   \n1         A         4  Sample X25              913.0       17858.666667   \n2         A         5  Sample X33              423.0        8718.666667   \n3         B         1   Sample X2            18666.0       85141.666667   \n4         B         2  Sample X10             4666.0       29528.666667   \n..      ...       ...         ...                ...                ...   \n57        H         2  Sample X16             1024.0       65314.666667   \n58        H         3  Sample X24              832.0       44252.666667   \n59        H         4  Sample X32             1431.0      708243.666667   \n60        H         6  Sample X48              891.0      522154.666667   \n61        H         7  Sample X56             1929.0      549544.666667   \n\n          name      condition   nluc/fluc     date  \\\n0        35+34  Co-expression   86.712808  11.3.21   \n1       378+34  Co-expression   19.560424  11.3.21   \n2       378+34  Co-expression   20.611505  11.3.21   \n3       102+34  Co-expression    4.561324  11.3.21   \n4       102+34  Co-expression    6.328475  11.3.21   \n..         ...            ...         ...      ...   \n57      377+34  Co-expression   63.783854  11.3.21   \n58      377+34  Co-expression   53.188301  11.3.21   \n59   375+29+34  Co-expression  494.929187  11.3.21   \n60   375+29+34  Co-expression  586.032174  11.3.21   \n61  381+351+34  Co-expression  284.885778  11.3.21   \n\n                      Promoter TF_added  corrected_luminescence  \n0                          NOS      NaN              100.000000  \n1             4x[bZIP3-random]      NaN               22.557710  \n2             4x[bZIP3-random]      NaN               23.769851  \n3                minimal_STAP4      NaN                5.260265  \n4                minimal_STAP4      NaN                7.298202  \n..                         ...      ...                     ...  \n57           minsyn_105-3xHHO2      NaN               73.557593  \n58           minsyn_105-3xHHO2      NaN               61.338460  \n59      4x[NRE-random]+spacing     NLP7              570.768260  \n60      4x[NRE-random]+spacing     NLP7              675.831155  \n61  2x[TGA1-random-NRE-random]     TGA1              328.539444  \n\n[62 rows x 12 columns]"
     },
     "execution_count": 24,
     "metadata": {},
     "output_type": "execute_result"
    }
   ],
   "source": [
    "luminescence_raw_df_date1"
   ]
  },
  {
   "cell_type": "code",
   "execution_count": 25,
   "metadata": {},
   "outputs": [
    {
     "data": {
      "text/html": "<div>\n<style scoped>\n    .dataframe tbody tr th:only-of-type {\n        vertical-align: middle;\n    }\n\n    .dataframe tbody tr th {\n        vertical-align: top;\n    }\n\n    .dataframe thead th {\n        text-align: right;\n    }\n</style>\n<table border=\"1\" class=\"dataframe\">\n  <thead>\n    <tr style=\"text-align: right;\">\n      <th></th>\n      <th>well_row</th>\n      <th>well_col</th>\n      <th>content</th>\n      <th>fluc_luminescence</th>\n      <th>nluc_luminescence</th>\n      <th>name</th>\n      <th>condition</th>\n      <th>nluc/fluc</th>\n      <th>date</th>\n      <th>Promoter</th>\n      <th>TF_added</th>\n      <th>corrected_luminescence</th>\n    </tr>\n  </thead>\n  <tbody>\n    <tr>\n      <th>0</th>\n      <td>A</td>\n      <td>1</td>\n      <td>Sample X1</td>\n      <td>419.0</td>\n      <td>3.633267e+04</td>\n      <td>35+34</td>\n      <td>Co-expression</td>\n      <td>86.712808</td>\n      <td>11.3.21</td>\n      <td>NOS</td>\n      <td>NaN</td>\n      <td>100.000000</td>\n    </tr>\n    <tr>\n      <th>1</th>\n      <td>A</td>\n      <td>4</td>\n      <td>Sample X25</td>\n      <td>913.0</td>\n      <td>1.785867e+04</td>\n      <td>378+34</td>\n      <td>Co-expression</td>\n      <td>19.560424</td>\n      <td>11.3.21</td>\n      <td>4x[bZIP3-random]</td>\n      <td>NaN</td>\n      <td>22.557710</td>\n    </tr>\n    <tr>\n      <th>2</th>\n      <td>A</td>\n      <td>5</td>\n      <td>Sample X33</td>\n      <td>423.0</td>\n      <td>8.718667e+03</td>\n      <td>378+34</td>\n      <td>Co-expression</td>\n      <td>20.611505</td>\n      <td>11.3.21</td>\n      <td>4x[bZIP3-random]</td>\n      <td>NaN</td>\n      <td>23.769851</td>\n    </tr>\n    <tr>\n      <th>3</th>\n      <td>B</td>\n      <td>1</td>\n      <td>Sample X2</td>\n      <td>18666.0</td>\n      <td>8.514167e+04</td>\n      <td>102+34</td>\n      <td>Co-expression</td>\n      <td>4.561324</td>\n      <td>11.3.21</td>\n      <td>minimal_STAP4</td>\n      <td>NaN</td>\n      <td>5.260265</td>\n    </tr>\n    <tr>\n      <th>4</th>\n      <td>B</td>\n      <td>2</td>\n      <td>Sample X10</td>\n      <td>4666.0</td>\n      <td>2.952867e+04</td>\n      <td>102+34</td>\n      <td>Co-expression</td>\n      <td>6.328475</td>\n      <td>11.3.21</td>\n      <td>minimal_STAP4</td>\n      <td>NaN</td>\n      <td>7.298202</td>\n    </tr>\n    <tr>\n      <th>...</th>\n      <td>...</td>\n      <td>...</td>\n      <td>...</td>\n      <td>...</td>\n      <td>...</td>\n      <td>...</td>\n      <td>...</td>\n      <td>...</td>\n      <td>...</td>\n      <td>...</td>\n      <td>...</td>\n      <td>...</td>\n    </tr>\n    <tr>\n      <th>144</th>\n      <td>H</td>\n      <td>5</td>\n      <td>Sample X40</td>\n      <td>7832.0</td>\n      <td>5.585167e+06</td>\n      <td>375+29+34</td>\n      <td>Co-expression</td>\n      <td>713.121425</td>\n      <td>18.3.21</td>\n      <td>4x[NRE-random]+spacing</td>\n      <td>NLP7</td>\n      <td>147.192910</td>\n    </tr>\n    <tr>\n      <th>145</th>\n      <td>H</td>\n      <td>6</td>\n      <td>Sample X48</td>\n      <td>39301.0</td>\n      <td>2.473717e+07</td>\n      <td>375+29+34</td>\n      <td>Co-expression</td>\n      <td>629.428411</td>\n      <td>18.3.21</td>\n      <td>4x[NRE-random]+spacing</td>\n      <td>NLP7</td>\n      <td>129.918127</td>\n    </tr>\n    <tr>\n      <th>146</th>\n      <td>H</td>\n      <td>7</td>\n      <td>Sample X56</td>\n      <td>12752.0</td>\n      <td>5.344260e+05</td>\n      <td>381+351+34</td>\n      <td>Co-expression</td>\n      <td>41.909191</td>\n      <td>18.3.21</td>\n      <td>2x[TGA1-random-NRE-random]</td>\n      <td>TGA1</td>\n      <td>8.650330</td>\n    </tr>\n    <tr>\n      <th>147</th>\n      <td>H</td>\n      <td>8</td>\n      <td>Sample X64</td>\n      <td>4137.0</td>\n      <td>3.083270e+05</td>\n      <td>381+351+34</td>\n      <td>Co-expression</td>\n      <td>74.529127</td>\n      <td>18.3.21</td>\n      <td>2x[TGA1-random-NRE-random]</td>\n      <td>TGA1</td>\n      <td>15.383298</td>\n    </tr>\n    <tr>\n      <th>148</th>\n      <td>H</td>\n      <td>9</td>\n      <td>Sample X72</td>\n      <td>3937.0</td>\n      <td>2.493090e+05</td>\n      <td>381+351+34</td>\n      <td>Co-expression</td>\n      <td>63.324613</td>\n      <td>18.3.21</td>\n      <td>2x[TGA1-random-NRE-random]</td>\n      <td>TGA1</td>\n      <td>13.070613</td>\n    </tr>\n  </tbody>\n</table>\n<p>149 rows × 12 columns</p>\n</div>",
      "text/plain": "    well_row  well_col     content  fluc_luminescence  nluc_luminescence  \\\n0          A         1   Sample X1              419.0       3.633267e+04   \n1          A         4  Sample X25              913.0       1.785867e+04   \n2          A         5  Sample X33              423.0       8.718667e+03   \n3          B         1   Sample X2            18666.0       8.514167e+04   \n4          B         2  Sample X10             4666.0       2.952867e+04   \n..       ...       ...         ...                ...                ...   \n144        H         5  Sample X40             7832.0       5.585167e+06   \n145        H         6  Sample X48            39301.0       2.473717e+07   \n146        H         7  Sample X56            12752.0       5.344260e+05   \n147        H         8  Sample X64             4137.0       3.083270e+05   \n148        H         9  Sample X72             3937.0       2.493090e+05   \n\n           name      condition   nluc/fluc     date  \\\n0         35+34  Co-expression   86.712808  11.3.21   \n1        378+34  Co-expression   19.560424  11.3.21   \n2        378+34  Co-expression   20.611505  11.3.21   \n3        102+34  Co-expression    4.561324  11.3.21   \n4        102+34  Co-expression    6.328475  11.3.21   \n..          ...            ...         ...      ...   \n144   375+29+34  Co-expression  713.121425  18.3.21   \n145   375+29+34  Co-expression  629.428411  18.3.21   \n146  381+351+34  Co-expression   41.909191  18.3.21   \n147  381+351+34  Co-expression   74.529127  18.3.21   \n148  381+351+34  Co-expression   63.324613  18.3.21   \n\n                       Promoter TF_added  corrected_luminescence  \n0                           NOS      NaN              100.000000  \n1              4x[bZIP3-random]      NaN               22.557710  \n2              4x[bZIP3-random]      NaN               23.769851  \n3                 minimal_STAP4      NaN                5.260265  \n4                 minimal_STAP4      NaN                7.298202  \n..                          ...      ...                     ...  \n144      4x[NRE-random]+spacing     NLP7              147.192910  \n145      4x[NRE-random]+spacing     NLP7              129.918127  \n146  2x[TGA1-random-NRE-random]     TGA1                8.650330  \n147  2x[TGA1-random-NRE-random]     TGA1               15.383298  \n148  2x[TGA1-random-NRE-random]     TGA1               13.070613  \n\n[149 rows x 12 columns]"
     },
     "execution_count": 25,
     "metadata": {},
     "output_type": "execute_result"
    }
   ],
   "source": [
    "#merge the dfs with different dates\n",
    "luminescence_raw_df = pd.concat([luminescence_raw_df_date1,luminescence_raw_df_date2],ignore_index=True)\n",
    "luminescence_raw_df"
   ]
  },
  {
   "cell_type": "code",
   "execution_count": 26,
   "metadata": {},
   "outputs": [],
   "source": [
    "#Change TF_added NaN values to none\n",
    "luminescence_raw_df.loc[luminescence_raw_df.TF_added.isnull()==True, 'TF_added'] = 'No TF'"
   ]
  },
  {
   "cell_type": "code",
   "execution_count": 27,
   "metadata": {},
   "outputs": [],
   "source": [
    "#sort rows by the custom promoter order I want so plots are in the correct order\n",
    "luminescence_raw_df.Promoter = pd.Categorical(luminescence_raw_df.Promoter,\n",
    "                                              ['NOS','minimal_STAP4','UBQ10','4xNRE','4x[NRE-TATA]','4x[NRE-TATA]+spacing','4x[NRE-random]','4x[NRE-random]+spacing','3xHHO2-minsyn_105','minsyn_105-3xHHO2','4x[bZIP3-random]','2x[bZIP3-random-NRE-random]','4x[TGA1-random]','2x[TGA1-random-NRE-random]'])\n",
    "luminescence_raw_df = luminescence_raw_df.sort_values(\"Promoter\")"
   ]
  },
  {
   "cell_type": "code",
   "execution_count": 28,
   "metadata": {},
   "outputs": [],
   "source": [
    "#save as file\n",
    "location = f'../../../../data/luminescence/to_be_sorted/{finaldate}/combined_output.tsv'\n",
    "\n",
    "luminescence_raw_df.to_csv(location,sep='\\t',header=True)"
   ]
  },
  {
   "cell_type": "code",
   "execution_count": 1,
   "metadata": {},
   "outputs": [],
   "source": [
    "# luminescence_raw_df_renamed = luminescence_raw_df.copy()\n",
    "# luminescence_raw_df_renamed.gene_type.replace('DREB26+ARF18','+DREB26+ARF18', inplace=True)\n",
    "# luminescence_raw_df_renamed.gene_type.replace('ARF18','+ARF18', inplace=True)\n",
    "# luminescence_raw_df_renamed.gene_type.replace('randCont','random', inplace=True)\n"
   ]
  },
  {
   "cell_type": "code",
   "execution_count": 29,
   "metadata": {},
   "outputs": [],
   "source": [
    "#get TF names\n",
    "pd.Categorical(luminescence_raw_df.TF_added)\n",
    "names = luminescence_raw_df.TF_added.unique()\n",
    "#Change TF names to +TF\n",
    "luminescence_raw_df_renamed = luminescence_raw_df.copy()\n",
    "for TF in names:\n",
    "    if TF != 'No TF':\n",
    "        luminescence_raw_df_renamed.TF_added.replace(TF,f'+{TF}', inplace=True)\n",
    "luminescence_raw_df = luminescence_raw_df_renamed"
   ]
  },
  {
   "cell_type": "markdown",
   "metadata": {},
   "source": [
    "### get names of each TF_added for later"
   ]
  },
  {
   "cell_type": "code",
   "execution_count": 30,
   "metadata": {},
   "outputs": [
    {
     "name": "stdout",
     "output_type": "stream",
     "text": [
      "No TF\n",
      "+NLP7\n",
      "+NLP7+TCP20\n",
      "+TCP20\n",
      "+HHO2\n",
      "+bZIP3\n",
      "+NLP7+bZIP3\n",
      "+TGA1\n",
      "+NLP7+TGA1\n"
     ]
    }
   ],
   "source": [
    "pd.Categorical(luminescence_raw_df.TF_added)\n",
    "names = luminescence_raw_df.TF_added.unique()\n",
    "for name in names:\n",
    "    print(name)"
   ]
  },
  {
   "cell_type": "code",
   "execution_count": 31,
   "metadata": {},
   "outputs": [
    {
     "name": "stdout",
     "output_type": "stream",
     "text": [
      "NOS\n",
      "minimal_STAP4\n",
      "UBQ10\n",
      "4xNRE\n",
      "4x[NRE-TATA]\n",
      "4x[NRE-TATA]+spacing\n",
      "4x[NRE-random]\n",
      "4x[NRE-random]+spacing\n",
      "3xHHO2-minsyn_105\n",
      "minsyn_105-3xHHO2\n",
      "4x[bZIP3-random]\n",
      "2x[bZIP3-random-NRE-random]\n",
      "4x[TGA1-random]\n",
      "2x[TGA1-random-NRE-random]\n"
     ]
    }
   ],
   "source": [
    "#get list of promoters\n",
    "pd.Categorical(luminescence_raw_df.Promoter)\n",
    "prom_names = luminescence_raw_df.Promoter.unique()\n",
    "for name in prom_names:\n",
    "    print(name)"
   ]
  },
  {
   "cell_type": "code",
   "execution_count": 32,
   "metadata": {},
   "outputs": [
    {
     "name": "stdout",
     "output_type": "stream",
     "text": [
      "['#DBB2F0', '#79E2D6', '#15DA06', '#C596D0', '#E40405', '#CB36E3', '#5539F9', '#05FD31', '#1551D9']\n"
     ]
    }
   ],
   "source": [
    "#create colours\n",
    "from random import randint\n",
    "color = []\n",
    "n = len(names)\n",
    "for i in range(n):\n",
    "    color.append('#%06X' % randint(0, 0xFFFFFF))\n",
    "print(color)\n"
   ]
  },
  {
   "cell_type": "code",
   "execution_count": 33,
   "metadata": {},
   "outputs": [
    {
     "data": {
      "text/plain": "{'No TF': '#DBB2F0',\n '+NLP7': '#79E2D6',\n '+NLP7+TCP20': '#15DA06',\n '+TCP20': '#C596D0',\n '+HHO2': '#E40405',\n '+bZIP3': '#CB36E3',\n '+NLP7+bZIP3': '#5539F9',\n '+TGA1': '#05FD31',\n '+NLP7+TGA1': '#1551D9'}"
     },
     "execution_count": 33,
     "metadata": {},
     "output_type": "execute_result"
    }
   ],
   "source": [
    "#make dictionary with TF_added names as key and the randomly generated colors as values\n",
    "new_color = dict(zip(names, color))\n",
    "new_color"
   ]
  },
  {
   "cell_type": "code",
   "execution_count": 36,
   "metadata": {},
   "outputs": [],
   "source": [
    "# #layout = go.Layout(plot_bgcolor='rgba(0,0,0,0)', paper_bgcolor='rgba(0,0,0,0)' )\n",
    "# #make graphs for each promoter\n",
    "# #color_discrete_map = {'red': 'red', 'blue': 'blue', 'orange': 'orange', 'purple':'purple','green':'green','yellow':'yellow','brown':'brown','black':'black'}\n",
    "\n",
    "\n",
    "# for prom in prom_names:\n",
    "#     if prom == 'NOS' or prom == 'STAP4':\n",
    "#         pass\n",
    "#     else:\n",
    "#         df = luminescence_raw_df[luminescence_raw_df.Promoter == prom].sort_values(\"TF_added\", ascending=False)\n",
    "\n",
    "\n",
    "#         fig = px.violin(df, x='TF_added',\n",
    "#                                   y='corrected_luminescence', box=True,                       \n",
    "#                                 color='TF_added', color_discrete_map=new_color,violinmode='overlay') #points=\"all\"\n",
    "\n",
    "#         fig.update_layout(plot_bgcolor='rgba(0,0,0,0)', paper_bgcolor='rgba(0,0,0,0)', title=prom,autosize=True)\n",
    "#         fig.update_xaxes(showline=True, linewidth=1, linecolor='black',ticks=\"outside\")\n",
    "#         fig.update_yaxes(showline=True, linewidth=1, linecolor='black',ticks=\"outside\", title_text='Mean luminescence (a.u.)')\n",
    "#         #hide legend\n",
    "#         fig.layout.update(showlegend=False)\n",
    "#         #write to file static image and interactive one\n",
    "#         fig.write_image(f'../../../../data/plots/luminescence/{finaldate}/violin{prom}.pdf', width=500, height=350, scale=5)\n",
    "#         fig.write_html(f'../../../../data/plots/luminescence/{finaldate}/violin{prom}.html')\n",
    "#         fig.show()"
   ]
  },
  {
   "cell_type": "code",
   "execution_count": 34,
   "metadata": {},
   "outputs": [
    {
     "name": "stdout",
     "output_type": "stream",
     "text": [
      "No TF\n",
      "+NLP7\n",
      "+NLP7+TCP20\n",
      "+TCP20\n",
      "+HHO2\n",
      "+bZIP3\n",
      "+NLP7+bZIP3\n",
      "+TGA1\n",
      "+NLP7+TGA1\n"
     ]
    }
   ],
   "source": [
    "for TF in names:\n",
    "    print(TF)"
   ]
  },
  {
   "cell_type": "code",
   "execution_count": 45,
   "metadata": {},
   "outputs": [],
   "source": [
    "# #layout = go.Layout(plot_bgcolor='rgba(0,0,0,0)', paper_bgcolor='rgba(0,0,0,0)' )\n",
    "# fig = go.Figure(go.Violin(y=luminescence_raw_df[luminescence_raw_df.Promoter == 'ANR1'].corrected_luminescence, x=luminescence_raw_df[luminescence_raw_df.Promoter == 'ANR1'].TF_added,\n",
    "#                           fillcolor='#840122', box_visible=True, meanline_visible=True))\n",
    "#               #points=\"all\"\n",
    "\n",
    "# fig.update_layout(plot_bgcolor='rgba(0,0,0,0)', paper_bgcolor='rgba(0,0,0,0)')\n",
    "# fig.update_xaxes(showline=True, linewidth=1, linecolor='black',ticks=\"outside\")\n",
    "# fig.update_yaxes(showline=True, linewidth=1, linecolor='black',ticks=\"outside\", title_text='Mean luminescence (a.u.)')\n",
    "# #write to file static image and interactive one\n",
    "# #fig.write_image(f'../../../../data/plots/luminescence/{date}/violin23.9.19.pdf')\n",
    "# #fig.write_html(f'../../../../data/plots/luminescence/{date}/violin23.9.19.html')\n",
    "\n",
    "# fig.show()"
   ]
  },
  {
   "cell_type": "code",
   "execution_count": 46,
   "metadata": {},
   "outputs": [],
   "source": [
    "def dunn_posthoc_test(df, dependent_variable, between):\n",
    "    \"\"\"dunn_posthoc tests with bonferroni multiple correction\"\"\"\n",
    "    return sp.posthoc_dunn(\n",
    "        df,\n",
    "        val_col=dependent_variable,\n",
    "        group_col=between,\n",
    "        p_adjust=\"bonferroni\",\n",
    "    )"
   ]
  },
  {
   "cell_type": "code",
   "execution_count": 51,
   "metadata": {},
   "outputs": [
    {
     "name": "stdout",
     "output_type": "stream",
     "text": [
      "4x[NRE-TATA]\n",
      "['No TF' '+NLP7']\n",
      "p-value annotation legend:\n",
      "ns: 5.00e-02 < p <= 1.00e+00\n",
      "*: 1.00e-02 < p <= 5.00e-02\n",
      "**: 1.00e-03 < p <= 1.00e-02\n",
      "***: 1.00e-04 < p <= 1.00e-03\n",
      "****: p <= 1.00e-04\n",
      "\n",
      "No TF v.s. +NLP7: Mann-Whitney-Wilcoxon test two-sided with Bonferroni correction, P_val=3.711e-01 U_stat=0.000e+00\n",
      "4x[NRE-TATA]+spacing\n",
      "['No TF' '+NLP7']\n",
      "p-value annotation legend:\n",
      "ns: 5.00e-02 < p <= 1.00e+00\n",
      "*: 1.00e-02 < p <= 5.00e-02\n",
      "**: 1.00e-03 < p <= 1.00e-02\n",
      "***: 1.00e-04 < p <= 1.00e-03\n",
      "****: p <= 1.00e-04\n",
      "\n",
      "No TF v.s. +NLP7: Mann-Whitney-Wilcoxon test two-sided with Bonferroni correction, P_val=9.270e-02 U_stat=7.000e+00\n",
      "4x[NRE-random]\n",
      "['No TF' '+NLP7']\n",
      "p-value annotation legend:\n",
      "ns: 5.00e-02 < p <= 1.00e+00\n",
      "*: 1.00e-02 < p <= 5.00e-02\n",
      "**: 1.00e-03 < p <= 1.00e-02\n",
      "***: 1.00e-04 < p <= 1.00e-03\n",
      "****: p <= 1.00e-04\n",
      "\n",
      "No TF v.s. +NLP7: Mann-Whitney-Wilcoxon test two-sided with Bonferroni correction, P_val=3.153e-01 U_stat=9.000e+00\n",
      "4x[NRE-random]+spacing\n",
      "['No TF' '+NLP7']\n",
      "p-value annotation legend:\n",
      "ns: 5.00e-02 < p <= 1.00e+00\n",
      "*: 1.00e-02 < p <= 5.00e-02\n",
      "**: 1.00e-03 < p <= 1.00e-02\n",
      "***: 1.00e-04 < p <= 1.00e-03\n",
      "****: p <= 1.00e-04\n",
      "\n",
      "No TF v.s. +NLP7: Mann-Whitney-Wilcoxon test two-sided with Bonferroni correction, P_val=6.010e-02 U_stat=3.000e+00\n",
      "3xHHO2-minsyn_105\n",
      "['No TF' '+HHO2']\n",
      "p-value annotation legend:\n",
      "ns: 5.00e-02 < p <= 1.00e+00\n",
      "*: 1.00e-02 < p <= 5.00e-02\n",
      "**: 1.00e-03 < p <= 1.00e-02\n",
      "***: 1.00e-04 < p <= 1.00e-03\n",
      "****: p <= 1.00e-04\n",
      "\n",
      "No TF v.s. +HHO2: Mann-Whitney-Wilcoxon test two-sided with Bonferroni correction, P_val=2.159e-01 U_stat=1.000e+01\n",
      "minsyn_105-3xHHO2\n",
      "['No TF' '+HHO2']\n",
      "p-value annotation legend:\n",
      "ns: 5.00e-02 < p <= 1.00e+00\n",
      "*: 1.00e-02 < p <= 5.00e-02\n",
      "**: 1.00e-03 < p <= 1.00e-02\n",
      "***: 1.00e-04 < p <= 1.00e-03\n",
      "****: p <= 1.00e-04\n",
      "\n",
      "No TF v.s. +HHO2: Mann-Whitney-Wilcoxon test two-sided with Bonferroni correction, P_val=5.752e-01 U_stat=2.200e+01\n",
      "4x[bZIP3-random]\n",
      "['No TF' '+bZIP3']\n",
      "p-value annotation legend:\n",
      "ns: 5.00e-02 < p <= 1.00e+00\n",
      "*: 1.00e-02 < p <= 5.00e-02\n",
      "**: 1.00e-03 < p <= 1.00e-02\n",
      "***: 1.00e-04 < p <= 1.00e-03\n",
      "****: p <= 1.00e-04\n",
      "\n",
      "No TF v.s. +bZIP3: Mann-Whitney-Wilcoxon test two-sided with Bonferroni correction, P_val=4.555e-01 U_stat=8.000e+00\n",
      "2x[bZIP3-random-NRE-random]\n",
      "['No TF' '+bZIP3' '+NLP7+bZIP3' '+NLP7']\n",
      "4x[TGA1-random]\n",
      "['No TF' '+TGA1']\n",
      "p-value annotation legend:\n",
      "ns: 5.00e-02 < p <= 1.00e+00\n",
      "*: 1.00e-02 < p <= 5.00e-02\n",
      "**: 1.00e-03 < p <= 1.00e-02\n",
      "***: 1.00e-04 < p <= 1.00e-03\n",
      "****: p <= 1.00e-04\n",
      "\n",
      "No TF v.s. +TGA1: Mann-Whitney-Wilcoxon test two-sided with Bonferroni correction, P_val=3.785e-01 U_stat=1.200e+01\n",
      "2x[TGA1-random-NRE-random]\n",
      "['No TF' '+TGA1' '+NLP7+TGA1' '+NLP7']\n"
     ]
    },
    {
     "data": {
      "image/png": "[encoded data removed]",
      "text/plain": "<Figure size 432x288 with 1 Axes>"
     },
     "metadata": {
      "needs_background": "light"
     },
     "output_type": "display_data"
    },
    {
     "data": {
      "image/png": "[encoded data removed]",
      "text/plain": "<Figure size 432x288 with 1 Axes>"
     },
     "metadata": {
      "needs_background": "light"
     },
     "output_type": "display_data"
    },
    {
     "data": {
      "image/png": "[encoded data removed]",
      "text/plain": "<Figure size 432x288 with 1 Axes>"
     },
     "metadata": {
      "needs_background": "light"
     },
     "output_type": "display_data"
    },
    {
     "data": {
      "image/png": "[encoded data removed]",
      "text/plain": "<Figure size 432x288 with 1 Axes>"
     },
     "metadata": {
      "needs_background": "light"
     },
     "output_type": "display_data"
    },
    {
     "data": {
      "image/png": "[encoded data removed]",
      "text/plain": "<Figure size 432x288 with 1 Axes>"
     },
     "metadata": {
      "needs_background": "light"
     },
     "output_type": "display_data"
    },
    {
     "data": {
      "image/png": "[encoded data removed]",
      "text/plain": "<Figure size 432x288 with 1 Axes>"
     },
     "metadata": {
      "needs_background": "light"
     },
     "output_type": "display_data"
    },
    {
     "data": {
      "image/png": "[encoded data removed]",
      "text/plain": "<Figure size 432x288 with 1 Axes>"
     },
     "metadata": {
      "needs_background": "light"
     },
     "output_type": "display_data"
    },
    {
     "data": {
      "image/png": "[encoded data removed]",
      "text/plain": "<Figure size 432x288 with 1 Axes>"
     },
     "metadata": {
      "needs_background": "light"
     },
     "output_type": "display_data"
    }
   ],
   "source": [
    "#layout = go.Layout(plot_bgcolor='rgba(0,0,0,0)', paper_bgcolor='rgba(0,0,0,0)' )\n",
    "#make graphs for each promoter\n",
    "#color_discrete_map = {'red': 'red', 'blue': 'blue', 'orange': 'orange', 'purple':'purple','green':'green','yellow':'yellow','brown':'brown','black':'black'}\n",
    "#plots for promoters 2 Tf categories\n",
    "\n",
    "for prom in prom_names:\n",
    "    if prom == 'NOS' or prom == 'minimal_STAP4' or prom is '2x[bZIP3-random-NRE-random]' or prom is '2x[TGA1-random-NRE-random]' or prom is '4xNRE' or prom is 'UBQ10' or prom is '3xHHO2-minsyn_105':\n",
    "        pass\n",
    "    else:\n",
    "        df = luminescence_raw_df[luminescence_raw_df.Promoter == prom].sort_values(\"TF_added\", ascending=False)\n",
    "        TFs =  df.TF_added.unique()\n",
    "        print(prom)\n",
    "        print(TFs)\n",
    "        if len(TFs) is not 2:\n",
    "            pass\n",
    "        else:\n",
    "            plt.figure()\n",
    "            order = [TFs[0],TFs[1]]\n",
    "            sns.swarmplot(x='TF_added', y='corrected_luminescence', data=df, color=\".25\", order=order)\n",
    "\n",
    "\n",
    "            # fig = sns.catplot(\n",
    "            #     x='TF_added',\n",
    "            #     y='corrected_luminescence',\n",
    "            #     data=df,\n",
    "            #     kind='violin',\n",
    "            #     order=order,            \n",
    "            #     cut=0,\n",
    "            #     legend=False,\n",
    "            #     #color=new_color\n",
    "            # )\n",
    "            \n",
    "            #fig = px.violin(df, x='TF_added',\n",
    "            #                         y='corrected_luminescence', box=True,                       \n",
    "            #                      color='TF_added', color_discrete_map=new_color,violinmode='overlay',order=order) #points=\"all\"\n",
    "\n",
    "            #fig.update_layout(plot_bgcolor='rgba(0,0,0,0)', paper_bgcolor='rgba(0,0,0,0)', title=prom,autosize=True)\n",
    "            #fig.update_xaxes(showline=True, linewidth=1, linecolor='black',ticks=\"outside\")\n",
    "            #fig.update_yaxes(showline=True, linewidth=1, linecolor='black',ticks=\"outside\", title_text='Mean luminescence (a.u.)')\n",
    "            #hide legend\n",
    "            #fig.layout.update(showlegend=False)\n",
    "            # add significance if necessary - dunn's posthocs with multiple Bonferroni correction\n",
    "            #stat = dunn_posthoc_test(df, 'corrected_luminescence', 'TF_added')\n",
    "            # label box pairs        \n",
    "            box_pairs = [(TFs[0],TFs[1])]\n",
    "            # make empty list of p_values\n",
    "            p_values = []\n",
    "            # populate the list of p_values according to the box_pairs\n",
    "            # for pair in box_pairs:\n",
    "            #     print(pair)\n",
    "            #     # select p value for each pair\n",
    "            #     p = stat.loc[pair[0], pair[1]]\n",
    "            #     p_values.append(p)\n",
    "\n",
    "            # add stats annotation to the plot\n",
    "            add_stat_annotation(\n",
    "                fig,\n",
    "                data=df,\n",
    "                x='TF_added',\n",
    "                y='corrected_luminescence',\n",
    "                order=order,\n",
    "                box_pairs=box_pairs,\n",
    "                text_format=\"star\",\n",
    "                loc=\"outside\",\n",
    "                verbose=2,\n",
    "                #perform_stat_test=False,\n",
    "                #pvalues=p_values,\n",
    "                test='Mann-Whitney',\n",
    "            )\n",
    "            # change axes labels\n",
    "            plt.ylabel('Mean luminescence (a.u.)')\n",
    "            #plt.xlabel(x_label)\n",
    "            # tight layout\n",
    "            plt.tight_layout()\n",
    "            # save figure\n",
    "            \n",
    "            plt.savefig(\n",
    "                f'../../../../data/plots/luminescence/{finaldate}/scatter{prom}.pdf',\n",
    "                format=\"pdf\",\n",
    "                bbox_inches=\"tight\",\n",
    "            )           \n",
    "\n",
    "\n",
    "        #write to file static image and interactive one\n",
    "       # fig.write_image(f'../../../../data/plots/luminescence/{finaldate}/violin{prom}.pdf', width=500, height=350, scale=5)\n",
    "      #  fig.write_html(f'../../../../data/plots/luminescence/{finaldate}/violin{prom}.html')\n",
    "      #  fig.show()"
   ]
  },
  {
   "cell_type": "code",
   "execution_count": 52,
   "metadata": {},
   "outputs": [
    {
     "name": "stdout",
     "output_type": "stream",
     "text": [
      "4xNRE\n",
      "['No TF' '+TCP20' '+NLP7+TCP20' '+NLP7']\n",
      "p-value annotation legend:\n",
      "ns: 5.00e-02 < p <= 1.00e+00\n",
      "*: 1.00e-02 < p <= 5.00e-02\n",
      "**: 1.00e-03 < p <= 1.00e-02\n",
      "***: 1.00e-04 < p <= 1.00e-03\n",
      "****: p <= 1.00e-04\n",
      "\n",
      "No TF v.s. +TCP20: Custom statistical test, P_val:1.000e+00\n",
      "+TCP20 v.s. +NLP7+TCP20: Custom statistical test, P_val:7.412e-01\n",
      "+NLP7+TCP20 v.s. +NLP7: Custom statistical test, P_val:1.000e+00\n",
      "No TF v.s. +NLP7+TCP20: Custom statistical test, P_val:1.000e+00\n",
      "+TCP20 v.s. +NLP7: Custom statistical test, P_val:8.318e-01\n",
      "No TF v.s. +NLP7: Custom statistical test, P_val:1.000e+00\n",
      "2x[bZIP3-random-NRE-random]\n",
      "['No TF' '+bZIP3' '+NLP7+bZIP3' '+NLP7']\n",
      "p-value annotation legend:\n",
      "ns: 5.00e-02 < p <= 1.00e+00\n",
      "*: 1.00e-02 < p <= 5.00e-02\n",
      "**: 1.00e-03 < p <= 1.00e-02\n",
      "***: 1.00e-04 < p <= 1.00e-03\n",
      "****: p <= 1.00e-04\n",
      "\n",
      "No TF v.s. +bZIP3: Custom statistical test, P_val:1.000e+00\n",
      "+bZIP3 v.s. +NLP7+bZIP3: Custom statistical test, P_val:1.000e+00\n",
      "+NLP7+bZIP3 v.s. +NLP7: Custom statistical test, P_val:1.000e+00\n",
      "No TF v.s. +NLP7+bZIP3: Custom statistical test, P_val:3.536e-01\n",
      "+bZIP3 v.s. +NLP7: Custom statistical test, P_val:1.000e+00\n",
      "No TF v.s. +NLP7: Custom statistical test, P_val:3.228e-01\n",
      "2x[TGA1-random-NRE-random]\n",
      "['No TF' '+TGA1' '+NLP7+TGA1' '+NLP7']\n",
      "p-value annotation legend:\n",
      "ns: 5.00e-02 < p <= 1.00e+00\n",
      "*: 1.00e-02 < p <= 5.00e-02\n",
      "**: 1.00e-03 < p <= 1.00e-02\n",
      "***: 1.00e-04 < p <= 1.00e-03\n",
      "****: p <= 1.00e-04\n",
      "\n",
      "No TF v.s. +TGA1: Custom statistical test, P_val:1.000e+00\n",
      "+TGA1 v.s. +NLP7+TGA1: Custom statistical test, P_val:4.739e-01\n",
      "+NLP7+TGA1 v.s. +NLP7: Custom statistical test, P_val:1.000e+00\n",
      "No TF v.s. +NLP7+TGA1: Custom statistical test, P_val:1.000e+00\n",
      "+TGA1 v.s. +NLP7: Custom statistical test, P_val:1.000e+00\n",
      "No TF v.s. +NLP7: Custom statistical test, P_val:1.000e+00\n"
     ]
    },
    {
     "data": {
      "image/png": "[encoded data removed]",
      "text/plain": "<Figure size 432x288 with 1 Axes>"
     },
     "metadata": {
      "needs_background": "light"
     },
     "output_type": "display_data"
    },
    {
     "data": {
      "image/png": "[encoded data removed]",
      "text/plain": "<Figure size 432x288 with 1 Axes>"
     },
     "metadata": {
      "needs_background": "light"
     },
     "output_type": "display_data"
    },
    {
     "data": {
      "image/png": "[encoded data removed]",
      "text/plain": "<Figure size 432x288 with 1 Axes>"
     },
     "metadata": {
      "needs_background": "light"
     },
     "output_type": "display_data"
    }
   ],
   "source": [
    "#layout = go.Layout(plot_bgcolor='rgba(0,0,0,0)', paper_bgcolor='rgba(0,0,0,0)' )\n",
    "#make graphs for each promoter\n",
    "#color_discrete_map = {'red': 'red', 'blue': 'blue', 'orange': 'orange', 'purple':'purple','green':'green','yellow':'yellow','brown':'brown','black':'black'}\n",
    "#plots for promoters with more than 2 Tf categories\n",
    "\n",
    "for prom in prom_names:\n",
    "    if prom == 'NOS' or prom == 'minimal_STAP4' or prom is '1xANR1' or prom is '1xNLP7' or prom is '4xANR1':\n",
    "        pass\n",
    "    else:\n",
    "        df = luminescence_raw_df[luminescence_raw_df.Promoter == prom].sort_values(\"TF_added\", ascending=False)\n",
    "        TFs =  df.TF_added.unique()        \n",
    "        if len(TFs) is 3:\n",
    "            order = [TFs[0],TFs[1],TFs[2]]\n",
    "        elif len(TFs) is 4:\n",
    "            order = [TFs[0],TFs[1],TFs[2],TFs[3]]\n",
    "        else:\n",
    "            pass\n",
    "        if len(TFs) < 3 or len(TFs) > 4:\n",
    "            pass\n",
    "        else:\n",
    "            print(prom)\n",
    "            print(TFs)\n",
    "            plt.figure()\n",
    "            # fig = sns.catplot(\n",
    "            #     x='TF_added',\n",
    "            #     y='corrected_luminescence',\n",
    "            #     data=df,\n",
    "            #     kind='violin',\n",
    "            #     order=order,            \n",
    "            #     cut=0,\n",
    "            #     legend=False,\n",
    "            #     #color=new_color\n",
    "            # )\n",
    "            sns.swarmplot(x='TF_added', y='corrected_luminescence', data=df, color=\".25\", order=order)\n",
    "            #fig = px.violin(df, x='TF_added',\n",
    "            #                         y='corrected_luminescence', box=True,                       \n",
    "            #                      color='TF_added', color_discrete_map=new_color,violinmode='overlay',order=order) #points=\"all\"\n",
    "\n",
    "            #fig.update_layout(plot_bgcolor='rgba(0,0,0,0)', paper_bgcolor='rgba(0,0,0,0)', title=prom,autosize=True)\n",
    "            #fig.update_xaxes(showline=True, linewidth=1, linecolor='black',ticks=\"outside\")\n",
    "            #fig.update_yaxes(showline=True, linewidth=1, linecolor='black',ticks=\"outside\", title_text='Mean luminescence (a.u.)')\n",
    "            #hide legend\n",
    "            #fig.layout.update(showlegend=False)\n",
    "            # add significance if necessary - dunn's posthocs with multiple Bonferroni correction\n",
    "            stat = dunn_posthoc_test(df, 'corrected_luminescence', 'TF_added')\n",
    "            # label box pairs        \n",
    "            box_pairs = [(TFs[0],TFs[1]), (TFs[0],TFs[2]),(TFs[0],TFs[3]), (TFs[1],TFs[2]),(TFs[1],TFs[3]),(TFs[2],TFs[3])]\n",
    "            # make empty list of p_values\n",
    "            p_values = []\n",
    "            # populate the list of p_values according to the box_pairs\n",
    "            for pair in box_pairs:\n",
    "            #    print(pair)\n",
    "                # select p value for each pair\n",
    "                p = stat.loc[pair[0], pair[1]]\n",
    "                p_values.append(p)\n",
    "\n",
    "            # add stats annotation to the plot\n",
    "            add_stat_annotation(\n",
    "                fig,\n",
    "                data=df,\n",
    "                x='TF_added',\n",
    "                y='corrected_luminescence',\n",
    "                order=order,\n",
    "                box_pairs=box_pairs,\n",
    "                text_format=\"star\",\n",
    "                loc=\"outside\",\n",
    "                verbose=2,\n",
    "                perform_stat_test=False,\n",
    "                pvalues=p_values,\n",
    "                test_short_name=\"Dunn\",\n",
    "            )\n",
    "            # change axes labels\n",
    "            plt.ylabel('Mean luminescence (a.u.)')\n",
    "            #plt.xlabel(x_label)\n",
    "            # tight layout\n",
    "            plt.tight_layout()\n",
    "            # save figure\n",
    "            plt.savefig(\n",
    "                f'../../../../data/plots/luminescence/{finaldate}/scatter{prom}.pdf',\n",
    "                format=\"pdf\",\n",
    "                bbox_inches=\"tight\",\n",
    "            )\n",
    "            \n",
    "\n",
    "\n",
    "            #write to file static image and interactive one\n",
    "        # fig.write_image(f'../../../../data/plots/luminescence/{finaldate}/violin{prom}.pdf', width=500, height=350, scale=5)\n",
    "        #  fig.write_html(f'../../../../data/plots/luminescence/{finaldate}/violin{prom}.html')\n",
    "        #  fig.show()"
   ]
  },
  {
   "cell_type": "markdown",
   "metadata": {},
   "source": [
    "### test normality"
   ]
  },
  {
   "cell_type": "code",
   "execution_count": 53,
   "metadata": {},
   "outputs": [
    {
     "name": "stdout",
     "output_type": "stream",
     "text": [
      "NOS No TF: ShapiroResult(statistic=0.7865370512008667, pvalue=1.7945064101354546e-08)\n",
      "NOS +NLP7: ShapiroResult(statistic=0.8941162824630737, pvalue=0.004401287063956261)\n",
      "NOS +NLP7+TCP20: ShapiroResult(statistic=0.7018837332725525, pvalue=0.01002002228051424)\n",
      "NOS +TCP20: ShapiroResult(statistic=0.8393567800521851, pvalue=0.16315169632434845)\n",
      "NOS +HHO2: ShapiroResult(statistic=0.7486276626586914, pvalue=0.005226593930274248)\n",
      "NOS +bZIP3: ShapiroResult(statistic=0.8508753180503845, pvalue=0.03763866424560547)\n",
      "NOS +NLP7+bZIP3: ShapiroResult(statistic=0.6240106821060181, pvalue=0.0008847868884913623)\n",
      "NOS +TGA1: ShapiroResult(statistic=0.6426950097084045, pvalue=0.00017930465401150286)\n",
      "NOS +NLP7+TGA1: ShapiroResult(statistic=0.8979932069778442, pvalue=0.3791410028934479)\n",
      "minimal_STAP4 No TF: ShapiroResult(statistic=0.7865370512008667, pvalue=1.7945064101354546e-08)\n",
      "minimal_STAP4 +NLP7: ShapiroResult(statistic=0.8941162824630737, pvalue=0.004401287063956261)\n",
      "minimal_STAP4 +NLP7+TCP20: ShapiroResult(statistic=0.7018837332725525, pvalue=0.01002002228051424)\n",
      "minimal_STAP4 +TCP20: ShapiroResult(statistic=0.8393567800521851, pvalue=0.16315169632434845)\n",
      "minimal_STAP4 +HHO2: ShapiroResult(statistic=0.7486276626586914, pvalue=0.005226593930274248)\n",
      "minimal_STAP4 +bZIP3: ShapiroResult(statistic=0.8508753180503845, pvalue=0.03763866424560547)\n",
      "minimal_STAP4 +NLP7+bZIP3: ShapiroResult(statistic=0.6240106821060181, pvalue=0.0008847868884913623)\n",
      "minimal_STAP4 +TGA1: ShapiroResult(statistic=0.6426950097084045, pvalue=0.00017930465401150286)\n",
      "minimal_STAP4 +NLP7+TGA1: ShapiroResult(statistic=0.8979932069778442, pvalue=0.3791410028934479)\n",
      "UBQ10 No TF: ShapiroResult(statistic=0.7865370512008667, pvalue=1.7945064101354546e-08)\n",
      "UBQ10 +NLP7: ShapiroResult(statistic=0.8941162824630737, pvalue=0.004401287063956261)\n",
      "UBQ10 +NLP7+TCP20: ShapiroResult(statistic=0.7018837332725525, pvalue=0.01002002228051424)\n",
      "UBQ10 +TCP20: ShapiroResult(statistic=0.8393567800521851, pvalue=0.16315169632434845)\n",
      "UBQ10 +HHO2: ShapiroResult(statistic=0.7486276626586914, pvalue=0.005226593930274248)\n",
      "UBQ10 +bZIP3: ShapiroResult(statistic=0.8508753180503845, pvalue=0.03763866424560547)\n",
      "UBQ10 +NLP7+bZIP3: ShapiroResult(statistic=0.6240106821060181, pvalue=0.0008847868884913623)\n",
      "UBQ10 +TGA1: ShapiroResult(statistic=0.6426950097084045, pvalue=0.00017930465401150286)\n",
      "UBQ10 +NLP7+TGA1: ShapiroResult(statistic=0.8979932069778442, pvalue=0.3791410028934479)\n",
      "4xNRE No TF: ShapiroResult(statistic=0.7865370512008667, pvalue=1.7945064101354546e-08)\n",
      "4xNRE +NLP7: ShapiroResult(statistic=0.8941162824630737, pvalue=0.004401287063956261)\n",
      "4xNRE +NLP7+TCP20: ShapiroResult(statistic=0.7018837332725525, pvalue=0.01002002228051424)\n",
      "4xNRE +TCP20: ShapiroResult(statistic=0.8393567800521851, pvalue=0.16315169632434845)\n",
      "4xNRE +HHO2: ShapiroResult(statistic=0.7486276626586914, pvalue=0.005226593930274248)\n",
      "4xNRE +bZIP3: ShapiroResult(statistic=0.8508753180503845, pvalue=0.03763866424560547)\n",
      "4xNRE +NLP7+bZIP3: ShapiroResult(statistic=0.6240106821060181, pvalue=0.0008847868884913623)\n",
      "4xNRE +TGA1: ShapiroResult(statistic=0.6426950097084045, pvalue=0.00017930465401150286)\n",
      "4xNRE +NLP7+TGA1: ShapiroResult(statistic=0.8979932069778442, pvalue=0.3791410028934479)\n",
      "4x[NRE-TATA] No TF: ShapiroResult(statistic=0.7865370512008667, pvalue=1.7945064101354546e-08)\n",
      "4x[NRE-TATA] +NLP7: ShapiroResult(statistic=0.8941162824630737, pvalue=0.004401287063956261)\n",
      "4x[NRE-TATA] +NLP7+TCP20: ShapiroResult(statistic=0.7018837332725525, pvalue=0.01002002228051424)\n",
      "4x[NRE-TATA] +TCP20: ShapiroResult(statistic=0.8393567800521851, pvalue=0.16315169632434845)\n",
      "4x[NRE-TATA] +HHO2: ShapiroResult(statistic=0.7486276626586914, pvalue=0.005226593930274248)\n",
      "4x[NRE-TATA] +bZIP3: ShapiroResult(statistic=0.8508753180503845, pvalue=0.03763866424560547)\n",
      "4x[NRE-TATA] +NLP7+bZIP3: ShapiroResult(statistic=0.6240106821060181, pvalue=0.0008847868884913623)\n",
      "4x[NRE-TATA] +TGA1: ShapiroResult(statistic=0.6426950097084045, pvalue=0.00017930465401150286)\n",
      "4x[NRE-TATA] +NLP7+TGA1: ShapiroResult(statistic=0.8979932069778442, pvalue=0.3791410028934479)\n",
      "4x[NRE-TATA]+spacing No TF: ShapiroResult(statistic=0.7865370512008667, pvalue=1.7945064101354546e-08)\n",
      "4x[NRE-TATA]+spacing +NLP7: ShapiroResult(statistic=0.8941162824630737, pvalue=0.004401287063956261)\n",
      "4x[NRE-TATA]+spacing +NLP7+TCP20: ShapiroResult(statistic=0.7018837332725525, pvalue=0.01002002228051424)\n",
      "4x[NRE-TATA]+spacing +TCP20: ShapiroResult(statistic=0.8393567800521851, pvalue=0.16315169632434845)\n",
      "4x[NRE-TATA]+spacing +HHO2: ShapiroResult(statistic=0.7486276626586914, pvalue=0.005226593930274248)\n",
      "4x[NRE-TATA]+spacing +bZIP3: ShapiroResult(statistic=0.8508753180503845, pvalue=0.03763866424560547)\n",
      "4x[NRE-TATA]+spacing +NLP7+bZIP3: ShapiroResult(statistic=0.6240106821060181, pvalue=0.0008847868884913623)\n",
      "4x[NRE-TATA]+spacing +TGA1: ShapiroResult(statistic=0.6426950097084045, pvalue=0.00017930465401150286)\n",
      "4x[NRE-TATA]+spacing +NLP7+TGA1: ShapiroResult(statistic=0.8979932069778442, pvalue=0.3791410028934479)\n",
      "4x[NRE-random] No TF: ShapiroResult(statistic=0.7865370512008667, pvalue=1.7945064101354546e-08)\n",
      "4x[NRE-random] +NLP7: ShapiroResult(statistic=0.8941162824630737, pvalue=0.004401287063956261)\n",
      "4x[NRE-random] +NLP7+TCP20: ShapiroResult(statistic=0.7018837332725525, pvalue=0.01002002228051424)\n",
      "4x[NRE-random] +TCP20: ShapiroResult(statistic=0.8393567800521851, pvalue=0.16315169632434845)\n",
      "4x[NRE-random] +HHO2: ShapiroResult(statistic=0.7486276626586914, pvalue=0.005226593930274248)\n",
      "4x[NRE-random] +bZIP3: ShapiroResult(statistic=0.8508753180503845, pvalue=0.03763866424560547)\n",
      "4x[NRE-random] +NLP7+bZIP3: ShapiroResult(statistic=0.6240106821060181, pvalue=0.0008847868884913623)\n",
      "4x[NRE-random] +TGA1: ShapiroResult(statistic=0.6426950097084045, pvalue=0.00017930465401150286)\n",
      "4x[NRE-random] +NLP7+TGA1: ShapiroResult(statistic=0.8979932069778442, pvalue=0.3791410028934479)\n",
      "4x[NRE-random]+spacing No TF: ShapiroResult(statistic=0.7865370512008667, pvalue=1.7945064101354546e-08)\n",
      "4x[NRE-random]+spacing +NLP7: ShapiroResult(statistic=0.8941162824630737, pvalue=0.004401287063956261)\n",
      "4x[NRE-random]+spacing +NLP7+TCP20: ShapiroResult(statistic=0.7018837332725525, pvalue=0.01002002228051424)\n",
      "4x[NRE-random]+spacing +TCP20: ShapiroResult(statistic=0.8393567800521851, pvalue=0.16315169632434845)\n",
      "4x[NRE-random]+spacing +HHO2: ShapiroResult(statistic=0.7486276626586914, pvalue=0.005226593930274248)\n",
      "4x[NRE-random]+spacing +bZIP3: ShapiroResult(statistic=0.8508753180503845, pvalue=0.03763866424560547)\n",
      "4x[NRE-random]+spacing +NLP7+bZIP3: ShapiroResult(statistic=0.6240106821060181, pvalue=0.0008847868884913623)\n",
      "4x[NRE-random]+spacing +TGA1: ShapiroResult(statistic=0.6426950097084045, pvalue=0.00017930465401150286)\n",
      "4x[NRE-random]+spacing +NLP7+TGA1: ShapiroResult(statistic=0.8979932069778442, pvalue=0.3791410028934479)\n",
      "3xHHO2-minsyn_105 No TF: ShapiroResult(statistic=0.7865370512008667, pvalue=1.7945064101354546e-08)\n",
      "3xHHO2-minsyn_105 +NLP7: ShapiroResult(statistic=0.8941162824630737, pvalue=0.004401287063956261)\n",
      "3xHHO2-minsyn_105 +NLP7+TCP20: ShapiroResult(statistic=0.7018837332725525, pvalue=0.01002002228051424)\n",
      "3xHHO2-minsyn_105 +TCP20: ShapiroResult(statistic=0.8393567800521851, pvalue=0.16315169632434845)\n",
      "3xHHO2-minsyn_105 +HHO2: ShapiroResult(statistic=0.7486276626586914, pvalue=0.005226593930274248)\n",
      "3xHHO2-minsyn_105 +bZIP3: ShapiroResult(statistic=0.8508753180503845, pvalue=0.03763866424560547)\n",
      "3xHHO2-minsyn_105 +NLP7+bZIP3: ShapiroResult(statistic=0.6240106821060181, pvalue=0.0008847868884913623)\n",
      "3xHHO2-minsyn_105 +TGA1: ShapiroResult(statistic=0.6426950097084045, pvalue=0.00017930465401150286)\n",
      "3xHHO2-minsyn_105 +NLP7+TGA1: ShapiroResult(statistic=0.8979932069778442, pvalue=0.3791410028934479)\n",
      "minsyn_105-3xHHO2 No TF: ShapiroResult(statistic=0.7865370512008667, pvalue=1.7945064101354546e-08)\n",
      "minsyn_105-3xHHO2 +NLP7: ShapiroResult(statistic=0.8941162824630737, pvalue=0.004401287063956261)\n",
      "minsyn_105-3xHHO2 +NLP7+TCP20: ShapiroResult(statistic=0.7018837332725525, pvalue=0.01002002228051424)\n",
      "minsyn_105-3xHHO2 +TCP20: ShapiroResult(statistic=0.8393567800521851, pvalue=0.16315169632434845)\n",
      "minsyn_105-3xHHO2 +HHO2: ShapiroResult(statistic=0.7486276626586914, pvalue=0.005226593930274248)\n",
      "minsyn_105-3xHHO2 +bZIP3: ShapiroResult(statistic=0.8508753180503845, pvalue=0.03763866424560547)\n",
      "minsyn_105-3xHHO2 +NLP7+bZIP3: ShapiroResult(statistic=0.6240106821060181, pvalue=0.0008847868884913623)\n",
      "minsyn_105-3xHHO2 +TGA1: ShapiroResult(statistic=0.6426950097084045, pvalue=0.00017930465401150286)\n",
      "minsyn_105-3xHHO2 +NLP7+TGA1: ShapiroResult(statistic=0.8979932069778442, pvalue=0.3791410028934479)\n",
      "4x[bZIP3-random] No TF: ShapiroResult(statistic=0.7865370512008667, pvalue=1.7945064101354546e-08)\n",
      "4x[bZIP3-random] +NLP7: ShapiroResult(statistic=0.8941162824630737, pvalue=0.004401287063956261)\n",
      "4x[bZIP3-random] +NLP7+TCP20: ShapiroResult(statistic=0.7018837332725525, pvalue=0.01002002228051424)\n",
      "4x[bZIP3-random] +TCP20: ShapiroResult(statistic=0.8393567800521851, pvalue=0.16315169632434845)\n",
      "4x[bZIP3-random] +HHO2: ShapiroResult(statistic=0.7486276626586914, pvalue=0.005226593930274248)\n",
      "4x[bZIP3-random] +bZIP3: ShapiroResult(statistic=0.8508753180503845, pvalue=0.03763866424560547)\n",
      "4x[bZIP3-random] +NLP7+bZIP3: ShapiroResult(statistic=0.6240106821060181, pvalue=0.0008847868884913623)\n",
      "4x[bZIP3-random] +TGA1: ShapiroResult(statistic=0.6426950097084045, pvalue=0.00017930465401150286)\n",
      "4x[bZIP3-random] +NLP7+TGA1: ShapiroResult(statistic=0.8979932069778442, pvalue=0.3791410028934479)\n",
      "2x[bZIP3-random-NRE-random] No TF: ShapiroResult(statistic=0.7865370512008667, pvalue=1.7945064101354546e-08)\n",
      "2x[bZIP3-random-NRE-random] +NLP7: ShapiroResult(statistic=0.8941162824630737, pvalue=0.004401287063956261)\n",
      "2x[bZIP3-random-NRE-random] +NLP7+TCP20: ShapiroResult(statistic=0.7018837332725525, pvalue=0.01002002228051424)\n",
      "2x[bZIP3-random-NRE-random] +TCP20: ShapiroResult(statistic=0.8393567800521851, pvalue=0.16315169632434845)\n",
      "2x[bZIP3-random-NRE-random] +HHO2: ShapiroResult(statistic=0.7486276626586914, pvalue=0.005226593930274248)\n",
      "2x[bZIP3-random-NRE-random] +bZIP3: ShapiroResult(statistic=0.8508753180503845, pvalue=0.03763866424560547)\n",
      "2x[bZIP3-random-NRE-random] +NLP7+bZIP3: ShapiroResult(statistic=0.6240106821060181, pvalue=0.0008847868884913623)\n",
      "2x[bZIP3-random-NRE-random] +TGA1: ShapiroResult(statistic=0.6426950097084045, pvalue=0.00017930465401150286)\n",
      "2x[bZIP3-random-NRE-random] +NLP7+TGA1: ShapiroResult(statistic=0.8979932069778442, pvalue=0.3791410028934479)\n",
      "4x[TGA1-random] No TF: ShapiroResult(statistic=0.7865370512008667, pvalue=1.7945064101354546e-08)\n",
      "4x[TGA1-random] +NLP7: ShapiroResult(statistic=0.8941162824630737, pvalue=0.004401287063956261)\n",
      "4x[TGA1-random] +NLP7+TCP20: ShapiroResult(statistic=0.7018837332725525, pvalue=0.01002002228051424)\n",
      "4x[TGA1-random] +TCP20: ShapiroResult(statistic=0.8393567800521851, pvalue=0.16315169632434845)\n",
      "4x[TGA1-random] +HHO2: ShapiroResult(statistic=0.7486276626586914, pvalue=0.005226593930274248)\n",
      "4x[TGA1-random] +bZIP3: ShapiroResult(statistic=0.8508753180503845, pvalue=0.03763866424560547)\n",
      "4x[TGA1-random] +NLP7+bZIP3: ShapiroResult(statistic=0.6240106821060181, pvalue=0.0008847868884913623)\n",
      "4x[TGA1-random] +TGA1: ShapiroResult(statistic=0.6426950097084045, pvalue=0.00017930465401150286)\n",
      "4x[TGA1-random] +NLP7+TGA1: ShapiroResult(statistic=0.8979932069778442, pvalue=0.3791410028934479)\n",
      "2x[TGA1-random-NRE-random] No TF: ShapiroResult(statistic=0.7865370512008667, pvalue=1.7945064101354546e-08)\n",
      "2x[TGA1-random-NRE-random] +NLP7: ShapiroResult(statistic=0.8941162824630737, pvalue=0.004401287063956261)\n",
      "2x[TGA1-random-NRE-random] +NLP7+TCP20: ShapiroResult(statistic=0.7018837332725525, pvalue=0.01002002228051424)\n",
      "2x[TGA1-random-NRE-random] +TCP20: ShapiroResult(statistic=0.8393567800521851, pvalue=0.16315169632434845)\n",
      "2x[TGA1-random-NRE-random] +HHO2: ShapiroResult(statistic=0.7486276626586914, pvalue=0.005226593930274248)\n",
      "2x[TGA1-random-NRE-random] +bZIP3: ShapiroResult(statistic=0.8508753180503845, pvalue=0.03763866424560547)\n",
      "2x[TGA1-random-NRE-random] +NLP7+bZIP3: ShapiroResult(statistic=0.6240106821060181, pvalue=0.0008847868884913623)\n",
      "2x[TGA1-random-NRE-random] +TGA1: ShapiroResult(statistic=0.6426950097084045, pvalue=0.00017930465401150286)\n",
      "2x[TGA1-random-NRE-random] +NLP7+TGA1: ShapiroResult(statistic=0.8979932069778442, pvalue=0.3791410028934479)\n"
     ]
    }
   ],
   "source": [
    "#returns test statistic, p-value\n",
    "for name1 in prom_names:\n",
    "    for name in names:\n",
    "        print(name1,'{}: {}'.format(name, stats.shapiro(luminescence_raw_df['nluc/fluc'][luminescence_raw_df.TF_added == name])))\n"
   ]
  },
  {
   "cell_type": "markdown",
   "metadata": {},
   "source": [
    "#### not normal"
   ]
  },
  {
   "cell_type": "code",
   "execution_count": 116,
   "metadata": {},
   "outputs": [
    {
     "data": {
      "text/plain": [
       "LeveneResult(statistic=0.8521681258138821, pvalue=0.35735623050205645)"
      ]
     },
     "execution_count": 116,
     "metadata": {},
     "output_type": "execute_result"
    }
   ],
   "source": [
    "#test variance\n",
    "stats.levene(luminescence_raw_df['nluc/fluc'][luminescence_raw_df.TF_added == names[0]], \n",
    "               luminescence_raw_df['nluc/fluc'][luminescence_raw_df.TF_added == names[1]])"
   ]
  },
  {
   "cell_type": "code",
   "execution_count": 117,
   "metadata": {},
   "outputs": [],
   "source": [
    "test = luminescence_raw_df.groupby('Promoter')"
   ]
  },
  {
   "cell_type": "code",
   "execution_count": 118,
   "metadata": {},
   "outputs": [
    {
     "data": {
      "text/plain": [
       "<pandas.core.groupby.generic.DataFrameGroupBy object at 0x7f696364dd90>"
      ]
     },
     "execution_count": 118,
     "metadata": {},
     "output_type": "execute_result"
    }
   ],
   "source": [
    "test"
   ]
  },
  {
   "cell_type": "markdown",
   "metadata": {},
   "source": [
    "# one-way ANOVA: scipy.stats.kruskal"
   ]
  },
  {
   "cell_type": "code",
   "execution_count": 37,
   "metadata": {},
   "outputs": [
    {
     "name": "stdout",
     "output_type": "stream",
     "text": [
      "DREB26\n",
      "ARF18\n",
      "DREB26+ARF18\n",
      "ANR1\n",
      "NLP7\n",
      "ANAC032\n",
      "NLP6\n",
      "NLP6+NLP7+DREB26\n",
      "None\n",
      "NLP6+NLP7\n"
     ]
    }
   ],
   "source": [
    "for name in names:\n",
    "    print(name)"
   ]
  },
  {
   "cell_type": "code",
   "execution_count": 38,
   "metadata": {},
   "outputs": [
    {
     "name": "stdout",
     "output_type": "stream",
     "text": [
      "ANAC032\n",
      "F_onewayResult(statistic=1.459094809213278, pvalue=0.2609663589015414)\n",
      "ANR1\n",
      "F_onewayResult(statistic=2.459714842186584, pvalue=0.07542115445345006)\n",
      "ARF18\n",
      "F_onewayResult(statistic=0.20316287920145232, pvalue=0.8191398039754546)\n",
      "NLP6\n",
      "F_onewayResult(statistic=2.362286745022707, pvalue=0.11229098218178363)\n",
      "NLP7\n",
      "F_onewayResult(statistic=2.7425083451994947, pvalue=0.05441545659443926)\n",
      "DREB26\n",
      "F_onewayResult(statistic=0.02207900481181436, pvalue=0.8860670927413211)\n",
      "NIR1\n",
      "F_onewayResult(statistic=8.855089713283736, pvalue=7.170274587213943e-05)\n"
     ]
    }
   ],
   "source": [
    "#luminescence anova\n",
    "for promoter, value in test:\n",
    "    if promoter == 'ANAC032':\n",
    "        print(promoter)     \n",
    "        print(stats.f_oneway(value['corrected_luminescence'][value.TF_added == 'None'],\n",
    "                value['corrected_luminescence'][value.TF_added == 'DREB26'],\n",
    "                value['corrected_luminescence'][value.TF_added == 'ARF18'],\n",
    "                value['corrected_luminescence'][value.TF_added == 'DREB26+ARF18']))\n",
    "    if promoter == 'ANR1':\n",
    "        print(promoter)     \n",
    "        print(stats.f_oneway(value['corrected_luminescence'][value.TF_added == 'None'],\n",
    "                value['corrected_luminescence'][value.TF_added == 'ANR1'],\n",
    "                value['corrected_luminescence'][value.TF_added == 'NLP7'],\n",
    "                value['corrected_luminescence'][value.TF_added == 'ARF18'],\n",
    "                value['corrected_luminescence'][value.TF_added == 'DREB26']))\n",
    "    if promoter == 'ARF18':\n",
    "        print(promoter)     \n",
    "        print(stats.f_oneway(value['corrected_luminescence'][value.TF_added == 'None'],\n",
    "                value['corrected_luminescence'][value.TF_added == 'NLP7'],\n",
    "                value['corrected_luminescence'][value.TF_added == 'DREB26']))\n",
    "    if promoter == 'NLP6':\n",
    "        print(promoter)     \n",
    "        print(stats.f_oneway(value['corrected_luminescence'][value.TF_added == 'None'],\n",
    "                value['corrected_luminescence'][value.TF_added == 'ANR1'],                \n",
    "                value['corrected_luminescence'][value.TF_added == 'ARF18'],\n",
    "                value['corrected_luminescence'][value.TF_added == 'DREB26']))\n",
    "    if promoter == 'DREB26':\n",
    "        print(promoter)     \n",
    "        print(stats.f_oneway(value['corrected_luminescence'][value.TF_added == 'None'],                \n",
    "                value['corrected_luminescence'][value.TF_added == 'ARF18'],\n",
    "               ))\n",
    "    if promoter == 'NLP7':\n",
    "        print(promoter)     \n",
    "        print(stats.f_oneway(value['corrected_luminescence'][value.TF_added == 'None'],\n",
    "                value['corrected_luminescence'][value.TF_added == 'ANR1'],\n",
    "                value['corrected_luminescence'][value.TF_added == 'NLP7'],                \n",
    "                value['corrected_luminescence'][value.TF_added == 'DREB26'],\n",
    "                value['corrected_luminescence'][value.TF_added == 'ANAC032'],))\n",
    "    \n",
    "    if promoter == 'NIR1':\n",
    "            \n",
    "            print(promoter)     \n",
    "            print(stats.f_oneway(value['corrected_luminescence'][value.TF_added == 'None'],\n",
    "                value['corrected_luminescence'][value.TF_added == 'NLP6+NLP7'],\n",
    "                value['corrected_luminescence'][value.TF_added == 'NLP7'],                \n",
    "                value['corrected_luminescence'][value.TF_added == 'DREB26'],\n",
    "                value['corrected_luminescence'][value.TF_added == 'NLP6+NLP7+DREB26'],\n",
    "                value['corrected_luminescence'][value.TF_added == 'NLP6']))        \n"
   ]
  },
  {
   "cell_type": "code",
   "execution_count": 39,
   "metadata": {},
   "outputs": [
    {
     "data": {
      "text/html": [
       "<table class=\"simpletable\">\n",
       "<caption>OLS Regression Results</caption>\n",
       "<tr>\n",
       "  <th>Dep. Variable:</th>    <td>corrected_luminescence</td> <th>  R-squared:         </th> <td>   0.648</td>\n",
       "</tr>\n",
       "<tr>\n",
       "  <th>Model:</th>                      <td>OLS</td>          <th>  Adj. R-squared:    </th> <td>   0.575</td>\n",
       "</tr>\n",
       "<tr>\n",
       "  <th>Method:</th>                <td>Least Squares</td>     <th>  F-statistic:       </th> <td>   8.855</td>\n",
       "</tr>\n",
       "<tr>\n",
       "  <th>Date:</th>                <td>Wed, 20 May 2020</td>    <th>  Prob (F-statistic):</th> <td>7.17e-05</td>\n",
       "</tr>\n",
       "<tr>\n",
       "  <th>Time:</th>                    <td>09:39:12</td>        <th>  Log-Likelihood:    </th> <td> -102.70</td>\n",
       "</tr>\n",
       "<tr>\n",
       "  <th>No. Observations:</th>         <td>    30</td>         <th>  AIC:               </th> <td>   217.4</td>\n",
       "</tr>\n",
       "<tr>\n",
       "  <th>Df Residuals:</th>             <td>    24</td>         <th>  BIC:               </th> <td>   225.8</td>\n",
       "</tr>\n",
       "<tr>\n",
       "  <th>Df Model:</th>                 <td>     5</td>         <th>                     </th>     <td> </td>   \n",
       "</tr>\n",
       "<tr>\n",
       "  <th>Covariance Type:</th>         <td>nonrobust</td>       <th>                     </th>     <td> </td>   \n",
       "</tr>\n",
       "</table>\n",
       "<table class=\"simpletable\">\n",
       "<tr>\n",
       "                 <td></td>                    <th>coef</th>     <th>std err</th>      <th>t</th>      <th>P>|t|</th>  <th>[0.025</th>    <th>0.975]</th>  \n",
       "</tr>\n",
       "<tr>\n",
       "  <th>Intercept</th>                       <td>    0.7863</td> <td>    3.388</td> <td>    0.232</td> <td> 0.818</td> <td>   -6.205</td> <td>    7.778</td>\n",
       "</tr>\n",
       "<tr>\n",
       "  <th>C(TF_added)[T.NLP6]</th>             <td>   12.7791</td> <td>    4.791</td> <td>    2.667</td> <td> 0.013</td> <td>    2.891</td> <td>   22.667</td>\n",
       "</tr>\n",
       "<tr>\n",
       "  <th>C(TF_added)[T.NLP6+NLP7]</th>        <td>   29.9190</td> <td>    5.867</td> <td>    5.099</td> <td> 0.000</td> <td>   17.809</td> <td>   42.029</td>\n",
       "</tr>\n",
       "<tr>\n",
       "  <th>C(TF_added)[T.NLP6+NLP7+DREB26]</th> <td>   19.3392</td> <td>    4.791</td> <td>    4.037</td> <td> 0.000</td> <td>    9.452</td> <td>   29.227</td>\n",
       "</tr>\n",
       "<tr>\n",
       "  <th>C(TF_added)[T.NLP7]</th>             <td>   21.7526</td> <td>    4.791</td> <td>    4.541</td> <td> 0.000</td> <td>   11.865</td> <td>   31.640</td>\n",
       "</tr>\n",
       "<tr>\n",
       "  <th>C(TF_added)[T.None]</th>             <td>    0.1783</td> <td>    5.867</td> <td>    0.030</td> <td> 0.976</td> <td>  -11.932</td> <td>   12.288</td>\n",
       "</tr>\n",
       "</table>\n",
       "<table class=\"simpletable\">\n",
       "<tr>\n",
       "  <th>Omnibus:</th>       <td> 5.869</td> <th>  Durbin-Watson:     </th> <td>   1.376</td>\n",
       "</tr>\n",
       "<tr>\n",
       "  <th>Prob(Omnibus):</th> <td> 0.053</td> <th>  Jarque-Bera (JB):  </th> <td>   4.115</td>\n",
       "</tr>\n",
       "<tr>\n",
       "  <th>Skew:</th>          <td> 0.779</td> <th>  Prob(JB):          </th> <td>   0.128</td>\n",
       "</tr>\n",
       "<tr>\n",
       "  <th>Kurtosis:</th>      <td> 3.931</td> <th>  Cond. No.          </th> <td>    6.44</td>\n",
       "</tr>\n",
       "</table><br/><br/>Warnings:<br/>[1] Standard Errors assume that the covariance matrix of the errors is correctly specified."
      ],
      "text/plain": [
       "<class 'statsmodels.iolib.summary.Summary'>\n",
       "\"\"\"\n",
       "                              OLS Regression Results                              \n",
       "==================================================================================\n",
       "Dep. Variable:     corrected_luminescence   R-squared:                       0.648\n",
       "Model:                                OLS   Adj. R-squared:                  0.575\n",
       "Method:                     Least Squares   F-statistic:                     8.855\n",
       "Date:                    Wed, 20 May 2020   Prob (F-statistic):           7.17e-05\n",
       "Time:                            09:39:12   Log-Likelihood:                -102.70\n",
       "No. Observations:                      30   AIC:                             217.4\n",
       "Df Residuals:                          24   BIC:                             225.8\n",
       "Df Model:                               5                                         \n",
       "Covariance Type:                nonrobust                                         \n",
       "===================================================================================================\n",
       "                                      coef    std err          t      P>|t|      [0.025      0.975]\n",
       "---------------------------------------------------------------------------------------------------\n",
       "Intercept                           0.7863      3.388      0.232      0.818      -6.205       7.778\n",
       "C(TF_added)[T.NLP6]                12.7791      4.791      2.667      0.013       2.891      22.667\n",
       "C(TF_added)[T.NLP6+NLP7]           29.9190      5.867      5.099      0.000      17.809      42.029\n",
       "C(TF_added)[T.NLP6+NLP7+DREB26]    19.3392      4.791      4.037      0.000       9.452      29.227\n",
       "C(TF_added)[T.NLP7]                21.7526      4.791      4.541      0.000      11.865      31.640\n",
       "C(TF_added)[T.None]                 0.1783      5.867      0.030      0.976     -11.932      12.288\n",
       "==============================================================================\n",
       "Omnibus:                        5.869   Durbin-Watson:                   1.376\n",
       "Prob(Omnibus):                  0.053   Jarque-Bera (JB):                4.115\n",
       "Skew:                           0.779   Prob(JB):                        0.128\n",
       "Kurtosis:                       3.931   Cond. No.                         6.44\n",
       "==============================================================================\n",
       "\n",
       "Warnings:\n",
       "[1] Standard Errors assume that the covariance matrix of the errors is correctly specified.\n",
       "\"\"\""
      ]
     },
     "execution_count": 39,
     "metadata": {},
     "output_type": "execute_result"
    }
   ],
   "source": [
    "df = luminescence_raw_df\n",
    "#First rerun NIR1 it as a GLM\n",
    "NIR1 = df[df.Promoter == 'NIR1']  \n",
    "results = ols('corrected_luminescence ~ C(TF_added)', data=NIR1).fit()\n",
    "results.summary()\n",
    "\n"
   ]
  },
  {
   "cell_type": "code",
   "execution_count": 40,
   "metadata": {},
   "outputs": [],
   "source": [
    "# #make anova table for NIR1\n",
    "# aov_table = sm.stats.anova_lm(results, typ=2)\n",
    "# aov_table"
   ]
  },
  {
   "cell_type": "code",
   "execution_count": 41,
   "metadata": {},
   "outputs": [],
   "source": [
    "# #pairwise tukey posthoc test for NIR1\n",
    "\n",
    "    \n",
    "# mc = MultiComparison(NIR1['corrected_luminescence'], NIR1['TF_added'])\n",
    "# mc_results = mc.tukeyhsd()\n",
    "# print(mc_results)"
   ]
  },
  {
   "cell_type": "code",
   "execution_count": 42,
   "metadata": {},
   "outputs": [
    {
     "name": "stdout",
     "output_type": "stream",
     "text": [
      "\n",
      "\n"
     ]
    },
    {
     "data": {
      "text/html": [
       "<div>\n",
       "<style scoped>\n",
       "    .dataframe tbody tr th:only-of-type {\n",
       "        vertical-align: middle;\n",
       "    }\n",
       "\n",
       "    .dataframe tbody tr th {\n",
       "        vertical-align: top;\n",
       "    }\n",
       "\n",
       "    .dataframe thead th {\n",
       "        text-align: right;\n",
       "    }\n",
       "</style>\n",
       "<table border=\"1\" class=\"dataframe\">\n",
       "  <thead>\n",
       "    <tr style=\"text-align: right;\">\n",
       "      <th></th>\n",
       "      <th>N</th>\n",
       "      <th>Mean</th>\n",
       "      <th>SD</th>\n",
       "      <th>SE</th>\n",
       "      <th>95% Conf.</th>\n",
       "      <th>Interval</th>\n",
       "    </tr>\n",
       "    <tr>\n",
       "      <th>TF_added</th>\n",
       "      <th></th>\n",
       "      <th></th>\n",
       "      <th></th>\n",
       "      <th></th>\n",
       "      <th></th>\n",
       "      <th></th>\n",
       "    </tr>\n",
       "  </thead>\n",
       "  <tbody>\n",
       "    <tr>\n",
       "      <th>DREB26</th>\n",
       "      <td>6</td>\n",
       "      <td>0.786273</td>\n",
       "      <td>0.192252</td>\n",
       "      <td>0.078487</td>\n",
       "      <td>0.617757</td>\n",
       "      <td>0.954790</td>\n",
       "    </tr>\n",
       "    <tr>\n",
       "      <th>NLP6</th>\n",
       "      <td>6</td>\n",
       "      <td>13.565373</td>\n",
       "      <td>5.492719</td>\n",
       "      <td>2.242393</td>\n",
       "      <td>8.750792</td>\n",
       "      <td>18.379953</td>\n",
       "    </tr>\n",
       "    <tr>\n",
       "      <th>NLP6+NLP7</th>\n",
       "      <td>3</td>\n",
       "      <td>30.705230</td>\n",
       "      <td>14.565166</td>\n",
       "      <td>8.409202</td>\n",
       "      <td>10.518940</td>\n",
       "      <td>50.891519</td>\n",
       "    </tr>\n",
       "    <tr>\n",
       "      <th>NLP6+NLP7+DREB26</th>\n",
       "      <td>6</td>\n",
       "      <td>20.125448</td>\n",
       "      <td>10.267389</td>\n",
       "      <td>4.191644</td>\n",
       "      <td>11.125685</td>\n",
       "      <td>29.125212</td>\n",
       "    </tr>\n",
       "    <tr>\n",
       "      <th>NLP7</th>\n",
       "      <td>6</td>\n",
       "      <td>22.538907</td>\n",
       "      <td>10.482721</td>\n",
       "      <td>4.279553</td>\n",
       "      <td>13.350397</td>\n",
       "      <td>31.727418</td>\n",
       "    </tr>\n",
       "    <tr>\n",
       "      <th>None</th>\n",
       "      <td>3</td>\n",
       "      <td>0.964554</td>\n",
       "      <td>0.570550</td>\n",
       "      <td>0.329407</td>\n",
       "      <td>0.173812</td>\n",
       "      <td>1.755295</td>\n",
       "    </tr>\n",
       "  </tbody>\n",
       "</table>\n",
       "</div>"
      ],
      "text/plain": [
       "                  N       Mean         SD        SE  95% Conf.   Interval\n",
       "TF_added                                                                 \n",
       "DREB26            6   0.786273   0.192252  0.078487   0.617757   0.954790\n",
       "NLP6              6  13.565373   5.492719  2.242393   8.750792  18.379953\n",
       "NLP6+NLP7         3  30.705230  14.565166  8.409202  10.518940  50.891519\n",
       "NLP6+NLP7+DREB26  6  20.125448  10.267389  4.191644  11.125685  29.125212\n",
       "NLP7              6  22.538907  10.482721  4.279553  13.350397  31.727418\n",
       "None              3   0.964554   0.570550  0.329407   0.173812   1.755295"
      ]
     },
     "execution_count": 42,
     "metadata": {},
     "output_type": "execute_result"
    }
   ],
   "source": [
    "rp.summary_cont(NIR1['corrected_luminescence'].groupby(NIR1['TF_added']))"
   ]
  },
  {
   "cell_type": "code",
   "execution_count": 43,
   "metadata": {},
   "outputs": [
    {
     "name": "stdout",
     "output_type": "stream",
     "text": [
      "\n",
      "\n"
     ]
    },
    {
     "data": {
      "text/html": [
       "<div>\n",
       "<style scoped>\n",
       "    .dataframe tbody tr th:only-of-type {\n",
       "        vertical-align: middle;\n",
       "    }\n",
       "\n",
       "    .dataframe tbody tr th {\n",
       "        vertical-align: top;\n",
       "    }\n",
       "\n",
       "    .dataframe thead th {\n",
       "        text-align: right;\n",
       "    }\n",
       "</style>\n",
       "<table border=\"1\" class=\"dataframe\">\n",
       "  <thead>\n",
       "    <tr style=\"text-align: right;\">\n",
       "      <th></th>\n",
       "      <th>N</th>\n",
       "      <th>Mean</th>\n",
       "      <th>SD</th>\n",
       "      <th>SE</th>\n",
       "      <th>95% Conf.</th>\n",
       "      <th>Interval</th>\n",
       "    </tr>\n",
       "    <tr>\n",
       "      <th>TF_added</th>\n",
       "      <th></th>\n",
       "      <th></th>\n",
       "      <th></th>\n",
       "      <th></th>\n",
       "      <th></th>\n",
       "      <th></th>\n",
       "    </tr>\n",
       "  </thead>\n",
       "  <tbody>\n",
       "    <tr>\n",
       "      <th>ANR1</th>\n",
       "      <td>6</td>\n",
       "      <td>1.955531</td>\n",
       "      <td>0.707904</td>\n",
       "      <td>0.289001</td>\n",
       "      <td>1.335026</td>\n",
       "      <td>2.576037</td>\n",
       "    </tr>\n",
       "    <tr>\n",
       "      <th>ARF18</th>\n",
       "      <td>6</td>\n",
       "      <td>2.706486</td>\n",
       "      <td>0.950823</td>\n",
       "      <td>0.388172</td>\n",
       "      <td>1.873053</td>\n",
       "      <td>3.539919</td>\n",
       "    </tr>\n",
       "    <tr>\n",
       "      <th>DREB26</th>\n",
       "      <td>6</td>\n",
       "      <td>8.057981</td>\n",
       "      <td>8.582507</td>\n",
       "      <td>3.503794</td>\n",
       "      <td>0.535082</td>\n",
       "      <td>15.580881</td>\n",
       "    </tr>\n",
       "    <tr>\n",
       "      <th>NLP7</th>\n",
       "      <td>6</td>\n",
       "      <td>1.410340</td>\n",
       "      <td>0.568385</td>\n",
       "      <td>0.232042</td>\n",
       "      <td>0.912129</td>\n",
       "      <td>1.908551</td>\n",
       "    </tr>\n",
       "    <tr>\n",
       "      <th>None</th>\n",
       "      <td>3</td>\n",
       "      <td>2.956155</td>\n",
       "      <td>1.171409</td>\n",
       "      <td>0.676313</td>\n",
       "      <td>1.332665</td>\n",
       "      <td>4.579645</td>\n",
       "    </tr>\n",
       "  </tbody>\n",
       "</table>\n",
       "</div>"
      ],
      "text/plain": [
       "          N      Mean        SD        SE  95% Conf.   Interval\n",
       "TF_added                                                       \n",
       "ANR1      6  1.955531  0.707904  0.289001   1.335026   2.576037\n",
       "ARF18     6  2.706486  0.950823  0.388172   1.873053   3.539919\n",
       "DREB26    6  8.057981  8.582507  3.503794   0.535082  15.580881\n",
       "NLP7      6  1.410340  0.568385  0.232042   0.912129   1.908551\n",
       "None      3  2.956155  1.171409  0.676313   1.332665   4.579645"
      ]
     },
     "execution_count": 43,
     "metadata": {},
     "output_type": "execute_result"
    }
   ],
   "source": [
    "ANR1 = df[df.Promoter == 'ANR1']\n",
    "rp.summary_cont(ANR1['corrected_luminescence'].groupby(ANR1['TF_added']))\n"
   ]
  },
  {
   "cell_type": "code",
   "execution_count": 44,
   "metadata": {},
   "outputs": [
    {
     "name": "stdout",
     "output_type": "stream",
     "text": [
      "\u001b[1mNOS\u001b[0m\n",
      "           Source  ddof1    H\n",
      "Kruskal  TF_added      0  0.0\n",
      "\n",
      "\u001b[1mSTAP4\u001b[0m\n",
      "           Source  ddof1    H\n",
      "Kruskal  TF_added      0  0.0\n",
      "\n",
      "\u001b[1mANAC032\u001b[0m\n",
      "           Source  ddof1         H     p-unc\n",
      "Kruskal  TF_added      3  2.424242  0.489138\n",
      "\n",
      "\u001b[1mANR1\u001b[0m\n",
      "           Source  ddof1          H     p-unc\n",
      "Kruskal  TF_added      4  14.875661  0.004966\n",
      "\n",
      "\u001b[1mARF18\u001b[0m\n",
      "           Source  ddof1         H     p-unc\n",
      "Kruskal  TF_added      2  0.297143  0.861938\n",
      "\n",
      "\u001b[1mNLP6\u001b[0m\n",
      "           Source  ddof1         H    p-unc\n",
      "Kruskal  TF_added      3  5.814737  0.12098\n",
      "\n",
      "\u001b[1mNLP7\u001b[0m\n",
      "           Source  ddof1         H     p-unc\n",
      "Kruskal  TF_added      4  9.275132  0.054579\n",
      "\n",
      "\u001b[1mDREB26\u001b[0m\n",
      "           Source  ddof1         H     p-unc\n",
      "Kruskal  TF_added      1  0.066667  0.796253\n",
      "\n",
      "\u001b[1mNIR1\u001b[0m\n",
      "           Source  ddof1          H     p-unc\n",
      "Kruskal  TF_added      5  20.823656  0.000875\n",
      "\n"
     ]
    }
   ],
   "source": [
    "for promoter, value in test:\n",
    "    print('\\033[1m' +promoter + '\\033[0m')\n",
    "    print(kruskal(data=df[df.Promoter == promoter], dv='corrected_luminescence', between='TF_added'))\n",
    "    print('')"
   ]
  },
  {
   "cell_type": "code",
   "execution_count": 45,
   "metadata": {},
   "outputs": [
    {
     "data": {
      "text/html": [
       "<div>\n",
       "<style scoped>\n",
       "    .dataframe tbody tr th:only-of-type {\n",
       "        vertical-align: middle;\n",
       "    }\n",
       "\n",
       "    .dataframe tbody tr th {\n",
       "        vertical-align: top;\n",
       "    }\n",
       "\n",
       "    .dataframe thead th {\n",
       "        text-align: right;\n",
       "    }\n",
       "</style>\n",
       "<table border=\"1\" class=\"dataframe\">\n",
       "  <thead>\n",
       "    <tr style=\"text-align: right;\">\n",
       "      <th></th>\n",
       "      <th>ANR1</th>\n",
       "      <th>ARF18</th>\n",
       "      <th>DREB26</th>\n",
       "      <th>NLP7</th>\n",
       "      <th>None</th>\n",
       "    </tr>\n",
       "  </thead>\n",
       "  <tbody>\n",
       "    <tr>\n",
       "      <th>ANR1</th>\n",
       "      <td>-1.000000</td>\n",
       "      <td>1.000000</td>\n",
       "      <td>0.071163</td>\n",
       "      <td>1.000000</td>\n",
       "      <td>1.000000</td>\n",
       "    </tr>\n",
       "    <tr>\n",
       "      <th>ARF18</th>\n",
       "      <td>1.000000</td>\n",
       "      <td>-1.000000</td>\n",
       "      <td>1.000000</td>\n",
       "      <td>0.454646</td>\n",
       "      <td>1.000000</td>\n",
       "    </tr>\n",
       "    <tr>\n",
       "      <th>DREB26</th>\n",
       "      <td>0.071163</td>\n",
       "      <td>1.000000</td>\n",
       "      <td>-1.000000</td>\n",
       "      <td>0.003175</td>\n",
       "      <td>1.000000</td>\n",
       "    </tr>\n",
       "    <tr>\n",
       "      <th>NLP7</th>\n",
       "      <td>1.000000</td>\n",
       "      <td>0.454646</td>\n",
       "      <td>0.003175</td>\n",
       "      <td>-1.000000</td>\n",
       "      <td>0.535796</td>\n",
       "    </tr>\n",
       "    <tr>\n",
       "      <th>None</th>\n",
       "      <td>1.000000</td>\n",
       "      <td>1.000000</td>\n",
       "      <td>1.000000</td>\n",
       "      <td>0.535796</td>\n",
       "      <td>-1.000000</td>\n",
       "    </tr>\n",
       "  </tbody>\n",
       "</table>\n",
       "</div>"
      ],
      "text/plain": [
       "            ANR1     ARF18    DREB26      NLP7      None\n",
       "ANR1   -1.000000  1.000000  0.071163  1.000000  1.000000\n",
       "ARF18   1.000000 -1.000000  1.000000  0.454646  1.000000\n",
       "DREB26  0.071163  1.000000 -1.000000  0.003175  1.000000\n",
       "NLP7    1.000000  0.454646  0.003175 -1.000000  0.535796\n",
       "None    1.000000  1.000000  1.000000  0.535796 -1.000000"
      ]
     },
     "execution_count": 45,
     "metadata": {},
     "output_type": "execute_result"
    }
   ],
   "source": [
    "#run Dunn's post-hoc test\n",
    "#ANR1\n",
    "sp.posthoc_dunn(df[df.Promoter == 'ANR1'], val_col='corrected_luminescence', group_col='TF_added', p_adjust='bonferroni')"
   ]
  },
  {
   "cell_type": "code",
   "execution_count": 46,
   "metadata": {},
   "outputs": [
    {
     "data": {
      "text/html": [
       "<div>\n",
       "<style scoped>\n",
       "    .dataframe tbody tr th:only-of-type {\n",
       "        vertical-align: middle;\n",
       "    }\n",
       "\n",
       "    .dataframe tbody tr th {\n",
       "        vertical-align: top;\n",
       "    }\n",
       "\n",
       "    .dataframe thead th {\n",
       "        text-align: right;\n",
       "    }\n",
       "</style>\n",
       "<table border=\"1\" class=\"dataframe\">\n",
       "  <thead>\n",
       "    <tr style=\"text-align: right;\">\n",
       "      <th></th>\n",
       "      <th>DREB26</th>\n",
       "      <th>NLP6</th>\n",
       "      <th>NLP6+NLP7</th>\n",
       "      <th>NLP6+NLP7+DREB26</th>\n",
       "      <th>NLP7</th>\n",
       "      <th>None</th>\n",
       "    </tr>\n",
       "  </thead>\n",
       "  <tbody>\n",
       "    <tr>\n",
       "      <th>DREB26</th>\n",
       "      <td>-1.000000</td>\n",
       "      <td>0.537726</td>\n",
       "      <td>0.021630</td>\n",
       "      <td>0.052771</td>\n",
       "      <td>0.017535</td>\n",
       "      <td>1.000000</td>\n",
       "    </tr>\n",
       "    <tr>\n",
       "      <th>NLP6</th>\n",
       "      <td>0.537726</td>\n",
       "      <td>-1.000000</td>\n",
       "      <td>1.000000</td>\n",
       "      <td>1.000000</td>\n",
       "      <td>1.000000</td>\n",
       "      <td>1.000000</td>\n",
       "    </tr>\n",
       "    <tr>\n",
       "      <th>NLP6+NLP7</th>\n",
       "      <td>0.021630</td>\n",
       "      <td>1.000000</td>\n",
       "      <td>-1.000000</td>\n",
       "      <td>1.000000</td>\n",
       "      <td>1.000000</td>\n",
       "      <td>0.070083</td>\n",
       "    </tr>\n",
       "    <tr>\n",
       "      <th>NLP6+NLP7+DREB26</th>\n",
       "      <td>0.052771</td>\n",
       "      <td>1.000000</td>\n",
       "      <td>1.000000</td>\n",
       "      <td>-1.000000</td>\n",
       "      <td>1.000000</td>\n",
       "      <td>0.206551</td>\n",
       "    </tr>\n",
       "    <tr>\n",
       "      <th>NLP7</th>\n",
       "      <td>0.017535</td>\n",
       "      <td>1.000000</td>\n",
       "      <td>1.000000</td>\n",
       "      <td>1.000000</td>\n",
       "      <td>-1.000000</td>\n",
       "      <td>0.094729</td>\n",
       "    </tr>\n",
       "    <tr>\n",
       "      <th>None</th>\n",
       "      <td>1.000000</td>\n",
       "      <td>1.000000</td>\n",
       "      <td>0.070083</td>\n",
       "      <td>0.206551</td>\n",
       "      <td>0.094729</td>\n",
       "      <td>-1.000000</td>\n",
       "    </tr>\n",
       "  </tbody>\n",
       "</table>\n",
       "</div>"
      ],
      "text/plain": [
       "                    DREB26      NLP6  NLP6+NLP7  NLP6+NLP7+DREB26      NLP7  \\\n",
       "DREB26           -1.000000  0.537726   0.021630          0.052771  0.017535   \n",
       "NLP6              0.537726 -1.000000   1.000000          1.000000  1.000000   \n",
       "NLP6+NLP7         0.021630  1.000000  -1.000000          1.000000  1.000000   \n",
       "NLP6+NLP7+DREB26  0.052771  1.000000   1.000000         -1.000000  1.000000   \n",
       "NLP7              0.017535  1.000000   1.000000          1.000000 -1.000000   \n",
       "None              1.000000  1.000000   0.070083          0.206551  0.094729   \n",
       "\n",
       "                      None  \n",
       "DREB26            1.000000  \n",
       "NLP6              1.000000  \n",
       "NLP6+NLP7         0.070083  \n",
       "NLP6+NLP7+DREB26  0.206551  \n",
       "NLP7              0.094729  \n",
       "None             -1.000000  "
      ]
     },
     "execution_count": 46,
     "metadata": {},
     "output_type": "execute_result"
    }
   ],
   "source": [
    "#NIR1 post-hoc test\n",
    "sp.posthoc_dunn(df[df.Promoter == 'NIR1'], val_col='corrected_luminescence', group_col='TF_added', p_adjust='bonferroni')"
   ]
  }
 ],
 "metadata": {
  "kernelspec": {
   "display_name": "Python 3.7.8 64-bit ('PromoterArchitecturePipeline': conda)",
   "name": "python378jvsc74a57bd03c908fdf7eeea7fcc2df758bbbf39904538fbb339b5048681ca2f728a4bf3f81"
  },
  "language_info": {
   "codemirror_mode": {
    "name": "ipython",
    "version": 3
   },
   "file_extension": ".py",
   "mimetype": "text/x-python",
   "name": "python",
   "nbconvert_exporter": "python",
   "pygments_lexer": "ipython3",
   "version": "3.7.8"
  }
 },
 "nbformat": 4,
 "nbformat_minor": 4
}